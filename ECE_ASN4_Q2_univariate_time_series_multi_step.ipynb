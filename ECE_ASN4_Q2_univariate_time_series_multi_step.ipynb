{
  "cells": [
    {
      "cell_type": "markdown",
      "metadata": {
        "id": "view-in-github",
        "colab_type": "text"
      },
      "source": [
        "<a href=\"https://colab.research.google.com/github/Isafon/ECE528/blob/main/ECE_ASN4_Q2_univariate_time_series_multi_step.ipynb\" target=\"_parent\"><img src=\"https://colab.research.google.com/assets/colab-badge.svg\" alt=\"Open In Colab\"/></a>"
      ]
    },
    {
      "cell_type": "code",
      "execution_count": 1,
      "metadata": {
        "id": "uDaMIQ5UBlt7"
      },
      "outputs": [],
      "source": [
        "import sys\n",
        "import sklearn\n",
        "import os\n",
        "os.environ[\"KERAS_BACKEND\"] = \"tensorflow\"\n",
        "import keras\n",
        "from keras import layers\n",
        "\n",
        "import numpy as np\n",
        "from numpy import load\n",
        "\n",
        "# to make this notebook's output stable across runs\n",
        "np.random.seed(42)\n",
        "keras.utils.set_random_seed(42)\n",
        "\n",
        "# To plot pretty figures\n",
        "%matplotlib inline\n",
        "import matplotlib as mpl\n",
        "import matplotlib.pyplot as plt\n",
        "mpl.rc('axes', labelsize=14)\n",
        "mpl.rc('xtick', labelsize=12)\n",
        "mpl.rc('ytick', labelsize=12)\n",
        "\n",
        "# Where to save the figures\n",
        "PROJECT_ROOT_DIR = \".\"\n",
        "IMAGES_PATH = os.path.join(PROJECT_ROOT_DIR, \"images\")\n",
        "os.makedirs(IMAGES_PATH, exist_ok=True)\n",
        "\n",
        "def save_fig(fig_id, tight_layout=True, fig_extension=\"png\", resolution=300):\n",
        "    path = os.path.join(IMAGES_PATH, fig_id + \".\" + fig_extension)\n",
        "    print(\"Saving figure\", fig_id)\n",
        "    if tight_layout:\n",
        "        plt.tight_layout()\n",
        "    plt.savefig(path, format=fig_extension, dpi=resolution)"
      ]
    },
    {
      "cell_type": "markdown",
      "metadata": {
        "id": "sZ8cZVinBluG"
      },
      "source": [
        "### Load Dataset"
      ]
    },
    {
      "cell_type": "code",
      "execution_count": 2,
      "metadata": {
        "id": "1_ocyXXWBluJ"
      },
      "outputs": [],
      "source": [
        "def plot_learning_curves(loss, val_loss):\n",
        "    plt.plot(np.arange(len(loss)) + 0.5, loss, \"b.-\", label=\"Training loss\")\n",
        "    plt.plot(np.arange(len(val_loss)) + 1, val_loss, \"r.-\", label=\"Validation loss\")\n",
        "    plt.gca().xaxis.set_major_locator(mpl.ticker.MaxNLocator(integer=True))\n",
        "    plt.axis([1, 20, 0, 0.05])\n",
        "    plt.legend(fontsize=14)\n",
        "    plt.xlabel(\"Epochs\")\n",
        "    plt.ylabel(\"Loss\")\n",
        "    plt.grid(True)"
      ]
    },
    {
      "cell_type": "code",
      "execution_count": 3,
      "metadata": {
        "id": "ie5Vf9lIBluK"
      },
      "outputs": [],
      "source": [
        "def plot_series(series, y=None, y_pred=None, x_label=\"$t$\", y_label=\"$x(t)$\"):\n",
        "    plt.plot(series, \".-\")\n",
        "    if y is not None:\n",
        "        plt.plot(n_steps, y, \"bx\", markersize=10)\n",
        "    if y_pred is not None:\n",
        "        plt.plot(n_steps, y_pred, \"ro\")\n",
        "    plt.grid(True)\n",
        "    if x_label:\n",
        "        plt.xlabel(x_label, fontsize=16)\n",
        "    if y_label:\n",
        "        plt.ylabel(y_label, fontsize=16, rotation=0)\n",
        "    plt.hlines(0, 0, 100, linewidth=1)\n",
        "    plt.axis([0, n_steps + 1, -1, 1])"
      ]
    },
    {
      "cell_type": "code",
      "execution_count": 4,
      "metadata": {
        "id": "4glkewizBluM"
      },
      "outputs": [],
      "source": [
        "def plot_multiple_forecasts(X, Y, Y_pred):\n",
        "    n_steps = X.shape[1]\n",
        "    ahead = Y.shape[1]\n",
        "    plot_series(X[0, :, 0])\n",
        "    plt.plot(np.arange(n_steps, n_steps + ahead), Y[0, :, 0], \"ro-\", label=\"Actual\")\n",
        "    plt.plot(np.arange(n_steps, n_steps + ahead), Y_pred[0, :, 0], \"bx-\", label=\"Forecast\", markersize=10)\n",
        "    plt.axis([0, n_steps + ahead, -1, 1])\n",
        "    plt.legend(fontsize=14)"
      ]
    },
    {
      "cell_type": "markdown",
      "metadata": {
        "id": "ec5gawuTBluN"
      },
      "source": [
        "## Forecasting Several Steps Ahead\n",
        "\n",
        "If we want to predict the next 10 values, instead of just 1, we can modify our previous model to predict the next 10 values. We first need to load the dataset that has sequences with 9 more time steps."
      ]
    },
    {
      "cell_type": "code",
      "execution_count": 5,
      "metadata": {
        "id": "L-yoeursBluO"
      },
      "outputs": [],
      "source": [
        "n_steps = 60\n",
        "series = load('univariate-time-series-multi-step.npy')\n",
        "\n",
        "X_train, y_train = series[:9000, :n_steps], series[:9000, -1] # -1 references the last column\n",
        "X_valid, y_valid = series[9000:11000, :n_steps], series[9000:11000, -1]\n",
        "X_test, y_test = series[11000:, :n_steps], series[11000:, -1]"
      ]
    },
    {
      "cell_type": "code",
      "execution_count": 6,
      "metadata": {
        "colab": {
          "base_uri": "https://localhost:8080/"
        },
        "id": "gi7x-L-BBluQ",
        "outputId": "5cf5ec0f-2519-498f-ba3a-75cb5ef67372"
      },
      "outputs": [
        {
          "output_type": "stream",
          "name": "stderr",
          "text": [
            "/usr/local/lib/python3.12/dist-packages/keras/src/layers/reshaping/flatten.py:37: UserWarning: Do not pass an `input_shape`/`input_dim` argument to a layer. When using Sequential models, prefer using an `Input(shape)` object as the first layer in the model instead.\n",
            "  super().__init__(**kwargs)\n"
          ]
        },
        {
          "output_type": "stream",
          "name": "stdout",
          "text": [
            "Epoch 1/20\n",
            "\u001b[1m282/282\u001b[0m \u001b[32m━━━━━━━━━━━━━━━━━━━━\u001b[0m\u001b[37m\u001b[0m \u001b[1m3s\u001b[0m 6ms/step - loss: 0.1879 - val_loss: 0.0726\n",
            "Epoch 2/20\n",
            "\u001b[1m282/282\u001b[0m \u001b[32m━━━━━━━━━━━━━━━━━━━━\u001b[0m\u001b[37m\u001b[0m \u001b[1m1s\u001b[0m 4ms/step - loss: 0.0668 - val_loss: 0.0604\n",
            "Epoch 3/20\n",
            "\u001b[1m282/282\u001b[0m \u001b[32m━━━━━━━━━━━━━━━━━━━━\u001b[0m\u001b[37m\u001b[0m \u001b[1m1s\u001b[0m 3ms/step - loss: 0.0572 - val_loss: 0.0566\n",
            "Epoch 4/20\n",
            "\u001b[1m282/282\u001b[0m \u001b[32m━━━━━━━━━━━━━━━━━━━━\u001b[0m\u001b[37m\u001b[0m \u001b[1m1s\u001b[0m 3ms/step - loss: 0.0541 - val_loss: 0.0544\n",
            "Epoch 5/20\n",
            "\u001b[1m282/282\u001b[0m \u001b[32m━━━━━━━━━━━━━━━━━━━━\u001b[0m\u001b[37m\u001b[0m \u001b[1m1s\u001b[0m 3ms/step - loss: 0.0522 - val_loss: 0.0529\n",
            "Epoch 6/20\n",
            "\u001b[1m282/282\u001b[0m \u001b[32m━━━━━━━━━━━━━━━━━━━━\u001b[0m\u001b[37m\u001b[0m \u001b[1m1s\u001b[0m 2ms/step - loss: 0.0510 - val_loss: 0.0518\n",
            "Epoch 7/20\n",
            "\u001b[1m282/282\u001b[0m \u001b[32m━━━━━━━━━━━━━━━━━━━━\u001b[0m\u001b[37m\u001b[0m \u001b[1m1s\u001b[0m 3ms/step - loss: 0.0501 - val_loss: 0.0510\n",
            "Epoch 8/20\n",
            "\u001b[1m282/282\u001b[0m \u001b[32m━━━━━━━━━━━━━━━━━━━━\u001b[0m\u001b[37m\u001b[0m \u001b[1m1s\u001b[0m 3ms/step - loss: 0.0494 - val_loss: 0.0504\n",
            "Epoch 9/20\n",
            "\u001b[1m282/282\u001b[0m \u001b[32m━━━━━━━━━━━━━━━━━━━━\u001b[0m\u001b[37m\u001b[0m \u001b[1m1s\u001b[0m 3ms/step - loss: 0.0489 - val_loss: 0.0500\n",
            "Epoch 10/20\n",
            "\u001b[1m282/282\u001b[0m \u001b[32m━━━━━━━━━━━━━━━━━━━━\u001b[0m\u001b[37m\u001b[0m \u001b[1m1s\u001b[0m 3ms/step - loss: 0.0484 - val_loss: 0.0497\n",
            "Epoch 11/20\n",
            "\u001b[1m282/282\u001b[0m \u001b[32m━━━━━━━━━━━━━━━━━━━━\u001b[0m\u001b[37m\u001b[0m \u001b[1m1s\u001b[0m 3ms/step - loss: 0.0481 - val_loss: 0.0494\n",
            "Epoch 12/20\n",
            "\u001b[1m282/282\u001b[0m \u001b[32m━━━━━━━━━━━━━━━━━━━━\u001b[0m\u001b[37m\u001b[0m \u001b[1m1s\u001b[0m 3ms/step - loss: 0.0477 - val_loss: 0.0492\n",
            "Epoch 13/20\n",
            "\u001b[1m282/282\u001b[0m \u001b[32m━━━━━━━━━━━━━━━━━━━━\u001b[0m\u001b[37m\u001b[0m \u001b[1m1s\u001b[0m 3ms/step - loss: 0.0474 - val_loss: 0.0489\n",
            "Epoch 14/20\n",
            "\u001b[1m282/282\u001b[0m \u001b[32m━━━━━━━━━━━━━━━━━━━━\u001b[0m\u001b[37m\u001b[0m \u001b[1m1s\u001b[0m 3ms/step - loss: 0.0472 - val_loss: 0.0488\n",
            "Epoch 15/20\n",
            "\u001b[1m282/282\u001b[0m \u001b[32m━━━━━━━━━━━━━━━━━━━━\u001b[0m\u001b[37m\u001b[0m \u001b[1m1s\u001b[0m 2ms/step - loss: 0.0469 - val_loss: 0.0486\n",
            "Epoch 16/20\n",
            "\u001b[1m282/282\u001b[0m \u001b[32m━━━━━━━━━━━━━━━━━━━━\u001b[0m\u001b[37m\u001b[0m \u001b[1m1s\u001b[0m 3ms/step - loss: 0.0467 - val_loss: 0.0485\n",
            "Epoch 17/20\n",
            "\u001b[1m282/282\u001b[0m \u001b[32m━━━━━━━━━━━━━━━━━━━━\u001b[0m\u001b[37m\u001b[0m \u001b[1m1s\u001b[0m 4ms/step - loss: 0.0465 - val_loss: 0.0483\n",
            "Epoch 18/20\n",
            "\u001b[1m282/282\u001b[0m \u001b[32m━━━━━━━━━━━━━━━━━━━━\u001b[0m\u001b[37m\u001b[0m \u001b[1m1s\u001b[0m 3ms/step - loss: 0.0463 - val_loss: 0.0482\n",
            "Epoch 19/20\n",
            "\u001b[1m282/282\u001b[0m \u001b[32m━━━━━━━━━━━━━━━━━━━━\u001b[0m\u001b[37m\u001b[0m \u001b[1m1s\u001b[0m 2ms/step - loss: 0.0461 - val_loss: 0.0481\n",
            "Epoch 20/20\n",
            "\u001b[1m282/282\u001b[0m \u001b[32m━━━━━━━━━━━━━━━━━━━━\u001b[0m\u001b[37m\u001b[0m \u001b[1m1s\u001b[0m 3ms/step - loss: 0.0459 - val_loss: 0.0480\n"
          ]
        }
      ],
      "source": [
        "#Improve upon this model with your own model\n",
        "\n",
        "model = keras.models.Sequential([\n",
        "    keras.layers.Flatten(input_shape=[60, 1]),\n",
        "    keras.layers.Dense(10)\n",
        "])\n",
        "\n",
        "model.compile(loss=\"mse\", optimizer=\"adam\")\n",
        "history = model.fit(X_train, y_train, epochs=20,\n",
        "                    validation_data=(X_valid, y_valid))"
      ]
    },
    {
      "cell_type": "code",
      "execution_count": 7,
      "metadata": {
        "colab": {
          "base_uri": "https://localhost:8080/",
          "height": 465
        },
        "id": "OPnaLg-KBluT",
        "outputId": "234193ab-680b-4b78-9aa2-e9d0ec55356d"
      },
      "outputs": [
        {
          "output_type": "display_data",
          "data": {
            "text/plain": [
              "<Figure size 640x480 with 1 Axes>"
            ],
            "image/png": "[encoded data removed]"
          },
          "metadata": {}
        }
      ],
      "source": [
        "plot_learning_curves(history.history[\"loss\"], history.history[\"val_loss\"])\n",
        "plt.show()"
      ]
    },
    {
      "cell_type": "markdown",
      "metadata": {
        "id": "W9qUlYwZBluU"
      },
      "source": [
        "Now let's predict the next 10 values:"
      ]
    },
    {
      "cell_type": "code",
      "execution_count": 8,
      "metadata": {
        "colab": {
          "base_uri": "https://localhost:8080/"
        },
        "id": "hKnoYwnGBluV",
        "outputId": "aaaeaf9f-7a67-4cf9-aae8-6929cb0edbca"
      },
      "outputs": [
        {
          "output_type": "stream",
          "name": "stdout",
          "text": [
            "\u001b[1m1/1\u001b[0m \u001b[32m━━━━━━━━━━━━━━━━━━━━\u001b[0m\u001b[37m\u001b[0m \u001b[1m0s\u001b[0m 167ms/step\n"
          ]
        }
      ],
      "source": [
        "series = load('univariate-time-series-multi-step-test.npy')\n",
        "X_new, Y_new = series[:, :60, :], series[:, -10:, :]\n",
        "Y_pred = model.predict(X_new)[..., np.newaxis]"
      ]
    },
    {
      "cell_type": "code",
      "execution_count": 9,
      "metadata": {
        "colab": {
          "base_uri": "https://localhost:8080/",
          "height": 466
        },
        "id": "Ltn-HfHYBluW",
        "outputId": "6bc8dbbf-8aaf-4876-bd2d-91792cd703b2"
      },
      "outputs": [
        {
          "output_type": "display_data",
          "data": {
            "text/plain": [
              "<Figure size 640x480 with 1 Axes>"
            ],
            "image/png": "[encoded data removed]"
          },
          "metadata": {}
        }
      ],
      "source": [
        "plot_multiple_forecasts(X_new, Y_new, Y_pred)\n",
        "plt.show()"
      ]
    },
    {
      "cell_type": "code",
      "execution_count": 10,
      "metadata": {
        "colab": {
          "base_uri": "https://localhost:8080/"
        },
        "id": "zUcPQzkHBluY",
        "outputId": "8e74ea2c-648d-411b-b60b-0c7339f08597"
      },
      "outputs": [
        {
          "output_type": "stream",
          "name": "stdout",
          "text": [
            "\u001b[1m32/32\u001b[0m \u001b[32m━━━━━━━━━━━━━━━━━━━━\u001b[0m\u001b[37m\u001b[0m \u001b[1m0s\u001b[0m 6ms/step - loss: 0.0467\n"
          ]
        },
        {
          "output_type": "execute_result",
          "data": {
            "text/plain": [
              "0.045788224786520004"
            ]
          },
          "metadata": {},
          "execution_count": 10
        }
      ],
      "source": [
        "model.evaluate(X_test, y_test)"
      ]
    },
    {
      "cell_type": "markdown",
      "source": [
        "## Isa's Code Starts Here"
      ],
      "metadata": {
        "id": "jBdNVEWF-vi8"
      }
    },
    {
      "cell_type": "code",
      "execution_count": 11,
      "metadata": {
        "id": "at8XudUNBluZ",
        "colab": {
          "base_uri": "https://localhost:8080/",
          "height": 1000
        },
        "outputId": "81e079f4-9f7c-45dd-f592-f75098582812"
      },
      "outputs": [
        {
          "output_type": "display_data",
          "data": {
            "text/plain": [
              "\u001b[1mModel: \"rnn_multistep\"\u001b[0m\n"
            ],
            "text/html": [
              "<pre style=\"white-space:pre;overflow-x:auto;line-height:normal;font-family:Menlo,'DejaVu Sans Mono',consolas,'Courier New',monospace\"><span style=\"font-weight: bold\">Model: \"rnn_multistep\"</span>\n",
              "</pre>\n"
            ]
          },
          "metadata": {}
        },
        {
          "output_type": "display_data",
          "data": {
            "text/plain": [
              "┏━━━━━━━━━━━━━━━━━━━━━━━━━━━━━━━━━┳━━━━━━━━━━━━━━━━━━━━━━━━┳━━━━━━━━━━━━━━━┓\n",
              "┃\u001b[1m \u001b[0m\u001b[1mLayer (type)                   \u001b[0m\u001b[1m \u001b[0m┃\u001b[1m \u001b[0m\u001b[1mOutput Shape          \u001b[0m\u001b[1m \u001b[0m┃\u001b[1m \u001b[0m\u001b[1m      Param #\u001b[0m\u001b[1m \u001b[0m┃\n",
              "┡━━━━━━━━━━━━━━━━━━━━━━━━━━━━━━━━━╇━━━━━━━━━━━━━━━━━━━━━━━━╇━━━━━━━━━━━━━━━┩\n",
              "│ input_layer_1 (\u001b[38;5;33mInputLayer\u001b[0m)      │ (\u001b[38;5;45mNone\u001b[0m, \u001b[38;5;34m60\u001b[0m, \u001b[38;5;34m1\u001b[0m)          │             \u001b[38;5;34m0\u001b[0m │\n",
              "├─────────────────────────────────┼────────────────────────┼───────────────┤\n",
              "│ normalization (\u001b[38;5;33mNormalization\u001b[0m)   │ (\u001b[38;5;45mNone\u001b[0m, \u001b[38;5;34m60\u001b[0m, \u001b[38;5;34m1\u001b[0m)          │             \u001b[38;5;34m3\u001b[0m │\n",
              "├─────────────────────────────────┼────────────────────────┼───────────────┤\n",
              "│ conv1d (\u001b[38;5;33mConv1D\u001b[0m)                 │ (\u001b[38;5;45mNone\u001b[0m, \u001b[38;5;34m60\u001b[0m, \u001b[38;5;34m64\u001b[0m)         │           \u001b[38;5;34m256\u001b[0m │\n",
              "├─────────────────────────────────┼────────────────────────┼───────────────┤\n",
              "│ conv1d_1 (\u001b[38;5;33mConv1D\u001b[0m)               │ (\u001b[38;5;45mNone\u001b[0m, \u001b[38;5;34m60\u001b[0m, \u001b[38;5;34m64\u001b[0m)         │        \u001b[38;5;34m12,352\u001b[0m │\n",
              "├─────────────────────────────────┼────────────────────────┼───────────────┤\n",
              "│ bidirectional (\u001b[38;5;33mBidirectional\u001b[0m)   │ (\u001b[38;5;45mNone\u001b[0m, \u001b[38;5;34m60\u001b[0m, \u001b[38;5;34m128\u001b[0m)        │        \u001b[38;5;34m66,048\u001b[0m │\n",
              "├─────────────────────────────────┼────────────────────────┼───────────────┤\n",
              "│ dropout (\u001b[38;5;33mDropout\u001b[0m)               │ (\u001b[38;5;45mNone\u001b[0m, \u001b[38;5;34m60\u001b[0m, \u001b[38;5;34m128\u001b[0m)        │             \u001b[38;5;34m0\u001b[0m │\n",
              "├─────────────────────────────────┼────────────────────────┼───────────────┤\n",
              "│ lstm_1 (\u001b[38;5;33mLSTM\u001b[0m)                   │ (\u001b[38;5;45mNone\u001b[0m, \u001b[38;5;34m64\u001b[0m)             │        \u001b[38;5;34m49,408\u001b[0m │\n",
              "├─────────────────────────────────┼────────────────────────┼───────────────┤\n",
              "│ dense_1 (\u001b[38;5;33mDense\u001b[0m)                 │ (\u001b[38;5;45mNone\u001b[0m, \u001b[38;5;34m128\u001b[0m)            │         \u001b[38;5;34m8,320\u001b[0m │\n",
              "├─────────────────────────────────┼────────────────────────┼───────────────┤\n",
              "│ horizon (\u001b[38;5;33mDense\u001b[0m)                 │ (\u001b[38;5;45mNone\u001b[0m, \u001b[38;5;34m10\u001b[0m)             │         \u001b[38;5;34m1,290\u001b[0m │\n",
              "└─────────────────────────────────┴────────────────────────┴───────────────┘\n"
            ],
            "text/html": [
              "<pre style=\"white-space:pre;overflow-x:auto;line-height:normal;font-family:Menlo,'DejaVu Sans Mono',consolas,'Courier New',monospace\">┏━━━━━━━━━━━━━━━━━━━━━━━━━━━━━━━━━┳━━━━━━━━━━━━━━━━━━━━━━━━┳━━━━━━━━━━━━━━━┓\n",
              "┃<span style=\"font-weight: bold\"> Layer (type)                    </span>┃<span style=\"font-weight: bold\"> Output Shape           </span>┃<span style=\"font-weight: bold\">       Param # </span>┃\n",
              "┡━━━━━━━━━━━━━━━━━━━━━━━━━━━━━━━━━╇━━━━━━━━━━━━━━━━━━━━━━━━╇━━━━━━━━━━━━━━━┩\n",
              "│ input_layer_1 (<span style=\"color: #0087ff; text-decoration-color: #0087ff\">InputLayer</span>)      │ (<span style=\"color: #00d7ff; text-decoration-color: #00d7ff\">None</span>, <span style=\"color: #00af00; text-decoration-color: #00af00\">60</span>, <span style=\"color: #00af00; text-decoration-color: #00af00\">1</span>)          │             <span style=\"color: #00af00; text-decoration-color: #00af00\">0</span> │\n",
              "├─────────────────────────────────┼────────────────────────┼───────────────┤\n",
              "│ normalization (<span style=\"color: #0087ff; text-decoration-color: #0087ff\">Normalization</span>)   │ (<span style=\"color: #00d7ff; text-decoration-color: #00d7ff\">None</span>, <span style=\"color: #00af00; text-decoration-color: #00af00\">60</span>, <span style=\"color: #00af00; text-decoration-color: #00af00\">1</span>)          │             <span style=\"color: #00af00; text-decoration-color: #00af00\">3</span> │\n",
              "├─────────────────────────────────┼────────────────────────┼───────────────┤\n",
              "│ conv1d (<span style=\"color: #0087ff; text-decoration-color: #0087ff\">Conv1D</span>)                 │ (<span style=\"color: #00d7ff; text-decoration-color: #00d7ff\">None</span>, <span style=\"color: #00af00; text-decoration-color: #00af00\">60</span>, <span style=\"color: #00af00; text-decoration-color: #00af00\">64</span>)         │           <span style=\"color: #00af00; text-decoration-color: #00af00\">256</span> │\n",
              "├─────────────────────────────────┼────────────────────────┼───────────────┤\n",
              "│ conv1d_1 (<span style=\"color: #0087ff; text-decoration-color: #0087ff\">Conv1D</span>)               │ (<span style=\"color: #00d7ff; text-decoration-color: #00d7ff\">None</span>, <span style=\"color: #00af00; text-decoration-color: #00af00\">60</span>, <span style=\"color: #00af00; text-decoration-color: #00af00\">64</span>)         │        <span style=\"color: #00af00; text-decoration-color: #00af00\">12,352</span> │\n",
              "├─────────────────────────────────┼────────────────────────┼───────────────┤\n",
              "│ bidirectional (<span style=\"color: #0087ff; text-decoration-color: #0087ff\">Bidirectional</span>)   │ (<span style=\"color: #00d7ff; text-decoration-color: #00d7ff\">None</span>, <span style=\"color: #00af00; text-decoration-color: #00af00\">60</span>, <span style=\"color: #00af00; text-decoration-color: #00af00\">128</span>)        │        <span style=\"color: #00af00; text-decoration-color: #00af00\">66,048</span> │\n",
              "├─────────────────────────────────┼────────────────────────┼───────────────┤\n",
              "│ dropout (<span style=\"color: #0087ff; text-decoration-color: #0087ff\">Dropout</span>)               │ (<span style=\"color: #00d7ff; text-decoration-color: #00d7ff\">None</span>, <span style=\"color: #00af00; text-decoration-color: #00af00\">60</span>, <span style=\"color: #00af00; text-decoration-color: #00af00\">128</span>)        │             <span style=\"color: #00af00; text-decoration-color: #00af00\">0</span> │\n",
              "├─────────────────────────────────┼────────────────────────┼───────────────┤\n",
              "│ lstm_1 (<span style=\"color: #0087ff; text-decoration-color: #0087ff\">LSTM</span>)                   │ (<span style=\"color: #00d7ff; text-decoration-color: #00d7ff\">None</span>, <span style=\"color: #00af00; text-decoration-color: #00af00\">64</span>)             │        <span style=\"color: #00af00; text-decoration-color: #00af00\">49,408</span> │\n",
              "├─────────────────────────────────┼────────────────────────┼───────────────┤\n",
              "│ dense_1 (<span style=\"color: #0087ff; text-decoration-color: #0087ff\">Dense</span>)                 │ (<span style=\"color: #00d7ff; text-decoration-color: #00d7ff\">None</span>, <span style=\"color: #00af00; text-decoration-color: #00af00\">128</span>)            │         <span style=\"color: #00af00; text-decoration-color: #00af00\">8,320</span> │\n",
              "├─────────────────────────────────┼────────────────────────┼───────────────┤\n",
              "│ horizon (<span style=\"color: #0087ff; text-decoration-color: #0087ff\">Dense</span>)                 │ (<span style=\"color: #00d7ff; text-decoration-color: #00d7ff\">None</span>, <span style=\"color: #00af00; text-decoration-color: #00af00\">10</span>)             │         <span style=\"color: #00af00; text-decoration-color: #00af00\">1,290</span> │\n",
              "└─────────────────────────────────┴────────────────────────┴───────────────┘\n",
              "</pre>\n"
            ]
          },
          "metadata": {}
        },
        {
          "output_type": "display_data",
          "data": {
            "text/plain": [
              "\u001b[1m Total params: \u001b[0m\u001b[38;5;34m137,677\u001b[0m (537.80 KB)\n"
            ],
            "text/html": [
              "<pre style=\"white-space:pre;overflow-x:auto;line-height:normal;font-family:Menlo,'DejaVu Sans Mono',consolas,'Courier New',monospace\"><span style=\"font-weight: bold\"> Total params: </span><span style=\"color: #00af00; text-decoration-color: #00af00\">137,677</span> (537.80 KB)\n",
              "</pre>\n"
            ]
          },
          "metadata": {}
        },
        {
          "output_type": "display_data",
          "data": {
            "text/plain": [
              "\u001b[1m Trainable params: \u001b[0m\u001b[38;5;34m137,674\u001b[0m (537.79 KB)\n"
            ],
            "text/html": [
              "<pre style=\"white-space:pre;overflow-x:auto;line-height:normal;font-family:Menlo,'DejaVu Sans Mono',consolas,'Courier New',monospace\"><span style=\"font-weight: bold\"> Trainable params: </span><span style=\"color: #00af00; text-decoration-color: #00af00\">137,674</span> (537.79 KB)\n",
              "</pre>\n"
            ]
          },
          "metadata": {}
        },
        {
          "output_type": "display_data",
          "data": {
            "text/plain": [
              "\u001b[1m Non-trainable params: \u001b[0m\u001b[38;5;34m3\u001b[0m (16.00 B)\n"
            ],
            "text/html": [
              "<pre style=\"white-space:pre;overflow-x:auto;line-height:normal;font-family:Menlo,'DejaVu Sans Mono',consolas,'Courier New',monospace\"><span style=\"font-weight: bold\"> Non-trainable params: </span><span style=\"color: #00af00; text-decoration-color: #00af00\">3</span> (16.00 B)\n",
              "</pre>\n"
            ]
          },
          "metadata": {}
        },
        {
          "output_type": "stream",
          "name": "stdout",
          "text": [
            "Epoch 1/200\n",
            "71/71 - 9s - 127ms/step - loss: 0.0950 - mse: 0.0950 - val_loss: 0.0750 - val_mse: 0.0750 - learning_rate: 1.0000e-03\n",
            "Epoch 2/200\n",
            "71/71 - 1s - 14ms/step - loss: 0.0625 - mse: 0.0625 - val_loss: 0.0641 - val_mse: 0.0641 - learning_rate: 1.0000e-03\n",
            "Epoch 3/200\n",
            "71/71 - 1s - 15ms/step - loss: 0.0532 - mse: 0.0532 - val_loss: 0.0504 - val_mse: 0.0504 - learning_rate: 1.0000e-03\n",
            "Epoch 4/200\n",
            "71/71 - 1s - 15ms/step - loss: 0.0443 - mse: 0.0443 - val_loss: 0.0362 - val_mse: 0.0362 - learning_rate: 1.0000e-03\n",
            "Epoch 5/200\n",
            "71/71 - 1s - 15ms/step - loss: 0.0361 - mse: 0.0361 - val_loss: 0.0345 - val_mse: 0.0345 - learning_rate: 1.0000e-03\n",
            "Epoch 6/200\n",
            "71/71 - 1s - 14ms/step - loss: 0.0320 - mse: 0.0320 - val_loss: 0.0314 - val_mse: 0.0314 - learning_rate: 1.0000e-03\n",
            "Epoch 7/200\n",
            "71/71 - 1s - 18ms/step - loss: 0.0306 - mse: 0.0306 - val_loss: 0.0309 - val_mse: 0.0309 - learning_rate: 1.0000e-03\n",
            "Epoch 8/200\n",
            "71/71 - 1s - 20ms/step - loss: 0.0307 - mse: 0.0307 - val_loss: 0.0314 - val_mse: 0.0314 - learning_rate: 1.0000e-03\n",
            "Epoch 9/200\n",
            "71/71 - 1s - 17ms/step - loss: 0.0291 - mse: 0.0291 - val_loss: 0.0320 - val_mse: 0.0320 - learning_rate: 1.0000e-03\n",
            "Epoch 10/200\n",
            "71/71 - 1s - 14ms/step - loss: 0.0289 - mse: 0.0289 - val_loss: 0.0305 - val_mse: 0.0305 - learning_rate: 1.0000e-03\n",
            "Epoch 11/200\n",
            "71/71 - 1s - 14ms/step - loss: 0.0287 - mse: 0.0287 - val_loss: 0.0295 - val_mse: 0.0295 - learning_rate: 1.0000e-03\n",
            "Epoch 12/200\n",
            "71/71 - 1s - 14ms/step - loss: 0.0276 - mse: 0.0276 - val_loss: 0.0303 - val_mse: 0.0303 - learning_rate: 1.0000e-03\n",
            "Epoch 13/200\n",
            "71/71 - 1s - 14ms/step - loss: 0.0274 - mse: 0.0274 - val_loss: 0.0278 - val_mse: 0.0278 - learning_rate: 1.0000e-03\n",
            "Epoch 14/200\n",
            "71/71 - 1s - 18ms/step - loss: 0.0268 - mse: 0.0268 - val_loss: 0.0289 - val_mse: 0.0289 - learning_rate: 1.0000e-03\n",
            "Epoch 15/200\n",
            "71/71 - 1s - 15ms/step - loss: 0.0262 - mse: 0.0262 - val_loss: 0.0262 - val_mse: 0.0262 - learning_rate: 1.0000e-03\n",
            "Epoch 16/200\n",
            "71/71 - 1s - 14ms/step - loss: 0.0252 - mse: 0.0252 - val_loss: 0.0250 - val_mse: 0.0250 - learning_rate: 1.0000e-03\n",
            "Epoch 17/200\n",
            "71/71 - 1s - 15ms/step - loss: 0.0232 - mse: 0.0232 - val_loss: 0.0232 - val_mse: 0.0232 - learning_rate: 1.0000e-03\n",
            "Epoch 18/200\n",
            "71/71 - 1s - 15ms/step - loss: 0.0232 - mse: 0.0232 - val_loss: 0.0252 - val_mse: 0.0252 - learning_rate: 1.0000e-03\n",
            "Epoch 19/200\n",
            "71/71 - 1s - 20ms/step - loss: 0.0209 - mse: 0.0209 - val_loss: 0.0211 - val_mse: 0.0211 - learning_rate: 1.0000e-03\n",
            "Epoch 20/200\n",
            "71/71 - 1s - 17ms/step - loss: 0.0197 - mse: 0.0197 - val_loss: 0.0210 - val_mse: 0.0210 - learning_rate: 1.0000e-03\n",
            "Epoch 21/200\n",
            "71/71 - 1s - 15ms/step - loss: 0.0182 - mse: 0.0182 - val_loss: 0.0208 - val_mse: 0.0208 - learning_rate: 1.0000e-03\n",
            "Epoch 22/200\n",
            "71/71 - 1s - 15ms/step - loss: 0.0174 - mse: 0.0174 - val_loss: 0.0197 - val_mse: 0.0197 - learning_rate: 1.0000e-03\n",
            "Epoch 23/200\n",
            "71/71 - 1s - 14ms/step - loss: 0.0168 - mse: 0.0168 - val_loss: 0.0182 - val_mse: 0.0182 - learning_rate: 1.0000e-03\n",
            "Epoch 24/200\n",
            "71/71 - 1s - 15ms/step - loss: 0.0161 - mse: 0.0161 - val_loss: 0.0184 - val_mse: 0.0184 - learning_rate: 1.0000e-03\n",
            "Epoch 25/200\n",
            "71/71 - 1s - 15ms/step - loss: 0.0156 - mse: 0.0156 - val_loss: 0.0177 - val_mse: 0.0177 - learning_rate: 1.0000e-03\n",
            "Epoch 26/200\n",
            "71/71 - 1s - 14ms/step - loss: 0.0150 - mse: 0.0150 - val_loss: 0.0170 - val_mse: 0.0170 - learning_rate: 1.0000e-03\n",
            "Epoch 27/200\n",
            "71/71 - 1s - 14ms/step - loss: 0.0146 - mse: 0.0146 - val_loss: 0.0159 - val_mse: 0.0159 - learning_rate: 1.0000e-03\n",
            "Epoch 28/200\n",
            "71/71 - 1s - 15ms/step - loss: 0.0138 - mse: 0.0138 - val_loss: 0.0169 - val_mse: 0.0169 - learning_rate: 1.0000e-03\n",
            "Epoch 29/200\n",
            "71/71 - 1s - 15ms/step - loss: 0.0135 - mse: 0.0135 - val_loss: 0.0182 - val_mse: 0.0182 - learning_rate: 1.0000e-03\n",
            "Epoch 30/200\n",
            "71/71 - 1s - 20ms/step - loss: 0.0134 - mse: 0.0134 - val_loss: 0.0156 - val_mse: 0.0156 - learning_rate: 1.0000e-03\n",
            "Epoch 31/200\n",
            "71/71 - 1s - 17ms/step - loss: 0.0132 - mse: 0.0132 - val_loss: 0.0155 - val_mse: 0.0155 - learning_rate: 1.0000e-03\n",
            "Epoch 32/200\n",
            "71/71 - 1s - 14ms/step - loss: 0.0141 - mse: 0.0141 - val_loss: 0.0169 - val_mse: 0.0169 - learning_rate: 1.0000e-03\n",
            "Epoch 33/200\n",
            "71/71 - 1s - 14ms/step - loss: 0.0120 - mse: 0.0120 - val_loss: 0.0150 - val_mse: 0.0150 - learning_rate: 1.0000e-03\n",
            "Epoch 34/200\n",
            "71/71 - 1s - 14ms/step - loss: 0.0122 - mse: 0.0122 - val_loss: 0.0146 - val_mse: 0.0146 - learning_rate: 1.0000e-03\n",
            "Epoch 35/200\n",
            "71/71 - 1s - 14ms/step - loss: 0.0115 - mse: 0.0115 - val_loss: 0.0127 - val_mse: 0.0127 - learning_rate: 1.0000e-03\n",
            "Epoch 36/200\n",
            "71/71 - 1s - 14ms/step - loss: 0.0110 - mse: 0.0110 - val_loss: 0.0129 - val_mse: 0.0129 - learning_rate: 1.0000e-03\n",
            "Epoch 37/200\n",
            "71/71 - 1s - 14ms/step - loss: 0.0111 - mse: 0.0111 - val_loss: 0.0132 - val_mse: 0.0132 - learning_rate: 1.0000e-03\n",
            "Epoch 38/200\n",
            "71/71 - 1s - 14ms/step - loss: 0.0109 - mse: 0.0109 - val_loss: 0.0128 - val_mse: 0.0128 - learning_rate: 1.0000e-03\n",
            "Epoch 39/200\n",
            "71/71 - 1s - 14ms/step - loss: 0.0099 - mse: 0.0099 - val_loss: 0.0125 - val_mse: 0.0125 - learning_rate: 1.0000e-03\n",
            "Epoch 40/200\n",
            "71/71 - 1s - 15ms/step - loss: 0.0100 - mse: 0.0100 - val_loss: 0.0138 - val_mse: 0.0138 - learning_rate: 1.0000e-03\n",
            "Epoch 41/200\n",
            "71/71 - 1s - 20ms/step - loss: 0.0101 - mse: 0.0101 - val_loss: 0.0124 - val_mse: 0.0124 - learning_rate: 1.0000e-03\n",
            "Epoch 42/200\n",
            "71/71 - 1s - 18ms/step - loss: 0.0094 - mse: 0.0094 - val_loss: 0.0118 - val_mse: 0.0118 - learning_rate: 1.0000e-03\n",
            "Epoch 43/200\n",
            "71/71 - 2s - 32ms/step - loss: 0.0089 - mse: 0.0089 - val_loss: 0.0128 - val_mse: 0.0128 - learning_rate: 1.0000e-03\n",
            "Epoch 44/200\n",
            "71/71 - 1s - 14ms/step - loss: 0.0096 - mse: 0.0096 - val_loss: 0.0143 - val_mse: 0.0143 - learning_rate: 1.0000e-03\n",
            "Epoch 45/200\n",
            "71/71 - 1s - 14ms/step - loss: 0.0097 - mse: 0.0097 - val_loss: 0.0108 - val_mse: 0.0108 - learning_rate: 1.0000e-03\n",
            "Epoch 46/200\n",
            "71/71 - 1s - 15ms/step - loss: 0.0086 - mse: 0.0086 - val_loss: 0.0122 - val_mse: 0.0122 - learning_rate: 1.0000e-03\n",
            "Epoch 47/200\n",
            "71/71 - 1s - 14ms/step - loss: 0.0082 - mse: 0.0082 - val_loss: 0.0117 - val_mse: 0.0117 - learning_rate: 1.0000e-03\n",
            "Epoch 48/200\n",
            "71/71 - 1s - 14ms/step - loss: 0.0086 - mse: 0.0086 - val_loss: 0.0113 - val_mse: 0.0113 - learning_rate: 1.0000e-03\n",
            "Epoch 49/200\n",
            "\n",
            "Epoch 49: ReduceLROnPlateau reducing learning rate to 0.0005000000237487257.\n",
            "71/71 - 1s - 15ms/step - loss: 0.0082 - mse: 0.0082 - val_loss: 0.0112 - val_mse: 0.0112 - learning_rate: 1.0000e-03\n",
            "Epoch 50/200\n",
            "71/71 - 1s - 19ms/step - loss: 0.0069 - mse: 0.0069 - val_loss: 0.0104 - val_mse: 0.0104 - learning_rate: 5.0000e-04\n",
            "Epoch 51/200\n",
            "71/71 - 3s - 36ms/step - loss: 0.0066 - mse: 0.0066 - val_loss: 0.0104 - val_mse: 0.0104 - learning_rate: 5.0000e-04\n",
            "Epoch 52/200\n",
            "71/71 - 1s - 15ms/step - loss: 0.0066 - mse: 0.0066 - val_loss: 0.0097 - val_mse: 0.0097 - learning_rate: 5.0000e-04\n",
            "Epoch 53/200\n",
            "71/71 - 1s - 15ms/step - loss: 0.0063 - mse: 0.0063 - val_loss: 0.0095 - val_mse: 0.0095 - learning_rate: 5.0000e-04\n",
            "Epoch 54/200\n",
            "71/71 - 1s - 14ms/step - loss: 0.0061 - mse: 0.0061 - val_loss: 0.0100 - val_mse: 0.0100 - learning_rate: 5.0000e-04\n",
            "Epoch 55/200\n",
            "71/71 - 1s - 14ms/step - loss: 0.0062 - mse: 0.0062 - val_loss: 0.0095 - val_mse: 0.0095 - learning_rate: 5.0000e-04\n",
            "Epoch 56/200\n",
            "71/71 - 1s - 14ms/step - loss: 0.0062 - mse: 0.0062 - val_loss: 0.0094 - val_mse: 0.0094 - learning_rate: 5.0000e-04\n",
            "Epoch 57/200\n",
            "71/71 - 1s - 14ms/step - loss: 0.0062 - mse: 0.0062 - val_loss: 0.0099 - val_mse: 0.0099 - learning_rate: 5.0000e-04\n",
            "Epoch 58/200\n",
            "71/71 - 1s - 14ms/step - loss: 0.0061 - mse: 0.0061 - val_loss: 0.0101 - val_mse: 0.0101 - learning_rate: 5.0000e-04\n",
            "Epoch 59/200\n",
            "71/71 - 1s - 18ms/step - loss: 0.0059 - mse: 0.0059 - val_loss: 0.0095 - val_mse: 0.0095 - learning_rate: 5.0000e-04\n",
            "Epoch 60/200\n",
            "\n",
            "Epoch 60: ReduceLROnPlateau reducing learning rate to 0.0002500000118743628.\n",
            "71/71 - 1s - 14ms/step - loss: 0.0059 - mse: 0.0059 - val_loss: 0.0102 - val_mse: 0.0102 - learning_rate: 5.0000e-04\n",
            "Epoch 61/200\n",
            "71/71 - 1s - 20ms/step - loss: 0.0052 - mse: 0.0052 - val_loss: 0.0093 - val_mse: 0.0093 - learning_rate: 2.5000e-04\n",
            "Epoch 62/200\n",
            "71/71 - 1s - 18ms/step - loss: 0.0050 - mse: 0.0050 - val_loss: 0.0091 - val_mse: 0.0091 - learning_rate: 2.5000e-04\n",
            "Epoch 63/200\n",
            "71/71 - 1s - 14ms/step - loss: 0.0049 - mse: 0.0049 - val_loss: 0.0090 - val_mse: 0.0090 - learning_rate: 2.5000e-04\n",
            "Epoch 64/200\n",
            "71/71 - 1s - 14ms/step - loss: 0.0049 - mse: 0.0049 - val_loss: 0.0089 - val_mse: 0.0089 - learning_rate: 2.5000e-04\n",
            "Epoch 65/200\n",
            "71/71 - 1s - 15ms/step - loss: 0.0049 - mse: 0.0049 - val_loss: 0.0091 - val_mse: 0.0091 - learning_rate: 2.5000e-04\n",
            "Epoch 66/200\n",
            "71/71 - 1s - 14ms/step - loss: 0.0048 - mse: 0.0048 - val_loss: 0.0090 - val_mse: 0.0090 - learning_rate: 2.5000e-04\n",
            "Epoch 67/200\n",
            "71/71 - 1s - 14ms/step - loss: 0.0047 - mse: 0.0047 - val_loss: 0.0091 - val_mse: 0.0091 - learning_rate: 2.5000e-04\n",
            "Epoch 68/200\n",
            "\n",
            "Epoch 68: ReduceLROnPlateau reducing learning rate to 0.0001250000059371814.\n",
            "71/71 - 1s - 18ms/step - loss: 0.0048 - mse: 0.0048 - val_loss: 0.0088 - val_mse: 0.0088 - learning_rate: 2.5000e-04\n",
            "Epoch 69/200\n",
            "71/71 - 1s - 18ms/step - loss: 0.0046 - mse: 0.0046 - val_loss: 0.0088 - val_mse: 0.0088 - learning_rate: 1.2500e-04\n",
            "Epoch 70/200\n",
            "71/71 - 1s - 14ms/step - loss: 0.0045 - mse: 0.0045 - val_loss: 0.0086 - val_mse: 0.0086 - learning_rate: 1.2500e-04\n",
            "Epoch 71/200\n",
            "71/71 - 1s - 16ms/step - loss: 0.0044 - mse: 0.0044 - val_loss: 0.0087 - val_mse: 0.0087 - learning_rate: 1.2500e-04\n",
            "Epoch 72/200\n",
            "71/71 - 2s - 22ms/step - loss: 0.0044 - mse: 0.0044 - val_loss: 0.0086 - val_mse: 0.0086 - learning_rate: 1.2500e-04\n",
            "Epoch 73/200\n",
            "71/71 - 2s - 28ms/step - loss: 0.0044 - mse: 0.0044 - val_loss: 0.0087 - val_mse: 0.0087 - learning_rate: 1.2500e-04\n",
            "Epoch 74/200\n",
            "\n",
            "Epoch 74: ReduceLROnPlateau reducing learning rate to 6.25000029685907e-05.\n",
            "71/71 - 1s - 14ms/step - loss: 0.0044 - mse: 0.0044 - val_loss: 0.0088 - val_mse: 0.0088 - learning_rate: 1.2500e-04\n",
            "Epoch 75/200\n",
            "71/71 - 1s - 15ms/step - loss: 0.0043 - mse: 0.0043 - val_loss: 0.0086 - val_mse: 0.0086 - learning_rate: 6.2500e-05\n",
            "Epoch 76/200\n",
            "71/71 - 1s - 14ms/step - loss: 0.0042 - mse: 0.0042 - val_loss: 0.0086 - val_mse: 0.0086 - learning_rate: 6.2500e-05\n",
            "Epoch 77/200\n",
            "71/71 - 1s - 15ms/step - loss: 0.0042 - mse: 0.0042 - val_loss: 0.0087 - val_mse: 0.0087 - learning_rate: 6.2500e-05\n",
            "Epoch 78/200\n",
            "\n",
            "Epoch 78: ReduceLROnPlateau reducing learning rate to 3.125000148429535e-05.\n",
            "71/71 - 1s - 14ms/step - loss: 0.0041 - mse: 0.0041 - val_loss: 0.0085 - val_mse: 0.0085 - learning_rate: 6.2500e-05\n",
            "Epoch 79/200\n",
            "71/71 - 1s - 14ms/step - loss: 0.0041 - mse: 0.0041 - val_loss: 0.0086 - val_mse: 0.0086 - learning_rate: 3.1250e-05\n",
            "Epoch 80/200\n",
            "71/71 - 1s - 14ms/step - loss: 0.0041 - mse: 0.0041 - val_loss: 0.0086 - val_mse: 0.0086 - learning_rate: 3.1250e-05\n",
            "Epoch 81/200\n",
            "71/71 - 1s - 15ms/step - loss: 0.0041 - mse: 0.0041 - val_loss: 0.0085 - val_mse: 0.0085 - learning_rate: 3.1250e-05\n",
            "Epoch 82/200\n",
            "\n",
            "Epoch 82: ReduceLROnPlateau reducing learning rate to 1.5625000742147677e-05.\n",
            "71/71 - 1s - 20ms/step - loss: 0.0040 - mse: 0.0040 - val_loss: 0.0086 - val_mse: 0.0086 - learning_rate: 3.1250e-05\n",
            "Epoch 83/200\n",
            "71/71 - 1s - 17ms/step - loss: 0.0040 - mse: 0.0040 - val_loss: 0.0085 - val_mse: 0.0085 - learning_rate: 1.5625e-05\n",
            "Epoch 84/200\n",
            "71/71 - 1s - 14ms/step - loss: 0.0040 - mse: 0.0040 - val_loss: 0.0085 - val_mse: 0.0085 - learning_rate: 1.5625e-05\n",
            "Epoch 85/200\n",
            "71/71 - 1s - 14ms/step - loss: 0.0040 - mse: 0.0040 - val_loss: 0.0085 - val_mse: 0.0085 - learning_rate: 1.5625e-05\n",
            "Epoch 86/200\n",
            "\n",
            "Epoch 86: ReduceLROnPlateau reducing learning rate to 7.812500371073838e-06.\n",
            "71/71 - 1s - 14ms/step - loss: 0.0040 - mse: 0.0040 - val_loss: 0.0085 - val_mse: 0.0085 - learning_rate: 1.5625e-05\n",
            "Epoch 87/200\n",
            "71/71 - 1s - 14ms/step - loss: 0.0040 - mse: 0.0040 - val_loss: 0.0085 - val_mse: 0.0085 - learning_rate: 7.8125e-06\n",
            "Epoch 88/200\n",
            "71/71 - 1s - 14ms/step - loss: 0.0040 - mse: 0.0040 - val_loss: 0.0085 - val_mse: 0.0085 - learning_rate: 7.8125e-06\n",
            "Epoch 89/200\n",
            "71/71 - 1s - 14ms/step - loss: 0.0040 - mse: 0.0040 - val_loss: 0.0085 - val_mse: 0.0085 - learning_rate: 7.8125e-06\n",
            "Epoch 90/200\n",
            "\n",
            "Epoch 90: ReduceLROnPlateau reducing learning rate to 3.906250185536919e-06.\n",
            "71/71 - 1s - 14ms/step - loss: 0.0040 - mse: 0.0040 - val_loss: 0.0085 - val_mse: 0.0085 - learning_rate: 7.8125e-06\n",
            "Epoch 91/200\n",
            "71/71 - 1s - 14ms/step - loss: 0.0040 - mse: 0.0040 - val_loss: 0.0085 - val_mse: 0.0085 - learning_rate: 3.9063e-06\n",
            "Epoch 92/200\n",
            "71/71 - 1s - 14ms/step - loss: 0.0040 - mse: 0.0040 - val_loss: 0.0085 - val_mse: 0.0085 - learning_rate: 3.9063e-06\n",
            "Epoch 93/200\n",
            "71/71 - 1s - 19ms/step - loss: 0.0040 - mse: 0.0040 - val_loss: 0.0085 - val_mse: 0.0085 - learning_rate: 3.9063e-06\n",
            "Epoch 93: early stopping\n",
            "Restoring model weights from the end of the best epoch: 81.\n",
            "\n",
            "Q2 — RNN multi-step test MSE: 0.007818\n",
            "Baseline (linear) MSE from handout: 0.0458\n",
            "\n",
            "Sample target[0]: [0.725]\n",
            "Sample pred  [0]: [0.705 0.713 0.694 0.716 0.723 0.705 0.704 0.716 0.697 0.712]\n"
          ]
        },
        {
          "output_type": "execute_result",
          "data": {
            "text/plain": [
              "8248"
            ]
          },
          "metadata": {},
          "execution_count": 11
        }
      ],
      "source": [
        "import tensorflow as tf\n",
        "from tensorflow import keras\n",
        "from tensorflow.keras import layers\n",
        "import numpy as np\n",
        "import math, os, gc, random\n",
        "\n",
        "# Reproducibility\n",
        "seed = 42\n",
        "tf.keras.utils.set_random_seed(seed)\n",
        "np.random.seed(seed)\n",
        "random.seed(seed)\n",
        "\n",
        "BATCH = 128\n",
        "PREFETCH = tf.data.AUTOTUNE\n",
        "\n",
        "def ensure_ds():\n",
        "    \"\"\"Return (train_ds, valid_ds, test_ds) yielding (batch, 60, 1) -> (batch, 10).\"\"\"\n",
        "    global train_ds, valid_ds, test_ds\n",
        "    if \"train_ds\" in globals() and \"valid_ds\" in globals() and \"test_ds\" in globals():\n",
        "        return train_ds, valid_ds, test_ds\n",
        "\n",
        "    # Fallback: build datasets from arrays present in the handout\n",
        "    assert all(k in globals() for k in [\"X_train\",\"y_train\",\"X_valid\",\"y_valid\",\"X_test\",\"y_test\"]), \\\n",
        "        \"Expected either tf.data datasets (train_ds/valid_ds/test_ds) or arrays (X_*/y_*).\"\n",
        "\n",
        "    def make_ds(X, y, training=False):\n",
        "        ds = tf.data.Dataset.from_tensor_slices((X.astype(np.float32), y.astype(np.float32)))\n",
        "        if training:\n",
        "            ds = ds.shuffle(min(len(X), 10000), seed=seed, reshuffle_each_iteration=True)\n",
        "        ds = ds.batch(BATCH).prefetch(PREFETCH)\n",
        "        return ds\n",
        "\n",
        "    return make_ds(X_train, y_train, training=True), \\\n",
        "           make_ds(X_valid, y_valid, training=False), \\\n",
        "           make_ds(X_test,  y_test,  training=False)\n",
        "\n",
        "train_ds, valid_ds, test_ds = ensure_ds()\n",
        "\n",
        "# Optional: small normalization learnt from train inputs (helps stability)\n",
        "norm = layers.Normalization(axis=-1)\n",
        "# adapt using a subset to save RAM if needed\n",
        "for xb, _ in train_ds.take(20):\n",
        "    norm.adapt(xb)  # calling adapt multiple times is cumulative-safe\n",
        "\n",
        "# --- Model: light Conv stem -> (Bi)LSTM stack -> Dense(10) head ---\n",
        "def build_model():\n",
        "    inp = layers.Input(shape=(60, 1))\n",
        "    x = norm(inp)\n",
        "\n",
        "    # A tiny conv stem often helps multi-step stability\n",
        "    x = layers.Conv1D(64, 3, padding=\"causal\", activation=\"relu\")(x)\n",
        "    x = layers.Conv1D(64, 3, padding=\"causal\", activation=\"relu\")(x)\n",
        "\n",
        "    # Recurrent layers\n",
        "    x = layers.Bidirectional(layers.LSTM(64, return_sequences=True))(x)\n",
        "    x = layers.Dropout(0.2)(x)\n",
        "    x = layers.LSTM(64)(x)\n",
        "\n",
        "    # Projection to 10-step horizon\n",
        "    x = layers.Dense(128, activation=\"relu\")(x)\n",
        "    out = layers.Dense(10, name=\"horizon\")(x)\n",
        "\n",
        "    model = keras.Model(inp, out, name=\"rnn_multistep\")\n",
        "    model.compile(\n",
        "        optimizer=keras.optimizers.Adam(1e-3),\n",
        "        loss=\"mse\",\n",
        "        metrics=[\"mse\"],\n",
        "    )\n",
        "    return model\n",
        "\n",
        "model = build_model()\n",
        "model.summary()\n",
        "\n",
        "# --- Callbacks for stable convergence ---\n",
        "cbs = [\n",
        "    keras.callbacks.ReduceLROnPlateau(\n",
        "        monitor=\"val_mse\", factor=0.5, patience=4, min_lr=1e-6, verbose=1\n",
        "    ),\n",
        "    keras.callbacks.EarlyStopping(\n",
        "        monitor=\"val_mse\", patience=12, restore_best_weights=True, verbose=1\n",
        "    ),\n",
        "]\n",
        "\n",
        "# --- Train ---\n",
        "history = model.fit(\n",
        "    train_ds,\n",
        "    validation_data=valid_ds,\n",
        "    epochs=200,\n",
        "    callbacks=cbs,\n",
        "    verbose=2,\n",
        ")\n",
        "\n",
        "\n",
        "test_loss, test_mse = model.evaluate(test_ds, verbose=0)\n",
        "print(f\"\\nQ2 — RNN multi-step test MSE: {test_mse:.6f}\")\n",
        "print(\"Baseline (linear) MSE from handout: 0.0458\")\n",
        "\n",
        "for xb, yb in test_ds.take(1):\n",
        "    preds = model.predict(xb[:4], verbose=0)  # 4 examples\n",
        "    print(\"\\nSample target[0]:\", np.round(yb[0].numpy(), 3))\n",
        "    print(\"Sample pred  [0]:\", np.round(preds[0], 3))\n",
        "\n",
        "gc.collect()"
      ]
    }
  ],
  "metadata": {
    "kernelspec": {
      "display_name": "Python 3",
      "name": "python3"
    },
    "language_info": {
      "codemirror_mode": {
        "name": "ipython",
        "version": 3
      },
      "file_extension": ".py",
      "mimetype": "text/x-python",
      "name": "python",
      "nbconvert_exporter": "python",
      "pygments_lexer": "ipython3",
      "version": "3.9.5"
    },
    "nav_menu": {},
    "toc": {
      "navigate_menu": true,
      "number_sections": true,
      "sideBar": true,
      "threshold": 6,
      "toc_cell": false,
      "toc_section_display": "block",
      "toc_window_display": false
    },
    "colab": {
      "provenance": [],
      "gpuType": "T4",
      "include_colab_link": true
    },
    "accelerator": "GPU"
  },
  "nbformat": 4,
  "nbformat_minor": 0
}