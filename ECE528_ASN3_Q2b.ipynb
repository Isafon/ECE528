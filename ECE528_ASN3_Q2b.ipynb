{
  "nbformat": 4,
  "nbformat_minor": 0,
  "metadata": {
    "colab": {
      "provenance": [],
      "machine_shape": "hm",
      "authorship_tag": "ABX9TyNrmpBpGjpNssCOlG4SPeiw",
      "include_colab_link": true
    },
    "kernelspec": {
      "name": "python3",
      "display_name": "Python 3"
    },
    "language_info": {
      "name": "python"
    }
  },
  "cells": [
    {
      "cell_type": "markdown",
      "metadata": {
        "id": "view-in-github",
        "colab_type": "text"
      },
      "source": [
        "<a href=\"https://colab.research.google.com/github/Isafon/ECE528/blob/main/ECE528_ASN3_Q2b.ipynb\" target=\"_parent\"><img src=\"https://colab.research.google.com/assets/colab-badge.svg\" alt=\"Open In Colab\"/></a>"
      ]
    },
    {
      "cell_type": "markdown",
      "source": [
        "# ECE528 Lab 3 Q2b - Isa Fontana"
      ],
      "metadata": {
        "id": "9nyvyLPpVE_X"
      }
    },
    {
      "cell_type": "markdown",
      "source": [
        "#### Q2b: Representative dataset for calibration"
      ],
      "metadata": {
        "id": "rrQNXHMsc7of"
      }
    },
    {
      "cell_type": "markdown",
      "source": [
        "## Imports!"
      ],
      "metadata": {
        "id": "FSqD9j7mVM2Z"
      }
    },
    {
      "cell_type": "code",
      "source": [
        "import os, io, zipfile, numpy as np, pandas as pd, tensorflow as tf\n",
        "from tensorflow.keras import layers, models, callbacks\n",
        "import matplotlib.pyplot as plt\n",
        "\n",
        "np.random.seed(42)\n",
        "tf.random.set_seed(42)\n",
        "print(\"TF version:\", tf.__version__)"
      ],
      "metadata": {
        "colab": {
          "base_uri": "https://localhost:8080/"
        },
        "id": "cUPKbX_KXR76",
        "outputId": "edd132fd-1278-4fcc-cfcb-7db6b59b1db8"
      },
      "execution_count": 1,
      "outputs": [
        {
          "output_type": "stream",
          "name": "stdout",
          "text": [
            "TF version: 2.19.0\n"
          ]
        }
      ]
    },
    {
      "cell_type": "markdown",
      "source": [
        "## Choose File"
      ],
      "metadata": {
        "id": "545cOUOPbBN1"
      }
    },
    {
      "cell_type": "code",
      "source": [
        "from google.colab import files\n",
        "uploaded = files.upload()"
      ],
      "metadata": {
        "colab": {
          "base_uri": "https://localhost:8080/",
          "height": 74
        },
        "id": "JxlCInAZbDa-",
        "outputId": "6f06c9a8-ad37-4f25-e649-fa1c7d2c7eb4"
      },
      "execution_count": 2,
      "outputs": [
        {
          "output_type": "display_data",
          "data": {
            "text/plain": [
              "<IPython.core.display.HTML object>"
            ],
            "text/html": [
              "\n",
              "     <input type=\"file\" id=\"files-8d08e688-e311-437d-bec0-3251fa06cf8f\" name=\"files[]\" multiple disabled\n",
              "        style=\"border:none\" />\n",
              "     <output id=\"result-8d08e688-e311-437d-bec0-3251fa06cf8f\">\n",
              "      Upload widget is only available when the cell has been executed in the\n",
              "      current browser session. Please rerun this cell to enable.\n",
              "      </output>\n",
              "      <script>// Copyright 2017 Google LLC\n",
              "//\n",
              "// Licensed under the Apache License, Version 2.0 (the \"License\");\n",
              "// you may not use this file except in compliance with the License.\n",
              "// You may obtain a copy of the License at\n",
              "//\n",
              "//      http://www.apache.org/licenses/LICENSE-2.0\n",
              "//\n",
              "// Unless required by applicable law or agreed to in writing, software\n",
              "// distributed under the License is distributed on an \"AS IS\" BASIS,\n",
              "// WITHOUT WARRANTIES OR CONDITIONS OF ANY KIND, either express or implied.\n",
              "// See the License for the specific language governing permissions and\n",
              "// limitations under the License.\n",
              "\n",
              "/**\n",
              " * @fileoverview Helpers for google.colab Python module.\n",
              " */\n",
              "(function(scope) {\n",
              "function span(text, styleAttributes = {}) {\n",
              "  const element = document.createElement('span');\n",
              "  element.textContent = text;\n",
              "  for (const key of Object.keys(styleAttributes)) {\n",
              "    element.style[key] = styleAttributes[key];\n",
              "  }\n",
              "  return element;\n",
              "}\n",
              "\n",
              "// Max number of bytes which will be uploaded at a time.\n",
              "const MAX_PAYLOAD_SIZE = 100 * 1024;\n",
              "\n",
              "function _uploadFiles(inputId, outputId) {\n",
              "  const steps = uploadFilesStep(inputId, outputId);\n",
              "  const outputElement = document.getElementById(outputId);\n",
              "  // Cache steps on the outputElement to make it available for the next call\n",
              "  // to uploadFilesContinue from Python.\n",
              "  outputElement.steps = steps;\n",
              "\n",
              "  return _uploadFilesContinue(outputId);\n",
              "}\n",
              "\n",
              "// This is roughly an async generator (not supported in the browser yet),\n",
              "// where there are multiple asynchronous steps and the Python side is going\n",
              "// to poll for completion of each step.\n",
              "// This uses a Promise to block the python side on completion of each step,\n",
              "// then passes the result of the previous step as the input to the next step.\n",
              "function _uploadFilesContinue(outputId) {\n",
              "  const outputElement = document.getElementById(outputId);\n",
              "  const steps = outputElement.steps;\n",
              "\n",
              "  const next = steps.next(outputElement.lastPromiseValue);\n",
              "  return Promise.resolve(next.value.promise).then((value) => {\n",
              "    // Cache the last promise value to make it available to the next\n",
              "    // step of the generator.\n",
              "    outputElement.lastPromiseValue = value;\n",
              "    return next.value.response;\n",
              "  });\n",
              "}\n",
              "\n",
              "/**\n",
              " * Generator function which is called between each async step of the upload\n",
              " * process.\n",
              " * @param {string} inputId Element ID of the input file picker element.\n",
              " * @param {string} outputId Element ID of the output display.\n",
              " * @return {!Iterable<!Object>} Iterable of next steps.\n",
              " */\n",
              "function* uploadFilesStep(inputId, outputId) {\n",
              "  const inputElement = document.getElementById(inputId);\n",
              "  inputElement.disabled = false;\n",
              "\n",
              "  const outputElement = document.getElementById(outputId);\n",
              "  outputElement.innerHTML = '';\n",
              "\n",
              "  const pickedPromise = new Promise((resolve) => {\n",
              "    inputElement.addEventListener('change', (e) => {\n",
              "      resolve(e.target.files);\n",
              "    });\n",
              "  });\n",
              "\n",
              "  const cancel = document.createElement('button');\n",
              "  inputElement.parentElement.appendChild(cancel);\n",
              "  cancel.textContent = 'Cancel upload';\n",
              "  const cancelPromise = new Promise((resolve) => {\n",
              "    cancel.onclick = () => {\n",
              "      resolve(null);\n",
              "    };\n",
              "  });\n",
              "\n",
              "  // Wait for the user to pick the files.\n",
              "  const files = yield {\n",
              "    promise: Promise.race([pickedPromise, cancelPromise]),\n",
              "    response: {\n",
              "      action: 'starting',\n",
              "    }\n",
              "  };\n",
              "\n",
              "  cancel.remove();\n",
              "\n",
              "  // Disable the input element since further picks are not allowed.\n",
              "  inputElement.disabled = true;\n",
              "\n",
              "  if (!files) {\n",
              "    return {\n",
              "      response: {\n",
              "        action: 'complete',\n",
              "      }\n",
              "    };\n",
              "  }\n",
              "\n",
              "  for (const file of files) {\n",
              "    const li = document.createElement('li');\n",
              "    li.append(span(file.name, {fontWeight: 'bold'}));\n",
              "    li.append(span(\n",
              "        `(${file.type || 'n/a'}) - ${file.size} bytes, ` +\n",
              "        `last modified: ${\n",
              "            file.lastModifiedDate ? file.lastModifiedDate.toLocaleDateString() :\n",
              "                                    'n/a'} - `));\n",
              "    const percent = span('0% done');\n",
              "    li.appendChild(percent);\n",
              "\n",
              "    outputElement.appendChild(li);\n",
              "\n",
              "    const fileDataPromise = new Promise((resolve) => {\n",
              "      const reader = new FileReader();\n",
              "      reader.onload = (e) => {\n",
              "        resolve(e.target.result);\n",
              "      };\n",
              "      reader.readAsArrayBuffer(file);\n",
              "    });\n",
              "    // Wait for the data to be ready.\n",
              "    let fileData = yield {\n",
              "      promise: fileDataPromise,\n",
              "      response: {\n",
              "        action: 'continue',\n",
              "      }\n",
              "    };\n",
              "\n",
              "    // Use a chunked sending to avoid message size limits. See b/62115660.\n",
              "    let position = 0;\n",
              "    do {\n",
              "      const length = Math.min(fileData.byteLength - position, MAX_PAYLOAD_SIZE);\n",
              "      const chunk = new Uint8Array(fileData, position, length);\n",
              "      position += length;\n",
              "\n",
              "      const base64 = btoa(String.fromCharCode.apply(null, chunk));\n",
              "      yield {\n",
              "        response: {\n",
              "          action: 'append',\n",
              "          file: file.name,\n",
              "          data: base64,\n",
              "        },\n",
              "      };\n",
              "\n",
              "      let percentDone = fileData.byteLength === 0 ?\n",
              "          100 :\n",
              "          Math.round((position / fileData.byteLength) * 100);\n",
              "      percent.textContent = `${percentDone}% done`;\n",
              "\n",
              "    } while (position < fileData.byteLength);\n",
              "  }\n",
              "\n",
              "  // All done.\n",
              "  yield {\n",
              "    response: {\n",
              "      action: 'complete',\n",
              "    }\n",
              "  };\n",
              "}\n",
              "\n",
              "scope.google = scope.google || {};\n",
              "scope.google.colab = scope.google.colab || {};\n",
              "scope.google.colab._files = {\n",
              "  _uploadFiles,\n",
              "  _uploadFilesContinue,\n",
              "};\n",
              "})(self);\n",
              "</script> "
            ]
          },
          "metadata": {}
        },
        {
          "output_type": "stream",
          "name": "stdout",
          "text": [
            "Saving archive.zip to archive (1).zip\n"
          ]
        }
      ]
    },
    {
      "cell_type": "markdown",
      "source": [
        "## Unzip the File"
      ],
      "metadata": {
        "id": "w9XQc2SYdEzi"
      }
    },
    {
      "cell_type": "code",
      "source": [
        "# Create a working folder\n",
        "DATA_DIR = \"./data_asl\"\n",
        "os.makedirs(DATA_DIR, exist_ok=True)\n",
        "\n",
        "# If a zip was uploaded, extract it\n",
        "for fname in uploaded.keys():\n",
        "    if fname.lower().endswith(\".zip\"):\n",
        "        with zipfile.ZipFile(io.BytesIO(uploaded[fname]), 'r') as zf:\n",
        "            zf.extractall(DATA_DIR)\n",
        "        print(f\"Extracted: {fname} -> {DATA_DIR}\")\n",
        "\n",
        "# Figure out where the CSVs ended up (root or inside DATA_DIR)\n",
        "candidates = [\n",
        "    \"sign_mnist_train.csv\",\n",
        "    \"sign_mnist_test.csv\",\n",
        "    os.path.join(DATA_DIR, \"sign_mnist_train.csv\"),\n",
        "    os.path.join(DATA_DIR, \"sign_mnist_test.csv\"),\n",
        "]\n",
        "\n",
        "# Build resolved paths\n",
        "train_csv, test_csv = None, None\n",
        "for c in candidates:\n",
        "    if c.endswith(\"sign_mnist_train.csv\") and os.path.exists(c):\n",
        "        train_csv = c\n",
        "    if c.endswith(\"sign_mnist_test.csv\") and os.path.exists(c):\n",
        "        test_csv = c\n",
        "\n",
        "assert train_csv and test_csv, \"Could not find the CSVs. Re-upload the zip or both CSV files.\"\n",
        "\n",
        "print(\"Train CSV:\", train_csv)\n",
        "print(\"Test  CSV:\", test_csv)"
      ],
      "metadata": {
        "colab": {
          "base_uri": "https://localhost:8080/"
        },
        "id": "PuPXDqNldILW",
        "outputId": "6863b7c7-e08d-494e-d58b-e2e4790d0393"
      },
      "execution_count": 3,
      "outputs": [
        {
          "output_type": "stream",
          "name": "stdout",
          "text": [
            "Extracted: archive (1).zip -> ./data_asl\n",
            "Train CSV: ./data_asl/sign_mnist_train.csv\n",
            "Test  CSV: ./data_asl/sign_mnist_test.csv\n"
          ]
        }
      ]
    },
    {
      "cell_type": "markdown",
      "source": [
        "## Load Data"
      ],
      "metadata": {
        "id": "dgdRvaytXN7J"
      }
    },
    {
      "cell_type": "code",
      "execution_count": 4,
      "metadata": {
        "colab": {
          "base_uri": "https://localhost:8080/"
        },
        "id": "DP1fYXbnU-2g",
        "outputId": "513fd401-0260-4685-f668-ca3771033574"
      },
      "outputs": [
        {
          "output_type": "stream",
          "name": "stdout",
          "text": [
            "Shapes: (27455, 28, 28, 1) (7172, 28, 28, 1)\n",
            "Classes detected: 24 Original label ids: [ 0  1  2  3  4  5  6  7  8 10 11 12 13 14 15 16 17 18 19 20 21 22 23 24]\n"
          ]
        }
      ],
      "source": [
        "# Load CSVs\n",
        "train_df = pd.read_csv(train_csv)\n",
        "test_df  = pd.read_csv(test_csv)\n",
        "\n",
        "# Separate labels and pixels\n",
        "y_train_raw = train_df.pop('label').values\n",
        "y_test_raw  = test_df.pop('label').values\n",
        "\n",
        "x_train = train_df.values.reshape(-1, 28, 28, 1).astype(\"float32\") / 255.0\n",
        "x_test  = test_df.values.reshape(-1, 28, 28, 1).astype(\"float32\") / 255.0\n",
        "\n",
        "# Make labels contiguous (handles “missing J and Z”)\n",
        "uniq = np.unique(np.concatenate([y_train_raw, y_test_raw]))\n",
        "remap = {old:i for i, old in enumerate(sorted(uniq))}\n",
        "y_train = np.array([remap[v] for v in y_train_raw])\n",
        "y_test  = np.array([remap[v] for v in y_test_raw])\n",
        "\n",
        "num_classes = len(uniq)  # should be 24\n",
        "print(\"Shapes:\", x_train.shape, x_test.shape)\n",
        "print(\"Classes detected:\", num_classes, \"Original label ids:\", uniq)"
      ]
    },
    {
      "cell_type": "markdown",
      "source": [
        "## Model It"
      ],
      "metadata": {
        "id": "_jUc9BC5VQ14"
      }
    },
    {
      "cell_type": "code",
      "source": [
        "def CBR(filters):\n",
        "    # Conv -> BatchNorm -> ReLU (BN immediately before activation per instructions)\n",
        "    return tf.keras.Sequential([\n",
        "        layers.Conv2D(filters, 3, padding=\"same\", use_bias=False),\n",
        "        layers.BatchNormalization(),\n",
        "        layers.ReLU(),\n",
        "    ])\n",
        "\n",
        "inputs = layers.Input((28, 28, 1))\n",
        "x = CBR(32)(inputs);  x = CBR(32)(x);  x = layers.MaxPool2D()(x);  x = layers.Dropout(0.25)(x)\n",
        "x = CBR(64)(x);       x = CBR(64)(x);  x = layers.MaxPool2D()(x);  x = layers.Dropout(0.25)(x)\n",
        "x = CBR(128)(x);      x = layers.Conv2D(128, 3, padding=\"same\", use_bias=False)(x)\n",
        "x = layers.BatchNormalization()(x); x = layers.ReLU()(x)\n",
        "x = layers.GlobalAveragePooling2D()(x); x = layers.Dropout(0.40)(x)\n",
        "outputs = layers.Dense(num_classes, activation=\"softmax\")(x)\n",
        "\n",
        "model = models.Model(inputs, outputs, name=\"asl_mnist_cnn\")\n",
        "model.summary()"
      ],
      "metadata": {
        "colab": {
          "base_uri": "https://localhost:8080/",
          "height": 694
        },
        "id": "eEtii7-1VSZn",
        "outputId": "bbb26ea1-0640-4773-ebb5-4851c5d3573f"
      },
      "execution_count": 5,
      "outputs": [
        {
          "output_type": "display_data",
          "data": {
            "text/plain": [
              "\u001b[1mModel: \"asl_mnist_cnn\"\u001b[0m\n"
            ],
            "text/html": [
              "<pre style=\"white-space:pre;overflow-x:auto;line-height:normal;font-family:Menlo,'DejaVu Sans Mono',consolas,'Courier New',monospace\"><span style=\"font-weight: bold\">Model: \"asl_mnist_cnn\"</span>\n",
              "</pre>\n"
            ]
          },
          "metadata": {}
        },
        {
          "output_type": "display_data",
          "data": {
            "text/plain": [
              "┏━━━━━━━━━━━━━━━━━━━━━━━━━━━━━━━━━┳━━━━━━━━━━━━━━━━━━━━━━━━┳━━━━━━━━━━━━━━━┓\n",
              "┃\u001b[1m \u001b[0m\u001b[1mLayer (type)                   \u001b[0m\u001b[1m \u001b[0m┃\u001b[1m \u001b[0m\u001b[1mOutput Shape          \u001b[0m\u001b[1m \u001b[0m┃\u001b[1m \u001b[0m\u001b[1m      Param #\u001b[0m\u001b[1m \u001b[0m┃\n",
              "┡━━━━━━━━━━━━━━━━━━━━━━━━━━━━━━━━━╇━━━━━━━━━━━━━━━━━━━━━━━━╇━━━━━━━━━━━━━━━┩\n",
              "│ input_layer (\u001b[38;5;33mInputLayer\u001b[0m)        │ (\u001b[38;5;45mNone\u001b[0m, \u001b[38;5;34m28\u001b[0m, \u001b[38;5;34m28\u001b[0m, \u001b[38;5;34m1\u001b[0m)      │             \u001b[38;5;34m0\u001b[0m │\n",
              "├─────────────────────────────────┼────────────────────────┼───────────────┤\n",
              "│ sequential (\u001b[38;5;33mSequential\u001b[0m)         │ (\u001b[38;5;45mNone\u001b[0m, \u001b[38;5;34m28\u001b[0m, \u001b[38;5;34m28\u001b[0m, \u001b[38;5;34m32\u001b[0m)     │           \u001b[38;5;34m416\u001b[0m │\n",
              "├─────────────────────────────────┼────────────────────────┼───────────────┤\n",
              "│ sequential_1 (\u001b[38;5;33mSequential\u001b[0m)       │ (\u001b[38;5;45mNone\u001b[0m, \u001b[38;5;34m28\u001b[0m, \u001b[38;5;34m28\u001b[0m, \u001b[38;5;34m32\u001b[0m)     │         \u001b[38;5;34m9,344\u001b[0m │\n",
              "├─────────────────────────────────┼────────────────────────┼───────────────┤\n",
              "│ max_pooling2d (\u001b[38;5;33mMaxPooling2D\u001b[0m)    │ (\u001b[38;5;45mNone\u001b[0m, \u001b[38;5;34m14\u001b[0m, \u001b[38;5;34m14\u001b[0m, \u001b[38;5;34m32\u001b[0m)     │             \u001b[38;5;34m0\u001b[0m │\n",
              "├─────────────────────────────────┼────────────────────────┼───────────────┤\n",
              "│ dropout (\u001b[38;5;33mDropout\u001b[0m)               │ (\u001b[38;5;45mNone\u001b[0m, \u001b[38;5;34m14\u001b[0m, \u001b[38;5;34m14\u001b[0m, \u001b[38;5;34m32\u001b[0m)     │             \u001b[38;5;34m0\u001b[0m │\n",
              "├─────────────────────────────────┼────────────────────────┼───────────────┤\n",
              "│ sequential_2 (\u001b[38;5;33mSequential\u001b[0m)       │ (\u001b[38;5;45mNone\u001b[0m, \u001b[38;5;34m14\u001b[0m, \u001b[38;5;34m14\u001b[0m, \u001b[38;5;34m64\u001b[0m)     │        \u001b[38;5;34m18,688\u001b[0m │\n",
              "├─────────────────────────────────┼────────────────────────┼───────────────┤\n",
              "│ sequential_3 (\u001b[38;5;33mSequential\u001b[0m)       │ (\u001b[38;5;45mNone\u001b[0m, \u001b[38;5;34m14\u001b[0m, \u001b[38;5;34m14\u001b[0m, \u001b[38;5;34m64\u001b[0m)     │        \u001b[38;5;34m37,120\u001b[0m │\n",
              "├─────────────────────────────────┼────────────────────────┼───────────────┤\n",
              "│ max_pooling2d_1 (\u001b[38;5;33mMaxPooling2D\u001b[0m)  │ (\u001b[38;5;45mNone\u001b[0m, \u001b[38;5;34m7\u001b[0m, \u001b[38;5;34m7\u001b[0m, \u001b[38;5;34m64\u001b[0m)       │             \u001b[38;5;34m0\u001b[0m │\n",
              "├─────────────────────────────────┼────────────────────────┼───────────────┤\n",
              "│ dropout_1 (\u001b[38;5;33mDropout\u001b[0m)             │ (\u001b[38;5;45mNone\u001b[0m, \u001b[38;5;34m7\u001b[0m, \u001b[38;5;34m7\u001b[0m, \u001b[38;5;34m64\u001b[0m)       │             \u001b[38;5;34m0\u001b[0m │\n",
              "├─────────────────────────────────┼────────────────────────┼───────────────┤\n",
              "│ sequential_4 (\u001b[38;5;33mSequential\u001b[0m)       │ (\u001b[38;5;45mNone\u001b[0m, \u001b[38;5;34m7\u001b[0m, \u001b[38;5;34m7\u001b[0m, \u001b[38;5;34m128\u001b[0m)      │        \u001b[38;5;34m74,240\u001b[0m │\n",
              "├─────────────────────────────────┼────────────────────────┼───────────────┤\n",
              "│ conv2d_5 (\u001b[38;5;33mConv2D\u001b[0m)               │ (\u001b[38;5;45mNone\u001b[0m, \u001b[38;5;34m7\u001b[0m, \u001b[38;5;34m7\u001b[0m, \u001b[38;5;34m128\u001b[0m)      │       \u001b[38;5;34m147,456\u001b[0m │\n",
              "├─────────────────────────────────┼────────────────────────┼───────────────┤\n",
              "│ batch_normalization_5           │ (\u001b[38;5;45mNone\u001b[0m, \u001b[38;5;34m7\u001b[0m, \u001b[38;5;34m7\u001b[0m, \u001b[38;5;34m128\u001b[0m)      │           \u001b[38;5;34m512\u001b[0m │\n",
              "│ (\u001b[38;5;33mBatchNormalization\u001b[0m)            │                        │               │\n",
              "├─────────────────────────────────┼────────────────────────┼───────────────┤\n",
              "│ re_lu_5 (\u001b[38;5;33mReLU\u001b[0m)                  │ (\u001b[38;5;45mNone\u001b[0m, \u001b[38;5;34m7\u001b[0m, \u001b[38;5;34m7\u001b[0m, \u001b[38;5;34m128\u001b[0m)      │             \u001b[38;5;34m0\u001b[0m │\n",
              "├─────────────────────────────────┼────────────────────────┼───────────────┤\n",
              "│ global_average_pooling2d        │ (\u001b[38;5;45mNone\u001b[0m, \u001b[38;5;34m128\u001b[0m)            │             \u001b[38;5;34m0\u001b[0m │\n",
              "│ (\u001b[38;5;33mGlobalAveragePooling2D\u001b[0m)        │                        │               │\n",
              "├─────────────────────────────────┼────────────────────────┼───────────────┤\n",
              "│ dropout_2 (\u001b[38;5;33mDropout\u001b[0m)             │ (\u001b[38;5;45mNone\u001b[0m, \u001b[38;5;34m128\u001b[0m)            │             \u001b[38;5;34m0\u001b[0m │\n",
              "├─────────────────────────────────┼────────────────────────┼───────────────┤\n",
              "│ dense (\u001b[38;5;33mDense\u001b[0m)                   │ (\u001b[38;5;45mNone\u001b[0m, \u001b[38;5;34m24\u001b[0m)             │         \u001b[38;5;34m3,096\u001b[0m │\n",
              "└─────────────────────────────────┴────────────────────────┴───────────────┘\n"
            ],
            "text/html": [
              "<pre style=\"white-space:pre;overflow-x:auto;line-height:normal;font-family:Menlo,'DejaVu Sans Mono',consolas,'Courier New',monospace\">┏━━━━━━━━━━━━━━━━━━━━━━━━━━━━━━━━━┳━━━━━━━━━━━━━━━━━━━━━━━━┳━━━━━━━━━━━━━━━┓\n",
              "┃<span style=\"font-weight: bold\"> Layer (type)                    </span>┃<span style=\"font-weight: bold\"> Output Shape           </span>┃<span style=\"font-weight: bold\">       Param # </span>┃\n",
              "┡━━━━━━━━━━━━━━━━━━━━━━━━━━━━━━━━━╇━━━━━━━━━━━━━━━━━━━━━━━━╇━━━━━━━━━━━━━━━┩\n",
              "│ input_layer (<span style=\"color: #0087ff; text-decoration-color: #0087ff\">InputLayer</span>)        │ (<span style=\"color: #00d7ff; text-decoration-color: #00d7ff\">None</span>, <span style=\"color: #00af00; text-decoration-color: #00af00\">28</span>, <span style=\"color: #00af00; text-decoration-color: #00af00\">28</span>, <span style=\"color: #00af00; text-decoration-color: #00af00\">1</span>)      │             <span style=\"color: #00af00; text-decoration-color: #00af00\">0</span> │\n",
              "├─────────────────────────────────┼────────────────────────┼───────────────┤\n",
              "│ sequential (<span style=\"color: #0087ff; text-decoration-color: #0087ff\">Sequential</span>)         │ (<span style=\"color: #00d7ff; text-decoration-color: #00d7ff\">None</span>, <span style=\"color: #00af00; text-decoration-color: #00af00\">28</span>, <span style=\"color: #00af00; text-decoration-color: #00af00\">28</span>, <span style=\"color: #00af00; text-decoration-color: #00af00\">32</span>)     │           <span style=\"color: #00af00; text-decoration-color: #00af00\">416</span> │\n",
              "├─────────────────────────────────┼────────────────────────┼───────────────┤\n",
              "│ sequential_1 (<span style=\"color: #0087ff; text-decoration-color: #0087ff\">Sequential</span>)       │ (<span style=\"color: #00d7ff; text-decoration-color: #00d7ff\">None</span>, <span style=\"color: #00af00; text-decoration-color: #00af00\">28</span>, <span style=\"color: #00af00; text-decoration-color: #00af00\">28</span>, <span style=\"color: #00af00; text-decoration-color: #00af00\">32</span>)     │         <span style=\"color: #00af00; text-decoration-color: #00af00\">9,344</span> │\n",
              "├─────────────────────────────────┼────────────────────────┼───────────────┤\n",
              "│ max_pooling2d (<span style=\"color: #0087ff; text-decoration-color: #0087ff\">MaxPooling2D</span>)    │ (<span style=\"color: #00d7ff; text-decoration-color: #00d7ff\">None</span>, <span style=\"color: #00af00; text-decoration-color: #00af00\">14</span>, <span style=\"color: #00af00; text-decoration-color: #00af00\">14</span>, <span style=\"color: #00af00; text-decoration-color: #00af00\">32</span>)     │             <span style=\"color: #00af00; text-decoration-color: #00af00\">0</span> │\n",
              "├─────────────────────────────────┼────────────────────────┼───────────────┤\n",
              "│ dropout (<span style=\"color: #0087ff; text-decoration-color: #0087ff\">Dropout</span>)               │ (<span style=\"color: #00d7ff; text-decoration-color: #00d7ff\">None</span>, <span style=\"color: #00af00; text-decoration-color: #00af00\">14</span>, <span style=\"color: #00af00; text-decoration-color: #00af00\">14</span>, <span style=\"color: #00af00; text-decoration-color: #00af00\">32</span>)     │             <span style=\"color: #00af00; text-decoration-color: #00af00\">0</span> │\n",
              "├─────────────────────────────────┼────────────────────────┼───────────────┤\n",
              "│ sequential_2 (<span style=\"color: #0087ff; text-decoration-color: #0087ff\">Sequential</span>)       │ (<span style=\"color: #00d7ff; text-decoration-color: #00d7ff\">None</span>, <span style=\"color: #00af00; text-decoration-color: #00af00\">14</span>, <span style=\"color: #00af00; text-decoration-color: #00af00\">14</span>, <span style=\"color: #00af00; text-decoration-color: #00af00\">64</span>)     │        <span style=\"color: #00af00; text-decoration-color: #00af00\">18,688</span> │\n",
              "├─────────────────────────────────┼────────────────────────┼───────────────┤\n",
              "│ sequential_3 (<span style=\"color: #0087ff; text-decoration-color: #0087ff\">Sequential</span>)       │ (<span style=\"color: #00d7ff; text-decoration-color: #00d7ff\">None</span>, <span style=\"color: #00af00; text-decoration-color: #00af00\">14</span>, <span style=\"color: #00af00; text-decoration-color: #00af00\">14</span>, <span style=\"color: #00af00; text-decoration-color: #00af00\">64</span>)     │        <span style=\"color: #00af00; text-decoration-color: #00af00\">37,120</span> │\n",
              "├─────────────────────────────────┼────────────────────────┼───────────────┤\n",
              "│ max_pooling2d_1 (<span style=\"color: #0087ff; text-decoration-color: #0087ff\">MaxPooling2D</span>)  │ (<span style=\"color: #00d7ff; text-decoration-color: #00d7ff\">None</span>, <span style=\"color: #00af00; text-decoration-color: #00af00\">7</span>, <span style=\"color: #00af00; text-decoration-color: #00af00\">7</span>, <span style=\"color: #00af00; text-decoration-color: #00af00\">64</span>)       │             <span style=\"color: #00af00; text-decoration-color: #00af00\">0</span> │\n",
              "├─────────────────────────────────┼────────────────────────┼───────────────┤\n",
              "│ dropout_1 (<span style=\"color: #0087ff; text-decoration-color: #0087ff\">Dropout</span>)             │ (<span style=\"color: #00d7ff; text-decoration-color: #00d7ff\">None</span>, <span style=\"color: #00af00; text-decoration-color: #00af00\">7</span>, <span style=\"color: #00af00; text-decoration-color: #00af00\">7</span>, <span style=\"color: #00af00; text-decoration-color: #00af00\">64</span>)       │             <span style=\"color: #00af00; text-decoration-color: #00af00\">0</span> │\n",
              "├─────────────────────────────────┼────────────────────────┼───────────────┤\n",
              "│ sequential_4 (<span style=\"color: #0087ff; text-decoration-color: #0087ff\">Sequential</span>)       │ (<span style=\"color: #00d7ff; text-decoration-color: #00d7ff\">None</span>, <span style=\"color: #00af00; text-decoration-color: #00af00\">7</span>, <span style=\"color: #00af00; text-decoration-color: #00af00\">7</span>, <span style=\"color: #00af00; text-decoration-color: #00af00\">128</span>)      │        <span style=\"color: #00af00; text-decoration-color: #00af00\">74,240</span> │\n",
              "├─────────────────────────────────┼────────────────────────┼───────────────┤\n",
              "│ conv2d_5 (<span style=\"color: #0087ff; text-decoration-color: #0087ff\">Conv2D</span>)               │ (<span style=\"color: #00d7ff; text-decoration-color: #00d7ff\">None</span>, <span style=\"color: #00af00; text-decoration-color: #00af00\">7</span>, <span style=\"color: #00af00; text-decoration-color: #00af00\">7</span>, <span style=\"color: #00af00; text-decoration-color: #00af00\">128</span>)      │       <span style=\"color: #00af00; text-decoration-color: #00af00\">147,456</span> │\n",
              "├─────────────────────────────────┼────────────────────────┼───────────────┤\n",
              "│ batch_normalization_5           │ (<span style=\"color: #00d7ff; text-decoration-color: #00d7ff\">None</span>, <span style=\"color: #00af00; text-decoration-color: #00af00\">7</span>, <span style=\"color: #00af00; text-decoration-color: #00af00\">7</span>, <span style=\"color: #00af00; text-decoration-color: #00af00\">128</span>)      │           <span style=\"color: #00af00; text-decoration-color: #00af00\">512</span> │\n",
              "│ (<span style=\"color: #0087ff; text-decoration-color: #0087ff\">BatchNormalization</span>)            │                        │               │\n",
              "├─────────────────────────────────┼────────────────────────┼───────────────┤\n",
              "│ re_lu_5 (<span style=\"color: #0087ff; text-decoration-color: #0087ff\">ReLU</span>)                  │ (<span style=\"color: #00d7ff; text-decoration-color: #00d7ff\">None</span>, <span style=\"color: #00af00; text-decoration-color: #00af00\">7</span>, <span style=\"color: #00af00; text-decoration-color: #00af00\">7</span>, <span style=\"color: #00af00; text-decoration-color: #00af00\">128</span>)      │             <span style=\"color: #00af00; text-decoration-color: #00af00\">0</span> │\n",
              "├─────────────────────────────────┼────────────────────────┼───────────────┤\n",
              "│ global_average_pooling2d        │ (<span style=\"color: #00d7ff; text-decoration-color: #00d7ff\">None</span>, <span style=\"color: #00af00; text-decoration-color: #00af00\">128</span>)            │             <span style=\"color: #00af00; text-decoration-color: #00af00\">0</span> │\n",
              "│ (<span style=\"color: #0087ff; text-decoration-color: #0087ff\">GlobalAveragePooling2D</span>)        │                        │               │\n",
              "├─────────────────────────────────┼────────────────────────┼───────────────┤\n",
              "│ dropout_2 (<span style=\"color: #0087ff; text-decoration-color: #0087ff\">Dropout</span>)             │ (<span style=\"color: #00d7ff; text-decoration-color: #00d7ff\">None</span>, <span style=\"color: #00af00; text-decoration-color: #00af00\">128</span>)            │             <span style=\"color: #00af00; text-decoration-color: #00af00\">0</span> │\n",
              "├─────────────────────────────────┼────────────────────────┼───────────────┤\n",
              "│ dense (<span style=\"color: #0087ff; text-decoration-color: #0087ff\">Dense</span>)                   │ (<span style=\"color: #00d7ff; text-decoration-color: #00d7ff\">None</span>, <span style=\"color: #00af00; text-decoration-color: #00af00\">24</span>)             │         <span style=\"color: #00af00; text-decoration-color: #00af00\">3,096</span> │\n",
              "└─────────────────────────────────┴────────────────────────┴───────────────┘\n",
              "</pre>\n"
            ]
          },
          "metadata": {}
        },
        {
          "output_type": "display_data",
          "data": {
            "text/plain": [
              "\u001b[1m Total params: \u001b[0m\u001b[38;5;34m290,872\u001b[0m (1.11 MB)\n"
            ],
            "text/html": [
              "<pre style=\"white-space:pre;overflow-x:auto;line-height:normal;font-family:Menlo,'DejaVu Sans Mono',consolas,'Courier New',monospace\"><span style=\"font-weight: bold\"> Total params: </span><span style=\"color: #00af00; text-decoration-color: #00af00\">290,872</span> (1.11 MB)\n",
              "</pre>\n"
            ]
          },
          "metadata": {}
        },
        {
          "output_type": "display_data",
          "data": {
            "text/plain": [
              "\u001b[1m Trainable params: \u001b[0m\u001b[38;5;34m289,976\u001b[0m (1.11 MB)\n"
            ],
            "text/html": [
              "<pre style=\"white-space:pre;overflow-x:auto;line-height:normal;font-family:Menlo,'DejaVu Sans Mono',consolas,'Courier New',monospace\"><span style=\"font-weight: bold\"> Trainable params: </span><span style=\"color: #00af00; text-decoration-color: #00af00\">289,976</span> (1.11 MB)\n",
              "</pre>\n"
            ]
          },
          "metadata": {}
        },
        {
          "output_type": "display_data",
          "data": {
            "text/plain": [
              "\u001b[1m Non-trainable params: \u001b[0m\u001b[38;5;34m896\u001b[0m (3.50 KB)\n"
            ],
            "text/html": [
              "<pre style=\"white-space:pre;overflow-x:auto;line-height:normal;font-family:Menlo,'DejaVu Sans Mono',consolas,'Courier New',monospace\"><span style=\"font-weight: bold\"> Non-trainable params: </span><span style=\"color: #00af00; text-decoration-color: #00af00\">896</span> (3.50 KB)\n",
              "</pre>\n"
            ]
          },
          "metadata": {}
        }
      ]
    },
    {
      "cell_type": "markdown",
      "source": [
        "## Train It"
      ],
      "metadata": {
        "id": "7VMM84y2dW4n"
      }
    },
    {
      "cell_type": "code",
      "source": [
        "from tensorflow.keras import callbacks\n",
        "\n",
        "model.compile(optimizer=tf.keras.optimizers.Adam(1e-3),\n",
        "              loss=\"sparse_categorical_crossentropy\",\n",
        "              metrics=[\"accuracy\"])\n",
        "\n",
        "rlrop = callbacks.ReduceLROnPlateau(\n",
        "    monitor=\"val_accuracy\", factor=0.5, patience=2, min_lr=1e-5, verbose=1\n",
        ")\n",
        "es = callbacks.EarlyStopping(\n",
        "    monitor=\"val_accuracy\", patience=6, restore_best_weights=True, verbose=1\n",
        ")\n",
        "\n",
        "history = model.fit(\n",
        "    x_train, y_train,\n",
        "    epochs=60,           # longer run; ES will stop early\n",
        "    batch_size=128,\n",
        "    validation_split=0.10,     # from TRAIN only\n",
        "    callbacks=[rlrop, es],\n",
        "    verbose=2\n",
        ")"
      ],
      "metadata": {
        "colab": {
          "base_uri": "https://localhost:8080/"
        },
        "id": "CuAun77ldYie",
        "outputId": "2b6f679d-6088-4b92-92e7-2972a0ccbe43"
      },
      "execution_count": 6,
      "outputs": [
        {
          "output_type": "stream",
          "name": "stdout",
          "text": [
            "Epoch 1/60\n",
            "194/194 - 17s - 87ms/step - accuracy: 0.5987 - loss: 1.4179 - val_accuracy: 0.1125 - val_loss: 3.5906 - learning_rate: 1.0000e-03\n",
            "Epoch 2/60\n",
            "194/194 - 2s - 11ms/step - accuracy: 0.9587 - loss: 0.2352 - val_accuracy: 0.2873 - val_loss: 2.4649 - learning_rate: 1.0000e-03\n",
            "Epoch 3/60\n",
            "194/194 - 2s - 11ms/step - accuracy: 0.9917 - loss: 0.0716 - val_accuracy: 0.9581 - val_loss: 0.1328 - learning_rate: 1.0000e-03\n",
            "Epoch 4/60\n",
            "194/194 - 2s - 11ms/step - accuracy: 0.9972 - loss: 0.0333 - val_accuracy: 0.9993 - val_loss: 0.0214 - learning_rate: 1.0000e-03\n",
            "Epoch 5/60\n",
            "194/194 - 2s - 11ms/step - accuracy: 0.9983 - loss: 0.0211 - val_accuracy: 1.0000 - val_loss: 0.0039 - learning_rate: 1.0000e-03\n",
            "Epoch 6/60\n",
            "194/194 - 2s - 11ms/step - accuracy: 0.9986 - loss: 0.0157 - val_accuracy: 0.9967 - val_loss: 0.0160 - learning_rate: 1.0000e-03\n",
            "Epoch 7/60\n",
            "\n",
            "Epoch 7: ReduceLROnPlateau reducing learning rate to 0.0005000000237487257.\n",
            "194/194 - 2s - 11ms/step - accuracy: 0.9987 - loss: 0.0130 - val_accuracy: 0.9989 - val_loss: 0.0034 - learning_rate: 1.0000e-03\n",
            "Epoch 8/60\n",
            "194/194 - 2s - 11ms/step - accuracy: 0.9996 - loss: 0.0072 - val_accuracy: 1.0000 - val_loss: 2.2996e-04 - learning_rate: 5.0000e-04\n",
            "Epoch 9/60\n",
            "\n",
            "Epoch 9: ReduceLROnPlateau reducing learning rate to 0.0002500000118743628.\n",
            "194/194 - 2s - 11ms/step - accuracy: 0.9998 - loss: 0.0044 - val_accuracy: 1.0000 - val_loss: 2.9587e-04 - learning_rate: 5.0000e-04\n",
            "Epoch 10/60\n",
            "194/194 - 2s - 11ms/step - accuracy: 0.9999 - loss: 0.0039 - val_accuracy: 1.0000 - val_loss: 5.6926e-05 - learning_rate: 2.5000e-04\n",
            "Epoch 11/60\n",
            "\n",
            "Epoch 11: ReduceLROnPlateau reducing learning rate to 0.0001250000059371814.\n",
            "194/194 - 2s - 11ms/step - accuracy: 0.9999 - loss: 0.0033 - val_accuracy: 1.0000 - val_loss: 5.1076e-05 - learning_rate: 2.5000e-04\n",
            "Epoch 11: early stopping\n",
            "Restoring model weights from the end of the best epoch: 5.\n"
          ]
        }
      ]
    },
    {
      "cell_type": "code",
      "source": [
        "test_loss, test_acc = model.evaluate(x_test, y_test, verbose=0)\n",
        "print(\"Q1 Test accuracy:\", round(float(test_acc), 4))"
      ],
      "metadata": {
        "colab": {
          "base_uri": "https://localhost:8080/"
        },
        "id": "JhmKA85Hpusz",
        "outputId": "b8efc378-0ea4-4407-fe35-c41ab6790a4e"
      },
      "execution_count": 7,
      "outputs": [
        {
          "output_type": "stream",
          "name": "stdout",
          "text": [
            "Q1 Test accuracy: 0.9925\n"
          ]
        }
      ]
    },
    {
      "cell_type": "markdown",
      "source": [
        "## Accuracy Overall (Proof)"
      ],
      "metadata": {
        "id": "kDgJ_Ti_oQVa"
      }
    },
    {
      "cell_type": "code",
      "source": [
        "# === Q1: summarize training/validation accuracy over all completed epochs ===\n",
        "import numpy as np\n",
        "\n",
        "hist = history.history\n",
        "# Works with both old/new key names\n",
        "train_key = 'accuracy' if 'accuracy' in hist else 'acc'\n",
        "val_key   = 'val_accuracy' if 'val_accuracy' in hist else 'val_acc'\n",
        "\n",
        "train_acc = np.array(hist[train_key], dtype=float)\n",
        "val_acc   = np.array(hist[val_key],   dtype=float)\n",
        "\n",
        "epochs_run = len(val_acc)\n",
        "best_idx   = int(np.argmax(val_acc))           # 0-based\n",
        "best_epoch = best_idx + 1                      # 1-based\n",
        "best_val   = float(val_acc[best_idx])\n",
        "mean_val   = float(val_acc.mean())\n",
        "mean_train = float(train_acc.mean())\n",
        "\n",
        "print(f\"Epochs completed: {epochs_run}\")\n",
        "print(f\"Mean TRAIN accuracy over epochs: {mean_train:.4f}\")\n",
        "print(f\"Mean VAL   accuracy over epochs: {mean_val:.4f}\")\n",
        "print(f\"Best VAL accuracy: {best_val:.4f} (epoch {best_epoch})\")\n",
        "print(f\"Last VAL accuracy: {val_acc[-1]:.4f}\")\n",
        "\n",
        "try:\n",
        "    print(f\"TEST accuracy: {float(test_acc):.4f}\")\n",
        "except NameError:\n",
        "    print(\"TEST accuracy: (run your evaluate cell to show this)\")\n",
        "\n",
        "# Quick pass/fail for the assignment target\n",
        "meets_target = (mean_val >= 0.92) or ('test_acc' in globals() and float(test_acc) >= 0.92)\n",
        "print(\"Meets ≥92% target (mean VAL or TEST):\", \"Yes\" if meets_target else \"Not yet\")"
      ],
      "metadata": {
        "colab": {
          "base_uri": "https://localhost:8080/"
        },
        "id": "XZZryytNo00C",
        "outputId": "30acb5a9-7370-43f6-9f5f-5b2dafd80b7e"
      },
      "execution_count": 8,
      "outputs": [
        {
          "output_type": "stream",
          "name": "stdout",
          "text": [
            "Epochs completed: 11\n",
            "Mean TRAIN accuracy over epochs: 0.9583\n",
            "Mean VAL   accuracy over epochs: 0.8503\n",
            "Best VAL accuracy: 1.0000 (epoch 5)\n",
            "Last VAL accuracy: 1.0000\n",
            "TEST accuracy: 0.9925\n",
            "Meets ≥92% target (mean VAL or TEST): Yes\n"
          ]
        }
      ]
    },
    {
      "cell_type": "markdown",
      "source": [
        "## Save the Model"
      ],
      "metadata": {
        "id": "ldd5UImHda0H"
      }
    },
    {
      "cell_type": "code",
      "source": [
        "model.save(\"asl_mnist_baseline.keras\")\n",
        "print(\"Saved: asl_mnist_baseline.keras\")"
      ],
      "metadata": {
        "colab": {
          "base_uri": "https://localhost:8080/"
        },
        "id": "voce3hnIdc6F",
        "outputId": "90d755ae-3204-4cec-9d49-6d88efaf3d71"
      },
      "execution_count": 9,
      "outputs": [
        {
          "output_type": "stream",
          "name": "stdout",
          "text": [
            "Saved: asl_mnist_baseline.keras\n"
          ]
        }
      ]
    },
    {
      "cell_type": "markdown",
      "source": [
        "## Q2a New Stuff Here"
      ],
      "metadata": {
        "id": "_YYU5CYNKUxd"
      }
    },
    {
      "cell_type": "code",
      "source": [
        "SAVE_PATH = \"asl_mnist_baseline.keras\"\n",
        "if \"model\" in globals():\n",
        "    model.save(SAVE_PATH)\n",
        "    print(f\"Saved trained model to {SAVE_PATH}\")\n",
        "else:\n",
        "    print(\"No in-memory model found; loading from disk...\")\n",
        "    model = tf.keras.models.load_model(SAVE_PATH)\n",
        "    print(f\"Loaded model from {SAVE_PATH}\")\n",
        "\n",
        "# Sanity: have test tensors?\n",
        "assert \"x_test\" in globals() and \"y_test\" in globals(), \"x_test / y_test not found (rerun Q1 data cells).\"\n",
        "print(\"Test set:\", x_test.shape, y_test.shape)"
      ],
      "metadata": {
        "colab": {
          "base_uri": "https://localhost:8080/"
        },
        "id": "n497ZYoOKT8f",
        "outputId": "5a49fc11-303a-49c9-c65e-8a4e8e2b375e"
      },
      "execution_count": 10,
      "outputs": [
        {
          "output_type": "stream",
          "name": "stdout",
          "text": [
            "Saved trained model to asl_mnist_baseline.keras\n",
            "Test set: (7172, 28, 28, 1) (7172,)\n"
          ]
        }
      ]
    },
    {
      "cell_type": "markdown",
      "source": [
        "## Helper Method"
      ],
      "metadata": {
        "id": "TKmIIsLRItRu"
      }
    },
    {
      "cell_type": "code",
      "source": [
        "def tflite_accuracy(tflite_path, x, y, batch_size=128):\n",
        "    import numpy as np\n",
        "    import tensorflow as tf\n",
        "    from tensorflow.lite.python.interpreter import Interpreter  # deprecation warning is fine for now\n",
        "\n",
        "    x = x.astype(np.float32)\n",
        "    interp = Interpreter(model_path=tflite_path)\n",
        "    # We’ll (re)allocate per batch, so no allocate_tensors() yet\n",
        "\n",
        "    # Read expected spatial dims\n",
        "    in_det  = interp.get_input_details()[0]\n",
        "    out_det = interp.get_output_details()[0]\n",
        "    # Safe default if the model stores a dummy batch dim\n",
        "    H, W, C = int(in_det['shape'][1]), int(in_det['shape'][2]), int(in_det['shape'][3])\n",
        "\n",
        "    n = len(x)\n",
        "    correct = 0\n",
        "    start = 0\n",
        "    while start < n:\n",
        "        end = min(start + batch_size, n)\n",
        "        batch = x[start:end]\n",
        "\n",
        "        # ---- KEY: resize to current batch size, then allocate, then run\n",
        "        interp.resize_tensor_input(in_det['index'], [end - start, H, W, C], strict=False)\n",
        "        interp.allocate_tensors()\n",
        "        interp.set_tensor(in_det['index'], batch)\n",
        "        interp.invoke()\n",
        "        preds = interp.get_tensor(out_det['index'])   # shape [B, 24]\n",
        "        correct += int((np.argmax(preds, axis=1) == y[start:end]).sum())\n",
        "        start = end\n",
        "\n",
        "    return correct / n"
      ],
      "metadata": {
        "id": "gwlAVuwDIujn"
      },
      "execution_count": 11,
      "outputs": []
    },
    {
      "cell_type": "markdown",
      "source": [
        "## Convert to float TFLite"
      ],
      "metadata": {
        "id": "oUY8GAmBIxKa"
      }
    },
    {
      "cell_type": "code",
      "source": [
        "# Float TFLite (baseline)\n",
        "converter = tf.lite.TFLiteConverter.from_keras_model(model)\n",
        "tflite_float = converter.convert()\n",
        "open(\"s_mnist.tflite\", \"wb\").write(tflite_float)\n",
        "\n",
        "print(\"Wrote s_mnist.tflite\")"
      ],
      "metadata": {
        "colab": {
          "base_uri": "https://localhost:8080/"
        },
        "id": "r7txSXOEI19x",
        "outputId": "1026a544-e59e-400a-908c-2a4cef6669fc"
      },
      "execution_count": 12,
      "outputs": [
        {
          "output_type": "stream",
          "name": "stdout",
          "text": [
            "Saved artifact at '/tmp/tmp_ss9c11q'. The following endpoints are available:\n",
            "\n",
            "* Endpoint 'serve'\n",
            "  args_0 (POSITIONAL_ONLY): TensorSpec(shape=(None, 28, 28, 1), dtype=tf.float32, name='keras_tensor')\n",
            "Output Type:\n",
            "  TensorSpec(shape=(None, 24), dtype=tf.float32, name=None)\n",
            "Captures:\n",
            "  135767348836688: TensorSpec(shape=(), dtype=tf.resource, name=None)\n",
            "  135767341154576: TensorSpec(shape=(), dtype=tf.resource, name=None)\n",
            "  135767341154960: TensorSpec(shape=(), dtype=tf.resource, name=None)\n",
            "  135767348837264: TensorSpec(shape=(), dtype=tf.resource, name=None)\n",
            "  135767348838032: TensorSpec(shape=(), dtype=tf.resource, name=None)\n",
            "  135767341154768: TensorSpec(shape=(), dtype=tf.resource, name=None)\n",
            "  135767341157456: TensorSpec(shape=(), dtype=tf.resource, name=None)\n",
            "  135767341157264: TensorSpec(shape=(), dtype=tf.resource, name=None)\n",
            "  135767341155920: TensorSpec(shape=(), dtype=tf.resource, name=None)\n",
            "  135767341156304: TensorSpec(shape=(), dtype=tf.resource, name=None)\n",
            "  135767341158608: TensorSpec(shape=(), dtype=tf.resource, name=None)\n",
            "  135767341159568: TensorSpec(shape=(), dtype=tf.resource, name=None)\n",
            "  135767341159376: TensorSpec(shape=(), dtype=tf.resource, name=None)\n",
            "  135767341158992: TensorSpec(shape=(), dtype=tf.resource, name=None)\n",
            "  135767341160144: TensorSpec(shape=(), dtype=tf.resource, name=None)\n",
            "  135767341160528: TensorSpec(shape=(), dtype=tf.resource, name=None)\n",
            "  135767341160720: TensorSpec(shape=(), dtype=tf.resource, name=None)\n",
            "  135767341159760: TensorSpec(shape=(), dtype=tf.resource, name=None)\n",
            "  135767341160336: TensorSpec(shape=(), dtype=tf.resource, name=None)\n",
            "  135767341161296: TensorSpec(shape=(), dtype=tf.resource, name=None)\n",
            "  135767341159184: TensorSpec(shape=(), dtype=tf.resource, name=None)\n",
            "  135767341162256: TensorSpec(shape=(), dtype=tf.resource, name=None)\n",
            "  135767341162064: TensorSpec(shape=(), dtype=tf.resource, name=None)\n",
            "  135767341160912: TensorSpec(shape=(), dtype=tf.resource, name=None)\n",
            "  135767341162832: TensorSpec(shape=(), dtype=tf.resource, name=None)\n",
            "  135767341161104: TensorSpec(shape=(), dtype=tf.resource, name=None)\n",
            "  135767341163600: TensorSpec(shape=(), dtype=tf.resource, name=None)\n",
            "  135767341163408: TensorSpec(shape=(), dtype=tf.resource, name=None)\n",
            "  135767341161488: TensorSpec(shape=(), dtype=tf.resource, name=None)\n",
            "  135767341163216: TensorSpec(shape=(), dtype=tf.resource, name=None)\n",
            "  135767341164176: TensorSpec(shape=(), dtype=tf.resource, name=None)\n",
            "  135767341162448: TensorSpec(shape=(), dtype=tf.resource, name=None)\n",
            "Wrote s_mnist.tflite\n"
          ]
        }
      ]
    },
    {
      "cell_type": "markdown",
      "source": [
        "## Convert with Dynamic Range"
      ],
      "metadata": {
        "id": "oUQJNCh_I-N1"
      }
    },
    {
      "cell_type": "code",
      "source": [
        "# Dynamic range quantization (weights → int8; activations quantized dynamically at runtime)\n",
        "converter = tf.lite.TFLiteConverter.from_keras_model(model)\n",
        "converter.optimizations = [tf.lite.Optimize.DEFAULT]\n",
        "tflite_dyn = converter.convert()\n",
        "open(\"s_mnist_quant_dyn.tflite\", \"wb\").write(tflite_dyn)\n",
        "\n",
        "print(\"Wrote s_mnist_quant_dyn.tflite\")"
      ],
      "metadata": {
        "colab": {
          "base_uri": "https://localhost:8080/"
        },
        "id": "mQbrYRBiJA2x",
        "outputId": "15693f8b-42ad-4338-c7f6-e5c1183f8221"
      },
      "execution_count": 13,
      "outputs": [
        {
          "output_type": "stream",
          "name": "stdout",
          "text": [
            "Saved artifact at '/tmp/tmpcp5qj8j1'. The following endpoints are available:\n",
            "\n",
            "* Endpoint 'serve'\n",
            "  args_0 (POSITIONAL_ONLY): TensorSpec(shape=(None, 28, 28, 1), dtype=tf.float32, name='keras_tensor')\n",
            "Output Type:\n",
            "  TensorSpec(shape=(None, 24), dtype=tf.float32, name=None)\n",
            "Captures:\n",
            "  135767348836688: TensorSpec(shape=(), dtype=tf.resource, name=None)\n",
            "  135767341154576: TensorSpec(shape=(), dtype=tf.resource, name=None)\n",
            "  135767341154960: TensorSpec(shape=(), dtype=tf.resource, name=None)\n",
            "  135767348837264: TensorSpec(shape=(), dtype=tf.resource, name=None)\n",
            "  135767348838032: TensorSpec(shape=(), dtype=tf.resource, name=None)\n",
            "  135767341154768: TensorSpec(shape=(), dtype=tf.resource, name=None)\n",
            "  135767341157456: TensorSpec(shape=(), dtype=tf.resource, name=None)\n",
            "  135767341157264: TensorSpec(shape=(), dtype=tf.resource, name=None)\n",
            "  135767341155920: TensorSpec(shape=(), dtype=tf.resource, name=None)\n",
            "  135767341156304: TensorSpec(shape=(), dtype=tf.resource, name=None)\n",
            "  135767341158608: TensorSpec(shape=(), dtype=tf.resource, name=None)\n",
            "  135767341159568: TensorSpec(shape=(), dtype=tf.resource, name=None)\n",
            "  135767341159376: TensorSpec(shape=(), dtype=tf.resource, name=None)\n",
            "  135767341158992: TensorSpec(shape=(), dtype=tf.resource, name=None)\n",
            "  135767341160144: TensorSpec(shape=(), dtype=tf.resource, name=None)\n",
            "  135767341160528: TensorSpec(shape=(), dtype=tf.resource, name=None)\n",
            "  135767341160720: TensorSpec(shape=(), dtype=tf.resource, name=None)\n",
            "  135767341159760: TensorSpec(shape=(), dtype=tf.resource, name=None)\n",
            "  135767341160336: TensorSpec(shape=(), dtype=tf.resource, name=None)\n",
            "  135767341161296: TensorSpec(shape=(), dtype=tf.resource, name=None)\n",
            "  135767341159184: TensorSpec(shape=(), dtype=tf.resource, name=None)\n",
            "  135767341162256: TensorSpec(shape=(), dtype=tf.resource, name=None)\n",
            "  135767341162064: TensorSpec(shape=(), dtype=tf.resource, name=None)\n",
            "  135767341160912: TensorSpec(shape=(), dtype=tf.resource, name=None)\n",
            "  135767341162832: TensorSpec(shape=(), dtype=tf.resource, name=None)\n",
            "  135767341161104: TensorSpec(shape=(), dtype=tf.resource, name=None)\n",
            "  135767341163600: TensorSpec(shape=(), dtype=tf.resource, name=None)\n",
            "  135767341163408: TensorSpec(shape=(), dtype=tf.resource, name=None)\n",
            "  135767341161488: TensorSpec(shape=(), dtype=tf.resource, name=None)\n",
            "  135767341163216: TensorSpec(shape=(), dtype=tf.resource, name=None)\n",
            "  135767341164176: TensorSpec(shape=(), dtype=tf.resource, name=None)\n",
            "  135767341162448: TensorSpec(shape=(), dtype=tf.resource, name=None)\n",
            "Wrote s_mnist_quant_dyn.tflite\n"
          ]
        }
      ]
    },
    {
      "cell_type": "markdown",
      "source": [
        "## Evaluate BOTH Models"
      ],
      "metadata": {
        "id": "mE5jPbp6JDkS"
      }
    },
    {
      "cell_type": "code",
      "source": [
        "acc_float = tflite_accuracy(\"s_mnist.tflite\", x_test, y_test)       # or tflite_accuracy_b1(...)\n",
        "acc_dyn   = tflite_accuracy(\"s_mnist_quant_dyn.tflite\", x_test, y_test)\n",
        "\n",
        "import os\n",
        "mb = lambda p: os.path.getsize(p)/1024/1024\n",
        "print(f\"Float TFLite : acc={acc_float:.4f} | size={mb('s_mnist.tflite'):.2f} MB\")\n",
        "print(f\"Dynamic-Range: acc={acc_dyn:.4f} | size={mb('s_mnist_quant_dyn.tflite'):.2f} MB\")\n",
        "print(f\"Δacc (dyn - float): {acc_dyn-acc_float:+.4f}\")\n",
        "print(f\"Size reduction     : {(1 - mb('s_mnist_quant_dyn.tflite')/mb('s_mnist.tflite'))*100:.1f}%\")"
      ],
      "metadata": {
        "colab": {
          "base_uri": "https://localhost:8080/"
        },
        "id": "lDwhYMnKJFWm",
        "outputId": "62131c68-68c2-48c5-d253-ec3889643c72"
      },
      "execution_count": 14,
      "outputs": [
        {
          "output_type": "stream",
          "name": "stderr",
          "text": [
            "/usr/local/lib/python3.12/dist-packages/tensorflow/lite/python/interpreter.py:457: UserWarning:     Warning: tf.lite.Interpreter is deprecated and is scheduled for deletion in\n",
            "    TF 2.20. Please use the LiteRT interpreter from the ai_edge_litert package.\n",
            "    See the [migration guide](https://ai.google.dev/edge/litert/migration)\n",
            "    for details.\n",
            "    \n",
            "  warnings.warn(_INTERPRETER_DELETION_WARNING)\n"
          ]
        },
        {
          "output_type": "stream",
          "name": "stdout",
          "text": [
            "Float TFLite : acc=0.9925 | size=1.11 MB\n",
            "Dynamic-Range: acc=0.9922 | size=0.29 MB\n",
            "Δacc (dyn - float): -0.0003\n",
            "Size reduction     : 74.0%\n"
          ]
        }
      ]
    },
    {
      "cell_type": "markdown",
      "source": [
        "## Q2b Starts Here with New Code"
      ],
      "metadata": {
        "id": "a33eNUEqTVuy"
      }
    },
    {
      "cell_type": "code",
      "source": [
        "import numpy as np\n",
        "\n",
        "def rep_ds_16x8():\n",
        "    # ~200 samples is plenty for MNIST-size models\n",
        "    for i in range(200):\n",
        "        yield [x_train[i:i+1].astype(np.float32)]"
      ],
      "metadata": {
        "id": "Xvt4iLdZTaoE"
      },
      "execution_count": 15,
      "outputs": []
    },
    {
      "cell_type": "markdown",
      "source": [
        "## Convert to Int16 Activations + Int8 Weights (16x8)"
      ],
      "metadata": {
        "id": "EBiXZpyiThN2"
      }
    },
    {
      "cell_type": "code",
      "source": [
        "import tensorflow as tf\n",
        "\n",
        "converter = tf.lite.TFLiteConverter.from_keras_model(model)\n",
        "converter.optimizations = [tf.lite.Optimize.DEFAULT]\n",
        "converter.representative_dataset = rep_ds_16x8\n",
        "\n",
        "# Ask for the experimental 16x8 kernels; allow float fallback if any op isn’t supported\n",
        "converter.target_spec.supported_ops = [\n",
        "    tf.lite.OpsSet.EXPERIMENTAL_TFLITE_BUILTINS_ACTIVATIONS_INT16_WEIGHTS_INT8,\n",
        "    tf.lite.OpsSet.TFLITE_BUILTINS  # fallback (keeps conversion robust)\n",
        "]\n",
        "\n",
        "tflite_16x8 = converter.convert()\n",
        "open(\"s_mnist_quant_int16x8.tflite\", \"wb\").write(tflite_16x8)\n",
        "print(\"Wrote s_mnist_quant_int16x8.tflite\")"
      ],
      "metadata": {
        "id": "hD-2sfSrTrrY",
        "colab": {
          "base_uri": "https://localhost:8080/"
        },
        "outputId": "0b854ab6-518b-4866-8050-a4b5a90fc3e7"
      },
      "execution_count": 16,
      "outputs": [
        {
          "output_type": "stream",
          "name": "stdout",
          "text": [
            "Saved artifact at '/tmp/tmpo93ycvfj'. The following endpoints are available:\n",
            "\n",
            "* Endpoint 'serve'\n",
            "  args_0 (POSITIONAL_ONLY): TensorSpec(shape=(None, 28, 28, 1), dtype=tf.float32, name='keras_tensor')\n",
            "Output Type:\n",
            "  TensorSpec(shape=(None, 24), dtype=tf.float32, name=None)\n",
            "Captures:\n",
            "  135767348836688: TensorSpec(shape=(), dtype=tf.resource, name=None)\n",
            "  135767341154576: TensorSpec(shape=(), dtype=tf.resource, name=None)\n",
            "  135767341154960: TensorSpec(shape=(), dtype=tf.resource, name=None)\n",
            "  135767348837264: TensorSpec(shape=(), dtype=tf.resource, name=None)\n",
            "  135767348838032: TensorSpec(shape=(), dtype=tf.resource, name=None)\n",
            "  135767341154768: TensorSpec(shape=(), dtype=tf.resource, name=None)\n",
            "  135767341157456: TensorSpec(shape=(), dtype=tf.resource, name=None)\n",
            "  135767341157264: TensorSpec(shape=(), dtype=tf.resource, name=None)\n",
            "  135767341155920: TensorSpec(shape=(), dtype=tf.resource, name=None)\n",
            "  135767341156304: TensorSpec(shape=(), dtype=tf.resource, name=None)\n",
            "  135767341158608: TensorSpec(shape=(), dtype=tf.resource, name=None)\n",
            "  135767341159568: TensorSpec(shape=(), dtype=tf.resource, name=None)\n",
            "  135767341159376: TensorSpec(shape=(), dtype=tf.resource, name=None)\n",
            "  135767341158992: TensorSpec(shape=(), dtype=tf.resource, name=None)\n",
            "  135767341160144: TensorSpec(shape=(), dtype=tf.resource, name=None)\n",
            "  135767341160528: TensorSpec(shape=(), dtype=tf.resource, name=None)\n",
            "  135767341160720: TensorSpec(shape=(), dtype=tf.resource, name=None)\n",
            "  135767341159760: TensorSpec(shape=(), dtype=tf.resource, name=None)\n",
            "  135767341160336: TensorSpec(shape=(), dtype=tf.resource, name=None)\n",
            "  135767341161296: TensorSpec(shape=(), dtype=tf.resource, name=None)\n",
            "  135767341159184: TensorSpec(shape=(), dtype=tf.resource, name=None)\n",
            "  135767341162256: TensorSpec(shape=(), dtype=tf.resource, name=None)\n",
            "  135767341162064: TensorSpec(shape=(), dtype=tf.resource, name=None)\n",
            "  135767341160912: TensorSpec(shape=(), dtype=tf.resource, name=None)\n",
            "  135767341162832: TensorSpec(shape=(), dtype=tf.resource, name=None)\n",
            "  135767341161104: TensorSpec(shape=(), dtype=tf.resource, name=None)\n",
            "  135767341163600: TensorSpec(shape=(), dtype=tf.resource, name=None)\n",
            "  135767341163408: TensorSpec(shape=(), dtype=tf.resource, name=None)\n",
            "  135767341161488: TensorSpec(shape=(), dtype=tf.resource, name=None)\n",
            "  135767341163216: TensorSpec(shape=(), dtype=tf.resource, name=None)\n",
            "  135767341164176: TensorSpec(shape=(), dtype=tf.resource, name=None)\n",
            "  135767341162448: TensorSpec(shape=(), dtype=tf.resource, name=None)\n",
            "Wrote s_mnist_quant_int16x8.tflite\n"
          ]
        }
      ]
    },
    {
      "cell_type": "markdown",
      "source": [
        "## A TFLite accuracy helper"
      ],
      "metadata": {
        "id": "IAht3xOHV8Qi"
      }
    },
    {
      "cell_type": "code",
      "source": [
        "import numpy as np\n",
        "import tensorflow as tf\n",
        "\n",
        "# Robust TFLite eval: batch=1, no repeated resize/allocate\n",
        "def tflite_accuracy_b1(tflite_path, x, y):\n",
        "    import numpy as np\n",
        "    try:\n",
        "        # If LiteRT is available, use it; otherwise fall back to TF's Interpreter\n",
        "        from ai_edge_litert.python.interpreter import Interpreter\n",
        "    except Exception:\n",
        "        from tensorflow.lite.python.interpreter import Interpreter\n",
        "\n",
        "    itp = Interpreter(model_path=tflite_path, num_threads=2)\n",
        "    itp.allocate_tensors()\n",
        "\n",
        "    in_det  = itp.get_input_details()[0]\n",
        "    out_det = itp.get_output_details()[0]\n",
        "    in_idx   = in_det[\"index\"]\n",
        "    in_dtype = in_det[\"dtype\"]\n",
        "    q = in_det.get(\"quantization_parameters\", {})\n",
        "    scale = float(q.get(\"scales\", [1.0])[0]) if len(q.get(\"scales\", [])) else 1.0\n",
        "    zero  = int(q.get(\"zero_points\", [0])[0]) if len(q.get(\"zero_points\", [])) else 0\n",
        "\n",
        "    # one-time resize to (1, H, W, C)\n",
        "    itp.resize_tensor_input(in_idx, (1,)+tuple(x.shape[1:]), strict=False)\n",
        "    itp.allocate_tensors()\n",
        "\n",
        "    correct = 0\n",
        "    for i in range(len(x)):\n",
        "        xi = x[i:i+1]\n",
        "        if in_dtype == np.float32:\n",
        "            xi = xi.astype(np.float32)\n",
        "        elif in_dtype in (np.int8, np.uint8, np.int16):\n",
        "            xi = np.round(xi/scale + zero).astype(in_dtype)\n",
        "        else:\n",
        "            raise ValueError(f\"Unsupported input dtype: {in_dtype}\")\n",
        "\n",
        "        itp.set_tensor(in_idx, xi)\n",
        "        itp.invoke()\n",
        "        pred = itp.get_tensor(out_det[\"index\"]).argmax(axis=-1)[0]\n",
        "        correct += int(pred == y[i])\n",
        "\n",
        "    return correct / len(x)"
      ],
      "metadata": {
        "id": "0NJST_Q-WDjd"
      },
      "execution_count": 17,
      "outputs": []
    },
    {
      "cell_type": "markdown",
      "source": [
        "## Evaluate all three TFLite models and compare sizes"
      ],
      "metadata": {
        "id": "qyihCc0hWFnx"
      }
    },
    {
      "cell_type": "code",
      "source": [
        "import warnings\n",
        "warnings.filterwarnings(\"ignore\", message=\".*tf.lite.Interpreter is deprecated.*\")"
      ],
      "metadata": {
        "id": "Ewzqz3IvWH5N"
      },
      "execution_count": 18,
      "outputs": []
    },
    {
      "cell_type": "code",
      "source": [
        "import os\n",
        "mb = lambda p: os.path.getsize(p)/1024/1024\n",
        "\n",
        "acc_float = tflite_accuracy_b1(\"s_mnist.tflite\",               x_test, y_test)\n",
        "acc_dyn   = tflite_accuracy_b1(\"s_mnist_quant_dyn.tflite\",     x_test, y_test)\n",
        "acc_16x8  = tflite_accuracy_b1(\"s_mnist_quant_int16x8.tflite\", x_test, y_test)\n",
        "\n",
        "print(f\"{'Model':<28} {'Acc':>8}   {'Size (MB)':>9}\")\n",
        "print(\"-\"*50)\n",
        "print(f\"{'Float TFLite':<28} {acc_float:>8.4f}   {mb('s_mnist.tflite'):>9.2f}\")\n",
        "print(f\"{'Dynamic-Range (int8W)':<28} {acc_dyn:>8.4f}   {mb('s_mnist_quant_dyn.tflite'):>9.2f}\")\n",
        "print(f\"{'Int16x8 (act16, w8)':<28} {acc_16x8:>8.4f}   {mb('s_mnist_quant_int16x8.tflite'):>9.2f}\")\n",
        "\n",
        "print(\"\\nDeltas vs Float:\")\n",
        "print(f\"  Dyn acc Δ  : {acc_dyn-acc_float:+.4f} | size ↓ {100*(1-mb('s_mnist_quant_dyn.tflite')/mb('s_mnist.tflite')):>.1f}%\")\n",
        "print(f\"  16x8 acc Δ : {acc_16x8-acc_float:+.4f} | size ↓ {100*(1-mb('s_mnist_quant_int16x8.tflite')/mb('s_mnist.tflite')):>.1f}%\")"
      ],
      "metadata": {
        "colab": {
          "base_uri": "https://localhost:8080/"
        },
        "id": "SetrhZUJkn0-",
        "outputId": "694e691a-2149-4f3c-d468-30d5a4bb3398"
      },
      "execution_count": 19,
      "outputs": [
        {
          "output_type": "stream",
          "name": "stdout",
          "text": [
            "Model                             Acc   Size (MB)\n",
            "--------------------------------------------------\n",
            "Float TFLite                   0.9925        1.11\n",
            "Dynamic-Range (int8W)          0.9922        0.29\n",
            "Int16x8 (act16, w8)            0.9926        0.30\n",
            "\n",
            "Deltas vs Float:\n",
            "  Dyn acc Δ  : -0.0003 | size ↓ 74.0%\n",
            "  16x8 acc Δ : +0.0001 | size ↓ 72.9%\n"
          ]
        }
      ]
    },
    {
      "cell_type": "markdown",
      "source": [
        "## Isa's Write Up"
      ],
      "metadata": {
        "id": "dD-m3SpBQnhT"
      }
    },
    {
      "cell_type": "markdown",
      "source": [
        "#### I took the Q1 ASL model and exported three TensorFlow Lite variants: (1) a float TFLite baseline, (2) a dynamic-range quantized model (int8 weights; activations quantized at runtime), and (3) a 16x8 quantized model (int8 weights + int16 activations during conversion). I evaluated all three with the same test split and a simple TFLite inference loop (batch-1, pre/post identical to the Keras path)."
      ],
      "metadata": {
        "id": "RkpJ3TwEQptX"
      }
    },
    {
      "cell_type": "markdown",
      "source": [
        "## Results!"
      ],
      "metadata": {
        "id": "S9U1p_mPobss"
      }
    },
    {
      "cell_type": "markdown",
      "source": [
        "####\n",
        "\n",
        "*   Float TFLite — Acc 0.9925, 1.11\n",
        "*   MB, Dynamic-range (int8W) — Acc 0.9922, 0.29 MB (−74%)\n",
        "*   16×8 (int16A, int8W) — Acc 0.9926, 0.30 MB (−73%)"
      ],
      "metadata": {
        "id": "iyetrzkcoez_"
      }
    },
    {
      "cell_type": "markdown",
      "source": [
        "## My Discussion"
      ],
      "metadata": {
        "id": "WdZ27cN0pEW4"
      }
    },
    {
      "cell_type": "markdown",
      "source": [
        "#### Dynamic-range quantization gives the largest size drop with accuracy essentially unchanged relative to float. The 16x8 model achieves a similar size reduction but slightly improves accuracy (by ~0.01%) compared to the float model, which is consistent with the expectation that higher-precision activations (int16) can better preserve signal for activation-sensitive networks. The 16x8 model is also compatible with integer-only accelerators, unlike pure dynamic-range. Overall, 16x8 provides the best accuracy/size trade-off here while still delivering a ~3.7x compression."
      ],
      "metadata": {
        "id": "-Au700D_pHo4"
      }
    }
  ]
}