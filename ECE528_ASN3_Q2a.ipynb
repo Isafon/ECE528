{
  "nbformat": 4,
  "nbformat_minor": 0,
  "metadata": {
    "colab": {
      "provenance": [],
      "machine_shape": "hm",
      "gpuType": "L4",
      "authorship_tag": "ABX9TyOstr4qhJjiLbdfa4zForZQ",
      "include_colab_link": true
    },
    "kernelspec": {
      "name": "python3",
      "display_name": "Python 3"
    },
    "language_info": {
      "name": "python"
    },
    "accelerator": "GPU"
  },
  "cells": [
    {
      "cell_type": "markdown",
      "metadata": {
        "id": "view-in-github",
        "colab_type": "text"
      },
      "source": [
        "<a href=\"https://colab.research.google.com/github/Isafon/ECE528/blob/main/ECE528_ASN3_Q2a.ipynb\" target=\"_parent\"><img src=\"https://colab.research.google.com/assets/colab-badge.svg\" alt=\"Open In Colab\"/></a>"
      ]
    },
    {
      "cell_type": "markdown",
      "source": [
        "# ECE528 Lab 3 Q2a - Isa Fontana"
      ],
      "metadata": {
        "id": "9nyvyLPpVE_X"
      }
    },
    {
      "cell_type": "markdown",
      "source": [
        "#### Q2a: Adding in TensorFlow Lite Model"
      ],
      "metadata": {
        "id": "rrQNXHMsc7of"
      }
    },
    {
      "cell_type": "markdown",
      "source": [
        "## Imports!"
      ],
      "metadata": {
        "id": "FSqD9j7mVM2Z"
      }
    },
    {
      "cell_type": "code",
      "source": [
        "import os, io, zipfile, numpy as np, pandas as pd, tensorflow as tf\n",
        "from tensorflow.keras import layers, models, callbacks\n",
        "import matplotlib.pyplot as plt\n",
        "\n",
        "np.random.seed(42)\n",
        "tf.random.set_seed(42)\n",
        "print(\"TF version:\", tf.__version__)"
      ],
      "metadata": {
        "colab": {
          "base_uri": "https://localhost:8080/"
        },
        "id": "cUPKbX_KXR76",
        "outputId": "80989db9-802e-4eff-f314-42291b4f2540"
      },
      "execution_count": 1,
      "outputs": [
        {
          "output_type": "stream",
          "name": "stdout",
          "text": [
            "TF version: 2.19.0\n"
          ]
        }
      ]
    },
    {
      "cell_type": "markdown",
      "source": [
        "## Choose File"
      ],
      "metadata": {
        "id": "545cOUOPbBN1"
      }
    },
    {
      "cell_type": "code",
      "source": [
        "from google.colab import files\n",
        "uploaded = files.upload()"
      ],
      "metadata": {
        "colab": {
          "base_uri": "https://localhost:8080/",
          "height": 74
        },
        "id": "JxlCInAZbDa-",
        "outputId": "979031d8-2d5f-48ed-c8d4-36cf0db47604"
      },
      "execution_count": 2,
      "outputs": [
        {
          "output_type": "display_data",
          "data": {
            "text/plain": [
              "<IPython.core.display.HTML object>"
            ],
            "text/html": [
              "\n",
              "     <input type=\"file\" id=\"files-2b2df10c-5408-460b-9247-01457f593cc3\" name=\"files[]\" multiple disabled\n",
              "        style=\"border:none\" />\n",
              "     <output id=\"result-2b2df10c-5408-460b-9247-01457f593cc3\">\n",
              "      Upload widget is only available when the cell has been executed in the\n",
              "      current browser session. Please rerun this cell to enable.\n",
              "      </output>\n",
              "      <script>// Copyright 2017 Google LLC\n",
              "//\n",
              "// Licensed under the Apache License, Version 2.0 (the \"License\");\n",
              "// you may not use this file except in compliance with the License.\n",
              "// You may obtain a copy of the License at\n",
              "//\n",
              "//      http://www.apache.org/licenses/LICENSE-2.0\n",
              "//\n",
              "// Unless required by applicable law or agreed to in writing, software\n",
              "// distributed under the License is distributed on an \"AS IS\" BASIS,\n",
              "// WITHOUT WARRANTIES OR CONDITIONS OF ANY KIND, either express or implied.\n",
              "// See the License for the specific language governing permissions and\n",
              "// limitations under the License.\n",
              "\n",
              "/**\n",
              " * @fileoverview Helpers for google.colab Python module.\n",
              " */\n",
              "(function(scope) {\n",
              "function span(text, styleAttributes = {}) {\n",
              "  const element = document.createElement('span');\n",
              "  element.textContent = text;\n",
              "  for (const key of Object.keys(styleAttributes)) {\n",
              "    element.style[key] = styleAttributes[key];\n",
              "  }\n",
              "  return element;\n",
              "}\n",
              "\n",
              "// Max number of bytes which will be uploaded at a time.\n",
              "const MAX_PAYLOAD_SIZE = 100 * 1024;\n",
              "\n",
              "function _uploadFiles(inputId, outputId) {\n",
              "  const steps = uploadFilesStep(inputId, outputId);\n",
              "  const outputElement = document.getElementById(outputId);\n",
              "  // Cache steps on the outputElement to make it available for the next call\n",
              "  // to uploadFilesContinue from Python.\n",
              "  outputElement.steps = steps;\n",
              "\n",
              "  return _uploadFilesContinue(outputId);\n",
              "}\n",
              "\n",
              "// This is roughly an async generator (not supported in the browser yet),\n",
              "// where there are multiple asynchronous steps and the Python side is going\n",
              "// to poll for completion of each step.\n",
              "// This uses a Promise to block the python side on completion of each step,\n",
              "// then passes the result of the previous step as the input to the next step.\n",
              "function _uploadFilesContinue(outputId) {\n",
              "  const outputElement = document.getElementById(outputId);\n",
              "  const steps = outputElement.steps;\n",
              "\n",
              "  const next = steps.next(outputElement.lastPromiseValue);\n",
              "  return Promise.resolve(next.value.promise).then((value) => {\n",
              "    // Cache the last promise value to make it available to the next\n",
              "    // step of the generator.\n",
              "    outputElement.lastPromiseValue = value;\n",
              "    return next.value.response;\n",
              "  });\n",
              "}\n",
              "\n",
              "/**\n",
              " * Generator function which is called between each async step of the upload\n",
              " * process.\n",
              " * @param {string} inputId Element ID of the input file picker element.\n",
              " * @param {string} outputId Element ID of the output display.\n",
              " * @return {!Iterable<!Object>} Iterable of next steps.\n",
              " */\n",
              "function* uploadFilesStep(inputId, outputId) {\n",
              "  const inputElement = document.getElementById(inputId);\n",
              "  inputElement.disabled = false;\n",
              "\n",
              "  const outputElement = document.getElementById(outputId);\n",
              "  outputElement.innerHTML = '';\n",
              "\n",
              "  const pickedPromise = new Promise((resolve) => {\n",
              "    inputElement.addEventListener('change', (e) => {\n",
              "      resolve(e.target.files);\n",
              "    });\n",
              "  });\n",
              "\n",
              "  const cancel = document.createElement('button');\n",
              "  inputElement.parentElement.appendChild(cancel);\n",
              "  cancel.textContent = 'Cancel upload';\n",
              "  const cancelPromise = new Promise((resolve) => {\n",
              "    cancel.onclick = () => {\n",
              "      resolve(null);\n",
              "    };\n",
              "  });\n",
              "\n",
              "  // Wait for the user to pick the files.\n",
              "  const files = yield {\n",
              "    promise: Promise.race([pickedPromise, cancelPromise]),\n",
              "    response: {\n",
              "      action: 'starting',\n",
              "    }\n",
              "  };\n",
              "\n",
              "  cancel.remove();\n",
              "\n",
              "  // Disable the input element since further picks are not allowed.\n",
              "  inputElement.disabled = true;\n",
              "\n",
              "  if (!files) {\n",
              "    return {\n",
              "      response: {\n",
              "        action: 'complete',\n",
              "      }\n",
              "    };\n",
              "  }\n",
              "\n",
              "  for (const file of files) {\n",
              "    const li = document.createElement('li');\n",
              "    li.append(span(file.name, {fontWeight: 'bold'}));\n",
              "    li.append(span(\n",
              "        `(${file.type || 'n/a'}) - ${file.size} bytes, ` +\n",
              "        `last modified: ${\n",
              "            file.lastModifiedDate ? file.lastModifiedDate.toLocaleDateString() :\n",
              "                                    'n/a'} - `));\n",
              "    const percent = span('0% done');\n",
              "    li.appendChild(percent);\n",
              "\n",
              "    outputElement.appendChild(li);\n",
              "\n",
              "    const fileDataPromise = new Promise((resolve) => {\n",
              "      const reader = new FileReader();\n",
              "      reader.onload = (e) => {\n",
              "        resolve(e.target.result);\n",
              "      };\n",
              "      reader.readAsArrayBuffer(file);\n",
              "    });\n",
              "    // Wait for the data to be ready.\n",
              "    let fileData = yield {\n",
              "      promise: fileDataPromise,\n",
              "      response: {\n",
              "        action: 'continue',\n",
              "      }\n",
              "    };\n",
              "\n",
              "    // Use a chunked sending to avoid message size limits. See b/62115660.\n",
              "    let position = 0;\n",
              "    do {\n",
              "      const length = Math.min(fileData.byteLength - position, MAX_PAYLOAD_SIZE);\n",
              "      const chunk = new Uint8Array(fileData, position, length);\n",
              "      position += length;\n",
              "\n",
              "      const base64 = btoa(String.fromCharCode.apply(null, chunk));\n",
              "      yield {\n",
              "        response: {\n",
              "          action: 'append',\n",
              "          file: file.name,\n",
              "          data: base64,\n",
              "        },\n",
              "      };\n",
              "\n",
              "      let percentDone = fileData.byteLength === 0 ?\n",
              "          100 :\n",
              "          Math.round((position / fileData.byteLength) * 100);\n",
              "      percent.textContent = `${percentDone}% done`;\n",
              "\n",
              "    } while (position < fileData.byteLength);\n",
              "  }\n",
              "\n",
              "  // All done.\n",
              "  yield {\n",
              "    response: {\n",
              "      action: 'complete',\n",
              "    }\n",
              "  };\n",
              "}\n",
              "\n",
              "scope.google = scope.google || {};\n",
              "scope.google.colab = scope.google.colab || {};\n",
              "scope.google.colab._files = {\n",
              "  _uploadFiles,\n",
              "  _uploadFilesContinue,\n",
              "};\n",
              "})(self);\n",
              "</script> "
            ]
          },
          "metadata": {}
        },
        {
          "output_type": "stream",
          "name": "stdout",
          "text": [
            "Saving archive.zip to archive.zip\n"
          ]
        }
      ]
    },
    {
      "cell_type": "markdown",
      "source": [
        "## Unzip the File"
      ],
      "metadata": {
        "id": "w9XQc2SYdEzi"
      }
    },
    {
      "cell_type": "code",
      "source": [
        "# Create a working folder\n",
        "DATA_DIR = \"./data_asl\"\n",
        "os.makedirs(DATA_DIR, exist_ok=True)\n",
        "\n",
        "# If a zip was uploaded, extract it\n",
        "for fname in uploaded.keys():\n",
        "    if fname.lower().endswith(\".zip\"):\n",
        "        with zipfile.ZipFile(io.BytesIO(uploaded[fname]), 'r') as zf:\n",
        "            zf.extractall(DATA_DIR)\n",
        "        print(f\"Extracted: {fname} -> {DATA_DIR}\")\n",
        "\n",
        "# Figure out where the CSVs ended up (root or inside DATA_DIR)\n",
        "candidates = [\n",
        "    \"sign_mnist_train.csv\",\n",
        "    \"sign_mnist_test.csv\",\n",
        "    os.path.join(DATA_DIR, \"sign_mnist_train.csv\"),\n",
        "    os.path.join(DATA_DIR, \"sign_mnist_test.csv\"),\n",
        "]\n",
        "\n",
        "# Build resolved paths\n",
        "train_csv, test_csv = None, None\n",
        "for c in candidates:\n",
        "    if c.endswith(\"sign_mnist_train.csv\") and os.path.exists(c):\n",
        "        train_csv = c\n",
        "    if c.endswith(\"sign_mnist_test.csv\") and os.path.exists(c):\n",
        "        test_csv = c\n",
        "\n",
        "assert train_csv and test_csv, \"Could not find the CSVs. Re-upload the zip or both CSV files.\"\n",
        "\n",
        "print(\"Train CSV:\", train_csv)\n",
        "print(\"Test  CSV:\", test_csv)"
      ],
      "metadata": {
        "colab": {
          "base_uri": "https://localhost:8080/"
        },
        "id": "PuPXDqNldILW",
        "outputId": "38c34731-f02d-4dcc-f6d5-1f92f7f8e64c"
      },
      "execution_count": 3,
      "outputs": [
        {
          "output_type": "stream",
          "name": "stdout",
          "text": [
            "Extracted: archive.zip -> ./data_asl\n",
            "Train CSV: ./data_asl/sign_mnist_train.csv\n",
            "Test  CSV: ./data_asl/sign_mnist_test.csv\n"
          ]
        }
      ]
    },
    {
      "cell_type": "markdown",
      "source": [
        "## Load Data"
      ],
      "metadata": {
        "id": "dgdRvaytXN7J"
      }
    },
    {
      "cell_type": "code",
      "execution_count": 4,
      "metadata": {
        "colab": {
          "base_uri": "https://localhost:8080/"
        },
        "id": "DP1fYXbnU-2g",
        "outputId": "f86be32e-4a1b-4766-f433-4d656d4252a7"
      },
      "outputs": [
        {
          "output_type": "stream",
          "name": "stdout",
          "text": [
            "Shapes: (27455, 28, 28, 1) (7172, 28, 28, 1)\n",
            "Classes detected: 24 Original label ids: [ 0  1  2  3  4  5  6  7  8 10 11 12 13 14 15 16 17 18 19 20 21 22 23 24]\n"
          ]
        }
      ],
      "source": [
        "# Load CSVs\n",
        "train_df = pd.read_csv(train_csv)\n",
        "test_df  = pd.read_csv(test_csv)\n",
        "\n",
        "# Separate labels and pixels\n",
        "y_train_raw = train_df.pop('label').values\n",
        "y_test_raw  = test_df.pop('label').values\n",
        "\n",
        "x_train = train_df.values.reshape(-1, 28, 28, 1).astype(\"float32\") / 255.0\n",
        "x_test  = test_df.values.reshape(-1, 28, 28, 1).astype(\"float32\") / 255.0\n",
        "\n",
        "# Make labels contiguous (handles “missing J and Z”)\n",
        "uniq = np.unique(np.concatenate([y_train_raw, y_test_raw]))\n",
        "remap = {old:i for i, old in enumerate(sorted(uniq))}\n",
        "y_train = np.array([remap[v] for v in y_train_raw])\n",
        "y_test  = np.array([remap[v] for v in y_test_raw])\n",
        "\n",
        "num_classes = len(uniq)  # should be 24\n",
        "print(\"Shapes:\", x_train.shape, x_test.shape)\n",
        "print(\"Classes detected:\", num_classes, \"Original label ids:\", uniq)"
      ]
    },
    {
      "cell_type": "markdown",
      "source": [
        "## Model It"
      ],
      "metadata": {
        "id": "_jUc9BC5VQ14"
      }
    },
    {
      "cell_type": "code",
      "source": [
        "def CBR(filters):\n",
        "    # Conv -> BatchNorm -> ReLU (BN immediately before activation per instructions)\n",
        "    return tf.keras.Sequential([\n",
        "        layers.Conv2D(filters, 3, padding=\"same\", use_bias=False),\n",
        "        layers.BatchNormalization(),\n",
        "        layers.ReLU(),\n",
        "    ])\n",
        "\n",
        "inputs = layers.Input((28, 28, 1))\n",
        "x = CBR(32)(inputs);  x = CBR(32)(x);  x = layers.MaxPool2D()(x);  x = layers.Dropout(0.25)(x)\n",
        "x = CBR(64)(x);       x = CBR(64)(x);  x = layers.MaxPool2D()(x);  x = layers.Dropout(0.25)(x)\n",
        "x = CBR(128)(x);      x = layers.Conv2D(128, 3, padding=\"same\", use_bias=False)(x)\n",
        "x = layers.BatchNormalization()(x); x = layers.ReLU()(x)\n",
        "x = layers.GlobalAveragePooling2D()(x); x = layers.Dropout(0.40)(x)\n",
        "outputs = layers.Dense(num_classes, activation=\"softmax\")(x)\n",
        "\n",
        "model = models.Model(inputs, outputs, name=\"asl_mnist_cnn\")\n",
        "model.summary()"
      ],
      "metadata": {
        "colab": {
          "base_uri": "https://localhost:8080/",
          "height": 694
        },
        "id": "eEtii7-1VSZn",
        "outputId": "24b1e4a3-3187-40ac-af92-cf4df6f06bab"
      },
      "execution_count": 5,
      "outputs": [
        {
          "output_type": "display_data",
          "data": {
            "text/plain": [
              "\u001b[1mModel: \"asl_mnist_cnn\"\u001b[0m\n"
            ],
            "text/html": [
              "<pre style=\"white-space:pre;overflow-x:auto;line-height:normal;font-family:Menlo,'DejaVu Sans Mono',consolas,'Courier New',monospace\"><span style=\"font-weight: bold\">Model: \"asl_mnist_cnn\"</span>\n",
              "</pre>\n"
            ]
          },
          "metadata": {}
        },
        {
          "output_type": "display_data",
          "data": {
            "text/plain": [
              "┏━━━━━━━━━━━━━━━━━━━━━━━━━━━━━━━━━┳━━━━━━━━━━━━━━━━━━━━━━━━┳━━━━━━━━━━━━━━━┓\n",
              "┃\u001b[1m \u001b[0m\u001b[1mLayer (type)                   \u001b[0m\u001b[1m \u001b[0m┃\u001b[1m \u001b[0m\u001b[1mOutput Shape          \u001b[0m\u001b[1m \u001b[0m┃\u001b[1m \u001b[0m\u001b[1m      Param #\u001b[0m\u001b[1m \u001b[0m┃\n",
              "┡━━━━━━━━━━━━━━━━━━━━━━━━━━━━━━━━━╇━━━━━━━━━━━━━━━━━━━━━━━━╇━━━━━━━━━━━━━━━┩\n",
              "│ input_layer (\u001b[38;5;33mInputLayer\u001b[0m)        │ (\u001b[38;5;45mNone\u001b[0m, \u001b[38;5;34m28\u001b[0m, \u001b[38;5;34m28\u001b[0m, \u001b[38;5;34m1\u001b[0m)      │             \u001b[38;5;34m0\u001b[0m │\n",
              "├─────────────────────────────────┼────────────────────────┼───────────────┤\n",
              "│ sequential (\u001b[38;5;33mSequential\u001b[0m)         │ (\u001b[38;5;45mNone\u001b[0m, \u001b[38;5;34m28\u001b[0m, \u001b[38;5;34m28\u001b[0m, \u001b[38;5;34m32\u001b[0m)     │           \u001b[38;5;34m416\u001b[0m │\n",
              "├─────────────────────────────────┼────────────────────────┼───────────────┤\n",
              "│ sequential_1 (\u001b[38;5;33mSequential\u001b[0m)       │ (\u001b[38;5;45mNone\u001b[0m, \u001b[38;5;34m28\u001b[0m, \u001b[38;5;34m28\u001b[0m, \u001b[38;5;34m32\u001b[0m)     │         \u001b[38;5;34m9,344\u001b[0m │\n",
              "├─────────────────────────────────┼────────────────────────┼───────────────┤\n",
              "│ max_pooling2d (\u001b[38;5;33mMaxPooling2D\u001b[0m)    │ (\u001b[38;5;45mNone\u001b[0m, \u001b[38;5;34m14\u001b[0m, \u001b[38;5;34m14\u001b[0m, \u001b[38;5;34m32\u001b[0m)     │             \u001b[38;5;34m0\u001b[0m │\n",
              "├─────────────────────────────────┼────────────────────────┼───────────────┤\n",
              "│ dropout (\u001b[38;5;33mDropout\u001b[0m)               │ (\u001b[38;5;45mNone\u001b[0m, \u001b[38;5;34m14\u001b[0m, \u001b[38;5;34m14\u001b[0m, \u001b[38;5;34m32\u001b[0m)     │             \u001b[38;5;34m0\u001b[0m │\n",
              "├─────────────────────────────────┼────────────────────────┼───────────────┤\n",
              "│ sequential_2 (\u001b[38;5;33mSequential\u001b[0m)       │ (\u001b[38;5;45mNone\u001b[0m, \u001b[38;5;34m14\u001b[0m, \u001b[38;5;34m14\u001b[0m, \u001b[38;5;34m64\u001b[0m)     │        \u001b[38;5;34m18,688\u001b[0m │\n",
              "├─────────────────────────────────┼────────────────────────┼───────────────┤\n",
              "│ sequential_3 (\u001b[38;5;33mSequential\u001b[0m)       │ (\u001b[38;5;45mNone\u001b[0m, \u001b[38;5;34m14\u001b[0m, \u001b[38;5;34m14\u001b[0m, \u001b[38;5;34m64\u001b[0m)     │        \u001b[38;5;34m37,120\u001b[0m │\n",
              "├─────────────────────────────────┼────────────────────────┼───────────────┤\n",
              "│ max_pooling2d_1 (\u001b[38;5;33mMaxPooling2D\u001b[0m)  │ (\u001b[38;5;45mNone\u001b[0m, \u001b[38;5;34m7\u001b[0m, \u001b[38;5;34m7\u001b[0m, \u001b[38;5;34m64\u001b[0m)       │             \u001b[38;5;34m0\u001b[0m │\n",
              "├─────────────────────────────────┼────────────────────────┼───────────────┤\n",
              "│ dropout_1 (\u001b[38;5;33mDropout\u001b[0m)             │ (\u001b[38;5;45mNone\u001b[0m, \u001b[38;5;34m7\u001b[0m, \u001b[38;5;34m7\u001b[0m, \u001b[38;5;34m64\u001b[0m)       │             \u001b[38;5;34m0\u001b[0m │\n",
              "├─────────────────────────────────┼────────────────────────┼───────────────┤\n",
              "│ sequential_4 (\u001b[38;5;33mSequential\u001b[0m)       │ (\u001b[38;5;45mNone\u001b[0m, \u001b[38;5;34m7\u001b[0m, \u001b[38;5;34m7\u001b[0m, \u001b[38;5;34m128\u001b[0m)      │        \u001b[38;5;34m74,240\u001b[0m │\n",
              "├─────────────────────────────────┼────────────────────────┼───────────────┤\n",
              "│ conv2d_5 (\u001b[38;5;33mConv2D\u001b[0m)               │ (\u001b[38;5;45mNone\u001b[0m, \u001b[38;5;34m7\u001b[0m, \u001b[38;5;34m7\u001b[0m, \u001b[38;5;34m128\u001b[0m)      │       \u001b[38;5;34m147,456\u001b[0m │\n",
              "├─────────────────────────────────┼────────────────────────┼───────────────┤\n",
              "│ batch_normalization_5           │ (\u001b[38;5;45mNone\u001b[0m, \u001b[38;5;34m7\u001b[0m, \u001b[38;5;34m7\u001b[0m, \u001b[38;5;34m128\u001b[0m)      │           \u001b[38;5;34m512\u001b[0m │\n",
              "│ (\u001b[38;5;33mBatchNormalization\u001b[0m)            │                        │               │\n",
              "├─────────────────────────────────┼────────────────────────┼───────────────┤\n",
              "│ re_lu_5 (\u001b[38;5;33mReLU\u001b[0m)                  │ (\u001b[38;5;45mNone\u001b[0m, \u001b[38;5;34m7\u001b[0m, \u001b[38;5;34m7\u001b[0m, \u001b[38;5;34m128\u001b[0m)      │             \u001b[38;5;34m0\u001b[0m │\n",
              "├─────────────────────────────────┼────────────────────────┼───────────────┤\n",
              "│ global_average_pooling2d        │ (\u001b[38;5;45mNone\u001b[0m, \u001b[38;5;34m128\u001b[0m)            │             \u001b[38;5;34m0\u001b[0m │\n",
              "│ (\u001b[38;5;33mGlobalAveragePooling2D\u001b[0m)        │                        │               │\n",
              "├─────────────────────────────────┼────────────────────────┼───────────────┤\n",
              "│ dropout_2 (\u001b[38;5;33mDropout\u001b[0m)             │ (\u001b[38;5;45mNone\u001b[0m, \u001b[38;5;34m128\u001b[0m)            │             \u001b[38;5;34m0\u001b[0m │\n",
              "├─────────────────────────────────┼────────────────────────┼───────────────┤\n",
              "│ dense (\u001b[38;5;33mDense\u001b[0m)                   │ (\u001b[38;5;45mNone\u001b[0m, \u001b[38;5;34m24\u001b[0m)             │         \u001b[38;5;34m3,096\u001b[0m │\n",
              "└─────────────────────────────────┴────────────────────────┴───────────────┘\n"
            ],
            "text/html": [
              "<pre style=\"white-space:pre;overflow-x:auto;line-height:normal;font-family:Menlo,'DejaVu Sans Mono',consolas,'Courier New',monospace\">┏━━━━━━━━━━━━━━━━━━━━━━━━━━━━━━━━━┳━━━━━━━━━━━━━━━━━━━━━━━━┳━━━━━━━━━━━━━━━┓\n",
              "┃<span style=\"font-weight: bold\"> Layer (type)                    </span>┃<span style=\"font-weight: bold\"> Output Shape           </span>┃<span style=\"font-weight: bold\">       Param # </span>┃\n",
              "┡━━━━━━━━━━━━━━━━━━━━━━━━━━━━━━━━━╇━━━━━━━━━━━━━━━━━━━━━━━━╇━━━━━━━━━━━━━━━┩\n",
              "│ input_layer (<span style=\"color: #0087ff; text-decoration-color: #0087ff\">InputLayer</span>)        │ (<span style=\"color: #00d7ff; text-decoration-color: #00d7ff\">None</span>, <span style=\"color: #00af00; text-decoration-color: #00af00\">28</span>, <span style=\"color: #00af00; text-decoration-color: #00af00\">28</span>, <span style=\"color: #00af00; text-decoration-color: #00af00\">1</span>)      │             <span style=\"color: #00af00; text-decoration-color: #00af00\">0</span> │\n",
              "├─────────────────────────────────┼────────────────────────┼───────────────┤\n",
              "│ sequential (<span style=\"color: #0087ff; text-decoration-color: #0087ff\">Sequential</span>)         │ (<span style=\"color: #00d7ff; text-decoration-color: #00d7ff\">None</span>, <span style=\"color: #00af00; text-decoration-color: #00af00\">28</span>, <span style=\"color: #00af00; text-decoration-color: #00af00\">28</span>, <span style=\"color: #00af00; text-decoration-color: #00af00\">32</span>)     │           <span style=\"color: #00af00; text-decoration-color: #00af00\">416</span> │\n",
              "├─────────────────────────────────┼────────────────────────┼───────────────┤\n",
              "│ sequential_1 (<span style=\"color: #0087ff; text-decoration-color: #0087ff\">Sequential</span>)       │ (<span style=\"color: #00d7ff; text-decoration-color: #00d7ff\">None</span>, <span style=\"color: #00af00; text-decoration-color: #00af00\">28</span>, <span style=\"color: #00af00; text-decoration-color: #00af00\">28</span>, <span style=\"color: #00af00; text-decoration-color: #00af00\">32</span>)     │         <span style=\"color: #00af00; text-decoration-color: #00af00\">9,344</span> │\n",
              "├─────────────────────────────────┼────────────────────────┼───────────────┤\n",
              "│ max_pooling2d (<span style=\"color: #0087ff; text-decoration-color: #0087ff\">MaxPooling2D</span>)    │ (<span style=\"color: #00d7ff; text-decoration-color: #00d7ff\">None</span>, <span style=\"color: #00af00; text-decoration-color: #00af00\">14</span>, <span style=\"color: #00af00; text-decoration-color: #00af00\">14</span>, <span style=\"color: #00af00; text-decoration-color: #00af00\">32</span>)     │             <span style=\"color: #00af00; text-decoration-color: #00af00\">0</span> │\n",
              "├─────────────────────────────────┼────────────────────────┼───────────────┤\n",
              "│ dropout (<span style=\"color: #0087ff; text-decoration-color: #0087ff\">Dropout</span>)               │ (<span style=\"color: #00d7ff; text-decoration-color: #00d7ff\">None</span>, <span style=\"color: #00af00; text-decoration-color: #00af00\">14</span>, <span style=\"color: #00af00; text-decoration-color: #00af00\">14</span>, <span style=\"color: #00af00; text-decoration-color: #00af00\">32</span>)     │             <span style=\"color: #00af00; text-decoration-color: #00af00\">0</span> │\n",
              "├─────────────────────────────────┼────────────────────────┼───────────────┤\n",
              "│ sequential_2 (<span style=\"color: #0087ff; text-decoration-color: #0087ff\">Sequential</span>)       │ (<span style=\"color: #00d7ff; text-decoration-color: #00d7ff\">None</span>, <span style=\"color: #00af00; text-decoration-color: #00af00\">14</span>, <span style=\"color: #00af00; text-decoration-color: #00af00\">14</span>, <span style=\"color: #00af00; text-decoration-color: #00af00\">64</span>)     │        <span style=\"color: #00af00; text-decoration-color: #00af00\">18,688</span> │\n",
              "├─────────────────────────────────┼────────────────────────┼───────────────┤\n",
              "│ sequential_3 (<span style=\"color: #0087ff; text-decoration-color: #0087ff\">Sequential</span>)       │ (<span style=\"color: #00d7ff; text-decoration-color: #00d7ff\">None</span>, <span style=\"color: #00af00; text-decoration-color: #00af00\">14</span>, <span style=\"color: #00af00; text-decoration-color: #00af00\">14</span>, <span style=\"color: #00af00; text-decoration-color: #00af00\">64</span>)     │        <span style=\"color: #00af00; text-decoration-color: #00af00\">37,120</span> │\n",
              "├─────────────────────────────────┼────────────────────────┼───────────────┤\n",
              "│ max_pooling2d_1 (<span style=\"color: #0087ff; text-decoration-color: #0087ff\">MaxPooling2D</span>)  │ (<span style=\"color: #00d7ff; text-decoration-color: #00d7ff\">None</span>, <span style=\"color: #00af00; text-decoration-color: #00af00\">7</span>, <span style=\"color: #00af00; text-decoration-color: #00af00\">7</span>, <span style=\"color: #00af00; text-decoration-color: #00af00\">64</span>)       │             <span style=\"color: #00af00; text-decoration-color: #00af00\">0</span> │\n",
              "├─────────────────────────────────┼────────────────────────┼───────────────┤\n",
              "│ dropout_1 (<span style=\"color: #0087ff; text-decoration-color: #0087ff\">Dropout</span>)             │ (<span style=\"color: #00d7ff; text-decoration-color: #00d7ff\">None</span>, <span style=\"color: #00af00; text-decoration-color: #00af00\">7</span>, <span style=\"color: #00af00; text-decoration-color: #00af00\">7</span>, <span style=\"color: #00af00; text-decoration-color: #00af00\">64</span>)       │             <span style=\"color: #00af00; text-decoration-color: #00af00\">0</span> │\n",
              "├─────────────────────────────────┼────────────────────────┼───────────────┤\n",
              "│ sequential_4 (<span style=\"color: #0087ff; text-decoration-color: #0087ff\">Sequential</span>)       │ (<span style=\"color: #00d7ff; text-decoration-color: #00d7ff\">None</span>, <span style=\"color: #00af00; text-decoration-color: #00af00\">7</span>, <span style=\"color: #00af00; text-decoration-color: #00af00\">7</span>, <span style=\"color: #00af00; text-decoration-color: #00af00\">128</span>)      │        <span style=\"color: #00af00; text-decoration-color: #00af00\">74,240</span> │\n",
              "├─────────────────────────────────┼────────────────────────┼───────────────┤\n",
              "│ conv2d_5 (<span style=\"color: #0087ff; text-decoration-color: #0087ff\">Conv2D</span>)               │ (<span style=\"color: #00d7ff; text-decoration-color: #00d7ff\">None</span>, <span style=\"color: #00af00; text-decoration-color: #00af00\">7</span>, <span style=\"color: #00af00; text-decoration-color: #00af00\">7</span>, <span style=\"color: #00af00; text-decoration-color: #00af00\">128</span>)      │       <span style=\"color: #00af00; text-decoration-color: #00af00\">147,456</span> │\n",
              "├─────────────────────────────────┼────────────────────────┼───────────────┤\n",
              "│ batch_normalization_5           │ (<span style=\"color: #00d7ff; text-decoration-color: #00d7ff\">None</span>, <span style=\"color: #00af00; text-decoration-color: #00af00\">7</span>, <span style=\"color: #00af00; text-decoration-color: #00af00\">7</span>, <span style=\"color: #00af00; text-decoration-color: #00af00\">128</span>)      │           <span style=\"color: #00af00; text-decoration-color: #00af00\">512</span> │\n",
              "│ (<span style=\"color: #0087ff; text-decoration-color: #0087ff\">BatchNormalization</span>)            │                        │               │\n",
              "├─────────────────────────────────┼────────────────────────┼───────────────┤\n",
              "│ re_lu_5 (<span style=\"color: #0087ff; text-decoration-color: #0087ff\">ReLU</span>)                  │ (<span style=\"color: #00d7ff; text-decoration-color: #00d7ff\">None</span>, <span style=\"color: #00af00; text-decoration-color: #00af00\">7</span>, <span style=\"color: #00af00; text-decoration-color: #00af00\">7</span>, <span style=\"color: #00af00; text-decoration-color: #00af00\">128</span>)      │             <span style=\"color: #00af00; text-decoration-color: #00af00\">0</span> │\n",
              "├─────────────────────────────────┼────────────────────────┼───────────────┤\n",
              "│ global_average_pooling2d        │ (<span style=\"color: #00d7ff; text-decoration-color: #00d7ff\">None</span>, <span style=\"color: #00af00; text-decoration-color: #00af00\">128</span>)            │             <span style=\"color: #00af00; text-decoration-color: #00af00\">0</span> │\n",
              "│ (<span style=\"color: #0087ff; text-decoration-color: #0087ff\">GlobalAveragePooling2D</span>)        │                        │               │\n",
              "├─────────────────────────────────┼────────────────────────┼───────────────┤\n",
              "│ dropout_2 (<span style=\"color: #0087ff; text-decoration-color: #0087ff\">Dropout</span>)             │ (<span style=\"color: #00d7ff; text-decoration-color: #00d7ff\">None</span>, <span style=\"color: #00af00; text-decoration-color: #00af00\">128</span>)            │             <span style=\"color: #00af00; text-decoration-color: #00af00\">0</span> │\n",
              "├─────────────────────────────────┼────────────────────────┼───────────────┤\n",
              "│ dense (<span style=\"color: #0087ff; text-decoration-color: #0087ff\">Dense</span>)                   │ (<span style=\"color: #00d7ff; text-decoration-color: #00d7ff\">None</span>, <span style=\"color: #00af00; text-decoration-color: #00af00\">24</span>)             │         <span style=\"color: #00af00; text-decoration-color: #00af00\">3,096</span> │\n",
              "└─────────────────────────────────┴────────────────────────┴───────────────┘\n",
              "</pre>\n"
            ]
          },
          "metadata": {}
        },
        {
          "output_type": "display_data",
          "data": {
            "text/plain": [
              "\u001b[1m Total params: \u001b[0m\u001b[38;5;34m290,872\u001b[0m (1.11 MB)\n"
            ],
            "text/html": [
              "<pre style=\"white-space:pre;overflow-x:auto;line-height:normal;font-family:Menlo,'DejaVu Sans Mono',consolas,'Courier New',monospace\"><span style=\"font-weight: bold\"> Total params: </span><span style=\"color: #00af00; text-decoration-color: #00af00\">290,872</span> (1.11 MB)\n",
              "</pre>\n"
            ]
          },
          "metadata": {}
        },
        {
          "output_type": "display_data",
          "data": {
            "text/plain": [
              "\u001b[1m Trainable params: \u001b[0m\u001b[38;5;34m289,976\u001b[0m (1.11 MB)\n"
            ],
            "text/html": [
              "<pre style=\"white-space:pre;overflow-x:auto;line-height:normal;font-family:Menlo,'DejaVu Sans Mono',consolas,'Courier New',monospace\"><span style=\"font-weight: bold\"> Trainable params: </span><span style=\"color: #00af00; text-decoration-color: #00af00\">289,976</span> (1.11 MB)\n",
              "</pre>\n"
            ]
          },
          "metadata": {}
        },
        {
          "output_type": "display_data",
          "data": {
            "text/plain": [
              "\u001b[1m Non-trainable params: \u001b[0m\u001b[38;5;34m896\u001b[0m (3.50 KB)\n"
            ],
            "text/html": [
              "<pre style=\"white-space:pre;overflow-x:auto;line-height:normal;font-family:Menlo,'DejaVu Sans Mono',consolas,'Courier New',monospace\"><span style=\"font-weight: bold\"> Non-trainable params: </span><span style=\"color: #00af00; text-decoration-color: #00af00\">896</span> (3.50 KB)\n",
              "</pre>\n"
            ]
          },
          "metadata": {}
        }
      ]
    },
    {
      "cell_type": "markdown",
      "source": [
        "## Train It"
      ],
      "metadata": {
        "id": "7VMM84y2dW4n"
      }
    },
    {
      "cell_type": "code",
      "source": [
        "from tensorflow.keras import callbacks\n",
        "\n",
        "model.compile(optimizer=tf.keras.optimizers.Adam(1e-3),\n",
        "              loss=\"sparse_categorical_crossentropy\",\n",
        "              metrics=[\"accuracy\"])\n",
        "\n",
        "rlrop = callbacks.ReduceLROnPlateau(\n",
        "    monitor=\"val_accuracy\", factor=0.5, patience=2, min_lr=1e-5, verbose=1\n",
        ")\n",
        "es = callbacks.EarlyStopping(\n",
        "    monitor=\"val_accuracy\", patience=6, restore_best_weights=True, verbose=1\n",
        ")\n",
        "\n",
        "history = model.fit(\n",
        "    x_train, y_train,\n",
        "    epochs=60,           # longer run; ES will stop early\n",
        "    batch_size=128,\n",
        "    validation_split=0.10,     # from TRAIN only\n",
        "    callbacks=[rlrop, es],\n",
        "    verbose=2\n",
        ")"
      ],
      "metadata": {
        "colab": {
          "base_uri": "https://localhost:8080/"
        },
        "id": "CuAun77ldYie",
        "outputId": "b1c95363-b9c3-48b5-f212-25c1772f08ec"
      },
      "execution_count": 6,
      "outputs": [
        {
          "output_type": "stream",
          "name": "stdout",
          "text": [
            "Epoch 1/60\n",
            "194/194 - 21s - 111ms/step - accuracy: 0.6083 - loss: 1.3851 - val_accuracy: 0.0572 - val_loss: 4.1373 - learning_rate: 1.0000e-03\n",
            "Epoch 2/60\n",
            "194/194 - 1s - 6ms/step - accuracy: 0.9524 - loss: 0.2442 - val_accuracy: 0.2753 - val_loss: 2.3629 - learning_rate: 1.0000e-03\n",
            "Epoch 3/60\n",
            "194/194 - 1s - 5ms/step - accuracy: 0.9904 - loss: 0.0735 - val_accuracy: 0.9811 - val_loss: 0.1048 - learning_rate: 1.0000e-03\n",
            "Epoch 4/60\n",
            "194/194 - 1s - 5ms/step - accuracy: 0.9971 - loss: 0.0353 - val_accuracy: 0.9996 - val_loss: 0.0163 - learning_rate: 1.0000e-03\n",
            "Epoch 5/60\n",
            "194/194 - 1s - 5ms/step - accuracy: 0.9980 - loss: 0.0203 - val_accuracy: 0.9996 - val_loss: 0.0062 - learning_rate: 1.0000e-03\n",
            "Epoch 6/60\n",
            "\n",
            "Epoch 6: ReduceLROnPlateau reducing learning rate to 0.0005000000237487257.\n",
            "194/194 - 1s - 5ms/step - accuracy: 0.9985 - loss: 0.0155 - val_accuracy: 0.9938 - val_loss: 0.0183 - learning_rate: 1.0000e-03\n",
            "Epoch 7/60\n",
            "194/194 - 1s - 5ms/step - accuracy: 0.9991 - loss: 0.0092 - val_accuracy: 1.0000 - val_loss: 2.9800e-04 - learning_rate: 5.0000e-04\n",
            "Epoch 8/60\n",
            "194/194 - 1s - 5ms/step - accuracy: 0.9994 - loss: 0.0076 - val_accuracy: 1.0000 - val_loss: 5.5879e-04 - learning_rate: 5.0000e-04\n",
            "Epoch 9/60\n",
            "\n",
            "Epoch 9: ReduceLROnPlateau reducing learning rate to 0.0002500000118743628.\n",
            "194/194 - 1s - 5ms/step - accuracy: 0.9998 - loss: 0.0058 - val_accuracy: 1.0000 - val_loss: 4.6893e-04 - learning_rate: 5.0000e-04\n",
            "Epoch 10/60\n",
            "194/194 - 1s - 5ms/step - accuracy: 0.9999 - loss: 0.0041 - val_accuracy: 1.0000 - val_loss: 9.2102e-05 - learning_rate: 2.5000e-04\n",
            "Epoch 11/60\n",
            "\n",
            "Epoch 11: ReduceLROnPlateau reducing learning rate to 0.0001250000059371814.\n",
            "194/194 - 1s - 5ms/step - accuracy: 0.9998 - loss: 0.0045 - val_accuracy: 1.0000 - val_loss: 8.5942e-05 - learning_rate: 2.5000e-04\n",
            "Epoch 12/60\n",
            "194/194 - 1s - 5ms/step - accuracy: 1.0000 - loss: 0.0036 - val_accuracy: 1.0000 - val_loss: 4.4965e-05 - learning_rate: 1.2500e-04\n",
            "Epoch 13/60\n",
            "\n",
            "Epoch 13: ReduceLROnPlateau reducing learning rate to 6.25000029685907e-05.\n",
            "194/194 - 1s - 5ms/step - accuracy: 1.0000 - loss: 0.0033 - val_accuracy: 1.0000 - val_loss: 3.8980e-05 - learning_rate: 1.2500e-04\n",
            "Epoch 13: early stopping\n",
            "Restoring model weights from the end of the best epoch: 7.\n"
          ]
        }
      ]
    },
    {
      "cell_type": "code",
      "source": [
        "test_loss, test_acc = model.evaluate(x_test, y_test, verbose=0)\n",
        "print(\"Q1 Test accuracy:\", round(float(test_acc), 4))"
      ],
      "metadata": {
        "colab": {
          "base_uri": "https://localhost:8080/"
        },
        "id": "JhmKA85Hpusz",
        "outputId": "233a82d6-48b3-4fd2-b0ae-8dd8454bd2d0"
      },
      "execution_count": 7,
      "outputs": [
        {
          "output_type": "stream",
          "name": "stdout",
          "text": [
            "Q1 Test accuracy: 0.9974\n"
          ]
        }
      ]
    },
    {
      "cell_type": "markdown",
      "source": [
        "## Accuracy Overall (Proof)"
      ],
      "metadata": {
        "id": "kDgJ_Ti_oQVa"
      }
    },
    {
      "cell_type": "code",
      "source": [
        "# === Q1: summarize training/validation accuracy over all completed epochs ===\n",
        "import numpy as np\n",
        "\n",
        "hist = history.history\n",
        "# Works with both old/new key names\n",
        "train_key = 'accuracy' if 'accuracy' in hist else 'acc'\n",
        "val_key   = 'val_accuracy' if 'val_accuracy' in hist else 'val_acc'\n",
        "\n",
        "train_acc = np.array(hist[train_key], dtype=float)\n",
        "val_acc   = np.array(hist[val_key],   dtype=float)\n",
        "\n",
        "epochs_run = len(val_acc)\n",
        "best_idx   = int(np.argmax(val_acc))           # 0-based\n",
        "best_epoch = best_idx + 1                      # 1-based\n",
        "best_val   = float(val_acc[best_idx])\n",
        "mean_val   = float(val_acc.mean())\n",
        "mean_train = float(train_acc.mean())\n",
        "\n",
        "print(f\"Epochs completed: {epochs_run}\")\n",
        "print(f\"Mean TRAIN accuracy over epochs: {mean_train:.4f}\")\n",
        "print(f\"Mean VAL   accuracy over epochs: {mean_val:.4f}\")\n",
        "print(f\"Best VAL accuracy: {best_val:.4f} (epoch {best_epoch})\")\n",
        "print(f\"Last VAL accuracy: {val_acc[-1]:.4f}\")\n",
        "\n",
        "try:\n",
        "    print(f\"TEST accuracy: {float(test_acc):.4f}\")\n",
        "except NameError:\n",
        "    print(\"TEST accuracy: (run your evaluate cell to show this)\")\n",
        "\n",
        "# Quick pass/fail for the assignment target\n",
        "meets_target = (mean_val >= 0.92) or ('test_acc' in globals() and float(test_acc) >= 0.92)\n",
        "print(\"Meets ≥92% target (mean VAL or TEST):\", \"Yes\" if meets_target else \"Not yet\")"
      ],
      "metadata": {
        "colab": {
          "base_uri": "https://localhost:8080/"
        },
        "id": "XZZryytNo00C",
        "outputId": "4a3d5ccc-3c49-4059-ec65-8946f97a3641"
      },
      "execution_count": 8,
      "outputs": [
        {
          "output_type": "stream",
          "name": "stdout",
          "text": [
            "Epochs completed: 13\n",
            "Mean TRAIN accuracy over epochs: 0.9648\n",
            "Mean VAL   accuracy over epochs: 0.8697\n",
            "Best VAL accuracy: 1.0000 (epoch 7)\n",
            "Last VAL accuracy: 1.0000\n",
            "TEST accuracy: 0.9974\n",
            "Meets ≥92% target (mean VAL or TEST): Yes\n"
          ]
        }
      ]
    },
    {
      "cell_type": "markdown",
      "source": [
        "## Save the Model"
      ],
      "metadata": {
        "id": "ldd5UImHda0H"
      }
    },
    {
      "cell_type": "code",
      "source": [
        "model.save(\"asl_mnist_baseline.keras\")\n",
        "print(\"Saved: asl_mnist_baseline.keras\")"
      ],
      "metadata": {
        "colab": {
          "base_uri": "https://localhost:8080/"
        },
        "id": "voce3hnIdc6F",
        "outputId": "98a49e86-475b-4660-e2d3-97accb491eb4"
      },
      "execution_count": 9,
      "outputs": [
        {
          "output_type": "stream",
          "name": "stdout",
          "text": [
            "Saved: asl_mnist_baseline.keras\n"
          ]
        }
      ]
    },
    {
      "cell_type": "markdown",
      "source": [
        "## Q2a New Stuff Here"
      ],
      "metadata": {
        "id": "_YYU5CYNKUxd"
      }
    },
    {
      "cell_type": "code",
      "source": [
        "SAVE_PATH = \"asl_mnist_baseline.keras\"\n",
        "if \"model\" in globals():\n",
        "    model.save(SAVE_PATH)\n",
        "    print(f\"Saved trained model to {SAVE_PATH}\")\n",
        "else:\n",
        "    print(\"No in-memory model found; loading from disk...\")\n",
        "    model = tf.keras.models.load_model(SAVE_PATH)\n",
        "    print(f\"Loaded model from {SAVE_PATH}\")\n",
        "\n",
        "# Sanity: have test tensors?\n",
        "assert \"x_test\" in globals() and \"y_test\" in globals(), \"x_test / y_test not found (rerun Q1 data cells).\"\n",
        "print(\"Test set:\", x_test.shape, y_test.shape)"
      ],
      "metadata": {
        "colab": {
          "base_uri": "https://localhost:8080/"
        },
        "id": "n497ZYoOKT8f",
        "outputId": "1631ffe9-5c7a-4737-8cac-a513f78e6c7e"
      },
      "execution_count": 10,
      "outputs": [
        {
          "output_type": "stream",
          "name": "stdout",
          "text": [
            "Saved trained model to asl_mnist_baseline.keras\n",
            "Test set: (7172, 28, 28, 1) (7172,)\n"
          ]
        }
      ]
    },
    {
      "cell_type": "markdown",
      "source": [
        "## Helper Method"
      ],
      "metadata": {
        "id": "TKmIIsLRItRu"
      }
    },
    {
      "cell_type": "code",
      "source": [
        "def tflite_accuracy(tflite_path, x, y, batch_size=128):\n",
        "    import numpy as np\n",
        "    import tensorflow as tf\n",
        "    from tensorflow.lite.python.interpreter import Interpreter  # deprecation warning is fine for now\n",
        "\n",
        "    x = x.astype(np.float32)\n",
        "    interp = Interpreter(model_path=tflite_path)\n",
        "    # We’ll (re)allocate per batch, so no allocate_tensors() yet\n",
        "\n",
        "    # Read expected spatial dims\n",
        "    in_det  = interp.get_input_details()[0]\n",
        "    out_det = interp.get_output_details()[0]\n",
        "    # Safe default if the model stores a dummy batch dim\n",
        "    H, W, C = int(in_det['shape'][1]), int(in_det['shape'][2]), int(in_det['shape'][3])\n",
        "\n",
        "    n = len(x)\n",
        "    correct = 0\n",
        "    start = 0\n",
        "    while start < n:\n",
        "        end = min(start + batch_size, n)\n",
        "        batch = x[start:end]\n",
        "\n",
        "        # ---- KEY: resize to current batch size, then allocate, then run\n",
        "        interp.resize_tensor_input(in_det['index'], [end - start, H, W, C], strict=False)\n",
        "        interp.allocate_tensors()\n",
        "        interp.set_tensor(in_det['index'], batch)\n",
        "        interp.invoke()\n",
        "        preds = interp.get_tensor(out_det['index'])   # shape [B, 24]\n",
        "        correct += int((np.argmax(preds, axis=1) == y[start:end]).sum())\n",
        "        start = end\n",
        "\n",
        "    return correct / n"
      ],
      "metadata": {
        "id": "gwlAVuwDIujn"
      },
      "execution_count": 23,
      "outputs": []
    },
    {
      "cell_type": "markdown",
      "source": [
        "## Convert to float TFLite"
      ],
      "metadata": {
        "id": "oUY8GAmBIxKa"
      }
    },
    {
      "cell_type": "code",
      "source": [
        "# Float TFLite (baseline)\n",
        "converter = tf.lite.TFLiteConverter.from_keras_model(model)\n",
        "tflite_float = converter.convert()\n",
        "open(\"s_mnist.tflite\", \"wb\").write(tflite_float)\n",
        "\n",
        "print(\"Wrote s_mnist.tflite\")"
      ],
      "metadata": {
        "colab": {
          "base_uri": "https://localhost:8080/"
        },
        "id": "r7txSXOEI19x",
        "outputId": "f61c9b96-2f9e-485e-e1e1-6ee2263a2a12"
      },
      "execution_count": 24,
      "outputs": [
        {
          "output_type": "stream",
          "name": "stdout",
          "text": [
            "Saved artifact at '/tmp/tmp64afuzdp'. The following endpoints are available:\n",
            "\n",
            "* Endpoint 'serve'\n",
            "  args_0 (POSITIONAL_ONLY): TensorSpec(shape=(None, 28, 28, 1), dtype=tf.float32, name='keras_tensor')\n",
            "Output Type:\n",
            "  TensorSpec(shape=(None, 24), dtype=tf.float32, name=None)\n",
            "Captures:\n",
            "  139118138538128: TensorSpec(shape=(), dtype=tf.resource, name=None)\n",
            "  139118138539856: TensorSpec(shape=(), dtype=tf.resource, name=None)\n",
            "  139118131331536: TensorSpec(shape=(), dtype=tf.resource, name=None)\n",
            "  139118138536976: TensorSpec(shape=(), dtype=tf.resource, name=None)\n",
            "  139118138539472: TensorSpec(shape=(), dtype=tf.resource, name=None)\n",
            "  139118131331152: TensorSpec(shape=(), dtype=tf.resource, name=None)\n",
            "  139118131334032: TensorSpec(shape=(), dtype=tf.resource, name=None)\n",
            "  139118131333840: TensorSpec(shape=(), dtype=tf.resource, name=None)\n",
            "  139118131332496: TensorSpec(shape=(), dtype=tf.resource, name=None)\n",
            "  139118131332880: TensorSpec(shape=(), dtype=tf.resource, name=None)\n",
            "  139118131335184: TensorSpec(shape=(), dtype=tf.resource, name=None)\n",
            "  139118131336144: TensorSpec(shape=(), dtype=tf.resource, name=None)\n",
            "  139118131335952: TensorSpec(shape=(), dtype=tf.resource, name=None)\n",
            "  139118131335568: TensorSpec(shape=(), dtype=tf.resource, name=None)\n",
            "  139118131336720: TensorSpec(shape=(), dtype=tf.resource, name=None)\n",
            "  139118131337104: TensorSpec(shape=(), dtype=tf.resource, name=None)\n",
            "  139118131337296: TensorSpec(shape=(), dtype=tf.resource, name=None)\n",
            "  139118131336336: TensorSpec(shape=(), dtype=tf.resource, name=None)\n",
            "  139118131336912: TensorSpec(shape=(), dtype=tf.resource, name=None)\n",
            "  139118131337872: TensorSpec(shape=(), dtype=tf.resource, name=None)\n",
            "  139118131335760: TensorSpec(shape=(), dtype=tf.resource, name=None)\n",
            "  139118131338832: TensorSpec(shape=(), dtype=tf.resource, name=None)\n",
            "  139118131338640: TensorSpec(shape=(), dtype=tf.resource, name=None)\n",
            "  139118131337488: TensorSpec(shape=(), dtype=tf.resource, name=None)\n",
            "  139118131339408: TensorSpec(shape=(), dtype=tf.resource, name=None)\n",
            "  139118131337680: TensorSpec(shape=(), dtype=tf.resource, name=None)\n",
            "  139118131340176: TensorSpec(shape=(), dtype=tf.resource, name=None)\n",
            "  139118131339984: TensorSpec(shape=(), dtype=tf.resource, name=None)\n",
            "  139118131338064: TensorSpec(shape=(), dtype=tf.resource, name=None)\n",
            "  139118131339792: TensorSpec(shape=(), dtype=tf.resource, name=None)\n",
            "  139118131340752: TensorSpec(shape=(), dtype=tf.resource, name=None)\n",
            "  139118131339024: TensorSpec(shape=(), dtype=tf.resource, name=None)\n",
            "Wrote s_mnist.tflite\n"
          ]
        }
      ]
    },
    {
      "cell_type": "markdown",
      "source": [
        "## Convert with Dynamic Range"
      ],
      "metadata": {
        "id": "oUQJNCh_I-N1"
      }
    },
    {
      "cell_type": "code",
      "source": [
        "# Dynamic range quantization (weights → int8; activations quantized dynamically at runtime)\n",
        "converter = tf.lite.TFLiteConverter.from_keras_model(model)\n",
        "converter.optimizations = [tf.lite.Optimize.DEFAULT]\n",
        "tflite_dyn = converter.convert()\n",
        "open(\"s_mnist_quant_dyn.tflite\", \"wb\").write(tflite_dyn)\n",
        "\n",
        "print(\"Wrote s_mnist_quant_dyn.tflite\")"
      ],
      "metadata": {
        "colab": {
          "base_uri": "https://localhost:8080/"
        },
        "id": "mQbrYRBiJA2x",
        "outputId": "fe985018-7248-4e76-d1f9-e46ec9d1eead"
      },
      "execution_count": 25,
      "outputs": [
        {
          "output_type": "stream",
          "name": "stdout",
          "text": [
            "Saved artifact at '/tmp/tmpstud0atn'. The following endpoints are available:\n",
            "\n",
            "* Endpoint 'serve'\n",
            "  args_0 (POSITIONAL_ONLY): TensorSpec(shape=(None, 28, 28, 1), dtype=tf.float32, name='keras_tensor')\n",
            "Output Type:\n",
            "  TensorSpec(shape=(None, 24), dtype=tf.float32, name=None)\n",
            "Captures:\n",
            "  139118138538128: TensorSpec(shape=(), dtype=tf.resource, name=None)\n",
            "  139118138539856: TensorSpec(shape=(), dtype=tf.resource, name=None)\n",
            "  139118131331536: TensorSpec(shape=(), dtype=tf.resource, name=None)\n",
            "  139118138536976: TensorSpec(shape=(), dtype=tf.resource, name=None)\n",
            "  139118138539472: TensorSpec(shape=(), dtype=tf.resource, name=None)\n",
            "  139118131331152: TensorSpec(shape=(), dtype=tf.resource, name=None)\n",
            "  139118131334032: TensorSpec(shape=(), dtype=tf.resource, name=None)\n",
            "  139118131333840: TensorSpec(shape=(), dtype=tf.resource, name=None)\n",
            "  139118131332496: TensorSpec(shape=(), dtype=tf.resource, name=None)\n",
            "  139118131332880: TensorSpec(shape=(), dtype=tf.resource, name=None)\n",
            "  139118131335184: TensorSpec(shape=(), dtype=tf.resource, name=None)\n",
            "  139118131336144: TensorSpec(shape=(), dtype=tf.resource, name=None)\n",
            "  139118131335952: TensorSpec(shape=(), dtype=tf.resource, name=None)\n",
            "  139118131335568: TensorSpec(shape=(), dtype=tf.resource, name=None)\n",
            "  139118131336720: TensorSpec(shape=(), dtype=tf.resource, name=None)\n",
            "  139118131337104: TensorSpec(shape=(), dtype=tf.resource, name=None)\n",
            "  139118131337296: TensorSpec(shape=(), dtype=tf.resource, name=None)\n",
            "  139118131336336: TensorSpec(shape=(), dtype=tf.resource, name=None)\n",
            "  139118131336912: TensorSpec(shape=(), dtype=tf.resource, name=None)\n",
            "  139118131337872: TensorSpec(shape=(), dtype=tf.resource, name=None)\n",
            "  139118131335760: TensorSpec(shape=(), dtype=tf.resource, name=None)\n",
            "  139118131338832: TensorSpec(shape=(), dtype=tf.resource, name=None)\n",
            "  139118131338640: TensorSpec(shape=(), dtype=tf.resource, name=None)\n",
            "  139118131337488: TensorSpec(shape=(), dtype=tf.resource, name=None)\n",
            "  139118131339408: TensorSpec(shape=(), dtype=tf.resource, name=None)\n",
            "  139118131337680: TensorSpec(shape=(), dtype=tf.resource, name=None)\n",
            "  139118131340176: TensorSpec(shape=(), dtype=tf.resource, name=None)\n",
            "  139118131339984: TensorSpec(shape=(), dtype=tf.resource, name=None)\n",
            "  139118131338064: TensorSpec(shape=(), dtype=tf.resource, name=None)\n",
            "  139118131339792: TensorSpec(shape=(), dtype=tf.resource, name=None)\n",
            "  139118131340752: TensorSpec(shape=(), dtype=tf.resource, name=None)\n",
            "  139118131339024: TensorSpec(shape=(), dtype=tf.resource, name=None)\n",
            "Wrote s_mnist_quant_dyn.tflite\n"
          ]
        }
      ]
    },
    {
      "cell_type": "markdown",
      "source": [
        "## Evaluate BOTH Models"
      ],
      "metadata": {
        "id": "mE5jPbp6JDkS"
      }
    },
    {
      "cell_type": "code",
      "source": [
        "acc_float = tflite_accuracy(\"s_mnist.tflite\", x_test, y_test)       # or tflite_accuracy_b1(...)\n",
        "acc_dyn   = tflite_accuracy(\"s_mnist_quant_dyn.tflite\", x_test, y_test)\n",
        "\n",
        "import os\n",
        "mb = lambda p: os.path.getsize(p)/1024/1024\n",
        "print(f\"Float TFLite : acc={acc_float:.4f} | size={mb('s_mnist.tflite'):.2f} MB\")\n",
        "print(f\"Dynamic-Range: acc={acc_dyn:.4f} | size={mb('s_mnist_quant_dyn.tflite'):.2f} MB\")\n",
        "print(f\"Δacc (dyn - float): {acc_dyn-acc_float:+.4f}\")\n",
        "print(f\"Size reduction     : {(1 - mb('s_mnist_quant_dyn.tflite')/mb('s_mnist.tflite'))*100:.1f}%\")"
      ],
      "metadata": {
        "colab": {
          "base_uri": "https://localhost:8080/"
        },
        "id": "lDwhYMnKJFWm",
        "outputId": "09bf6f82-8098-496f-b388-590817b3d9eb"
      },
      "execution_count": 26,
      "outputs": [
        {
          "output_type": "stream",
          "name": "stderr",
          "text": [
            "/usr/local/lib/python3.12/dist-packages/tensorflow/lite/python/interpreter.py:457: UserWarning:     Warning: tf.lite.Interpreter is deprecated and is scheduled for deletion in\n",
            "    TF 2.20. Please use the LiteRT interpreter from the ai_edge_litert package.\n",
            "    See the [migration guide](https://ai.google.dev/edge/litert/migration)\n",
            "    for details.\n",
            "    \n",
            "  warnings.warn(_INTERPRETER_DELETION_WARNING)\n"
          ]
        },
        {
          "output_type": "stream",
          "name": "stdout",
          "text": [
            "Float TFLite : acc=0.9974 | size=1.11 MB\n",
            "Dynamic-Range: acc=0.9974 | size=0.29 MB\n",
            "Δacc (dyn - float): +0.0000\n",
            "Size reduction     : 74.0%\n"
          ]
        }
      ]
    },
    {
      "cell_type": "markdown",
      "source": [
        "## Isa's Write Up"
      ],
      "metadata": {
        "id": "dD-m3SpBQnhT"
      }
    },
    {
      "cell_type": "markdown",
      "source": [
        "#### I converted my ASL MNIST CNN to TensorFlow Lite and evaluated both the float TFLite model and a dynamic-range quantized version. The float model (s_mnist.tflite) achieved 99.74% test accuracy and is around 1.11 MB. The dynamic-range model (s_mnist_quant_dyn.tflite) also achieved 99.74% accuracy, while shrinking to around 0.29 MB (~74% smaller). Dynamic range quantization statically quantizes weights to int8 and dynamically quantizes activations at runtime, which typically improves CPU latency with little/no accuracy loss. In my case there was no measurable accuracy drop and a large size reduction, so this is a good trade-off for embedded deployment."
      ],
      "metadata": {
        "id": "RkpJ3TwEQptX"
      }
    }
  ]
}