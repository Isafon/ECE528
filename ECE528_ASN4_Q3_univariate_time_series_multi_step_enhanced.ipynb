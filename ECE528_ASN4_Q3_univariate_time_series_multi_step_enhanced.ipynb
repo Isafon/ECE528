{
  "cells": [
    {
      "cell_type": "markdown",
      "metadata": {
        "id": "view-in-github",
        "colab_type": "text"
      },
      "source": [
        "<a href=\"https://colab.research.google.com/github/Isafon/ECE528/blob/main/ECE528_ASN4_Q3_univariate_time_series_multi_step_enhanced.ipynb\" target=\"_parent\"><img src=\"https://colab.research.google.com/assets/colab-badge.svg\" alt=\"Open In Colab\"/></a>"
      ]
    },
    {
      "cell_type": "code",
      "execution_count": 1,
      "metadata": {
        "id": "-9ORDaalDCP1"
      },
      "outputs": [],
      "source": [
        "import sys\n",
        "import sklearn\n",
        "import os\n",
        "os.environ[\"KERAS_BACKEND\"] = \"tensorflow\"\n",
        "import keras\n",
        "from keras import layers\n",
        "\n",
        "import numpy as np\n",
        "from numpy import load\n",
        "\n",
        "# to make this notebook's output stable across runs\n",
        "np.random.seed(42)\n",
        "keras.utils.set_random_seed(42)\n",
        "\n",
        "# To plot pretty figures\n",
        "%matplotlib inline\n",
        "import matplotlib as mpl\n",
        "import matplotlib.pyplot as plt\n",
        "mpl.rc('axes', labelsize=14)\n",
        "mpl.rc('xtick', labelsize=12)\n",
        "mpl.rc('ytick', labelsize=12)\n",
        "\n",
        "# Where to save the figures\n",
        "PROJECT_ROOT_DIR = \".\"\n",
        "IMAGES_PATH = os.path.join(PROJECT_ROOT_DIR, \"images\")\n",
        "os.makedirs(IMAGES_PATH, exist_ok=True)\n",
        "\n",
        "def save_fig(fig_id, tight_layout=True, fig_extension=\"png\", resolution=300):\n",
        "    path = os.path.join(IMAGES_PATH, fig_id + \".\" + fig_extension)\n",
        "    print(\"Saving figure\", fig_id)\n",
        "    if tight_layout:\n",
        "        plt.tight_layout()\n",
        "    plt.savefig(path, format=fig_extension, dpi=resolution)"
      ]
    },
    {
      "cell_type": "markdown",
      "metadata": {
        "id": "peVazGs2DCP6"
      },
      "source": [
        "### Load Dataset"
      ]
    },
    {
      "cell_type": "code",
      "execution_count": 2,
      "metadata": {
        "id": "UeFF-BB0DCP7"
      },
      "outputs": [],
      "source": [
        "def plot_learning_curves(loss, val_loss):\n",
        "    plt.plot(np.arange(len(loss)) + 0.5, loss, \"b.-\", label=\"Training loss\")\n",
        "    plt.plot(np.arange(len(val_loss)) + 1, val_loss, \"r.-\", label=\"Validation loss\")\n",
        "    plt.gca().xaxis.set_major_locator(mpl.ticker.MaxNLocator(integer=True))\n",
        "    plt.axis([1, 20, 0, 0.2])\n",
        "    plt.legend(fontsize=14)\n",
        "    plt.xlabel(\"Epochs\")\n",
        "    plt.ylabel(\"Loss\")\n",
        "    plt.grid(True)"
      ]
    },
    {
      "cell_type": "code",
      "execution_count": 3,
      "metadata": {
        "id": "tyzGRgMzDCP8"
      },
      "outputs": [],
      "source": [
        "def plot_series(series, y=None, y_pred=None, x_label=\"$t$\", y_label=\"$x(t)$\"):\n",
        "    plt.plot(series, \".-\")\n",
        "    if y is not None:\n",
        "        plt.plot(n_steps, y, \"bx\", markersize=10)\n",
        "    if y_pred is not None:\n",
        "        plt.plot(n_steps, y_pred, \"ro\")\n",
        "    plt.grid(True)\n",
        "    if x_label:\n",
        "        plt.xlabel(x_label, fontsize=16)\n",
        "    if y_label:\n",
        "        plt.ylabel(y_label, fontsize=16, rotation=0)\n",
        "    plt.hlines(0, 0, 100, linewidth=1)\n",
        "    plt.axis([0, n_steps + 1, -1, 1])"
      ]
    },
    {
      "cell_type": "code",
      "execution_count": 4,
      "metadata": {
        "id": "sHRVa7GBDCP9"
      },
      "outputs": [],
      "source": [
        "def plot_multiple_forecasts(X, Y, Y_pred):\n",
        "    n_steps = X.shape[1]\n",
        "    ahead = Y.shape[1]\n",
        "    plot_series(X[0, :, 0])\n",
        "    plt.plot(np.arange(n_steps, n_steps + ahead), Y[0, :, 0], \"ro-\", label=\"Actual\")\n",
        "    plt.plot(np.arange(n_steps, n_steps + ahead), Y_pred[0, :, 0], \"bx-\", label=\"Forecast\", markersize=10)\n",
        "    plt.axis([0, n_steps + ahead, -1, 1])\n",
        "    plt.legend(fontsize=14)"
      ]
    },
    {
      "cell_type": "code",
      "execution_count": 5,
      "metadata": {
        "id": "Pk2xVzkADCP-"
      },
      "outputs": [],
      "source": [
        "n_steps = 60\n",
        "series = load('univariate-time-series-multi-step.npy')\n",
        "\n",
        "X_train, y_train = series[:9000, :n_steps], series[:9000, n_steps-series.shape[1]:] # -1 references the last column\n",
        "X_valid, y_valid = series[9000:11000, :n_steps], series[9000:11000, n_steps-series.shape[1]:]\n",
        "X_test, y_test = series[11000:, :n_steps], series[11000:, n_steps-series.shape[1]:]"
      ]
    },
    {
      "cell_type": "markdown",
      "metadata": {
        "id": "NanBLma6DCP-"
      },
      "source": [
        "## Improving multi-step prediction model\n",
        "\n",
        "Instead of training the model to forecast the next 10 values only at the very last time step, we can train it to forecast the next 10 values at each and every time step. In other words, we can turn this sequence-to-vector RNN into a sequence-to-sequence RNN. The advantage of this technique is that the loss will contain a term for the output of the RNN at each and every time step, not just the output at the last time step. This means there will be many more error gradients flowing through the model, and they will also flow from the output of each time step. This will both stabilize and speed up training. To be clear, at time step 0 the model will output a vector containing the forecasts for time steps 1 to 10, then at time step 1 the model will forecast time steps 2 to 11, and so on. So each target must be a sequence of the same length as the input sequence, containing a 10-dimensional vector at each step. Let’s prepare these target sequences."
      ]
    },
    {
      "cell_type": "code",
      "execution_count": 6,
      "metadata": {
        "id": "PopJuyGeDCQA"
      },
      "outputs": [],
      "source": [
        "Y = np.empty((12000, n_steps, 10))"
      ]
    },
    {
      "cell_type": "code",
      "execution_count": 7,
      "metadata": {
        "id": "QZuw9xssDCQA"
      },
      "outputs": [],
      "source": [
        "# each target is a sequence of 10D vectors, because in each of the 60 time steps the model will predict 10 time steps\n",
        "for step_ahead in range(1, 10 + 1):\n",
        "    Y[..., step_ahead - 1] = series[..., step_ahead:step_ahead + n_steps, 0]\n",
        "    # same as     Y[:, :, step_ahead - 1] = series[:, step_ahead:step_ahead + n_steps, 0]\n",
        "    # broadcasting 1-61 to 0th element of z axis of each of the 10k rows\n",
        "    # then 2-62 to 1st element of z-axis ... all the way till 10-70 to 9th element of z axis of the 10k rows\n",
        "Y_train = Y[:9000]\n",
        "Y_valid = Y[9000:11000]\n",
        "Y_test = Y[11000:]"
      ]
    },
    {
      "cell_type": "code",
      "execution_count": 8,
      "metadata": {
        "colab": {
          "base_uri": "https://localhost:8080/"
        },
        "id": "HkTsPdv3DCQB",
        "outputId": "b3322f97-e032-4344-f0a6-733e62a1c82b"
      },
      "outputs": [
        {
          "output_type": "execute_result",
          "data": {
            "text/plain": [
              "((9000, 60, 1), (9000, 60, 10))"
            ]
          },
          "metadata": {},
          "execution_count": 8
        }
      ],
      "source": [
        "X_train.shape, Y_train.shape"
      ]
    },
    {
      "cell_type": "code",
      "execution_count": 9,
      "metadata": {
        "colab": {
          "base_uri": "https://localhost:8080/"
        },
        "id": "O_MDX61mDCQD",
        "outputId": "be0f3077-d787-4237-c92b-612422ad16f8"
      },
      "outputs": [
        {
          "output_type": "stream",
          "name": "stderr",
          "text": [
            "/usr/local/lib/python3.12/dist-packages/keras/src/layers/reshaping/flatten.py:37: UserWarning: Do not pass an `input_shape`/`input_dim` argument to a layer. When using Sequential models, prefer using an `Input(shape)` object as the first layer in the model instead.\n",
            "  super().__init__(**kwargs)\n"
          ]
        },
        {
          "output_type": "stream",
          "name": "stdout",
          "text": [
            "Epoch 1/20\n",
            "\u001b[1m282/282\u001b[0m \u001b[32m━━━━━━━━━━━━━━━━━━━━\u001b[0m\u001b[37m\u001b[0m \u001b[1m20s\u001b[0m 32ms/step - last_time_step_mse: 0.1172 - loss: 0.1162 - val_last_time_step_mse: 0.0995 - val_loss: 0.0952\n",
            "Epoch 2/20\n",
            "\u001b[1m282/282\u001b[0m \u001b[32m━━━━━━━━━━━━━━━━━━━━\u001b[0m\u001b[37m\u001b[0m \u001b[1m1s\u001b[0m 3ms/step - last_time_step_mse: 0.0966 - loss: 0.0953 - val_last_time_step_mse: 0.0995 - val_loss: 0.0952\n",
            "Epoch 3/20\n",
            "\u001b[1m282/282\u001b[0m \u001b[32m━━━━━━━━━━━━━━━━━━━━\u001b[0m\u001b[37m\u001b[0m \u001b[1m1s\u001b[0m 3ms/step - last_time_step_mse: 0.0966 - loss: 0.0953 - val_last_time_step_mse: 0.0995 - val_loss: 0.0952\n",
            "Epoch 4/20\n",
            "\u001b[1m282/282\u001b[0m \u001b[32m━━━━━━━━━━━━━━━━━━━━\u001b[0m\u001b[37m\u001b[0m \u001b[1m1s\u001b[0m 3ms/step - last_time_step_mse: 0.0966 - loss: 0.0953 - val_last_time_step_mse: 0.0995 - val_loss: 0.0952\n",
            "Epoch 5/20\n",
            "\u001b[1m282/282\u001b[0m \u001b[32m━━━━━━━━━━━━━━━━━━━━\u001b[0m\u001b[37m\u001b[0m \u001b[1m1s\u001b[0m 3ms/step - last_time_step_mse: 0.0966 - loss: 0.0953 - val_last_time_step_mse: 0.0995 - val_loss: 0.0952\n",
            "Epoch 6/20\n",
            "\u001b[1m282/282\u001b[0m \u001b[32m━━━━━━━━━━━━━━━━━━━━\u001b[0m\u001b[37m\u001b[0m \u001b[1m1s\u001b[0m 3ms/step - last_time_step_mse: 0.0966 - loss: 0.0953 - val_last_time_step_mse: 0.0995 - val_loss: 0.0952\n",
            "Epoch 7/20\n",
            "\u001b[1m282/282\u001b[0m \u001b[32m━━━━━━━━━━━━━━━━━━━━\u001b[0m\u001b[37m\u001b[0m \u001b[1m1s\u001b[0m 3ms/step - last_time_step_mse: 0.0966 - loss: 0.0953 - val_last_time_step_mse: 0.0995 - val_loss: 0.0952\n",
            "Epoch 8/20\n",
            "\u001b[1m282/282\u001b[0m \u001b[32m━━━━━━━━━━━━━━━━━━━━\u001b[0m\u001b[37m\u001b[0m \u001b[1m1s\u001b[0m 3ms/step - last_time_step_mse: 0.0966 - loss: 0.0953 - val_last_time_step_mse: 0.0995 - val_loss: 0.0952\n",
            "Epoch 9/20\n",
            "\u001b[1m282/282\u001b[0m \u001b[32m━━━━━━━━━━━━━━━━━━━━\u001b[0m\u001b[37m\u001b[0m \u001b[1m1s\u001b[0m 3ms/step - last_time_step_mse: 0.0966 - loss: 0.0953 - val_last_time_step_mse: 0.0995 - val_loss: 0.0952\n",
            "Epoch 10/20\n",
            "\u001b[1m282/282\u001b[0m \u001b[32m━━━━━━━━━━━━━━━━━━━━\u001b[0m\u001b[37m\u001b[0m \u001b[1m1s\u001b[0m 3ms/step - last_time_step_mse: 0.0966 - loss: 0.0953 - val_last_time_step_mse: 0.0995 - val_loss: 0.0952\n",
            "Epoch 11/20\n",
            "\u001b[1m282/282\u001b[0m \u001b[32m━━━━━━━━━━━━━━━━━━━━\u001b[0m\u001b[37m\u001b[0m \u001b[1m1s\u001b[0m 4ms/step - last_time_step_mse: 0.0966 - loss: 0.0953 - val_last_time_step_mse: 0.0995 - val_loss: 0.0952\n",
            "Epoch 12/20\n",
            "\u001b[1m282/282\u001b[0m \u001b[32m━━━━━━━━━━━━━━━━━━━━\u001b[0m\u001b[37m\u001b[0m \u001b[1m3s\u001b[0m 9ms/step - last_time_step_mse: 0.0966 - loss: 0.0953 - val_last_time_step_mse: 0.0995 - val_loss: 0.0952\n",
            "Epoch 13/20\n",
            "\u001b[1m282/282\u001b[0m \u001b[32m━━━━━━━━━━━━━━━━━━━━\u001b[0m\u001b[37m\u001b[0m \u001b[1m1s\u001b[0m 3ms/step - last_time_step_mse: 0.0966 - loss: 0.0953 - val_last_time_step_mse: 0.0995 - val_loss: 0.0952\n",
            "Epoch 14/20\n",
            "\u001b[1m282/282\u001b[0m \u001b[32m━━━━━━━━━━━━━━━━━━━━\u001b[0m\u001b[37m\u001b[0m \u001b[1m1s\u001b[0m 3ms/step - last_time_step_mse: 0.0966 - loss: 0.0953 - val_last_time_step_mse: 0.0995 - val_loss: 0.0952\n",
            "Epoch 15/20\n",
            "\u001b[1m282/282\u001b[0m \u001b[32m━━━━━━━━━━━━━━━━━━━━\u001b[0m\u001b[37m\u001b[0m \u001b[1m1s\u001b[0m 3ms/step - last_time_step_mse: 0.0966 - loss: 0.0953 - val_last_time_step_mse: 0.0995 - val_loss: 0.0952\n",
            "Epoch 16/20\n",
            "\u001b[1m282/282\u001b[0m \u001b[32m━━━━━━━━━━━━━━━━━━━━\u001b[0m\u001b[37m\u001b[0m \u001b[1m1s\u001b[0m 3ms/step - last_time_step_mse: 0.0966 - loss: 0.0953 - val_last_time_step_mse: 0.0995 - val_loss: 0.0952\n",
            "Epoch 17/20\n",
            "\u001b[1m282/282\u001b[0m \u001b[32m━━━━━━━━━━━━━━━━━━━━\u001b[0m\u001b[37m\u001b[0m \u001b[1m1s\u001b[0m 3ms/step - last_time_step_mse: 0.0966 - loss: 0.0953 - val_last_time_step_mse: 0.0995 - val_loss: 0.0952\n",
            "Epoch 18/20\n",
            "\u001b[1m282/282\u001b[0m \u001b[32m━━━━━━━━━━━━━━━━━━━━\u001b[0m\u001b[37m\u001b[0m \u001b[1m1s\u001b[0m 3ms/step - last_time_step_mse: 0.0966 - loss: 0.0953 - val_last_time_step_mse: 0.0995 - val_loss: 0.0952\n",
            "Epoch 19/20\n",
            "\u001b[1m282/282\u001b[0m \u001b[32m━━━━━━━━━━━━━━━━━━━━\u001b[0m\u001b[37m\u001b[0m \u001b[1m1s\u001b[0m 3ms/step - last_time_step_mse: 0.0966 - loss: 0.0953 - val_last_time_step_mse: 0.0995 - val_loss: 0.0952\n",
            "Epoch 20/20\n",
            "\u001b[1m282/282\u001b[0m \u001b[32m━━━━━━━━━━━━━━━━━━━━\u001b[0m\u001b[37m\u001b[0m \u001b[1m1s\u001b[0m 3ms/step - last_time_step_mse: 0.0966 - loss: 0.0953 - val_last_time_step_mse: 0.0995 - val_loss: 0.0952\n"
          ]
        }
      ],
      "source": [
        "model = keras.models.Sequential([\n",
        "    keras.layers.TimeDistributed(keras.layers.Flatten(input_shape=[60, 1])),\n",
        "    keras.layers.TimeDistributed(keras.layers.Dense(10))\n",
        "])\n",
        "\n",
        "def last_time_step_mse(Y_true, Y_pred):\n",
        "    return keras.metrics.mean_squared_error(Y_true[:, -1], Y_pred[:, -1])\n",
        "\n",
        "model.compile(loss=\"mse\", optimizer=keras.optimizers.Adam(learning_rate=0.01), metrics=[last_time_step_mse])\n",
        "history = model.fit(X_train, Y_train, epochs=20,\n",
        "                    validation_data=(X_valid, Y_valid))"
      ]
    },
    {
      "cell_type": "code",
      "execution_count": 10,
      "metadata": {
        "colab": {
          "base_uri": "https://localhost:8080/",
          "height": 465
        },
        "id": "Zs2CK1jXDCQE",
        "outputId": "bc25d52d-e890-4a98-e382-d2de2234e368"
      },
      "outputs": [
        {
          "output_type": "display_data",
          "data": {
            "text/plain": [
              "<Figure size 640x480 with 1 Axes>"
            ],
            "image/png": "[encoded data removed]"
          },
          "metadata": {}
        }
      ],
      "source": [
        "plot_learning_curves(history.history[\"loss\"], history.history[\"val_loss\"])\n",
        "plt.show()"
      ]
    },
    {
      "cell_type": "code",
      "execution_count": 11,
      "metadata": {
        "colab": {
          "base_uri": "https://localhost:8080/"
        },
        "id": "rYPZpfP8DCQE",
        "outputId": "33431a7e-653c-4301-e8d9-054acaa1c1c1"
      },
      "outputs": [
        {
          "output_type": "stream",
          "name": "stdout",
          "text": [
            "\u001b[1m1/1\u001b[0m \u001b[32m━━━━━━━━━━━━━━━━━━━━\u001b[0m\u001b[37m\u001b[0m \u001b[1m2s\u001b[0m 2s/step\n"
          ]
        }
      ],
      "source": [
        "series = load('univariate-time-series-multi-step-test.npy')\n",
        "X_new, Y_new = series[:, :60, :], series[:, 60:, :]\n",
        "Y_pred = model.predict(X_new)[:, -1][..., np.newaxis]"
      ]
    },
    {
      "cell_type": "code",
      "execution_count": 12,
      "metadata": {
        "colab": {
          "base_uri": "https://localhost:8080/",
          "height": 466
        },
        "id": "wX4bB2QBDCQF",
        "outputId": "9ac24107-ccf7-4ca7-8dde-85aa6bfd738f"
      },
      "outputs": [
        {
          "output_type": "display_data",
          "data": {
            "text/plain": [
              "<Figure size 640x480 with 1 Axes>"
            ],
            "image/png": "[encoded data removed]"
          },
          "metadata": {}
        }
      ],
      "source": [
        "plot_multiple_forecasts(X_new, Y_new, Y_pred)\n",
        "plt.show()"
      ]
    },
    {
      "cell_type": "code",
      "execution_count": 13,
      "metadata": {
        "colab": {
          "base_uri": "https://localhost:8080/"
        },
        "id": "U6pDKEd0DCQF",
        "outputId": "d98e87e3-562f-44b2-a6ff-79e8986254f3"
      },
      "outputs": [
        {
          "output_type": "stream",
          "name": "stdout",
          "text": [
            "\u001b[1m32/32\u001b[0m \u001b[32m━━━━━━━━━━━━━━━━━━━━\u001b[0m\u001b[37m\u001b[0m \u001b[1m1s\u001b[0m 45ms/step - last_time_step_mse: 0.0984 - loss: 0.0957\n"
          ]
        },
        {
          "output_type": "execute_result",
          "data": {
            "text/plain": [
              "[0.09600172936916351, 0.09911170601844788]"
            ]
          },
          "metadata": {},
          "execution_count": 13
        }
      ],
      "source": [
        "model.evaluate(X_test, Y_test)\n",
        "#outputs [loss (mse), last_time_step_mse]"
      ]
    },
    {
      "cell_type": "markdown",
      "metadata": {
        "id": "rePaX4E0HePK"
      },
      "source": [
        "## Isa's Code Starts Here"
      ]
    },
    {
      "cell_type": "code",
      "execution_count": 21,
      "metadata": {
        "colab": {
          "base_uri": "https://localhost:8080/",
          "height": 1000
        },
        "id": "bULrj7vFHgWD",
        "outputId": "eb8dbd77-a14d-4183-fc89-9f63894974d4"
      },
      "outputs": [
        {
          "output_type": "stream",
          "name": "stdout",
          "text": [
            "Shapes OK -> X: (9000, 60, 1) Y: (9000, 10, 1)\n"
          ]
        },
        {
          "output_type": "display_data",
          "data": {
            "text/plain": [
              "\u001b[1mModel: \"q3_seq2seq_gru_td\"\u001b[0m\n"
            ],
            "text/html": [
              "<pre style=\"white-space:pre;overflow-x:auto;line-height:normal;font-family:Menlo,'DejaVu Sans Mono',consolas,'Courier New',monospace\"><span style=\"font-weight: bold\">Model: \"q3_seq2seq_gru_td\"</span>\n",
              "</pre>\n"
            ]
          },
          "metadata": {}
        },
        {
          "output_type": "display_data",
          "data": {
            "text/plain": [
              "┏━━━━━━━━━━━━━━━━━━━━━━━━━━━━━━━━━┳━━━━━━━━━━━━━━━━━━━━━━━━┳━━━━━━━━━━━━━━━┓\n",
              "┃\u001b[1m \u001b[0m\u001b[1mLayer (type)                   \u001b[0m\u001b[1m \u001b[0m┃\u001b[1m \u001b[0m\u001b[1mOutput Shape          \u001b[0m\u001b[1m \u001b[0m┃\u001b[1m \u001b[0m\u001b[1m      Param #\u001b[0m\u001b[1m \u001b[0m┃\n",
              "┡━━━━━━━━━━━━━━━━━━━━━━━━━━━━━━━━━╇━━━━━━━━━━━━━━━━━━━━━━━━╇━━━━━━━━━━━━━━━┩\n",
              "│ input_layer_6 (\u001b[38;5;33mInputLayer\u001b[0m)      │ (\u001b[38;5;45mNone\u001b[0m, \u001b[38;5;34m60\u001b[0m, \u001b[38;5;34m1\u001b[0m)          │             \u001b[38;5;34m0\u001b[0m │\n",
              "├─────────────────────────────────┼────────────────────────┼───────────────┤\n",
              "│ gru_10 (\u001b[38;5;33mGRU\u001b[0m)                    │ (\u001b[38;5;45mNone\u001b[0m, \u001b[38;5;34m128\u001b[0m)            │        \u001b[38;5;34m50,304\u001b[0m │\n",
              "├─────────────────────────────────┼────────────────────────┼───────────────┤\n",
              "│ layer_normalization_5           │ (\u001b[38;5;45mNone\u001b[0m, \u001b[38;5;34m128\u001b[0m)            │           \u001b[38;5;34m256\u001b[0m │\n",
              "│ (\u001b[38;5;33mLayerNormalization\u001b[0m)            │                        │               │\n",
              "├─────────────────────────────────┼────────────────────────┼───────────────┤\n",
              "│ repeat_vector_1 (\u001b[38;5;33mRepeatVector\u001b[0m)  │ (\u001b[38;5;45mNone\u001b[0m, \u001b[38;5;34m10\u001b[0m, \u001b[38;5;34m128\u001b[0m)        │             \u001b[38;5;34m0\u001b[0m │\n",
              "├─────────────────────────────────┼────────────────────────┼───────────────┤\n",
              "│ gru_11 (\u001b[38;5;33mGRU\u001b[0m)                    │ (\u001b[38;5;45mNone\u001b[0m, \u001b[38;5;34m10\u001b[0m, \u001b[38;5;34m128\u001b[0m)        │        \u001b[38;5;34m99,072\u001b[0m │\n",
              "├─────────────────────────────────┼────────────────────────┼───────────────┤\n",
              "│ time_distributed_12             │ (\u001b[38;5;45mNone\u001b[0m, \u001b[38;5;34m10\u001b[0m, \u001b[38;5;34m64\u001b[0m)         │         \u001b[38;5;34m8,256\u001b[0m │\n",
              "│ (\u001b[38;5;33mTimeDistributed\u001b[0m)               │                        │               │\n",
              "├─────────────────────────────────┼────────────────────────┼───────────────┤\n",
              "│ time_distributed_13             │ (\u001b[38;5;45mNone\u001b[0m, \u001b[38;5;34m10\u001b[0m, \u001b[38;5;34m1\u001b[0m)          │            \u001b[38;5;34m65\u001b[0m │\n",
              "│ (\u001b[38;5;33mTimeDistributed\u001b[0m)               │                        │               │\n",
              "└─────────────────────────────────┴────────────────────────┴───────────────┘\n"
            ],
            "text/html": [
              "<pre style=\"white-space:pre;overflow-x:auto;line-height:normal;font-family:Menlo,'DejaVu Sans Mono',consolas,'Courier New',monospace\">┏━━━━━━━━━━━━━━━━━━━━━━━━━━━━━━━━━┳━━━━━━━━━━━━━━━━━━━━━━━━┳━━━━━━━━━━━━━━━┓\n",
              "┃<span style=\"font-weight: bold\"> Layer (type)                    </span>┃<span style=\"font-weight: bold\"> Output Shape           </span>┃<span style=\"font-weight: bold\">       Param # </span>┃\n",
              "┡━━━━━━━━━━━━━━━━━━━━━━━━━━━━━━━━━╇━━━━━━━━━━━━━━━━━━━━━━━━╇━━━━━━━━━━━━━━━┩\n",
              "│ input_layer_6 (<span style=\"color: #0087ff; text-decoration-color: #0087ff\">InputLayer</span>)      │ (<span style=\"color: #00d7ff; text-decoration-color: #00d7ff\">None</span>, <span style=\"color: #00af00; text-decoration-color: #00af00\">60</span>, <span style=\"color: #00af00; text-decoration-color: #00af00\">1</span>)          │             <span style=\"color: #00af00; text-decoration-color: #00af00\">0</span> │\n",
              "├─────────────────────────────────┼────────────────────────┼───────────────┤\n",
              "│ gru_10 (<span style=\"color: #0087ff; text-decoration-color: #0087ff\">GRU</span>)                    │ (<span style=\"color: #00d7ff; text-decoration-color: #00d7ff\">None</span>, <span style=\"color: #00af00; text-decoration-color: #00af00\">128</span>)            │        <span style=\"color: #00af00; text-decoration-color: #00af00\">50,304</span> │\n",
              "├─────────────────────────────────┼────────────────────────┼───────────────┤\n",
              "│ layer_normalization_5           │ (<span style=\"color: #00d7ff; text-decoration-color: #00d7ff\">None</span>, <span style=\"color: #00af00; text-decoration-color: #00af00\">128</span>)            │           <span style=\"color: #00af00; text-decoration-color: #00af00\">256</span> │\n",
              "│ (<span style=\"color: #0087ff; text-decoration-color: #0087ff\">LayerNormalization</span>)            │                        │               │\n",
              "├─────────────────────────────────┼────────────────────────┼───────────────┤\n",
              "│ repeat_vector_1 (<span style=\"color: #0087ff; text-decoration-color: #0087ff\">RepeatVector</span>)  │ (<span style=\"color: #00d7ff; text-decoration-color: #00d7ff\">None</span>, <span style=\"color: #00af00; text-decoration-color: #00af00\">10</span>, <span style=\"color: #00af00; text-decoration-color: #00af00\">128</span>)        │             <span style=\"color: #00af00; text-decoration-color: #00af00\">0</span> │\n",
              "├─────────────────────────────────┼────────────────────────┼───────────────┤\n",
              "│ gru_11 (<span style=\"color: #0087ff; text-decoration-color: #0087ff\">GRU</span>)                    │ (<span style=\"color: #00d7ff; text-decoration-color: #00d7ff\">None</span>, <span style=\"color: #00af00; text-decoration-color: #00af00\">10</span>, <span style=\"color: #00af00; text-decoration-color: #00af00\">128</span>)        │        <span style=\"color: #00af00; text-decoration-color: #00af00\">99,072</span> │\n",
              "├─────────────────────────────────┼────────────────────────┼───────────────┤\n",
              "│ time_distributed_12             │ (<span style=\"color: #00d7ff; text-decoration-color: #00d7ff\">None</span>, <span style=\"color: #00af00; text-decoration-color: #00af00\">10</span>, <span style=\"color: #00af00; text-decoration-color: #00af00\">64</span>)         │         <span style=\"color: #00af00; text-decoration-color: #00af00\">8,256</span> │\n",
              "│ (<span style=\"color: #0087ff; text-decoration-color: #0087ff\">TimeDistributed</span>)               │                        │               │\n",
              "├─────────────────────────────────┼────────────────────────┼───────────────┤\n",
              "│ time_distributed_13             │ (<span style=\"color: #00d7ff; text-decoration-color: #00d7ff\">None</span>, <span style=\"color: #00af00; text-decoration-color: #00af00\">10</span>, <span style=\"color: #00af00; text-decoration-color: #00af00\">1</span>)          │            <span style=\"color: #00af00; text-decoration-color: #00af00\">65</span> │\n",
              "│ (<span style=\"color: #0087ff; text-decoration-color: #0087ff\">TimeDistributed</span>)               │                        │               │\n",
              "└─────────────────────────────────┴────────────────────────┴───────────────┘\n",
              "</pre>\n"
            ]
          },
          "metadata": {}
        },
        {
          "output_type": "display_data",
          "data": {
            "text/plain": [
              "\u001b[1m Total params: \u001b[0m\u001b[38;5;34m157,953\u001b[0m (617.00 KB)\n"
            ],
            "text/html": [
              "<pre style=\"white-space:pre;overflow-x:auto;line-height:normal;font-family:Menlo,'DejaVu Sans Mono',consolas,'Courier New',monospace\"><span style=\"font-weight: bold\"> Total params: </span><span style=\"color: #00af00; text-decoration-color: #00af00\">157,953</span> (617.00 KB)\n",
              "</pre>\n"
            ]
          },
          "metadata": {}
        },
        {
          "output_type": "display_data",
          "data": {
            "text/plain": [
              "\u001b[1m Trainable params: \u001b[0m\u001b[38;5;34m157,953\u001b[0m (617.00 KB)\n"
            ],
            "text/html": [
              "<pre style=\"white-space:pre;overflow-x:auto;line-height:normal;font-family:Menlo,'DejaVu Sans Mono',consolas,'Courier New',monospace\"><span style=\"font-weight: bold\"> Trainable params: </span><span style=\"color: #00af00; text-decoration-color: #00af00\">157,953</span> (617.00 KB)\n",
              "</pre>\n"
            ]
          },
          "metadata": {}
        },
        {
          "output_type": "display_data",
          "data": {
            "text/plain": [
              "\u001b[1m Non-trainable params: \u001b[0m\u001b[38;5;34m0\u001b[0m (0.00 B)\n"
            ],
            "text/html": [
              "<pre style=\"white-space:pre;overflow-x:auto;line-height:normal;font-family:Menlo,'DejaVu Sans Mono',consolas,'Courier New',monospace\"><span style=\"font-weight: bold\"> Non-trainable params: </span><span style=\"color: #00af00; text-decoration-color: #00af00\">0</span> (0.00 B)\n",
              "</pre>\n"
            ]
          },
          "metadata": {}
        },
        {
          "output_type": "stream",
          "name": "stdout",
          "text": [
            "Epoch 1/200\n",
            "71/71 - 4s - 59ms/step - last_step_mse: 0.1362 - loss: 0.0826 - val_last_step_mse: 0.1045 - val_loss: 0.0572 - learning_rate: 1.0000e-03\n",
            "Epoch 2/200\n",
            "71/71 - 1s - 14ms/step - last_step_mse: 0.0911 - loss: 0.0549 - val_last_step_mse: 0.0756 - val_loss: 0.0504 - learning_rate: 1.0000e-03\n",
            "Epoch 3/200\n",
            "71/71 - 1s - 16ms/step - last_step_mse: 0.0808 - loss: 0.0485 - val_last_step_mse: 0.0733 - val_loss: 0.0447 - learning_rate: 1.0000e-03\n",
            "Epoch 4/200\n",
            "71/71 - 1s - 13ms/step - last_step_mse: 0.0757 - loss: 0.0452 - val_last_step_mse: 0.0704 - val_loss: 0.0424 - learning_rate: 1.0000e-03\n",
            "Epoch 5/200\n",
            "71/71 - 1s - 10ms/step - last_step_mse: 0.0723 - loss: 0.0428 - val_last_step_mse: 0.0772 - val_loss: 0.0430 - learning_rate: 1.0000e-03\n",
            "Epoch 6/200\n",
            "71/71 - 1s - 10ms/step - last_step_mse: 0.0703 - loss: 0.0410 - val_last_step_mse: 0.0716 - val_loss: 0.0404 - learning_rate: 1.0000e-03\n",
            "Epoch 7/200\n",
            "71/71 - 1s - 10ms/step - last_step_mse: 0.0674 - loss: 0.0375 - val_last_step_mse: 0.0707 - val_loss: 0.0394 - learning_rate: 1.0000e-03\n",
            "Epoch 8/200\n",
            "71/71 - 1s - 11ms/step - last_step_mse: 0.0644 - loss: 0.0339 - val_last_step_mse: 0.0608 - val_loss: 0.0304 - learning_rate: 1.0000e-03\n",
            "Epoch 9/200\n",
            "71/71 - 1s - 10ms/step - last_step_mse: 0.0612 - loss: 0.0310 - val_last_step_mse: 0.0655 - val_loss: 0.0384 - learning_rate: 1.0000e-03\n",
            "Epoch 10/200\n",
            "71/71 - 1s - 10ms/step - last_step_mse: 0.0608 - loss: 0.0304 - val_last_step_mse: 0.0630 - val_loss: 0.0312 - learning_rate: 1.0000e-03\n",
            "Epoch 11/200\n",
            "71/71 - 1s - 10ms/step - last_step_mse: 0.0593 - loss: 0.0292 - val_last_step_mse: 0.0561 - val_loss: 0.0262 - learning_rate: 1.0000e-03\n",
            "Epoch 12/200\n",
            "71/71 - 1s - 11ms/step - last_step_mse: 0.0574 - loss: 0.0274 - val_last_step_mse: 0.0561 - val_loss: 0.0287 - learning_rate: 1.0000e-03\n",
            "Epoch 13/200\n",
            "71/71 - 1s - 10ms/step - last_step_mse: 0.0559 - loss: 0.0266 - val_last_step_mse: 0.0564 - val_loss: 0.0261 - learning_rate: 1.0000e-03\n",
            "Epoch 14/200\n",
            "71/71 - 1s - 10ms/step - last_step_mse: 0.0540 - loss: 0.0256 - val_last_step_mse: 0.0582 - val_loss: 0.0287 - learning_rate: 1.0000e-03\n",
            "Epoch 15/200\n",
            "71/71 - 1s - 10ms/step - last_step_mse: 0.0531 - loss: 0.0245 - val_last_step_mse: 0.0530 - val_loss: 0.0254 - learning_rate: 1.0000e-03\n",
            "Epoch 16/200\n",
            "71/71 - 1s - 10ms/step - last_step_mse: 0.0527 - loss: 0.0247 - val_last_step_mse: 0.0494 - val_loss: 0.0224 - learning_rate: 1.0000e-03\n",
            "Epoch 17/200\n",
            "71/71 - 1s - 13ms/step - last_step_mse: 0.0508 - loss: 0.0237 - val_last_step_mse: 0.0487 - val_loss: 0.0238 - learning_rate: 1.0000e-03\n",
            "Epoch 18/200\n",
            "71/71 - 1s - 15ms/step - last_step_mse: 0.0505 - loss: 0.0237 - val_last_step_mse: 0.0503 - val_loss: 0.0236 - learning_rate: 1.0000e-03\n",
            "Epoch 19/200\n",
            "71/71 - 1s - 13ms/step - last_step_mse: 0.0497 - loss: 0.0233 - val_last_step_mse: 0.0499 - val_loss: 0.0235 - learning_rate: 1.0000e-03\n",
            "Epoch 20/200\n",
            "71/71 - 1s - 11ms/step - last_step_mse: 0.0504 - loss: 0.0234 - val_last_step_mse: 0.0505 - val_loss: 0.0229 - learning_rate: 1.0000e-03\n",
            "Epoch 21/200\n",
            "71/71 - 1s - 10ms/step - last_step_mse: 0.0499 - loss: 0.0232 - val_last_step_mse: 0.0538 - val_loss: 0.0247 - learning_rate: 1.0000e-03\n",
            "Epoch 22/200\n",
            "71/71 - 1s - 10ms/step - last_step_mse: 0.0489 - loss: 0.0231 - val_last_step_mse: 0.0486 - val_loss: 0.0218 - learning_rate: 1.0000e-03\n",
            "Epoch 23/200\n",
            "71/71 - 1s - 10ms/step - last_step_mse: 0.0471 - loss: 0.0220 - val_last_step_mse: 0.0472 - val_loss: 0.0216 - learning_rate: 1.0000e-03\n",
            "Epoch 24/200\n",
            "71/71 - 1s - 10ms/step - last_step_mse: 0.0463 - loss: 0.0214 - val_last_step_mse: 0.0447 - val_loss: 0.0221 - learning_rate: 1.0000e-03\n",
            "Epoch 25/200\n",
            "71/71 - 1s - 10ms/step - last_step_mse: 0.0460 - loss: 0.0216 - val_last_step_mse: 0.0443 - val_loss: 0.0214 - learning_rate: 1.0000e-03\n",
            "Epoch 26/200\n",
            "71/71 - 1s - 10ms/step - last_step_mse: 0.0462 - loss: 0.0214 - val_last_step_mse: 0.0427 - val_loss: 0.0207 - learning_rate: 1.0000e-03\n",
            "Epoch 27/200\n",
            "71/71 - 1s - 10ms/step - last_step_mse: 0.0451 - loss: 0.0207 - val_last_step_mse: 0.0405 - val_loss: 0.0191 - learning_rate: 1.0000e-03\n",
            "Epoch 28/200\n",
            "71/71 - 1s - 10ms/step - last_step_mse: 0.0441 - loss: 0.0207 - val_last_step_mse: 0.0458 - val_loss: 0.0227 - learning_rate: 1.0000e-03\n",
            "Epoch 29/200\n",
            "71/71 - 1s - 10ms/step - last_step_mse: 0.0438 - loss: 0.0203 - val_last_step_mse: 0.0422 - val_loss: 0.0189 - learning_rate: 1.0000e-03\n",
            "Epoch 30/200\n",
            "71/71 - 1s - 11ms/step - last_step_mse: 0.0418 - loss: 0.0193 - val_last_step_mse: 0.0460 - val_loss: 0.0202 - learning_rate: 1.0000e-03\n",
            "Epoch 31/200\n",
            "71/71 - 1s - 10ms/step - last_step_mse: 0.0416 - loss: 0.0192 - val_last_step_mse: 0.0394 - val_loss: 0.0179 - learning_rate: 1.0000e-03\n",
            "Epoch 32/200\n",
            "71/71 - 1s - 12ms/step - last_step_mse: 0.0425 - loss: 0.0195 - val_last_step_mse: 0.0399 - val_loss: 0.0200 - learning_rate: 1.0000e-03\n",
            "Epoch 33/200\n",
            "71/71 - 1s - 15ms/step - last_step_mse: 0.0415 - loss: 0.0193 - val_last_step_mse: 0.0401 - val_loss: 0.0195 - learning_rate: 1.0000e-03\n",
            "Epoch 34/200\n",
            "71/71 - 1s - 14ms/step - last_step_mse: 0.0411 - loss: 0.0188 - val_last_step_mse: 0.0383 - val_loss: 0.0166 - learning_rate: 1.0000e-03\n",
            "Epoch 35/200\n",
            "71/71 - 1s - 13ms/step - last_step_mse: 0.0407 - loss: 0.0188 - val_last_step_mse: 0.0393 - val_loss: 0.0186 - learning_rate: 1.0000e-03\n",
            "Epoch 36/200\n",
            "71/71 - 1s - 10ms/step - last_step_mse: 0.0390 - loss: 0.0175 - val_last_step_mse: 0.0372 - val_loss: 0.0163 - learning_rate: 1.0000e-03\n",
            "Epoch 37/200\n",
            "71/71 - 1s - 10ms/step - last_step_mse: 0.0372 - loss: 0.0168 - val_last_step_mse: 0.0359 - val_loss: 0.0155 - learning_rate: 1.0000e-03\n",
            "Epoch 38/200\n",
            "71/71 - 1s - 10ms/step - last_step_mse: 0.0388 - loss: 0.0177 - val_last_step_mse: 0.0369 - val_loss: 0.0187 - learning_rate: 1.0000e-03\n",
            "Epoch 39/200\n",
            "71/71 - 1s - 10ms/step - last_step_mse: 0.0380 - loss: 0.0174 - val_last_step_mse: 0.0367 - val_loss: 0.0162 - learning_rate: 1.0000e-03\n",
            "Epoch 40/200\n",
            "71/71 - 1s - 10ms/step - last_step_mse: 0.0372 - loss: 0.0169 - val_last_step_mse: 0.0377 - val_loss: 0.0174 - learning_rate: 1.0000e-03\n",
            "Epoch 41/200\n",
            "71/71 - 1s - 10ms/step - last_step_mse: 0.0371 - loss: 0.0171 - val_last_step_mse: 0.0342 - val_loss: 0.0156 - learning_rate: 1.0000e-03\n",
            "Epoch 42/200\n",
            "71/71 - 1s - 10ms/step - last_step_mse: 0.0367 - loss: 0.0167 - val_last_step_mse: 0.0359 - val_loss: 0.0162 - learning_rate: 1.0000e-03\n",
            "Epoch 43/200\n",
            "71/71 - 1s - 11ms/step - last_step_mse: 0.0368 - loss: 0.0168 - val_last_step_mse: 0.0363 - val_loss: 0.0153 - learning_rate: 1.0000e-03\n",
            "Epoch 44/200\n",
            "71/71 - 1s - 10ms/step - last_step_mse: 0.0353 - loss: 0.0160 - val_last_step_mse: 0.0354 - val_loss: 0.0154 - learning_rate: 1.0000e-03\n",
            "Epoch 45/200\n",
            "71/71 - 1s - 10ms/step - last_step_mse: 0.0340 - loss: 0.0152 - val_last_step_mse: 0.0330 - val_loss: 0.0141 - learning_rate: 1.0000e-03\n",
            "Epoch 46/200\n",
            "71/71 - 1s - 10ms/step - last_step_mse: 0.0347 - loss: 0.0161 - val_last_step_mse: 0.0347 - val_loss: 0.0165 - learning_rate: 1.0000e-03\n",
            "Epoch 47/200\n",
            "71/71 - 1s - 11ms/step - last_step_mse: 0.0341 - loss: 0.0155 - val_last_step_mse: 0.0328 - val_loss: 0.0147 - learning_rate: 1.0000e-03\n",
            "Epoch 48/200\n",
            "71/71 - 1s - 16ms/step - last_step_mse: 0.0326 - loss: 0.0148 - val_last_step_mse: 0.0357 - val_loss: 0.0165 - learning_rate: 1.0000e-03\n",
            "Epoch 49/200\n",
            "71/71 - 1s - 16ms/step - last_step_mse: 0.0332 - loss: 0.0153 - val_last_step_mse: 0.0323 - val_loss: 0.0143 - learning_rate: 1.0000e-03\n",
            "Epoch 50/200\n",
            "71/71 - 1s - 11ms/step - last_step_mse: 0.0330 - loss: 0.0150 - val_last_step_mse: 0.0329 - val_loss: 0.0152 - learning_rate: 1.0000e-03\n",
            "Epoch 51/200\n",
            "71/71 - 1s - 10ms/step - last_step_mse: 0.0327 - loss: 0.0148 - val_last_step_mse: 0.0335 - val_loss: 0.0148 - learning_rate: 1.0000e-03\n",
            "Epoch 52/200\n",
            "71/71 - 1s - 10ms/step - last_step_mse: 0.0319 - loss: 0.0146 - val_last_step_mse: 0.0310 - val_loss: 0.0134 - learning_rate: 1.0000e-03\n",
            "Epoch 53/200\n",
            "71/71 - 1s - 11ms/step - last_step_mse: 0.0300 - loss: 0.0138 - val_last_step_mse: 0.0333 - val_loss: 0.0150 - learning_rate: 1.0000e-03\n",
            "Epoch 54/200\n",
            "71/71 - 1s - 11ms/step - last_step_mse: 0.0311 - loss: 0.0144 - val_last_step_mse: 0.0313 - val_loss: 0.0137 - learning_rate: 1.0000e-03\n",
            "Epoch 55/200\n",
            "71/71 - 1s - 10ms/step - last_step_mse: 0.0301 - loss: 0.0136 - val_last_step_mse: 0.0309 - val_loss: 0.0136 - learning_rate: 1.0000e-03\n",
            "Epoch 56/200\n",
            "71/71 - 1s - 10ms/step - last_step_mse: 0.0298 - loss: 0.0138 - val_last_step_mse: 0.0330 - val_loss: 0.0144 - learning_rate: 1.0000e-03\n",
            "Epoch 57/200\n",
            "71/71 - 1s - 10ms/step - last_step_mse: 0.0302 - loss: 0.0140 - val_last_step_mse: 0.0311 - val_loss: 0.0150 - learning_rate: 1.0000e-03\n",
            "Epoch 58/200\n",
            "\n",
            "Epoch 58: ReduceLROnPlateau reducing learning rate to 0.0005000000237487257.\n",
            "71/71 - 1s - 10ms/step - last_step_mse: 0.0286 - loss: 0.0135 - val_last_step_mse: 0.0310 - val_loss: 0.0145 - learning_rate: 1.0000e-03\n",
            "Epoch 59/200\n",
            "71/71 - 1s - 10ms/step - last_step_mse: 0.0260 - loss: 0.0119 - val_last_step_mse: 0.0269 - val_loss: 0.0113 - learning_rate: 5.0000e-04\n",
            "Epoch 60/200\n",
            "71/71 - 1s - 18ms/step - last_step_mse: 0.0253 - loss: 0.0116 - val_last_step_mse: 0.0272 - val_loss: 0.0119 - learning_rate: 5.0000e-04\n",
            "Epoch 61/200\n",
            "71/71 - 1s - 10ms/step - last_step_mse: 0.0248 - loss: 0.0114 - val_last_step_mse: 0.0270 - val_loss: 0.0118 - learning_rate: 5.0000e-04\n",
            "Epoch 62/200\n",
            "71/71 - 1s - 14ms/step - last_step_mse: 0.0250 - loss: 0.0115 - val_last_step_mse: 0.0272 - val_loss: 0.0117 - learning_rate: 5.0000e-04\n",
            "Epoch 63/200\n",
            "71/71 - 1s - 18ms/step - last_step_mse: 0.0249 - loss: 0.0114 - val_last_step_mse: 0.0261 - val_loss: 0.0114 - learning_rate: 5.0000e-04\n",
            "Epoch 64/200\n",
            "71/71 - 1s - 10ms/step - last_step_mse: 0.0239 - loss: 0.0110 - val_last_step_mse: 0.0262 - val_loss: 0.0116 - learning_rate: 5.0000e-04\n",
            "Epoch 65/200\n",
            "71/71 - 1s - 10ms/step - last_step_mse: 0.0247 - loss: 0.0113 - val_last_step_mse: 0.0274 - val_loss: 0.0128 - learning_rate: 5.0000e-04\n",
            "Epoch 66/200\n",
            "71/71 - 1s - 10ms/step - last_step_mse: 0.0235 - loss: 0.0110 - val_last_step_mse: 0.0258 - val_loss: 0.0118 - learning_rate: 5.0000e-04\n",
            "Epoch 67/200\n",
            "71/71 - 1s - 11ms/step - last_step_mse: 0.0241 - loss: 0.0112 - val_last_step_mse: 0.0274 - val_loss: 0.0122 - learning_rate: 5.0000e-04\n",
            "Epoch 68/200\n",
            "71/71 - 1s - 11ms/step - last_step_mse: 0.0239 - loss: 0.0113 - val_last_step_mse: 0.0263 - val_loss: 0.0117 - learning_rate: 5.0000e-04\n",
            "Epoch 69/200\n",
            "71/71 - 1s - 10ms/step - last_step_mse: 0.0231 - loss: 0.0108 - val_last_step_mse: 0.0251 - val_loss: 0.0109 - learning_rate: 5.0000e-04\n",
            "Epoch 70/200\n",
            "71/71 - 1s - 10ms/step - last_step_mse: 0.0238 - loss: 0.0110 - val_last_step_mse: 0.0242 - val_loss: 0.0106 - learning_rate: 5.0000e-04\n",
            "Epoch 71/200\n",
            "71/71 - 1s - 10ms/step - last_step_mse: 0.0229 - loss: 0.0106 - val_last_step_mse: 0.0245 - val_loss: 0.0105 - learning_rate: 5.0000e-04\n",
            "Epoch 72/200\n",
            "71/71 - 1s - 10ms/step - last_step_mse: 0.0226 - loss: 0.0106 - val_last_step_mse: 0.0257 - val_loss: 0.0112 - learning_rate: 5.0000e-04\n",
            "Epoch 73/200\n",
            "71/71 - 1s - 10ms/step - last_step_mse: 0.0230 - loss: 0.0106 - val_last_step_mse: 0.0272 - val_loss: 0.0129 - learning_rate: 5.0000e-04\n",
            "Epoch 74/200\n",
            "71/71 - 1s - 10ms/step - last_step_mse: 0.0228 - loss: 0.0106 - val_last_step_mse: 0.0269 - val_loss: 0.0119 - learning_rate: 5.0000e-04\n",
            "Epoch 75/200\n",
            "71/71 - 1s - 11ms/step - last_step_mse: 0.0224 - loss: 0.0105 - val_last_step_mse: 0.0242 - val_loss: 0.0104 - learning_rate: 5.0000e-04\n",
            "Epoch 76/200\n",
            "\n",
            "Epoch 76: ReduceLROnPlateau reducing learning rate to 0.0002500000118743628.\n",
            "71/71 - 1s - 10ms/step - last_step_mse: 0.0222 - loss: 0.0103 - val_last_step_mse: 0.0257 - val_loss: 0.0113 - learning_rate: 5.0000e-04\n",
            "Epoch 77/200\n",
            "71/71 - 1s - 14ms/step - last_step_mse: 0.0212 - loss: 0.0098 - val_last_step_mse: 0.0238 - val_loss: 0.0102 - learning_rate: 2.5000e-04\n",
            "Epoch 78/200\n",
            "71/71 - 1s - 16ms/step - last_step_mse: 0.0211 - loss: 0.0097 - val_last_step_mse: 0.0233 - val_loss: 0.0103 - learning_rate: 2.5000e-04\n",
            "Epoch 79/200\n",
            "71/71 - 1s - 13ms/step - last_step_mse: 0.0204 - loss: 0.0094 - val_last_step_mse: 0.0235 - val_loss: 0.0105 - learning_rate: 2.5000e-04\n",
            "Epoch 80/200\n",
            "71/71 - 1s - 10ms/step - last_step_mse: 0.0203 - loss: 0.0095 - val_last_step_mse: 0.0232 - val_loss: 0.0101 - learning_rate: 2.5000e-04\n",
            "Epoch 81/200\n",
            "71/71 - 1s - 10ms/step - last_step_mse: 0.0202 - loss: 0.0094 - val_last_step_mse: 0.0227 - val_loss: 0.0099 - learning_rate: 2.5000e-04\n",
            "Epoch 82/200\n",
            "71/71 - 1s - 10ms/step - last_step_mse: 0.0200 - loss: 0.0093 - val_last_step_mse: 0.0227 - val_loss: 0.0100 - learning_rate: 2.5000e-04\n",
            "Epoch 83/200\n",
            "71/71 - 1s - 10ms/step - last_step_mse: 0.0197 - loss: 0.0092 - val_last_step_mse: 0.0234 - val_loss: 0.0102 - learning_rate: 2.5000e-04\n",
            "Epoch 84/200\n",
            "71/71 - 1s - 11ms/step - last_step_mse: 0.0202 - loss: 0.0093 - val_last_step_mse: 0.0225 - val_loss: 0.0098 - learning_rate: 2.5000e-04\n",
            "Epoch 85/200\n",
            "71/71 - 1s - 10ms/step - last_step_mse: 0.0200 - loss: 0.0094 - val_last_step_mse: 0.0230 - val_loss: 0.0101 - learning_rate: 2.5000e-04\n",
            "Epoch 86/200\n",
            "71/71 - 1s - 10ms/step - last_step_mse: 0.0201 - loss: 0.0093 - val_last_step_mse: 0.0226 - val_loss: 0.0099 - learning_rate: 2.5000e-04\n",
            "Epoch 87/200\n",
            "71/71 - 1s - 10ms/step - last_step_mse: 0.0198 - loss: 0.0092 - val_last_step_mse: 0.0233 - val_loss: 0.0103 - learning_rate: 2.5000e-04\n",
            "Epoch 88/200\n",
            "71/71 - 1s - 10ms/step - last_step_mse: 0.0200 - loss: 0.0094 - val_last_step_mse: 0.0235 - val_loss: 0.0101 - learning_rate: 2.5000e-04\n",
            "Epoch 89/200\n",
            "71/71 - 1s - 10ms/step - last_step_mse: 0.0196 - loss: 0.0092 - val_last_step_mse: 0.0235 - val_loss: 0.0102 - learning_rate: 2.5000e-04\n",
            "Epoch 90/200\n",
            "\n",
            "Epoch 90: ReduceLROnPlateau reducing learning rate to 0.0001250000059371814.\n",
            "71/71 - 1s - 10ms/step - last_step_mse: 0.0198 - loss: 0.0093 - val_last_step_mse: 0.0227 - val_loss: 0.0097 - learning_rate: 2.5000e-04\n",
            "Epoch 91/200\n",
            "71/71 - 1s - 10ms/step - last_step_mse: 0.0191 - loss: 0.0089 - val_last_step_mse: 0.0220 - val_loss: 0.0096 - learning_rate: 1.2500e-04\n",
            "Epoch 92/200\n",
            "71/71 - 1s - 12ms/step - last_step_mse: 0.0190 - loss: 0.0089 - val_last_step_mse: 0.0224 - val_loss: 0.0097 - learning_rate: 1.2500e-04\n",
            "Epoch 93/200\n",
            "71/71 - 1s - 15ms/step - last_step_mse: 0.0192 - loss: 0.0089 - val_last_step_mse: 0.0220 - val_loss: 0.0095 - learning_rate: 1.2500e-04\n",
            "Epoch 94/200\n",
            "71/71 - 1s - 14ms/step - last_step_mse: 0.0191 - loss: 0.0089 - val_last_step_mse: 0.0225 - val_loss: 0.0097 - learning_rate: 1.2500e-04\n",
            "Epoch 95/200\n",
            "71/71 - 1s - 11ms/step - last_step_mse: 0.0188 - loss: 0.0087 - val_last_step_mse: 0.0218 - val_loss: 0.0094 - learning_rate: 1.2500e-04\n",
            "Epoch 96/200\n",
            "71/71 - 1s - 10ms/step - last_step_mse: 0.0187 - loss: 0.0087 - val_last_step_mse: 0.0222 - val_loss: 0.0096 - learning_rate: 1.2500e-04\n",
            "Epoch 97/200\n",
            "71/71 - 1s - 10ms/step - last_step_mse: 0.0187 - loss: 0.0087 - val_last_step_mse: 0.0215 - val_loss: 0.0095 - learning_rate: 1.2500e-04\n",
            "Epoch 98/200\n",
            "71/71 - 1s - 10ms/step - last_step_mse: 0.0187 - loss: 0.0088 - val_last_step_mse: 0.0222 - val_loss: 0.0096 - learning_rate: 1.2500e-04\n",
            "Epoch 99/200\n",
            "71/71 - 1s - 10ms/step - last_step_mse: 0.0187 - loss: 0.0087 - val_last_step_mse: 0.0220 - val_loss: 0.0096 - learning_rate: 1.2500e-04\n",
            "Epoch 100/200\n",
            "71/71 - 1s - 11ms/step - last_step_mse: 0.0185 - loss: 0.0086 - val_last_step_mse: 0.0215 - val_loss: 0.0095 - learning_rate: 1.2500e-04\n",
            "Epoch 101/200\n",
            "71/71 - 1s - 17ms/step - last_step_mse: 0.0186 - loss: 0.0087 - val_last_step_mse: 0.0217 - val_loss: 0.0093 - learning_rate: 1.2500e-04\n",
            "Epoch 102/200\n",
            "71/71 - 1s - 19ms/step - last_step_mse: 0.0183 - loss: 0.0086 - val_last_step_mse: 0.0217 - val_loss: 0.0094 - learning_rate: 1.2500e-04\n",
            "Epoch 103/200\n",
            "\n",
            "Epoch 103: ReduceLROnPlateau reducing learning rate to 6.25000029685907e-05.\n",
            "71/71 - 1s - 10ms/step - last_step_mse: 0.0186 - loss: 0.0086 - val_last_step_mse: 0.0216 - val_loss: 0.0095 - learning_rate: 1.2500e-04\n",
            "Epoch 104/200\n",
            "71/71 - 1s - 10ms/step - last_step_mse: 0.0181 - loss: 0.0084 - val_last_step_mse: 0.0214 - val_loss: 0.0093 - learning_rate: 6.2500e-05\n",
            "Epoch 105/200\n",
            "71/71 - 1s - 10ms/step - last_step_mse: 0.0180 - loss: 0.0085 - val_last_step_mse: 0.0219 - val_loss: 0.0095 - learning_rate: 6.2500e-05\n",
            "Epoch 106/200\n",
            "71/71 - 1s - 14ms/step - last_step_mse: 0.0180 - loss: 0.0084 - val_last_step_mse: 0.0216 - val_loss: 0.0094 - learning_rate: 6.2500e-05\n",
            "Epoch 107/200\n",
            "71/71 - 1s - 15ms/step - last_step_mse: 0.0179 - loss: 0.0083 - val_last_step_mse: 0.0219 - val_loss: 0.0095 - learning_rate: 6.2500e-05\n",
            "Epoch 108/200\n",
            "71/71 - 1s - 13ms/step - last_step_mse: 0.0179 - loss: 0.0083 - val_last_step_mse: 0.0215 - val_loss: 0.0093 - learning_rate: 6.2500e-05\n",
            "Epoch 109/200\n",
            "71/71 - 1s - 18ms/step - last_step_mse: 0.0181 - loss: 0.0084 - val_last_step_mse: 0.0221 - val_loss: 0.0095 - learning_rate: 6.2500e-05\n",
            "Epoch 110/200\n",
            "\n",
            "Epoch 110: ReduceLROnPlateau reducing learning rate to 3.125000148429535e-05.\n",
            "71/71 - 1s - 17ms/step - last_step_mse: 0.0180 - loss: 0.0084 - val_last_step_mse: 0.0220 - val_loss: 0.0094 - learning_rate: 6.2500e-05\n",
            "Epoch 111/200\n",
            "71/71 - 1s - 10ms/step - last_step_mse: 0.0178 - loss: 0.0083 - val_last_step_mse: 0.0214 - val_loss: 0.0092 - learning_rate: 3.1250e-05\n",
            "Epoch 112/200\n",
            "71/71 - 1s - 10ms/step - last_step_mse: 0.0178 - loss: 0.0083 - val_last_step_mse: 0.0212 - val_loss: 0.0092 - learning_rate: 3.1250e-05\n",
            "Epoch 113/200\n",
            "71/71 - 1s - 11ms/step - last_step_mse: 0.0178 - loss: 0.0082 - val_last_step_mse: 0.0214 - val_loss: 0.0092 - learning_rate: 3.1250e-05\n",
            "Epoch 114/200\n",
            "71/71 - 1s - 10ms/step - last_step_mse: 0.0178 - loss: 0.0083 - val_last_step_mse: 0.0216 - val_loss: 0.0093 - learning_rate: 3.1250e-05\n",
            "Epoch 115/200\n",
            "71/71 - 1s - 10ms/step - last_step_mse: 0.0174 - loss: 0.0082 - val_last_step_mse: 0.0213 - val_loss: 0.0092 - learning_rate: 3.1250e-05\n",
            "Epoch 116/200\n",
            "71/71 - 1s - 10ms/step - last_step_mse: 0.0176 - loss: 0.0082 - val_last_step_mse: 0.0217 - val_loss: 0.0094 - learning_rate: 3.1250e-05\n",
            "Epoch 117/200\n",
            "71/71 - 1s - 10ms/step - last_step_mse: 0.0175 - loss: 0.0082 - val_last_step_mse: 0.0214 - val_loss: 0.0093 - learning_rate: 3.1250e-05\n",
            "Epoch 118/200\n",
            "71/71 - 1s - 10ms/step - last_step_mse: 0.0176 - loss: 0.0082 - val_last_step_mse: 0.0210 - val_loss: 0.0091 - learning_rate: 3.1250e-05\n",
            "Epoch 119/200\n",
            "71/71 - 1s - 10ms/step - last_step_mse: 0.0176 - loss: 0.0082 - val_last_step_mse: 0.0213 - val_loss: 0.0092 - learning_rate: 3.1250e-05\n",
            "Epoch 120/200\n",
            "71/71 - 1s - 14ms/step - last_step_mse: 0.0175 - loss: 0.0081 - val_last_step_mse: 0.0212 - val_loss: 0.0092 - learning_rate: 3.1250e-05\n",
            "Epoch 121/200\n",
            "71/71 - 1s - 15ms/step - last_step_mse: 0.0174 - loss: 0.0082 - val_last_step_mse: 0.0214 - val_loss: 0.0093 - learning_rate: 3.1250e-05\n",
            "Epoch 122/200\n",
            "71/71 - 1s - 11ms/step - last_step_mse: 0.0176 - loss: 0.0082 - val_last_step_mse: 0.0212 - val_loss: 0.0091 - learning_rate: 3.1250e-05\n",
            "Epoch 123/200\n",
            "71/71 - 1s - 11ms/step - last_step_mse: 0.0177 - loss: 0.0082 - val_last_step_mse: 0.0217 - val_loss: 0.0094 - learning_rate: 3.1250e-05\n",
            "Epoch 124/200\n",
            "\n",
            "Epoch 124: ReduceLROnPlateau reducing learning rate to 1.5625000742147677e-05.\n",
            "71/71 - 1s - 10ms/step - last_step_mse: 0.0175 - loss: 0.0082 - val_last_step_mse: 0.0213 - val_loss: 0.0092 - learning_rate: 3.1250e-05\n",
            "Epoch 125/200\n",
            "71/71 - 1s - 10ms/step - last_step_mse: 0.0174 - loss: 0.0081 - val_last_step_mse: 0.0212 - val_loss: 0.0091 - learning_rate: 1.5625e-05\n",
            "Epoch 126/200\n",
            "71/71 - 1s - 11ms/step - last_step_mse: 0.0173 - loss: 0.0081 - val_last_step_mse: 0.0212 - val_loss: 0.0092 - learning_rate: 1.5625e-05\n",
            "Epoch 127/200\n",
            "71/71 - 1s - 10ms/step - last_step_mse: 0.0172 - loss: 0.0080 - val_last_step_mse: 0.0211 - val_loss: 0.0091 - learning_rate: 1.5625e-05\n",
            "Epoch 128/200\n",
            "71/71 - 1s - 10ms/step - last_step_mse: 0.0174 - loss: 0.0081 - val_last_step_mse: 0.0210 - val_loss: 0.0091 - learning_rate: 1.5625e-05\n",
            "Epoch 129/200\n",
            "71/71 - 1s - 10ms/step - last_step_mse: 0.0170 - loss: 0.0081 - val_last_step_mse: 0.0210 - val_loss: 0.0091 - learning_rate: 1.5625e-05\n",
            "Epoch 130/200\n",
            "\n",
            "Epoch 130: ReduceLROnPlateau reducing learning rate to 7.812500371073838e-06.\n",
            "71/71 - 1s - 18ms/step - last_step_mse: 0.0171 - loss: 0.0080 - val_last_step_mse: 0.0213 - val_loss: 0.0092 - learning_rate: 1.5625e-05\n",
            "Epoch 131/200\n",
            "71/71 - 1s - 10ms/step - last_step_mse: 0.0173 - loss: 0.0081 - val_last_step_mse: 0.0211 - val_loss: 0.0091 - learning_rate: 7.8125e-06\n",
            "Epoch 132/200\n",
            "71/71 - 1s - 10ms/step - last_step_mse: 0.0172 - loss: 0.0081 - val_last_step_mse: 0.0211 - val_loss: 0.0091 - learning_rate: 7.8125e-06\n",
            "Epoch 133/200\n",
            "71/71 - 1s - 10ms/step - last_step_mse: 0.0171 - loss: 0.0080 - val_last_step_mse: 0.0211 - val_loss: 0.0091 - learning_rate: 7.8125e-06\n",
            "Epoch 134/200\n",
            "71/71 - 1s - 11ms/step - last_step_mse: 0.0174 - loss: 0.0081 - val_last_step_mse: 0.0212 - val_loss: 0.0092 - learning_rate: 7.8125e-06\n",
            "Epoch 135/200\n",
            "71/71 - 1s - 16ms/step - last_step_mse: 0.0176 - loss: 0.0081 - val_last_step_mse: 0.0212 - val_loss: 0.0091 - learning_rate: 7.8125e-06\n",
            "Epoch 136/200\n",
            "\n",
            "Epoch 136: ReduceLROnPlateau reducing learning rate to 3.906250185536919e-06.\n",
            "71/71 - 1s - 15ms/step - last_step_mse: 0.0171 - loss: 0.0080 - val_last_step_mse: 0.0212 - val_loss: 0.0091 - learning_rate: 7.8125e-06\n",
            "Epoch 137/200\n",
            "71/71 - 1s - 10ms/step - last_step_mse: 0.0173 - loss: 0.0081 - val_last_step_mse: 0.0211 - val_loss: 0.0091 - learning_rate: 3.9063e-06\n",
            "Epoch 138/200\n",
            "71/71 - 1s - 10ms/step - last_step_mse: 0.0174 - loss: 0.0081 - val_last_step_mse: 0.0211 - val_loss: 0.0091 - learning_rate: 3.9063e-06\n",
            "Epoch 139/200\n",
            "71/71 - 1s - 10ms/step - last_step_mse: 0.0173 - loss: 0.0081 - val_last_step_mse: 0.0211 - val_loss: 0.0091 - learning_rate: 3.9063e-06\n",
            "Epoch 140/200\n",
            "71/71 - 1s - 10ms/step - last_step_mse: 0.0173 - loss: 0.0080 - val_last_step_mse: 0.0210 - val_loss: 0.0091 - learning_rate: 3.9063e-06\n",
            "Epoch 140: early stopping\n",
            "Restoring model weights from the end of the best epoch: 128.\n",
            "\n",
            "Q3 — SEQ2SEQ last-step MSE (target ≤ 0.024): 0.019229\n",
            "(Total seq2seq loss on TEST — MSE over all steps): 0.008514\n",
            "\n",
            "Sample target (10 future steps): [-0.45899999141693115, -0.37400001287460327, -0.1770000010728836, 0.02500000037252903, 0.21899999678134918, 0.3569999933242798, 0.5199999809265137, 0.6510000228881836, 0.703000009059906, 0.7250000238418579]\n",
            "Sample prediction (10 future steps): [-0.5220000147819519, -0.40299999713897705, -0.2290000021457672, -0.052000001072883606, 0.13199999928474426, 0.3050000071525574, 0.45399999618530273, 0.5740000009536743, 0.6399999856948853, 0.6290000081062317]\n"
          ]
        }
      ],
      "source": [
        "import numpy as np\n",
        "import tensorflow as tf\n",
        "from tensorflow import keras\n",
        "from tensorflow.keras import layers\n",
        "\n",
        "def _get(name_options):\n",
        "    g = globals()\n",
        "    for n in name_options:\n",
        "        if n in g:\n",
        "            return g[n]\n",
        "    raise NameError(f\"Could not find any of: {name_options}\")\n",
        "\n",
        "X_train = _get([\"x_train\", \"X_train\"])\n",
        "X_valid = _get([\"x_valid\", \"X_valid\"])\n",
        "X_test  = _get([\"x_test\",  \"X_test\" ])\n",
        "Y_train = _get([\"y_train_seq\", \"y_train\"])\n",
        "Y_valid = _get([\"y_valid_seq\", \"y_valid\"])\n",
        "Y_test  = _get([\"y_test_seq\",  \"y_test\"])\n",
        "\n",
        "def _fix_X(X):\n",
        "    X = np.asarray(X)\n",
        "    if X.ndim == 2:  # (N,60) -> (N,60,1)\n",
        "        X = X[..., np.newaxis]\n",
        "    elif X.ndim == 3 and X.shape[1] == 1 and X.shape[2] == 60:\n",
        "        X = np.transpose(X, (0, 2, 1))\n",
        "    return X.astype(np.float32)\n",
        "\n",
        "def _fix_Y(Y):\n",
        "    Y = np.asarray(Y)\n",
        "    # Goal: (N, 10, 1)\n",
        "    if Y.ndim == 2 and Y.shape[1] == 10:\n",
        "        Y = Y[..., np.newaxis]\n",
        "    elif Y.ndim == 3 and Y.shape[1] == 1 and Y.shape[2] == 10:\n",
        "        Y = np.transpose(Y, (0, 2, 1))\n",
        "    elif Y.ndim == 3 and Y.shape[1] == 10 and Y.shape[2] != 1:\n",
        "        Y = Y[..., :1]\n",
        "    return Y.astype(np.float32)\n",
        "\n",
        "X_train, X_valid, X_test = map(_fix_X, [X_train, X_valid, X_test])\n",
        "Y_train, Y_valid, Y_test = map(_fix_Y, [Y_train, Y_valid, Y_test])\n",
        "\n",
        "print(\"Shapes OK -> X:\", X_train.shape, \"Y:\", Y_train.shape)  # expect (N,60,1) & (N,10,1)\n",
        "\n",
        "#  tf.data\n",
        "BATCH = 128\n",
        "AUTOTUNE = tf.data.AUTOTUNE\n",
        "def make_ds(X, Y, training=False):\n",
        "    ds = tf.data.Dataset.from_tensor_slices((X, Y))\n",
        "    if training:\n",
        "        ds = ds.shuffle(min(len(X), 10000), seed=42, reshuffle_each_iteration=True)\n",
        "    return ds.batch(BATCH).prefetch(AUTOTUNE)\n",
        "\n",
        "train_ds = make_ds(X_train, Y_train, training=True)\n",
        "valid_ds = make_ds(X_valid, Y_valid)\n",
        "test_ds  = make_ds(X_test,  Y_test)\n",
        "\n",
        "#  custom metric\n",
        "def last_step_mse(y_true, y_pred):\n",
        "    y_true_last = y_true[:, -1, :]\n",
        "    y_pred_last = y_pred[:, -1, :]\n",
        "    return tf.reduce_mean(tf.square(y_true_last - y_pred_last))\n",
        "last_step_mse.__name__ = \"last_step_mse\"\n",
        "\n",
        "#  model\n",
        "inputs = keras.Input(shape=(60, 1))\n",
        "x = layers.GRU(128, return_sequences=False)(inputs)\n",
        "x = layers.LayerNormalization()(x)\n",
        "x = layers.RepeatVector(10)(x)\n",
        "x = layers.GRU(128, return_sequences=True, dropout=0.15)(x)\n",
        "x = layers.TimeDistributed(layers.Dense(64, activation=\"relu\"))(x)\n",
        "outputs = layers.TimeDistributed(layers.Dense(1))(x)\n",
        "\n",
        "model = keras.Model(inputs, outputs, name=\"q3_seq2seq_gru_td\")\n",
        "model.compile(\n",
        "    optimizer=keras.optimizers.Adam(1e-3),\n",
        "    loss=\"mse\",\n",
        "    metrics=[last_step_mse]\n",
        ")\n",
        "model.summary()\n",
        "\n",
        "# ---------- callbacks ----------\n",
        "cbs = [\n",
        "    keras.callbacks.ReduceLROnPlateau(\n",
        "        monitor=\"val_last_step_mse\", mode=\"min\",\n",
        "        factor=0.5, patience=6, min_lr=1e-6, verbose=1\n",
        "    ),\n",
        "    keras.callbacks.EarlyStopping(\n",
        "        monitor=\"val_last_step_mse\", mode=\"min\",\n",
        "        patience=12, restore_best_weights=True, verbose=1\n",
        "    ),\n",
        "]\n",
        "\n",
        "#  train\n",
        "history = model.fit(train_ds, validation_data=valid_ds, epochs=200, callbacks=cbs, verbose=2)\n",
        "\n",
        "#  evaluate\n",
        "res = model.evaluate(test_ds, verbose=0, return_dict=True)\n",
        "print(f\"\\nQ3 — SEQ2SEQ last-step MSE (target ≤ 0.024): {res['last_step_mse']:.6f}\")\n",
        "print(f\"(Total seq2seq loss on TEST — MSE over all steps): {res['loss']:.6f}\")\n",
        "\n",
        "xb, yb = next(iter(test_ds))\n",
        "yhat = model.predict(xb[:1], verbose=0)[0]\n",
        "print(\"\\nSample target (10 future steps):\", yb.numpy()[0, :, 0].round(3).tolist())\n",
        "print(\"Sample prediction (10 future steps):\", yhat[:, 0].round(3).tolist())"
      ]
    }
  ],
  "metadata": {
    "accelerator": "GPU",
    "colab": {
      "gpuType": "T4",
      "provenance": [],
      "include_colab_link": true
    },
    "kernelspec": {
      "display_name": "Python 3",
      "name": "python3"
    },
    "language_info": {
      "codemirror_mode": {
        "name": "ipython",
        "version": 3
      },
      "file_extension": ".py",
      "mimetype": "text/x-python",
      "name": "python",
      "nbconvert_exporter": "python",
      "pygments_lexer": "ipython3",
      "version": "3.9.5"
    },
    "nav_menu": {},
    "toc": {
      "navigate_menu": true,
      "number_sections": true,
      "sideBar": true,
      "threshold": 6,
      "toc_cell": false,
      "toc_section_display": "block",
      "toc_window_display": false
    }
  },
  "nbformat": 4,
  "nbformat_minor": 0
}