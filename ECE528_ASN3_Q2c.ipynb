{
  "nbformat": 4,
  "nbformat_minor": 0,
  "metadata": {
    "colab": {
      "provenance": [],
      "machine_shape": "hm",
      "gpuType": "L4",
      "collapsed_sections": [
        "9nyvyLPpVE_X",
        "_YYU5CYNKUxd",
        "a33eNUEqTVuy"
      ],
      "authorship_tag": "ABX9TyP76d6hLulX7VYz52EPlGiQ",
      "include_colab_link": true
    },
    "kernelspec": {
      "name": "python3",
      "display_name": "Python 3"
    },
    "language_info": {
      "name": "python"
    },
    "accelerator": "GPU"
  },
  "cells": [
    {
      "cell_type": "markdown",
      "metadata": {
        "id": "view-in-github",
        "colab_type": "text"
      },
      "source": [
        "<a href=\"https://colab.research.google.com/github/Isafon/ECE528/blob/main/ECE528_ASN3_Q2c.ipynb\" target=\"_parent\"><img src=\"https://colab.research.google.com/assets/colab-badge.svg\" alt=\"Open In Colab\"/></a>"
      ]
    },
    {
      "cell_type": "markdown",
      "source": [
        "# ECE528 Lab 3 Q2c - Isa Fontana"
      ],
      "metadata": {
        "id": "9nyvyLPpVE_X"
      }
    },
    {
      "cell_type": "markdown",
      "source": [
        "## Imports!"
      ],
      "metadata": {
        "id": "FSqD9j7mVM2Z"
      }
    },
    {
      "cell_type": "code",
      "source": [
        "import os, io, zipfile, numpy as np, pandas as pd, tensorflow as tf\n",
        "from tensorflow.keras import layers, models, callbacks\n",
        "import matplotlib.pyplot as plt\n",
        "# --- MUST run this BEFORE importing tensorflow in this session ---\n",
        "import os\n",
        "os.environ[\"TF_USE_LEGACY_KERAS\"] = \"1\"   # force tf.keras / tf_keras backend\n",
        "\n",
        "import tensorflow as tf\n",
        "print(\"TF:\", tf.__version__)\n",
        "\n",
        "# Use the legacy tf.keras shim explicitly to avoid any ambiguity\n",
        "import tf_keras as keras\n",
        "print(\"tf_keras module:\", keras.__file__)\n",
        "\n",
        "try:\n",
        "    import tensorflow_model_optimization as tfmot\n",
        "except ImportError:\n",
        "    import sys, subprocess\n",
        "    subprocess.check_call([sys.executable, \"-m\", \"pip\", \"install\", \"-q\", \"--no-deps\",\n",
        "                           \"tensorflow-model-optimization==0.8.0\"])\n",
        "    import tensorflow_model_optimization as tfmot\n",
        "print(\"TFMOT:\", tfmot.__version__)\n",
        "\n",
        "np.random.seed(42)\n",
        "tf.random.set_seed(42)\n",
        "print(\"TF version:\", tf.__version__)"
      ],
      "metadata": {
        "colab": {
          "base_uri": "https://localhost:8080/"
        },
        "id": "cUPKbX_KXR76",
        "outputId": "b8abe5ba-ac4f-4977-bf9e-e55ee5eeb38a"
      },
      "execution_count": null,
      "outputs": [
        {
          "output_type": "stream",
          "name": "stdout",
          "text": [
            "TF: 2.19.0\n",
            "tf_keras module: /usr/local/lib/python3.12/dist-packages/tf_keras/__init__.py\n",
            "TFMOT: 0.8.0\n",
            "TF version: 2.19.0\n"
          ]
        }
      ]
    },
    {
      "cell_type": "markdown",
      "source": [
        "## Choose File"
      ],
      "metadata": {
        "id": "545cOUOPbBN1"
      }
    },
    {
      "cell_type": "code",
      "source": [
        "from google.colab import files\n",
        "uploaded = files.upload()"
      ],
      "metadata": {
        "colab": {
          "base_uri": "https://localhost:8080/",
          "height": 72
        },
        "id": "JxlCInAZbDa-",
        "outputId": "02bbf0a5-af24-4d8c-d2e0-9c7a9d851bc4"
      },
      "execution_count": null,
      "outputs": [
        {
          "output_type": "display_data",
          "data": {
            "text/plain": [
              "<IPython.core.display.HTML object>"
            ],
            "text/html": [
              "\n",
              "     <input type=\"file\" id=\"files-2543800c-b3b9-486a-9be2-634ff4c4339a\" name=\"files[]\" multiple disabled\n",
              "        style=\"border:none\" />\n",
              "     <output id=\"result-2543800c-b3b9-486a-9be2-634ff4c4339a\">\n",
              "      Upload widget is only available when the cell has been executed in the\n",
              "      current browser session. Please rerun this cell to enable.\n",
              "      </output>\n",
              "      <script>// Copyright 2017 Google LLC\n",
              "//\n",
              "// Licensed under the Apache License, Version 2.0 (the \"License\");\n",
              "// you may not use this file except in compliance with the License.\n",
              "// You may obtain a copy of the License at\n",
              "//\n",
              "//      http://www.apache.org/licenses/LICENSE-2.0\n",
              "//\n",
              "// Unless required by applicable law or agreed to in writing, software\n",
              "// distributed under the License is distributed on an \"AS IS\" BASIS,\n",
              "// WITHOUT WARRANTIES OR CONDITIONS OF ANY KIND, either express or implied.\n",
              "// See the License for the specific language governing permissions and\n",
              "// limitations under the License.\n",
              "\n",
              "/**\n",
              " * @fileoverview Helpers for google.colab Python module.\n",
              " */\n",
              "(function(scope) {\n",
              "function span(text, styleAttributes = {}) {\n",
              "  const element = document.createElement('span');\n",
              "  element.textContent = text;\n",
              "  for (const key of Object.keys(styleAttributes)) {\n",
              "    element.style[key] = styleAttributes[key];\n",
              "  }\n",
              "  return element;\n",
              "}\n",
              "\n",
              "// Max number of bytes which will be uploaded at a time.\n",
              "const MAX_PAYLOAD_SIZE = 100 * 1024;\n",
              "\n",
              "function _uploadFiles(inputId, outputId) {\n",
              "  const steps = uploadFilesStep(inputId, outputId);\n",
              "  const outputElement = document.getElementById(outputId);\n",
              "  // Cache steps on the outputElement to make it available for the next call\n",
              "  // to uploadFilesContinue from Python.\n",
              "  outputElement.steps = steps;\n",
              "\n",
              "  return _uploadFilesContinue(outputId);\n",
              "}\n",
              "\n",
              "// This is roughly an async generator (not supported in the browser yet),\n",
              "// where there are multiple asynchronous steps and the Python side is going\n",
              "// to poll for completion of each step.\n",
              "// This uses a Promise to block the python side on completion of each step,\n",
              "// then passes the result of the previous step as the input to the next step.\n",
              "function _uploadFilesContinue(outputId) {\n",
              "  const outputElement = document.getElementById(outputId);\n",
              "  const steps = outputElement.steps;\n",
              "\n",
              "  const next = steps.next(outputElement.lastPromiseValue);\n",
              "  return Promise.resolve(next.value.promise).then((value) => {\n",
              "    // Cache the last promise value to make it available to the next\n",
              "    // step of the generator.\n",
              "    outputElement.lastPromiseValue = value;\n",
              "    return next.value.response;\n",
              "  });\n",
              "}\n",
              "\n",
              "/**\n",
              " * Generator function which is called between each async step of the upload\n",
              " * process.\n",
              " * @param {string} inputId Element ID of the input file picker element.\n",
              " * @param {string} outputId Element ID of the output display.\n",
              " * @return {!Iterable<!Object>} Iterable of next steps.\n",
              " */\n",
              "function* uploadFilesStep(inputId, outputId) {\n",
              "  const inputElement = document.getElementById(inputId);\n",
              "  inputElement.disabled = false;\n",
              "\n",
              "  const outputElement = document.getElementById(outputId);\n",
              "  outputElement.innerHTML = '';\n",
              "\n",
              "  const pickedPromise = new Promise((resolve) => {\n",
              "    inputElement.addEventListener('change', (e) => {\n",
              "      resolve(e.target.files);\n",
              "    });\n",
              "  });\n",
              "\n",
              "  const cancel = document.createElement('button');\n",
              "  inputElement.parentElement.appendChild(cancel);\n",
              "  cancel.textContent = 'Cancel upload';\n",
              "  const cancelPromise = new Promise((resolve) => {\n",
              "    cancel.onclick = () => {\n",
              "      resolve(null);\n",
              "    };\n",
              "  });\n",
              "\n",
              "  // Wait for the user to pick the files.\n",
              "  const files = yield {\n",
              "    promise: Promise.race([pickedPromise, cancelPromise]),\n",
              "    response: {\n",
              "      action: 'starting',\n",
              "    }\n",
              "  };\n",
              "\n",
              "  cancel.remove();\n",
              "\n",
              "  // Disable the input element since further picks are not allowed.\n",
              "  inputElement.disabled = true;\n",
              "\n",
              "  if (!files) {\n",
              "    return {\n",
              "      response: {\n",
              "        action: 'complete',\n",
              "      }\n",
              "    };\n",
              "  }\n",
              "\n",
              "  for (const file of files) {\n",
              "    const li = document.createElement('li');\n",
              "    li.append(span(file.name, {fontWeight: 'bold'}));\n",
              "    li.append(span(\n",
              "        `(${file.type || 'n/a'}) - ${file.size} bytes, ` +\n",
              "        `last modified: ${\n",
              "            file.lastModifiedDate ? file.lastModifiedDate.toLocaleDateString() :\n",
              "                                    'n/a'} - `));\n",
              "    const percent = span('0% done');\n",
              "    li.appendChild(percent);\n",
              "\n",
              "    outputElement.appendChild(li);\n",
              "\n",
              "    const fileDataPromise = new Promise((resolve) => {\n",
              "      const reader = new FileReader();\n",
              "      reader.onload = (e) => {\n",
              "        resolve(e.target.result);\n",
              "      };\n",
              "      reader.readAsArrayBuffer(file);\n",
              "    });\n",
              "    // Wait for the data to be ready.\n",
              "    let fileData = yield {\n",
              "      promise: fileDataPromise,\n",
              "      response: {\n",
              "        action: 'continue',\n",
              "      }\n",
              "    };\n",
              "\n",
              "    // Use a chunked sending to avoid message size limits. See b/62115660.\n",
              "    let position = 0;\n",
              "    do {\n",
              "      const length = Math.min(fileData.byteLength - position, MAX_PAYLOAD_SIZE);\n",
              "      const chunk = new Uint8Array(fileData, position, length);\n",
              "      position += length;\n",
              "\n",
              "      const base64 = btoa(String.fromCharCode.apply(null, chunk));\n",
              "      yield {\n",
              "        response: {\n",
              "          action: 'append',\n",
              "          file: file.name,\n",
              "          data: base64,\n",
              "        },\n",
              "      };\n",
              "\n",
              "      let percentDone = fileData.byteLength === 0 ?\n",
              "          100 :\n",
              "          Math.round((position / fileData.byteLength) * 100);\n",
              "      percent.textContent = `${percentDone}% done`;\n",
              "\n",
              "    } while (position < fileData.byteLength);\n",
              "  }\n",
              "\n",
              "  // All done.\n",
              "  yield {\n",
              "    response: {\n",
              "      action: 'complete',\n",
              "    }\n",
              "  };\n",
              "}\n",
              "\n",
              "scope.google = scope.google || {};\n",
              "scope.google.colab = scope.google.colab || {};\n",
              "scope.google.colab._files = {\n",
              "  _uploadFiles,\n",
              "  _uploadFilesContinue,\n",
              "};\n",
              "})(self);\n",
              "</script> "
            ]
          },
          "metadata": {}
        },
        {
          "output_type": "stream",
          "name": "stdout",
          "text": [
            "Saving archive.zip to archive.zip\n"
          ]
        }
      ]
    },
    {
      "cell_type": "markdown",
      "source": [
        "## Unzip the File"
      ],
      "metadata": {
        "id": "w9XQc2SYdEzi"
      }
    },
    {
      "cell_type": "code",
      "source": [
        "# Create a working folder\n",
        "DATA_DIR = \"./data_asl\"\n",
        "os.makedirs(DATA_DIR, exist_ok=True)\n",
        "\n",
        "# If a zip was uploaded, extract it\n",
        "for fname in uploaded.keys():\n",
        "    if fname.lower().endswith(\".zip\"):\n",
        "        with zipfile.ZipFile(io.BytesIO(uploaded[fname]), 'r') as zf:\n",
        "            zf.extractall(DATA_DIR)\n",
        "        print(f\"Extracted: {fname} -> {DATA_DIR}\")\n",
        "\n",
        "# Figure out where the CSVs ended up (root or inside DATA_DIR)\n",
        "candidates = [\n",
        "    \"sign_mnist_train.csv\",\n",
        "    \"sign_mnist_test.csv\",\n",
        "    os.path.join(DATA_DIR, \"sign_mnist_train.csv\"),\n",
        "    os.path.join(DATA_DIR, \"sign_mnist_test.csv\"),\n",
        "]\n",
        "\n",
        "# Build resolved paths\n",
        "train_csv, test_csv = None, None\n",
        "for c in candidates:\n",
        "    if c.endswith(\"sign_mnist_train.csv\") and os.path.exists(c):\n",
        "        train_csv = c\n",
        "    if c.endswith(\"sign_mnist_test.csv\") and os.path.exists(c):\n",
        "        test_csv = c\n",
        "\n",
        "assert train_csv and test_csv, \"Could not find the CSVs. Re-upload the zip or both CSV files.\"\n",
        "\n",
        "print(\"Train CSV:\", train_csv)\n",
        "print(\"Test  CSV:\", test_csv)"
      ],
      "metadata": {
        "colab": {
          "base_uri": "https://localhost:8080/"
        },
        "id": "PuPXDqNldILW",
        "outputId": "5bbc0bc6-d59d-46d1-b8b5-d3b2540ff784"
      },
      "execution_count": null,
      "outputs": [
        {
          "output_type": "stream",
          "name": "stdout",
          "text": [
            "Extracted: archive.zip -> ./data_asl\n",
            "Train CSV: ./data_asl/sign_mnist_train.csv\n",
            "Test  CSV: ./data_asl/sign_mnist_test.csv\n"
          ]
        }
      ]
    },
    {
      "cell_type": "markdown",
      "source": [
        "## Load Data"
      ],
      "metadata": {
        "id": "dgdRvaytXN7J"
      }
    },
    {
      "cell_type": "code",
      "execution_count": null,
      "metadata": {
        "colab": {
          "base_uri": "https://localhost:8080/"
        },
        "id": "DP1fYXbnU-2g",
        "outputId": "5f8f5490-99f2-45c8-a399-cfd42fd364d5"
      },
      "outputs": [
        {
          "output_type": "stream",
          "name": "stdout",
          "text": [
            "Shapes: (27455, 28, 28, 1) (7172, 28, 28, 1)\n",
            "Classes detected: 24 Original label ids: [ 0  1  2  3  4  5  6  7  8 10 11 12 13 14 15 16 17 18 19 20 21 22 23 24]\n"
          ]
        }
      ],
      "source": [
        "# Load CSVs\n",
        "train_df = pd.read_csv(train_csv)\n",
        "test_df  = pd.read_csv(test_csv)\n",
        "\n",
        "# Separate labels and pixels\n",
        "y_train_raw = train_df.pop('label').values\n",
        "y_test_raw  = test_df.pop('label').values\n",
        "\n",
        "x_train = train_df.values.reshape(-1, 28, 28, 1).astype(\"float32\") / 255.0\n",
        "x_test  = test_df.values.reshape(-1, 28, 28, 1).astype(\"float32\") / 255.0\n",
        "\n",
        "# Make labels contiguous (handles “missing J and Z”)\n",
        "uniq = np.unique(np.concatenate([y_train_raw, y_test_raw]))\n",
        "remap = {old:i for i, old in enumerate(sorted(uniq))}\n",
        "y_train = np.array([remap[v] for v in y_train_raw])\n",
        "y_test  = np.array([remap[v] for v in y_test_raw])\n",
        "\n",
        "num_classes = len(uniq)  # should be 24\n",
        "print(\"Shapes:\", x_train.shape, x_test.shape)\n",
        "print(\"Classes detected:\", num_classes, \"Original label ids:\", uniq)"
      ]
    },
    {
      "cell_type": "markdown",
      "source": [
        "## Model It"
      ],
      "metadata": {
        "id": "_jUc9BC5VQ14"
      }
    },
    {
      "cell_type": "code",
      "source": [
        "def CBR(filters):\n",
        "    # Conv -> BatchNorm -> ReLU (BN immediately before activation per instructions)\n",
        "    return tf.keras.Sequential([\n",
        "        layers.Conv2D(filters, 3, padding=\"same\", use_bias=False),\n",
        "        layers.BatchNormalization(),\n",
        "        layers.ReLU(),\n",
        "    ])\n",
        "\n",
        "inputs = layers.Input((28, 28, 1))\n",
        "x = CBR(32)(inputs);  x = CBR(32)(x);  x = layers.MaxPool2D()(x);  x = layers.Dropout(0.25)(x)\n",
        "x = CBR(64)(x);       x = CBR(64)(x);  x = layers.MaxPool2D()(x);  x = layers.Dropout(0.25)(x)\n",
        "x = CBR(128)(x);      x = layers.Conv2D(128, 3, padding=\"same\", use_bias=False)(x)\n",
        "x = layers.BatchNormalization()(x); x = layers.ReLU()(x)\n",
        "x = layers.GlobalAveragePooling2D()(x); x = layers.Dropout(0.40)(x)\n",
        "outputs = layers.Dense(num_classes, activation=\"softmax\")(x)\n",
        "\n",
        "model = models.Model(inputs, outputs, name=\"asl_mnist_cnn\")\n",
        "model.summary()"
      ],
      "metadata": {
        "colab": {
          "base_uri": "https://localhost:8080/"
        },
        "id": "eEtii7-1VSZn",
        "outputId": "a6207efb-ee27-4e78-ea5d-b580ac3ca36d"
      },
      "execution_count": null,
      "outputs": [
        {
          "output_type": "stream",
          "name": "stdout",
          "text": [
            "Model: \"asl_mnist_cnn\"\n",
            "_________________________________________________________________\n",
            " Layer (type)                Output Shape              Param #   \n",
            "=================================================================\n",
            " input_1 (InputLayer)        [(None, 28, 28, 1)]       0         \n",
            "                                                                 \n",
            " sequential (Sequential)     (None, 28, 28, 32)        416       \n",
            "                                                                 \n",
            " sequential_1 (Sequential)   (None, 28, 28, 32)        9344      \n",
            "                                                                 \n",
            " max_pooling2d (MaxPooling2  (None, 14, 14, 32)        0         \n",
            " D)                                                              \n",
            "                                                                 \n",
            " dropout (Dropout)           (None, 14, 14, 32)        0         \n",
            "                                                                 \n",
            " sequential_2 (Sequential)   (None, 14, 14, 64)        18688     \n",
            "                                                                 \n",
            " sequential_3 (Sequential)   (None, 14, 14, 64)        37120     \n",
            "                                                                 \n",
            " max_pooling2d_1 (MaxPoolin  (None, 7, 7, 64)          0         \n",
            " g2D)                                                            \n",
            "                                                                 \n",
            " dropout_1 (Dropout)         (None, 7, 7, 64)          0         \n",
            "                                                                 \n",
            " sequential_4 (Sequential)   (None, 7, 7, 128)         74240     \n",
            "                                                                 \n",
            " conv2d_5 (Conv2D)           (None, 7, 7, 128)         147456    \n",
            "                                                                 \n",
            " batch_normalization_5 (Bat  (None, 7, 7, 128)         512       \n",
            " chNormalization)                                                \n",
            "                                                                 \n",
            " re_lu_5 (ReLU)              (None, 7, 7, 128)         0         \n",
            "                                                                 \n",
            " global_average_pooling2d (  (None, 128)               0         \n",
            " GlobalAveragePooling2D)                                         \n",
            "                                                                 \n",
            " dropout_2 (Dropout)         (None, 128)               0         \n",
            "                                                                 \n",
            " dense (Dense)               (None, 24)                3096      \n",
            "                                                                 \n",
            "=================================================================\n",
            "Total params: 290872 (1.11 MB)\n",
            "Trainable params: 289976 (1.11 MB)\n",
            "Non-trainable params: 896 (3.50 KB)\n",
            "_________________________________________________________________\n"
          ]
        }
      ]
    },
    {
      "cell_type": "markdown",
      "source": [
        "## Train It"
      ],
      "metadata": {
        "id": "7VMM84y2dW4n"
      }
    },
    {
      "cell_type": "code",
      "source": [
        "from tensorflow.keras import callbacks\n",
        "\n",
        "model.compile(optimizer=tf.keras.optimizers.Adam(1e-3),\n",
        "              loss=\"sparse_categorical_crossentropy\",\n",
        "              metrics=[\"accuracy\"])\n",
        "\n",
        "rlrop = callbacks.ReduceLROnPlateau(\n",
        "    monitor=\"val_accuracy\", factor=0.5, patience=2, min_lr=1e-5, verbose=1\n",
        ")\n",
        "es = callbacks.EarlyStopping(\n",
        "    monitor=\"val_accuracy\", patience=6, restore_best_weights=True, verbose=1\n",
        ")\n",
        "\n",
        "history = model.fit(\n",
        "    x_train, y_train,\n",
        "    epochs=60,           # longer run; ES will stop early\n",
        "    batch_size=128,\n",
        "    validation_split=0.10,     # from TRAIN only\n",
        "    callbacks=[rlrop, es],\n",
        "    verbose=2\n",
        ")"
      ],
      "metadata": {
        "colab": {
          "base_uri": "https://localhost:8080/"
        },
        "id": "CuAun77ldYie",
        "outputId": "4b520cc7-1b5a-4ba0-b2d9-b9d475d37b85"
      },
      "execution_count": null,
      "outputs": [
        {
          "output_type": "stream",
          "name": "stdout",
          "text": [
            "Epoch 1/60\n",
            "194/194 - 9s - loss: 1.4295 - accuracy: 0.5942 - val_loss: 8.3793 - val_accuracy: 0.0477 - lr: 0.0010 - 9s/epoch - 47ms/step\n",
            "Epoch 2/60\n",
            "194/194 - 1s - loss: 0.2374 - accuracy: 0.9596 - val_loss: 2.1539 - val_accuracy: 0.3343 - lr: 0.0010 - 1s/epoch - 6ms/step\n",
            "Epoch 3/60\n",
            "194/194 - 1s - loss: 0.0747 - accuracy: 0.9916 - val_loss: 0.0445 - val_accuracy: 0.9967 - lr: 0.0010 - 1s/epoch - 6ms/step\n",
            "Epoch 4/60\n",
            "194/194 - 1s - loss: 0.0329 - accuracy: 0.9972 - val_loss: 0.2259 - val_accuracy: 0.9330 - lr: 0.0010 - 1s/epoch - 6ms/step\n",
            "Epoch 5/60\n",
            "194/194 - 1s - loss: 0.0481 - accuracy: 0.9920 - val_loss: 0.0137 - val_accuracy: 0.9989 - lr: 0.0010 - 1s/epoch - 6ms/step\n",
            "Epoch 6/60\n",
            "194/194 - 1s - loss: 0.0209 - accuracy: 0.9975 - val_loss: 0.0024 - val_accuracy: 1.0000 - lr: 0.0010 - 1s/epoch - 6ms/step\n",
            "Epoch 7/60\n",
            "194/194 - 1s - loss: 0.0168 - accuracy: 0.9976 - val_loss: 0.0048 - val_accuracy: 1.0000 - lr: 0.0010 - 1s/epoch - 6ms/step\n",
            "Epoch 8/60\n",
            "\n",
            "Epoch 8: ReduceLROnPlateau reducing learning rate to 0.0005000000237487257.\n",
            "194/194 - 1s - loss: 0.0073 - accuracy: 0.9995 - val_loss: 7.4189e-04 - val_accuracy: 1.0000 - lr: 0.0010 - 1s/epoch - 6ms/step\n",
            "Epoch 9/60\n",
            "194/194 - 1s - loss: 0.0054 - accuracy: 0.9996 - val_loss: 8.2292e-05 - val_accuracy: 1.0000 - lr: 5.0000e-04 - 1s/epoch - 6ms/step\n",
            "Epoch 10/60\n",
            "\n",
            "Epoch 10: ReduceLROnPlateau reducing learning rate to 0.0002500000118743628.\n",
            "194/194 - 1s - loss: 0.0039 - accuracy: 0.9998 - val_loss: 8.4684e-05 - val_accuracy: 1.0000 - lr: 5.0000e-04 - 1s/epoch - 6ms/step\n",
            "Epoch 11/60\n",
            "194/194 - 1s - loss: 0.0035 - accuracy: 0.9997 - val_loss: 4.1206e-04 - val_accuracy: 1.0000 - lr: 2.5000e-04 - 1s/epoch - 6ms/step\n",
            "Epoch 12/60\n",
            "\n",
            "Epoch 12: ReduceLROnPlateau reducing learning rate to 0.0001250000059371814.\n",
            "194/194 - 1s - loss: 0.0089 - accuracy: 0.9987 - val_loss: 6.5221e-05 - val_accuracy: 1.0000 - lr: 2.5000e-04 - 1s/epoch - 6ms/step\n",
            "Epoch 12: early stopping\n",
            "Restoring model weights from the end of the best epoch: 6.\n"
          ]
        }
      ]
    },
    {
      "cell_type": "code",
      "source": [
        "test_loss, test_acc = model.evaluate(x_test, y_test, verbose=0)\n",
        "print(\"Q1 Test accuracy:\", round(float(test_acc), 4))"
      ],
      "metadata": {
        "colab": {
          "base_uri": "https://localhost:8080/"
        },
        "id": "JhmKA85Hpusz",
        "outputId": "fa471b4f-311d-4541-b8ce-e1faf19b2468"
      },
      "execution_count": null,
      "outputs": [
        {
          "output_type": "stream",
          "name": "stdout",
          "text": [
            "Q1 Test accuracy: 0.9955\n"
          ]
        }
      ]
    },
    {
      "cell_type": "markdown",
      "source": [
        "## Accuracy Overall (Proof)"
      ],
      "metadata": {
        "id": "kDgJ_Ti_oQVa"
      }
    },
    {
      "cell_type": "code",
      "source": [
        "# === Q1: summarize training/validation accuracy over all completed epochs ===\n",
        "import numpy as np\n",
        "\n",
        "hist = history.history\n",
        "# Works with both old/new key names\n",
        "train_key = 'accuracy' if 'accuracy' in hist else 'acc'\n",
        "val_key   = 'val_accuracy' if 'val_accuracy' in hist else 'val_acc'\n",
        "\n",
        "train_acc = np.array(hist[train_key], dtype=float)\n",
        "val_acc   = np.array(hist[val_key],   dtype=float)\n",
        "\n",
        "epochs_run = len(val_acc)\n",
        "best_idx   = int(np.argmax(val_acc))           # 0-based\n",
        "best_epoch = best_idx + 1                      # 1-based\n",
        "best_val   = float(val_acc[best_idx])\n",
        "mean_val   = float(val_acc.mean())\n",
        "mean_train = float(train_acc.mean())\n",
        "\n",
        "print(f\"Epochs completed: {epochs_run}\")\n",
        "print(f\"Mean TRAIN accuracy over epochs: {mean_train:.4f}\")\n",
        "print(f\"Mean VAL   accuracy over epochs: {mean_val:.4f}\")\n",
        "print(f\"Best VAL accuracy: {best_val:.4f} (epoch {best_epoch})\")\n",
        "print(f\"Last VAL accuracy: {val_acc[-1]:.4f}\")\n",
        "\n",
        "try:\n",
        "    print(f\"TEST accuracy: {float(test_acc):.4f}\")\n",
        "except NameError:\n",
        "    print(\"TEST accuracy: (run your evaluate cell to show this)\")\n",
        "\n",
        "# Quick pass/fail for the assignment target\n",
        "meets_target = (mean_val >= 0.92) or ('test_acc' in globals() and float(test_acc) >= 0.92)\n",
        "print(\"Meets ≥92% target (mean VAL or TEST):\", \"Yes\" if meets_target else \"Not yet\")"
      ],
      "metadata": {
        "colab": {
          "base_uri": "https://localhost:8080/"
        },
        "id": "XZZryytNo00C",
        "outputId": "989397f6-3fc7-4bc0-b700-ade15f1ce7a3"
      },
      "execution_count": null,
      "outputs": [
        {
          "output_type": "stream",
          "name": "stdout",
          "text": [
            "Epochs completed: 12\n",
            "Mean TRAIN accuracy over epochs: 0.9606\n",
            "Mean VAL   accuracy over epochs: 0.8592\n",
            "Best VAL accuracy: 1.0000 (epoch 6)\n",
            "Last VAL accuracy: 1.0000\n",
            "TEST accuracy: 0.9955\n",
            "Meets ≥92% target (mean VAL or TEST): Yes\n"
          ]
        }
      ]
    },
    {
      "cell_type": "markdown",
      "source": [
        "## Save the Model"
      ],
      "metadata": {
        "id": "ldd5UImHda0H"
      }
    },
    {
      "cell_type": "code",
      "source": [
        "model.save(\"asl_mnist_baseline.keras\")\n",
        "print(\"Saved: asl_mnist_baseline.keras\")"
      ],
      "metadata": {
        "colab": {
          "base_uri": "https://localhost:8080/"
        },
        "id": "voce3hnIdc6F",
        "outputId": "cb043490-cdb2-426a-99e2-36cfffb67a2a"
      },
      "execution_count": null,
      "outputs": [
        {
          "output_type": "stream",
          "name": "stdout",
          "text": [
            "Saved: asl_mnist_baseline.keras\n"
          ]
        }
      ]
    },
    {
      "cell_type": "markdown",
      "source": [
        "# Q2a New Stuff Here"
      ],
      "metadata": {
        "id": "_YYU5CYNKUxd"
      }
    },
    {
      "cell_type": "code",
      "source": [
        "SAVE_PATH = \"asl_mnist_baseline.keras\"\n",
        "if \"model\" in globals():\n",
        "    model.save(SAVE_PATH)\n",
        "    print(f\"Saved trained model to {SAVE_PATH}\")\n",
        "else:\n",
        "    print(\"No in-memory model found; loading from disk...\")\n",
        "    model = tf.keras.models.load_model(SAVE_PATH)\n",
        "    print(f\"Loaded model from {SAVE_PATH}\")\n",
        "\n",
        "# Sanity: have test tensors?\n",
        "assert \"x_test\" in globals() and \"y_test\" in globals(), \"x_test / y_test not found (rerun Q1 data cells).\"\n",
        "print(\"Test set:\", x_test.shape, y_test.shape)"
      ],
      "metadata": {
        "colab": {
          "base_uri": "https://localhost:8080/"
        },
        "id": "n497ZYoOKT8f",
        "outputId": "8a190c14-e646-4d31-e78d-c7bb3c8294de"
      },
      "execution_count": null,
      "outputs": [
        {
          "output_type": "stream",
          "name": "stdout",
          "text": [
            "Saved trained model to asl_mnist_baseline.keras\n",
            "Test set: (7172, 28, 28, 1) (7172,)\n"
          ]
        }
      ]
    },
    {
      "cell_type": "markdown",
      "source": [
        "## Helper Method"
      ],
      "metadata": {
        "id": "TKmIIsLRItRu"
      }
    },
    {
      "cell_type": "code",
      "source": [
        "def tflite_accuracy(tflite_path, x, y, batch_size=128):\n",
        "    import numpy as np\n",
        "    import tensorflow as tf\n",
        "    from tensorflow.lite.python.interpreter import Interpreter  # deprecation warning is fine for now\n",
        "\n",
        "    x = x.astype(np.float32)\n",
        "    interp = Interpreter(model_path=tflite_path)\n",
        "    # We’ll (re)allocate per batch, so no allocate_tensors() yet\n",
        "\n",
        "    # Read expected spatial dims\n",
        "    in_det  = interp.get_input_details()[0]\n",
        "    out_det = interp.get_output_details()[0]\n",
        "    # Safe default if the model stores a dummy batch dim\n",
        "    H, W, C = int(in_det['shape'][1]), int(in_det['shape'][2]), int(in_det['shape'][3])\n",
        "\n",
        "    n = len(x)\n",
        "    correct = 0\n",
        "    start = 0\n",
        "    while start < n:\n",
        "        end = min(start + batch_size, n)\n",
        "        batch = x[start:end]\n",
        "\n",
        "        # ---- KEY: resize to current batch size, then allocate, then run\n",
        "        interp.resize_tensor_input(in_det['index'], [end - start, H, W, C], strict=False)\n",
        "        interp.allocate_tensors()\n",
        "        interp.set_tensor(in_det['index'], batch)\n",
        "        interp.invoke()\n",
        "        preds = interp.get_tensor(out_det['index'])   # shape [B, 24]\n",
        "        correct += int((np.argmax(preds, axis=1) == y[start:end]).sum())\n",
        "        start = end\n",
        "\n",
        "    return correct / n"
      ],
      "metadata": {
        "id": "gwlAVuwDIujn"
      },
      "execution_count": null,
      "outputs": []
    },
    {
      "cell_type": "markdown",
      "source": [
        "## Convert to float TFLite"
      ],
      "metadata": {
        "id": "oUY8GAmBIxKa"
      }
    },
    {
      "cell_type": "code",
      "source": [
        "# Float TFLite (baseline)\n",
        "converter = tf.lite.TFLiteConverter.from_keras_model(model)\n",
        "tflite_float = converter.convert()\n",
        "open(\"s_mnist.tflite\", \"wb\").write(tflite_float)\n",
        "\n",
        "print(\"Wrote s_mnist.tflite\")"
      ],
      "metadata": {
        "colab": {
          "base_uri": "https://localhost:8080/"
        },
        "id": "r7txSXOEI19x",
        "outputId": "bfe81641-bb25-4d42-8f1e-d212f7aff76d"
      },
      "execution_count": null,
      "outputs": [
        {
          "output_type": "stream",
          "name": "stdout",
          "text": [
            "Wrote s_mnist.tflite\n"
          ]
        }
      ]
    },
    {
      "cell_type": "markdown",
      "source": [
        "## Convert with Dynamic Range"
      ],
      "metadata": {
        "id": "oUQJNCh_I-N1"
      }
    },
    {
      "cell_type": "code",
      "source": [
        "# Dynamic range quantization (weights → int8; activations quantized dynamically at runtime)\n",
        "converter = tf.lite.TFLiteConverter.from_keras_model(model)\n",
        "converter.optimizations = [tf.lite.Optimize.DEFAULT]\n",
        "tflite_dyn = converter.convert()\n",
        "open(\"s_mnist_quant_dyn.tflite\", \"wb\").write(tflite_dyn)\n",
        "\n",
        "print(\"Wrote s_mnist_quant_dyn.tflite\")"
      ],
      "metadata": {
        "colab": {
          "base_uri": "https://localhost:8080/"
        },
        "id": "mQbrYRBiJA2x",
        "outputId": "f2b9e865-10b8-41b3-8eda-258db0c61a80"
      },
      "execution_count": null,
      "outputs": [
        {
          "output_type": "stream",
          "name": "stdout",
          "text": [
            "Wrote s_mnist_quant_dyn.tflite\n"
          ]
        }
      ]
    },
    {
      "cell_type": "markdown",
      "source": [
        "## Evaluate BOTH Models"
      ],
      "metadata": {
        "id": "mE5jPbp6JDkS"
      }
    },
    {
      "cell_type": "code",
      "source": [
        "acc_float = tflite_accuracy(\"s_mnist.tflite\", x_test, y_test)       # or tflite_accuracy_b1(...)\n",
        "acc_dyn   = tflite_accuracy(\"s_mnist_quant_dyn.tflite\", x_test, y_test)\n",
        "\n",
        "import os\n",
        "mb = lambda p: os.path.getsize(p)/1024/1024\n",
        "print(f\"Float TFLite : acc={acc_float:.4f} | size={mb('s_mnist.tflite'):.2f} MB\")\n",
        "print(f\"Dynamic-Range: acc={acc_dyn:.4f} | size={mb('s_mnist_quant_dyn.tflite'):.2f} MB\")\n",
        "print(f\"Δacc (dyn - float): {acc_dyn-acc_float:+.4f}\")\n",
        "print(f\"Size reduction     : {(1 - mb('s_mnist_quant_dyn.tflite')/mb('s_mnist.tflite'))*100:.1f}%\")"
      ],
      "metadata": {
        "colab": {
          "base_uri": "https://localhost:8080/"
        },
        "id": "lDwhYMnKJFWm",
        "outputId": "b84156d9-7b98-4ff8-cb0a-09aca8c57711"
      },
      "execution_count": null,
      "outputs": [
        {
          "output_type": "stream",
          "name": "stderr",
          "text": [
            "/usr/local/lib/python3.12/dist-packages/tensorflow/lite/python/interpreter.py:457: UserWarning:     Warning: tf.lite.Interpreter is deprecated and is scheduled for deletion in\n",
            "    TF 2.20. Please use the LiteRT interpreter from the ai_edge_litert package.\n",
            "    See the [migration guide](https://ai.google.dev/edge/litert/migration)\n",
            "    for details.\n",
            "    \n",
            "  warnings.warn(_INTERPRETER_DELETION_WARNING)\n"
          ]
        },
        {
          "output_type": "stream",
          "name": "stdout",
          "text": [
            "Float TFLite : acc=0.9955 | size=1.11 MB\n",
            "Dynamic-Range: acc=0.9960 | size=0.29 MB\n",
            "Δacc (dyn - float): +0.0004\n",
            "Size reduction     : 74.0%\n"
          ]
        }
      ]
    },
    {
      "cell_type": "markdown",
      "source": [
        "# Q2b Starts Here with New Code"
      ],
      "metadata": {
        "id": "a33eNUEqTVuy"
      }
    },
    {
      "cell_type": "code",
      "source": [
        "import numpy as np\n",
        "\n",
        "def rep_ds_16x8():\n",
        "    # ~200 samples is plenty for MNIST-size models\n",
        "    for i in range(200):\n",
        "        yield [x_train[i:i+1].astype(np.float32)]"
      ],
      "metadata": {
        "id": "Xvt4iLdZTaoE"
      },
      "execution_count": null,
      "outputs": []
    },
    {
      "cell_type": "markdown",
      "source": [
        "## Convert to Int16 Activations + Int8 Weights (16x8)"
      ],
      "metadata": {
        "id": "EBiXZpyiThN2"
      }
    },
    {
      "cell_type": "code",
      "source": [
        "import tensorflow as tf\n",
        "\n",
        "converter = tf.lite.TFLiteConverter.from_keras_model(model)\n",
        "converter.optimizations = [tf.lite.Optimize.DEFAULT]\n",
        "converter.representative_dataset = rep_ds_16x8\n",
        "\n",
        "# Ask for the experimental 16x8 kernels; allow float fallback if any op isn’t supported\n",
        "converter.target_spec.supported_ops = [\n",
        "    tf.lite.OpsSet.EXPERIMENTAL_TFLITE_BUILTINS_ACTIVATIONS_INT16_WEIGHTS_INT8,\n",
        "    tf.lite.OpsSet.TFLITE_BUILTINS  # fallback (keeps conversion robust)\n",
        "]\n",
        "\n",
        "tflite_16x8 = converter.convert()\n",
        "open(\"s_mnist_quant_int16x8.tflite\", \"wb\").write(tflite_16x8)\n",
        "print(\"Wrote s_mnist_quant_int16x8.tflite\")"
      ],
      "metadata": {
        "id": "hD-2sfSrTrrY",
        "colab": {
          "base_uri": "https://localhost:8080/"
        },
        "outputId": "65a237b3-93e2-4b5f-ed3f-b39070c0c5f1"
      },
      "execution_count": null,
      "outputs": [
        {
          "output_type": "stream",
          "name": "stdout",
          "text": [
            "Wrote s_mnist_quant_int16x8.tflite\n"
          ]
        }
      ]
    },
    {
      "cell_type": "markdown",
      "source": [
        "## A TFLite accuracy helper"
      ],
      "metadata": {
        "id": "IAht3xOHV8Qi"
      }
    },
    {
      "cell_type": "code",
      "source": [
        "import numpy as np\n",
        "import tensorflow as tf\n",
        "\n",
        "# Robust TFLite eval: batch=1, no repeated resize/allocate\n",
        "def tflite_accuracy_b1(tflite_path, x, y):\n",
        "    import numpy as np\n",
        "    try:\n",
        "        # If LiteRT is available, use it; otherwise fall back to TF's Interpreter\n",
        "        from ai_edge_litert.python.interpreter import Interpreter\n",
        "    except Exception:\n",
        "        from tensorflow.lite.python.interpreter import Interpreter\n",
        "\n",
        "    itp = Interpreter(model_path=tflite_path, num_threads=2)\n",
        "    itp.allocate_tensors()\n",
        "\n",
        "    in_det  = itp.get_input_details()[0]\n",
        "    out_det = itp.get_output_details()[0]\n",
        "    in_idx   = in_det[\"index\"]\n",
        "    in_dtype = in_det[\"dtype\"]\n",
        "    q = in_det.get(\"quantization_parameters\", {})\n",
        "    scale = float(q.get(\"scales\", [1.0])[0]) if len(q.get(\"scales\", [])) else 1.0\n",
        "    zero  = int(q.get(\"zero_points\", [0])[0]) if len(q.get(\"zero_points\", [])) else 0\n",
        "\n",
        "    # one-time resize to (1, H, W, C)\n",
        "    itp.resize_tensor_input(in_idx, (1,)+tuple(x.shape[1:]), strict=False)\n",
        "    itp.allocate_tensors()\n",
        "\n",
        "    correct = 0\n",
        "    for i in range(len(x)):\n",
        "        xi = x[i:i+1]\n",
        "        if in_dtype == np.float32:\n",
        "            xi = xi.astype(np.float32)\n",
        "        elif in_dtype in (np.int8, np.uint8, np.int16):\n",
        "            xi = np.round(xi/scale + zero).astype(in_dtype)\n",
        "        else:\n",
        "            raise ValueError(f\"Unsupported input dtype: {in_dtype}\")\n",
        "\n",
        "        itp.set_tensor(in_idx, xi)\n",
        "        itp.invoke()\n",
        "        pred = itp.get_tensor(out_det[\"index\"]).argmax(axis=-1)[0]\n",
        "        correct += int(pred == y[i])\n",
        "\n",
        "    return correct / len(x)"
      ],
      "metadata": {
        "id": "0NJST_Q-WDjd"
      },
      "execution_count": null,
      "outputs": []
    },
    {
      "cell_type": "markdown",
      "source": [
        "## Evaluate all three TFLite models and compare sizes"
      ],
      "metadata": {
        "id": "qyihCc0hWFnx"
      }
    },
    {
      "cell_type": "code",
      "source": [
        "import warnings\n",
        "warnings.filterwarnings(\"ignore\", message=\".*tf.lite.Interpreter is deprecated.*\")"
      ],
      "metadata": {
        "id": "Ewzqz3IvWH5N"
      },
      "execution_count": null,
      "outputs": []
    },
    {
      "cell_type": "code",
      "source": [
        "import os\n",
        "mb = lambda p: os.path.getsize(p)/1024/1024\n",
        "\n",
        "acc_float = tflite_accuracy_b1(\"s_mnist.tflite\",               x_test, y_test)\n",
        "acc_dyn   = tflite_accuracy_b1(\"s_mnist_quant_dyn.tflite\",     x_test, y_test)\n",
        "acc_16x8  = tflite_accuracy_b1(\"s_mnist_quant_int16x8.tflite\", x_test, y_test)\n",
        "\n",
        "print(f\"{'Model':<28} {'Acc':>8}   {'Size (MB)':>9}\")\n",
        "print(\"-\"*50)\n",
        "print(f\"{'Float TFLite':<28} {acc_float:>8.4f}   {mb('s_mnist.tflite'):>9.2f}\")\n",
        "print(f\"{'Dynamic-Range (int8W)':<28} {acc_dyn:>8.4f}   {mb('s_mnist_quant_dyn.tflite'):>9.2f}\")\n",
        "print(f\"{'Int16x8 (act16, w8)':<28} {acc_16x8:>8.4f}   {mb('s_mnist_quant_int16x8.tflite'):>9.2f}\")\n",
        "\n",
        "print(\"\\nDeltas vs Float:\")\n",
        "print(f\"  Dyn acc Δ  : {acc_dyn-acc_float:+.4f} | size ↓ {100*(1-mb('s_mnist_quant_dyn.tflite')/mb('s_mnist.tflite')):>.1f}%\")\n",
        "print(f\"  16x8 acc Δ : {acc_16x8-acc_float:+.4f} | size ↓ {100*(1-mb('s_mnist_quant_int16x8.tflite')/mb('s_mnist.tflite')):>.1f}%\")"
      ],
      "metadata": {
        "colab": {
          "base_uri": "https://localhost:8080/"
        },
        "id": "SetrhZUJkn0-",
        "outputId": "e096f0e7-9c40-4e71-e3b4-182d7f1003be"
      },
      "execution_count": null,
      "outputs": [
        {
          "output_type": "stream",
          "name": "stdout",
          "text": [
            "Model                             Acc   Size (MB)\n",
            "--------------------------------------------------\n",
            "Float TFLite                   0.9955        1.11\n",
            "Dynamic-Range (int8W)          0.9960        0.29\n",
            "Int16x8 (act16, w8)            0.9978        0.30\n",
            "\n",
            "Deltas vs Float:\n",
            "  Dyn acc Δ  : +0.0004 | size ↓ 74.0%\n",
            "  16x8 acc Δ : +0.0022 | size ↓ 73.0%\n"
          ]
        }
      ]
    },
    {
      "cell_type": "markdown",
      "source": [
        "# Q2c Code Starts Here"
      ],
      "metadata": {
        "id": "Dz9BWY9-rKMO"
      }
    },
    {
      "cell_type": "code",
      "source": [
        "# --- Q2c bootstrap: reload what we need without rerunning Q1/Q2a/Q2b ---\n",
        "import tensorflow as tf, numpy as np, os, pandas as pd\n",
        "\n",
        "# Load the trained float model from Q1\n",
        "base_model = tf.keras.models.load_model(\"asl_mnist_baseline.keras\")\n",
        "\n",
        "if 'x_test' not in globals() or 'y_test' not in globals():\n",
        "    test = pd.read_csv(\"sign_mnist_test.csv\")\n",
        "    y_test = test['label'].to_numpy().astype('int64')\n",
        "    X = test.drop('label', axis=1).to_numpy().reshape(-1, 28, 28, 1)\n",
        "    x_test = (X / 255.0).astype('float32')\n",
        "print(\"Ready for Q2c:\", base_model.name, \"| test:\", x_test.shape, y_test.shape)\n",
        "\n",
        "for f in [\"s_mnist.tflite\", \"s_mnist_quant_dyn.tflite\", \"s_mnist_quant_int16x8.tflite\"]:\n",
        "    print(f, \"✓\" if os.path.exists(f) else \"✗ (make in Q2a/Q2b or skip in table)\")"
      ],
      "metadata": {
        "colab": {
          "base_uri": "https://localhost:8080/"
        },
        "id": "st30vs5BrM35",
        "outputId": "fa88f834-c03d-4593-cc06-348123130670"
      },
      "execution_count": 30,
      "outputs": [
        {
          "output_type": "stream",
          "name": "stdout",
          "text": [
            "Ready for Q2c: asl_mnist_cnn | test: (7172, 28, 28, 1) (7172,)\n",
            "s_mnist.tflite ✓\n",
            "s_mnist_quant_dyn.tflite ✓\n",
            "s_mnist_quant_int16x8.tflite ✓\n"
          ]
        }
      ]
    },
    {
      "cell_type": "markdown",
      "source": [
        "## Rebuild Q1 Model"
      ],
      "metadata": {
        "id": "Vv6-Np8stB05"
      }
    },
    {
      "cell_type": "code",
      "source": [
        "# # Load your trained float model from Q1/Q2a\n",
        "# BASE_PATH = \"asl_mnist_baseline.keras\"\n",
        "# base_float = tf.keras.models.load_model(BASE_PATH)\n",
        "\n",
        "# def build_asl_seq(input_shape=(28,28,1), num_classes=24):\n",
        "#     return tf.keras.Sequential([\n",
        "#         tf.keras.layers.Input(shape=input_shape),\n",
        "\n",
        "#         tf.keras.layers.Conv2D(32, 3, padding=\"same\", use_bias=False),\n",
        "#         tf.keras.layers.BatchNormalization(), tf.keras.layers.ReLU(),\n",
        "#         tf.keras.layers.Conv2D(64, 3, padding=\"same\", use_bias=False),\n",
        "#         tf.keras.layers.BatchNormalization(), tf.keras.layers.ReLU(),\n",
        "#         tf.keras.layers.MaxPool2D(), tf.keras.layers.Dropout(0.25),\n",
        "\n",
        "#         tf.keras.layers.Conv2D(128, 3, padding=\"same\", use_bias=False),\n",
        "#         tf.keras.layers.BatchNormalization(), tf.keras.layers.ReLU(),\n",
        "\n",
        "#         tf.keras.layers.GlobalAveragePooling2D(),\n",
        "#         tf.keras.layers.Dropout(0.30),\n",
        "\n",
        "#         tf.keras.layers.Dense(num_classes, activation=\"softmax\"),\n",
        "#     ], name=\"asl_mnist_seq\")\n",
        "\n",
        "# seq_model = build_asl_seq(input_shape=base_float.input_shape[1:],\n",
        "#                           num_classes=base_float.output_shape[-1])\n",
        "\n",
        "# # best-effort weight copy (if shapes match, this succeeds)\n",
        "# try:\n",
        "#     seq_model.set_weights(base_float.get_weights())\n",
        "#     print(\"✓ Copied weights from baseline → Sequential.\")\n",
        "# except Exception as e:\n",
        "#     print(\"⚠ Could not copy weights 1:1, will fine-tune more. Reason:\", e)\n",
        "\n",
        "# seq_model.summary()"
      ],
      "metadata": {
        "colab": {
          "base_uri": "https://localhost:8080/"
        },
        "id": "0P6Lm3MdtDhe",
        "outputId": "81a0091a-9edd-45a4-cf99-033810693e16"
      },
      "execution_count": null,
      "outputs": [
        {
          "output_type": "stream",
          "name": "stdout",
          "text": [
            "⚠ Could not copy weights 1:1, will fine-tune more. Reason: You called `set_weights(weights)` on layer \"asl_mnist_seq\" with a weight list of length 32, but the layer was expecting 17 weights. Provided weights: [array([[[[ 0.02813086,  0.13796699,  0.0631818 , ...\n",
            "Model: \"asl_mnist_seq\"\n",
            "_________________________________________________________________\n",
            " Layer (type)                Output Shape              Param #   \n",
            "=================================================================\n",
            " conv2d_6 (Conv2D)           (None, 28, 28, 32)        288       \n",
            "                                                                 \n",
            " batch_normalization_6 (Bat  (None, 28, 28, 32)        128       \n",
            " chNormalization)                                                \n",
            "                                                                 \n",
            " re_lu_6 (ReLU)              (None, 28, 28, 32)        0         \n",
            "                                                                 \n",
            " conv2d_7 (Conv2D)           (None, 28, 28, 64)        18432     \n",
            "                                                                 \n",
            " batch_normalization_7 (Bat  (None, 28, 28, 64)        256       \n",
            " chNormalization)                                                \n",
            "                                                                 \n",
            " re_lu_7 (ReLU)              (None, 28, 28, 64)        0         \n",
            "                                                                 \n",
            " max_pooling2d_2 (MaxPoolin  (None, 14, 14, 64)        0         \n",
            " g2D)                                                            \n",
            "                                                                 \n",
            " dropout_3 (Dropout)         (None, 14, 14, 64)        0         \n",
            "                                                                 \n",
            " conv2d_8 (Conv2D)           (None, 14, 14, 128)       73728     \n",
            "                                                                 \n",
            " batch_normalization_8 (Bat  (None, 14, 14, 128)       512       \n",
            " chNormalization)                                                \n",
            "                                                                 \n",
            " re_lu_8 (ReLU)              (None, 14, 14, 128)       0         \n",
            "                                                                 \n",
            " global_average_pooling2d_1  (None, 128)               0         \n",
            "  (GlobalAveragePooling2D)                                       \n",
            "                                                                 \n",
            " dropout_4 (Dropout)         (None, 128)               0         \n",
            "                                                                 \n",
            " dense_1 (Dense)             (None, 24)                3096      \n",
            "                                                                 \n",
            "=================================================================\n",
            "Total params: 96440 (376.72 KB)\n",
            "Trainable params: 95992 (374.97 KB)\n",
            "Non-trainable params: 448 (1.75 KB)\n",
            "_________________________________________________________________\n"
          ]
        }
      ]
    },
    {
      "cell_type": "markdown",
      "source": [
        "## Flattening the Saved Model"
      ],
      "metadata": {
        "id": "ZUREWYxRzRvz"
      }
    },
    {
      "cell_type": "code",
      "source": [
        "import tensorflow as tf\n",
        "\n",
        "# 1) Recreate every layer fresh (no graph reuse)\n",
        "def _clone_layer(layer):\n",
        "    return layer.__class__.from_config(layer.get_config())\n",
        "\n",
        "# 2) Recursively inline any nested Models/Sequentials → single Functional graph\n",
        "def build_flat_functional(model: tf.keras.Model) -> tf.keras.Model:\n",
        "    x = tf.keras.Input(shape=model.input_shape[1:])\n",
        "    y = x\n",
        "    def apply_stack(inp, layers):\n",
        "        z = inp\n",
        "        for lyr in layers:\n",
        "            if isinstance(lyr, tf.keras.layers.InputLayer):\n",
        "                continue\n",
        "            if isinstance(lyr, tf.keras.Model):\n",
        "                z = apply_stack(z, lyr.layers)  # inline submodel\n",
        "            else:\n",
        "                z = _clone_layer(lyr)(z)\n",
        "        return z\n",
        "    y = apply_stack(x, model.layers)\n",
        "    return tf.keras.Model(x, y, name=model.name + \"_flat\")\n",
        "\n",
        "flat_float = build_flat_functional(base_model)\n",
        "\n",
        "# 3) Copy weights by name when possible; fallback to by-shape\n",
        "def copy_weights_by_name_or_shape(src, dst):\n",
        "    matched = 0\n",
        "    for d in dst.layers:\n",
        "        try:\n",
        "            s = src.get_layer(d.name)\n",
        "            if s.get_weights() and all(a.shape == b.shape for a,b in zip(s.get_weights(), d.get_weights())):\n",
        "                d.set_weights(s.get_weights()); matched += 1\n",
        "        except Exception:\n",
        "            pass\n",
        "    if matched == 0:\n",
        "        # Coarse fallback by shape order\n",
        "        sw = [w for L in src.layers for w in L.get_weights()]\n",
        "        di = 0\n",
        "        for d in dst.layers:\n",
        "            dw = d.get_weights()\n",
        "            if not dw: continue\n",
        "            take = []\n",
        "            for w in dw:\n",
        "                while di < len(sw) and sw[di].shape != w.shape:\n",
        "                    di += 1\n",
        "                if di == len(sw): break\n",
        "                take.append(sw[di]); di += 1\n",
        "            if len(take) == len(dw):\n",
        "                d.set_weights(take)\n",
        "\n",
        "copy_weights_by_name_or_shape(base_model, flat_float)\n",
        "\n",
        "# (Optional) quick float check\n",
        "flat_float.compile(optimizer=\"adam\", loss=\"sparse_categorical_crossentropy\", metrics=[\"accuracy\"])\n",
        "_ = flat_float.evaluate(x_test, y_test, verbose=0)\n",
        "print(\"Flattened model ready.\")\n",
        "flat_float.summary()"
      ],
      "metadata": {
        "colab": {
          "base_uri": "https://localhost:8080/"
        },
        "id": "H0UwgLsazXev",
        "outputId": "a2baa7ab-62e0-451d-d148-e45a8f20fbfd"
      },
      "execution_count": 31,
      "outputs": [
        {
          "output_type": "stream",
          "name": "stdout",
          "text": [
            "Flattened model ready.\n",
            "Model: \"asl_mnist_cnn_flat\"\n",
            "_________________________________________________________________\n",
            " Layer (type)                Output Shape              Param #   \n",
            "=================================================================\n",
            " input_6 (InputLayer)        [(None, 28, 28, 1)]       0         \n",
            "                                                                 \n",
            " conv2d (Conv2D)             (None, 28, 28, 32)        288       \n",
            "                                                                 \n",
            " batch_normalization (Batch  (None, 28, 28, 32)        128       \n",
            " Normalization)                                                  \n",
            "                                                                 \n",
            " re_lu (ReLU)                (None, 28, 28, 32)        0         \n",
            "                                                                 \n",
            " conv2d_1 (Conv2D)           (None, 28, 28, 32)        9216      \n",
            "                                                                 \n",
            " batch_normalization_1 (Bat  (None, 28, 28, 32)        128       \n",
            " chNormalization)                                                \n",
            "                                                                 \n",
            " re_lu_1 (ReLU)              (None, 28, 28, 32)        0         \n",
            "                                                                 \n",
            " max_pooling2d (MaxPooling2  (None, 14, 14, 32)        0         \n",
            " D)                                                              \n",
            "                                                                 \n",
            " dropout (Dropout)           (None, 14, 14, 32)        0         \n",
            "                                                                 \n",
            " conv2d_2 (Conv2D)           (None, 14, 14, 64)        18432     \n",
            "                                                                 \n",
            " batch_normalization_2 (Bat  (None, 14, 14, 64)        256       \n",
            " chNormalization)                                                \n",
            "                                                                 \n",
            " re_lu_2 (ReLU)              (None, 14, 14, 64)        0         \n",
            "                                                                 \n",
            " conv2d_3 (Conv2D)           (None, 14, 14, 64)        36864     \n",
            "                                                                 \n",
            " batch_normalization_3 (Bat  (None, 14, 14, 64)        256       \n",
            " chNormalization)                                                \n",
            "                                                                 \n",
            " re_lu_3 (ReLU)              (None, 14, 14, 64)        0         \n",
            "                                                                 \n",
            " max_pooling2d_1 (MaxPoolin  (None, 7, 7, 64)          0         \n",
            " g2D)                                                            \n",
            "                                                                 \n",
            " dropout_1 (Dropout)         (None, 7, 7, 64)          0         \n",
            "                                                                 \n",
            " conv2d_4 (Conv2D)           (None, 7, 7, 128)         73728     \n",
            "                                                                 \n",
            " batch_normalization_4 (Bat  (None, 7, 7, 128)         512       \n",
            " chNormalization)                                                \n",
            "                                                                 \n",
            " re_lu_4 (ReLU)              (None, 7, 7, 128)         0         \n",
            "                                                                 \n",
            " conv2d_5 (Conv2D)           (None, 7, 7, 128)         147456    \n",
            "                                                                 \n",
            " batch_normalization_5 (Bat  (None, 7, 7, 128)         512       \n",
            " chNormalization)                                                \n",
            "                                                                 \n",
            " re_lu_5 (ReLU)              (None, 7, 7, 128)         0         \n",
            "                                                                 \n",
            " global_average_pooling2d (  (None, 128)               0         \n",
            " GlobalAveragePooling2D)                                         \n",
            "                                                                 \n",
            " dropout_2 (Dropout)         (None, 128)               0         \n",
            "                                                                 \n",
            " dense (Dense)               (None, 24)                3096      \n",
            "                                                                 \n",
            "=================================================================\n",
            "Total params: 290872 (1.11 MB)\n",
            "Trainable params: 289976 (1.11 MB)\n",
            "Non-trainable params: 896 (3.50 KB)\n",
            "_________________________________________________________________\n"
          ]
        }
      ]
    },
    {
      "cell_type": "markdown",
      "source": [
        "## Quantization"
      ],
      "metadata": {
        "id": "EeK_RqlvWfZP"
      }
    },
    {
      "cell_type": "code",
      "source": [
        "# If missing, install quietly then import\n",
        "try:\n",
        "    import tensorflow_model_optimization as tfmot\n",
        "except Exception:\n",
        "    import sys, subprocess\n",
        "    subprocess.check_call([sys.executable, \"-m\", \"pip\", \"install\", \"-q\", \"--no-deps\",\n",
        "                           \"tensorflow-model-optimization==0.8.0\"])\n",
        "    import tensorflow_model_optimization as tfmot\n",
        "\n",
        "# Build QAT model from the flattened float model\n",
        "annotated = tfmot.quantization.keras.quantize_annotate_model(flat_float)\n",
        "qat_model = tfmot.quantization.keras.quantize_apply(annotated)\n",
        "\n",
        "qat_model.compile(\n",
        "    optimizer=tf.keras.optimizers.Adam(1e-4),\n",
        "    loss=\"sparse_categorical_crossentropy\",\n",
        "    metrics=[\"accuracy\"],\n",
        ")\n",
        "\n",
        "from tensorflow.keras import callbacks\n",
        "es_qat = callbacks.EarlyStopping(monitor=\"val_accuracy\", patience=4,\n",
        "                                 restore_best_weights=True, verbose=1)\n",
        "\n",
        "history_qat = qat_model.fit(\n",
        "    # use train split if available; otherwise fine-tune on a val split from test (last resort)\n",
        "    x_train if 'x_train' in globals() else x_test,\n",
        "    y_train if 'y_train' in globals() else y_test,\n",
        "    epochs=8,\n",
        "    batch_size=128,\n",
        "    validation_split=0.10,\n",
        "    callbacks=[es_qat],\n",
        "    verbose=2\n",
        ")\n",
        "\n",
        "qat_loss, qat_acc = qat_model.evaluate(x_test, y_test, verbose=0)\n",
        "print(f\"QAT (fake-quant) test accuracy: {qat_acc:.4f}\")"
      ],
      "metadata": {
        "colab": {
          "base_uri": "https://localhost:8080/"
        },
        "id": "q9XHroZXWrvf",
        "outputId": "e43c1684-c398-4a6e-d3c0-14d83b0b2f63"
      },
      "execution_count": 32,
      "outputs": [
        {
          "output_type": "stream",
          "name": "stdout",
          "text": [
            "Epoch 1/8\n",
            "194/194 - 8s - loss: 2.7450 - accuracy: 0.2249 - val_loss: 7.2884 - val_accuracy: 0.0495 - 8s/epoch - 43ms/step\n",
            "Epoch 2/8\n",
            "194/194 - 3s - loss: 1.4222 - accuracy: 0.5194 - val_loss: 5.9802 - val_accuracy: 0.0849 - 3s/epoch - 15ms/step\n",
            "Epoch 3/8\n",
            "194/194 - 3s - loss: 0.9266 - accuracy: 0.6802 - val_loss: 0.8240 - val_accuracy: 0.7582 - 3s/epoch - 16ms/step\n",
            "Epoch 4/8\n",
            "194/194 - 3s - loss: 0.6666 - accuracy: 0.7765 - val_loss: 0.2636 - val_accuracy: 0.9432 - 3s/epoch - 16ms/step\n",
            "Epoch 5/8\n",
            "194/194 - 3s - loss: 0.5056 - accuracy: 0.8400 - val_loss: 0.1636 - val_accuracy: 0.9690 - 3s/epoch - 16ms/step\n",
            "Epoch 6/8\n",
            "194/194 - 3s - loss: 0.4001 - accuracy: 0.8753 - val_loss: 0.1055 - val_accuracy: 0.9898 - 3s/epoch - 16ms/step\n",
            "Epoch 7/8\n",
            "194/194 - 3s - loss: 0.3255 - accuracy: 0.9039 - val_loss: 0.0987 - val_accuracy: 0.9792 - 3s/epoch - 15ms/step\n",
            "Epoch 8/8\n",
            "194/194 - 3s - loss: 0.2641 - accuracy: 0.9263 - val_loss: 0.0609 - val_accuracy: 0.9924 - 3s/epoch - 16ms/step\n",
            "Restoring model weights from the end of the best epoch: 8.\n",
            "QAT (fake-quant) test accuracy: 0.9551\n"
          ]
        }
      ]
    },
    {
      "cell_type": "markdown",
      "source": [
        "## Convert QAT to fully-integer TFLite (int8 in/out)"
      ],
      "metadata": {
        "id": "puBNV73gzfX9"
      }
    },
    {
      "cell_type": "code",
      "source": [
        "import numpy as np, tensorflow as tf\n",
        "\n",
        "# Use a small calibration set; prefer train if available else test\n",
        "x_cal = (x_train if 'x_train' in globals() else x_test)[:300].astype('float32')\n",
        "\n",
        "def representative_dataset():\n",
        "    for i in range(len(x_cal)):\n",
        "        yield [x_cal[i:i+1]]\n",
        "\n",
        "# Self-check the generator shape/dtype\n",
        "sample = next(iter(representative_dataset()))\n",
        "print(\"Rep sample:\", [(t.shape, t.dtype) for t in sample])\n",
        "\n",
        "converter = tf.lite.TFLiteConverter.from_keras_model(qat_model)\n",
        "converter.optimizations = [tf.lite.Optimize.DEFAULT]\n",
        "converter.representative_dataset = representative_dataset\n",
        "converter.target_spec.supported_ops = [tf.lite.OpsSet.TFLITE_BUILTINS_INT8]\n",
        "converter.inference_input_type  = tf.int8\n",
        "converter.inference_output_type = tf.int8\n",
        "\n",
        "tflite_qat = converter.convert()\n",
        "open(\"s_mnist_quant_aware_training.tflite\", \"wb\").write(tflite_qat)\n",
        "print(\"Wrote s_mnist_quant_aware_training.tflite\")"
      ],
      "metadata": {
        "colab": {
          "base_uri": "https://localhost:8080/"
        },
        "id": "WD1-VplLzhtS",
        "outputId": "456cf6fc-34a0-4ffd-a19d-956a1df4a4c4"
      },
      "execution_count": 33,
      "outputs": [
        {
          "output_type": "stream",
          "name": "stdout",
          "text": [
            "Rep sample: [((1, 28, 28, 1), dtype('float32'))]\n"
          ]
        },
        {
          "output_type": "stream",
          "name": "stderr",
          "text": [
            "/usr/local/lib/python3.12/dist-packages/tensorflow/lite/python/convert.py:854: UserWarning: Statistics for quantized inputs were expected, but not specified; continuing anyway.\n",
            "  warnings.warn(\n"
          ]
        },
        {
          "output_type": "stream",
          "name": "stdout",
          "text": [
            "Wrote s_mnist_quant_aware_training.tflite\n"
          ]
        }
      ]
    },
    {
      "cell_type": "markdown",
      "source": [
        "## FINALLY Comparing all FOUR Models"
      ],
      "metadata": {
        "id": "SDWEU1Tyzoxc"
      }
    },
    {
      "cell_type": "code",
      "source": [
        "import os, numpy as np, tensorflow as tf\n",
        "\n",
        "# Helper (batch=1) — define if you don’t already have it\n",
        "def tflite_accuracy_b1(tflite_path, x, y):\n",
        "    inter = tf.lite.Interpreter(model_path=tflite_path); inter.allocate_tensors()\n",
        "    inp = inter.get_input_details()[0]; out = inter.get_output_details()[0]\n",
        "    scale, zero = inp.get(\"quantization\", (1.0, 0))\n",
        "    correct = 0\n",
        "    for i in range(len(x)):\n",
        "        xb = x[i:i+1]\n",
        "        if inp[\"dtype\"] == np.float32:\n",
        "            feed = xb.astype(np.float32)\n",
        "        elif inp[\"dtype\"] == np.int8:\n",
        "            feed = np.round(xb/scale + zero).astype(np.int8)\n",
        "        elif inp[\"dtype\"] == np.int16:\n",
        "            feed = np.round(xb/scale + zero).astype(np.int16)\n",
        "        else:\n",
        "            raise TypeError(f\"Unsupported input dtype: {inp['dtype']}\")\n",
        "        inter.set_tensor(inp[\"index\"], feed)\n",
        "        inter.invoke()\n",
        "        pred = inter.get_tensor(out[\"index\"]).argmax(axis=1)[0]\n",
        "        correct += int(pred == y[i])\n",
        "    return correct / len(x)\n",
        "\n",
        "mb = lambda p: os.path.getsize(p)/1024/1024\n",
        "\n",
        "# Some files come from Q2a/Q2b; skip gracefully if missing\n",
        "models = [\n",
        "    (\"Float TFLite\",               \"s_mnist.tflite\"),\n",
        "    (\"Dynamic-Range (int8 weights)\",\"s_mnist_quant_dyn.tflite\"),\n",
        "    (\"Int16x8 (act16, w8)\",        \"s_mnist_quant_int16x8.tflite\"),\n",
        "    (\"QAT full-int8 (in/out)\",     \"s_mnist_quant_aware_training.tflite\"),\n",
        "]\n",
        "\n",
        "print(f\"{'Model':<30} {'Acc':>8} {'Size (MB)':>12}\")\n",
        "print(\"-\"*54)\n",
        "for name, path in models:\n",
        "    if not os.path.exists(path):\n",
        "        print(f\"{name:<30} {'(missing)':>8} {'--':>12}\")\n",
        "        continue\n",
        "    acc = tflite_accuracy_b1(path, x_test, y_test)\n",
        "    print(f\"{name:<30} {acc:>8.4f} {mb(path):>12.2f}\")"
      ],
      "metadata": {
        "id": "TmG3EkJBzrNB",
        "colab": {
          "base_uri": "https://localhost:8080/"
        },
        "outputId": "1aa16338-c7ba-4fb0-bc8a-ac07a111403f"
      },
      "execution_count": 34,
      "outputs": [
        {
          "output_type": "stream",
          "name": "stdout",
          "text": [
            "Model                               Acc    Size (MB)\n",
            "------------------------------------------------------\n",
            "Float TFLite                     0.9955         1.11\n",
            "Dynamic-Range (int8 weights)     0.9960         0.29\n",
            "Int16x8 (act16, w8)              0.9978         0.30\n",
            "QAT full-int8 (in/out)           0.9555         0.29\n"
          ]
        }
      ]
    },
    {
      "cell_type": "markdown",
      "source": [
        "## Isa's Write Up"
      ],
      "metadata": {
        "id": "dD-m3SpBQnhT"
      }
    },
    {
      "cell_type": "markdown",
      "source": [
        "#### For setup, I reused the ASL baseline CNN from Q1 and exported three TensorFlow Lite variants using post-training quantization (PTQ): (1) Float TFLite (no quantization), (2) Dynamic-range (int8 weights, float I/O), and (3) Int16x8 (int16 activations + int8 weights). Then I performed Quantization-Aware Training (QAT) on a flattened copy of the same architecture (BatchNorm -> activation order preserved), fine-tuned for a few epochs with a small learning rate, and converted the QAT model to a fully-integer TFLite model (int8 in/out) using a representative dataset for calibration."
      ],
      "metadata": {
        "id": "RkpJ3TwEQptX"
      }
    },
    {
      "cell_type": "markdown",
      "source": [
        "## Results!"
      ],
      "metadata": {
        "id": "S9U1p_mPobss"
      }
    },
    {
      "cell_type": "markdown",
      "source": [
        "####\n",
        "\n",
        "*   Float TFLite — Acc 0.9955, 1.11 MB\n",
        "*   Dynamic-range (int8W) — Acc 0.9960, 0.29 MB (−74%)\n",
        "*   16x8 (act16, int8W) — Acc 0.9978, 0.30 MB (−73%)\n",
        "*   QAT full-int8 (in/out) - Acc 0.9555, 0.29 MB\n",
        "\n",
        "\n"
      ],
      "metadata": {
        "id": "iyetrzkcoez_"
      }
    },
    {
      "cell_type": "markdown",
      "source": [
        "## My Discussion"
      ],
      "metadata": {
        "id": "WdZ27cN0pEW4"
      }
    },
    {
      "cell_type": "markdown",
      "source": [
        "#### Isa's Observations:\n",
        "\n",
        "*   PTQ can be very strong when the model is well-behaved: The dynamic-range model matches float accuracy (slightly higher within noise) and shrinks size by ~74%. This makes sense: only weights are statically quantized to int8; activations are still effectively handled in float (or quantized on-the-fly by dynamic kernels), so quantization error is limited.\n",
        "\n",
        "*   Int16x8 often recovers the “hard” activation detail:\n",
        "Using 16-bit activations preserves more dynamic range in intermediate tensors, which typically helps vision models with BatchNorm+ReLU blocks. Here it achieves the best accuracy (0.9978) with ~73% size reduction relative to float. This is a common pattern when activations are the sensitive part of the network.\n",
        "\n",
        "*   What made QAT underperform here (0.9555)?... So sad\n",
        "\n",
        "\n",
        "1.   Conversion target mismatch: QAT trains with fake-quant nodes assuming a specific quantization scheme. If the final TFLite export enforces full integer I/O (int8 in/out) and performs calibration with a small or distribution-mismatched representative set, you can get quantization points that don't match training statistics. That gap shows up as an accuracy drop after conversion, even if the Keras QAT model (“fake-quant” evaluation) is very high (so sad).\n",
        "\n",
        "2.   Representative dataset sensitivity: QAT still needs accurate calibration at export time. If the calibration subset is too small, unbalanced across classes, or not preprocessed identically (normalization / dtype) to training, the scales/zero-points can be off.\n",
        "\n",
        "3.   Model/graph changes during export: Folding BatchNorm into Conv and per-tensor vs. per-channel weight quantization can differ between the QAT graph and the converter's kernels. Those implementation details can matter on small 28x28 inputs.\n",
        "\n",
        "4. Overfitting during short fine-tune: QAT fine-tunes added fake-quant constraints; with very few epochs it's possible to overfit the training/val split yet be brittle after integer export."
      ],
      "metadata": {
        "id": "-Au700D_pHo4"
      }
    }
  ]
}