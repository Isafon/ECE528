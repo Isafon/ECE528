{
  "nbformat": 4,
  "nbformat_minor": 0,
  "metadata": {
    "colab": {
      "provenance": [],
      "machine_shape": "hm",
      "gpuType": "L4",
      "authorship_tag": "ABX9TyNPLaQWbruz67RzQyGXy6Jw",
      "include_colab_link": true
    },
    "kernelspec": {
      "name": "python3",
      "display_name": "Python 3"
    },
    "language_info": {
      "name": "python"
    },
    "accelerator": "GPU"
  },
  "cells": [
    {
      "cell_type": "markdown",
      "metadata": {
        "id": "view-in-github",
        "colab_type": "text"
      },
      "source": [
        "<a href=\"https://colab.research.google.com/github/Isafon/ECE528/blob/main/ECE528_ASN2_Q1B.ipynb\" target=\"_parent\"><img src=\"https://colab.research.google.com/assets/colab-badge.svg\" alt=\"Open In Colab\"/></a>"
      ]
    },
    {
      "cell_type": "markdown",
      "source": [
        "## Q1 Part B ECE528 LA2 - Isa Fontana"
      ],
      "metadata": {
        "id": "fWyzPG4mdiy-"
      }
    },
    {
      "cell_type": "code",
      "execution_count": 2,
      "metadata": {
        "colab": {
          "base_uri": "https://localhost:8080/"
        },
        "id": "LAZU4qUKdh-h",
        "outputId": "dc44dae9-861c-4d47-c585-4a539d8019b4"
      },
      "outputs": [
        {
          "output_type": "stream",
          "name": "stdout",
          "text": [
            "\u001b[?25l   \u001b[90m━━━━━━━━━━━━━━━━━━━━━━━━━━━━━━━━━━━━━━━━\u001b[0m \u001b[32m0.0/122.7 kB\u001b[0m \u001b[31m?\u001b[0m eta \u001b[36m-:--:--\u001b[0m\r\u001b[2K   \u001b[90m━━━━━━━━━━━━━━━━━━━━━━━━━━━━━━━━━━━━━━━━\u001b[0m \u001b[32m122.7/122.7 kB\u001b[0m \u001b[31m11.9 MB/s\u001b[0m eta \u001b[36m0:00:00\u001b[0m\n",
            "\u001b[?25h\u001b[?25l   \u001b[90m━━━━━━━━━━━━━━━━━━━━━━━━━━━━━━━━━━━━━━━━\u001b[0m \u001b[32m0.0/129.1 kB\u001b[0m \u001b[31m?\u001b[0m eta \u001b[36m-:--:--\u001b[0m\r\u001b[2K   \u001b[90m━━━━━━━━━━━━━━━━━━━━━━━━━━━━━━━━━━━━━━━━\u001b[0m \u001b[32m129.1/129.1 kB\u001b[0m \u001b[31m14.5 MB/s\u001b[0m eta \u001b[36m0:00:00\u001b[0m\n",
            "\u001b[?25h"
          ]
        }
      ],
      "source": [
        "!pip -q install -U \"autokeras>=2.0.0b1\" \"keras-tuner>=1.4.7\""
      ]
    },
    {
      "cell_type": "code",
      "source": [
        "# I give up doing all the fancy labeling, it's taking too long,\n",
        "# see write up for detailed comments if needed\n",
        "import os, random, numpy as np\n",
        "import tensorflow as tf\n",
        "from tensorflow import keras\n",
        "import autokeras as ak\n",
        "\n",
        "SEED = 0\n",
        "random.seed(SEED); np.random.seed(SEED); tf.random.set_seed(SEED)\n",
        "\n",
        "print(\"TF:\", tf.__version__, \"| Keras:\", keras.__version__, \"| AutoKeras:\", ak.__version__)\n",
        "tf.config.experimental.list_physical_devices('GPU')"
      ],
      "metadata": {
        "colab": {
          "base_uri": "https://localhost:8080/"
        },
        "id": "CahR9HrDdygU",
        "outputId": "e7867d4c-2eec-4b45-fad5-e0af9d50b746"
      },
      "execution_count": 3,
      "outputs": [
        {
          "output_type": "stream",
          "name": "stdout",
          "text": [
            "TF: 2.19.0 | Keras: 3.10.0 | AutoKeras: 2.0.0\n"
          ]
        },
        {
          "output_type": "execute_result",
          "data": {
            "text/plain": [
              "[PhysicalDevice(name='/physical_device:GPU:0', device_type='GPU')]"
            ]
          },
          "metadata": {},
          "execution_count": 3
        }
      ]
    },
    {
      "cell_type": "code",
      "source": [
        "(x_train, y_train), (x_test, y_test) = keras.datasets.fashion_mnist.load_data()\n",
        "\n",
        "val_size = 10000\n",
        "x_val, y_val = x_train[-val_size:], y_train[-val_size:]\n",
        "x_train, y_train = x_train[:-val_size], y_train[:-val_size]\n",
        "\n",
        "# scale to [0,1] and add channel dimension\n",
        "x_train = (x_train.astype(\"float32\")/255.0)[..., None]\n",
        "x_val   = (x_val.astype(\"float32\")/255.0)[..., None]\n",
        "x_test  = (x_test.astype(\"float32\")/255.0)[..., None]\n",
        "\n",
        "x_train.shape, x_val.shape, x_test.shape"
      ],
      "metadata": {
        "colab": {
          "base_uri": "https://localhost:8080/"
        },
        "id": "kHyuvOoKd7E2",
        "outputId": "fb3b5e49-56b9-47ff-900f-7e7f9723e628"
      },
      "execution_count": 4,
      "outputs": [
        {
          "output_type": "stream",
          "name": "stdout",
          "text": [
            "Downloading data from https://storage.googleapis.com/tensorflow/tf-keras-datasets/train-labels-idx1-ubyte.gz\n",
            "\u001b[1m29515/29515\u001b[0m \u001b[32m━━━━━━━━━━━━━━━━━━━━\u001b[0m\u001b[37m\u001b[0m \u001b[1m0s\u001b[0m 0us/step\n",
            "Downloading data from https://storage.googleapis.com/tensorflow/tf-keras-datasets/train-images-idx3-ubyte.gz\n",
            "\u001b[1m26421880/26421880\u001b[0m \u001b[32m━━━━━━━━━━━━━━━━━━━━\u001b[0m\u001b[37m\u001b[0m \u001b[1m2s\u001b[0m 0us/step\n",
            "Downloading data from https://storage.googleapis.com/tensorflow/tf-keras-datasets/t10k-labels-idx1-ubyte.gz\n",
            "\u001b[1m5148/5148\u001b[0m \u001b[32m━━━━━━━━━━━━━━━━━━━━\u001b[0m\u001b[37m\u001b[0m \u001b[1m0s\u001b[0m 0us/step\n",
            "Downloading data from https://storage.googleapis.com/tensorflow/tf-keras-datasets/t10k-images-idx3-ubyte.gz\n",
            "\u001b[1m4422102/4422102\u001b[0m \u001b[32m━━━━━━━━━━━━━━━━━━━━\u001b[0m\u001b[37m\u001b[0m \u001b[1m1s\u001b[0m 0us/step\n"
          ]
        },
        {
          "output_type": "execute_result",
          "data": {
            "text/plain": [
              "((50000, 28, 28, 1), (10000, 28, 28, 1), (10000, 28, 28, 1))"
            ]
          },
          "metadata": {},
          "execution_count": 4
        }
      ]
    },
    {
      "cell_type": "code",
      "source": [
        "def build_baseline():\n",
        "    model = keras.Sequential([\n",
        "        keras.layers.Input((28,28,1)),\n",
        "        keras.layers.Conv2D(32, 3, padding=\"same\", activation=\"relu\"),\n",
        "        keras.layers.MaxPooling2D(),\n",
        "        keras.layers.Conv2D(64, 3, padding=\"same\", activation=\"relu\"),\n",
        "        keras.layers.MaxPooling2D(),\n",
        "        keras.layers.Conv2D(128, 3, padding=\"same\", activation=\"relu\"),\n",
        "        keras.layers.MaxPooling2D(),\n",
        "        keras.layers.Flatten(),\n",
        "        keras.layers.Dropout(0.30),\n",
        "        keras.layers.Dense(128, activation=\"relu\"),\n",
        "        keras.layers.Dense(10, activation=\"softmax\"),\n",
        "    ], name=\"fmnist_cnn_baseline\")\n",
        "    model.compile(optimizer=keras.optimizers.Adam(1e-3),\n",
        "                  loss=\"sparse_categorical_crossentropy\",\n",
        "                  metrics=[\"accuracy\"])\n",
        "    return model\n",
        "\n",
        "model_q1a = build_baseline()\n",
        "\n",
        "ckpt_dir = \"checkpoints_q1a\"; os.makedirs(ckpt_dir, exist_ok=True)\n",
        "ckpt = keras.callbacks.ModelCheckpoint(\n",
        "    filepath=os.path.join(ckpt_dir, \"best_q1a.keras\"),\n",
        "    monitor=\"val_accuracy\", mode=\"max\", save_best_only=True)\n",
        "\n",
        "callbacks_q1a = [\n",
        "    keras.callbacks.ReduceLROnPlateau(monitor=\"val_accuracy\", factor=0.5, patience=2, min_lr=1e-5, verbose=1),\n",
        "    keras.callbacks.EarlyStopping(monitor=\"val_accuracy\", patience=5, restore_best_weights=True, verbose=1),\n",
        "    ckpt\n",
        "]\n",
        "\n",
        "history_a = model_q1a.fit(\n",
        "    x_train, y_train,\n",
        "    validation_data=(x_val, y_val),\n",
        "    epochs=15, batch_size=128,\n",
        "    callbacks=callbacks_q1a, verbose=2\n",
        ")\n",
        "loss_a, acc_a = model_q1a.evaluate(x_test, y_test, verbose=0)\n",
        "print(f\"Hand-designed test accuracy: {acc_a:.4f}\")"
      ],
      "metadata": {
        "colab": {
          "base_uri": "https://localhost:8080/"
        },
        "id": "HhoUSKm4d_8l",
        "outputId": "8d3a792a-4c59-4b67-aea6-ec6567c280f9"
      },
      "execution_count": 5,
      "outputs": [
        {
          "output_type": "stream",
          "name": "stdout",
          "text": [
            "Epoch 1/15\n",
            "391/391 - 15s - 38ms/step - accuracy: 0.7837 - loss: 0.5917 - val_accuracy: 0.8659 - val_loss: 0.3816 - learning_rate: 1.0000e-03\n",
            "Epoch 2/15\n",
            "391/391 - 1s - 3ms/step - accuracy: 0.8689 - loss: 0.3581 - val_accuracy: 0.8892 - val_loss: 0.3090 - learning_rate: 1.0000e-03\n",
            "Epoch 3/15\n",
            "391/391 - 1s - 3ms/step - accuracy: 0.8893 - loss: 0.3037 - val_accuracy: 0.8966 - val_loss: 0.2843 - learning_rate: 1.0000e-03\n",
            "Epoch 4/15\n",
            "391/391 - 1s - 3ms/step - accuracy: 0.8995 - loss: 0.2728 - val_accuracy: 0.9014 - val_loss: 0.2727 - learning_rate: 1.0000e-03\n",
            "Epoch 5/15\n",
            "391/391 - 1s - 3ms/step - accuracy: 0.9109 - loss: 0.2461 - val_accuracy: 0.9039 - val_loss: 0.2582 - learning_rate: 1.0000e-03\n",
            "Epoch 6/15\n",
            "391/391 - 1s - 3ms/step - accuracy: 0.9156 - loss: 0.2298 - val_accuracy: 0.9097 - val_loss: 0.2453 - learning_rate: 1.0000e-03\n",
            "Epoch 7/15\n",
            "391/391 - 1s - 3ms/step - accuracy: 0.9206 - loss: 0.2143 - val_accuracy: 0.9098 - val_loss: 0.2462 - learning_rate: 1.0000e-03\n",
            "Epoch 8/15\n",
            "391/391 - 1s - 3ms/step - accuracy: 0.9268 - loss: 0.1988 - val_accuracy: 0.9080 - val_loss: 0.2556 - learning_rate: 1.0000e-03\n",
            "Epoch 9/15\n",
            "391/391 - 1s - 3ms/step - accuracy: 0.9311 - loss: 0.1853 - val_accuracy: 0.9131 - val_loss: 0.2478 - learning_rate: 1.0000e-03\n",
            "Epoch 10/15\n",
            "391/391 - 1s - 3ms/step - accuracy: 0.9361 - loss: 0.1727 - val_accuracy: 0.9122 - val_loss: 0.2465 - learning_rate: 1.0000e-03\n",
            "Epoch 11/15\n",
            "391/391 - 1s - 3ms/step - accuracy: 0.9396 - loss: 0.1617 - val_accuracy: 0.9181 - val_loss: 0.2321 - learning_rate: 1.0000e-03\n",
            "Epoch 12/15\n",
            "391/391 - 1s - 3ms/step - accuracy: 0.9417 - loss: 0.1541 - val_accuracy: 0.9117 - val_loss: 0.2500 - learning_rate: 1.0000e-03\n",
            "Epoch 13/15\n",
            "\n",
            "Epoch 13: ReduceLROnPlateau reducing learning rate to 0.0005000000237487257.\n",
            "391/391 - 1s - 3ms/step - accuracy: 0.9468 - loss: 0.1443 - val_accuracy: 0.9162 - val_loss: 0.2506 - learning_rate: 1.0000e-03\n",
            "Epoch 14/15\n",
            "391/391 - 1s - 3ms/step - accuracy: 0.9532 - loss: 0.1228 - val_accuracy: 0.9291 - val_loss: 0.2030 - learning_rate: 5.0000e-04\n",
            "Epoch 15/15\n",
            "391/391 - 1s - 3ms/step - accuracy: 0.9603 - loss: 0.1088 - val_accuracy: 0.9294 - val_loss: 0.2102 - learning_rate: 5.0000e-04\n",
            "Restoring model weights from the end of the best epoch: 15.\n",
            "Hand-designed test accuracy: 0.9237\n"
          ]
        }
      ]
    },
    {
      "cell_type": "code",
      "source": [
        "import autokeras as ak\n",
        "import keras\n",
        "\n",
        "clf = ak.ImageClassifier(\n",
        "    max_trials=2,      # per assignment\n",
        "    overwrite=True,\n",
        "    seed=SEED\n",
        ")\n",
        "\n",
        "# Optional checkpoint while AK trains (saves the raw Keras model during trials)\n",
        "ckpt_dir_ak = \"checkpoints_ak\"; os.makedirs(ckpt_dir_ak, exist_ok=True)\n",
        "ak_ckpt = keras.callbacks.ModelCheckpoint(\n",
        "    filepath=os.path.join(ckpt_dir_ak, \"best_autokeras.keras\"),\n",
        "    monitor=\"val_accuracy\", mode=\"max\", save_best_only=True)\n",
        "\n",
        "clf.fit(\n",
        "    x_train, y_train,\n",
        "    validation_data=(x_val, y_val),\n",
        "    epochs=20, batch_size=128, verbose=2,\n",
        "    callbacks=[ak_ckpt]\n",
        ")"
      ],
      "metadata": {
        "colab": {
          "base_uri": "https://localhost:8080/"
        },
        "id": "lSR_deOkeDZJ",
        "outputId": "d2b5f6ec-c6e8-4437-c673-fbbf92ad2605"
      },
      "execution_count": 6,
      "outputs": [
        {
          "output_type": "stream",
          "name": "stdout",
          "text": [
            "Trial 2 Complete [03h 00m 33s]\n",
            "val_loss: 0.2288699746131897\n",
            "\n",
            "Best val_loss So Far: 0.20673197507858276\n",
            "Total elapsed time: 03h 01m 17s\n",
            "Epoch 1/20\n",
            "391/391 - 8s - 21ms/step - accuracy: 0.8198 - loss: 0.5018 - val_accuracy: 0.8801 - val_loss: 0.3390\n",
            "Epoch 2/20\n",
            "391/391 - 2s - 4ms/step - accuracy: 0.8766 - loss: 0.3470 - val_accuracy: 0.8976 - val_loss: 0.2905\n",
            "Epoch 3/20\n",
            "391/391 - 2s - 4ms/step - accuracy: 0.8905 - loss: 0.3069 - val_accuracy: 0.9031 - val_loss: 0.2695\n",
            "Epoch 4/20\n",
            "391/391 - 2s - 4ms/step - accuracy: 0.8988 - loss: 0.2827 - val_accuracy: 0.9085 - val_loss: 0.2540\n",
            "Epoch 5/20\n",
            "391/391 - 2s - 4ms/step - accuracy: 0.9048 - loss: 0.2618 - val_accuracy: 0.9133 - val_loss: 0.2428\n",
            "Epoch 6/20\n",
            "391/391 - 2s - 4ms/step - accuracy: 0.9116 - loss: 0.2492 - val_accuracy: 0.9144 - val_loss: 0.2402\n",
            "Epoch 7/20\n",
            "391/391 - 2s - 4ms/step - accuracy: 0.9131 - loss: 0.2380 - val_accuracy: 0.9159 - val_loss: 0.2355\n",
            "Epoch 8/20\n",
            "391/391 - 2s - 4ms/step - accuracy: 0.9181 - loss: 0.2278 - val_accuracy: 0.9191 - val_loss: 0.2308\n",
            "Epoch 9/20\n",
            "391/391 - 2s - 4ms/step - accuracy: 0.9200 - loss: 0.2195 - val_accuracy: 0.9188 - val_loss: 0.2252\n",
            "Epoch 10/20\n",
            "391/391 - 2s - 4ms/step - accuracy: 0.9225 - loss: 0.2126 - val_accuracy: 0.9196 - val_loss: 0.2219\n",
            "Epoch 11/20\n",
            "391/391 - 2s - 4ms/step - accuracy: 0.9258 - loss: 0.2056 - val_accuracy: 0.9206 - val_loss: 0.2195\n",
            "Epoch 12/20\n",
            "391/391 - 2s - 4ms/step - accuracy: 0.9271 - loss: 0.1986 - val_accuracy: 0.9216 - val_loss: 0.2212\n",
            "Epoch 13/20\n",
            "391/391 - 2s - 4ms/step - accuracy: 0.9293 - loss: 0.1949 - val_accuracy: 0.9246 - val_loss: 0.2185\n",
            "Epoch 14/20\n",
            "391/391 - 2s - 4ms/step - accuracy: 0.9319 - loss: 0.1856 - val_accuracy: 0.9227 - val_loss: 0.2155\n",
            "Epoch 15/20\n",
            "391/391 - 2s - 4ms/step - accuracy: 0.9309 - loss: 0.1888 - val_accuracy: 0.9238 - val_loss: 0.2127\n",
            "Epoch 16/20\n",
            "391/391 - 2s - 4ms/step - accuracy: 0.9331 - loss: 0.1808 - val_accuracy: 0.9237 - val_loss: 0.2183\n",
            "Epoch 17/20\n",
            "391/391 - 2s - 4ms/step - accuracy: 0.9347 - loss: 0.1777 - val_accuracy: 0.9252 - val_loss: 0.2131\n",
            "Epoch 18/20\n",
            "391/391 - 2s - 4ms/step - accuracy: 0.9357 - loss: 0.1724 - val_accuracy: 0.9245 - val_loss: 0.2186\n",
            "Epoch 19/20\n",
            "391/391 - 2s - 4ms/step - accuracy: 0.9364 - loss: 0.1729 - val_accuracy: 0.9244 - val_loss: 0.2192\n",
            "Epoch 20/20\n",
            "391/391 - 2s - 4ms/step - accuracy: 0.9376 - loss: 0.1670 - val_accuracy: 0.9257 - val_loss: 0.2139\n"
          ]
        },
        {
          "output_type": "execute_result",
          "data": {
            "text/plain": [
              "<keras.src.callbacks.history.History at 0x7ef43051ec60>"
            ]
          },
          "metadata": {},
          "execution_count": 6
        }
      ]
    },
    {
      "cell_type": "code",
      "source": [
        "best = clf.export_model()\n",
        "best.compile(optimizer=\"adam\",\n",
        "             loss=\"sparse_categorical_crossentropy\",\n",
        "             metrics=[\"accuracy\"])\n",
        "loss_b, acc_b = best.evaluate(x_test, y_test, verbose=0)\n",
        "print(f\"AutoKeras best test accuracy: {acc_b:.4f}\")"
      ],
      "metadata": {
        "colab": {
          "base_uri": "https://localhost:8080/"
        },
        "id": "-LQFv5SMeFUm",
        "outputId": "e0cf9351-db86-46c0-c80f-20988b5e40b1"
      },
      "execution_count": 7,
      "outputs": [
        {
          "output_type": "stream",
          "name": "stderr",
          "text": [
            "/usr/local/lib/python3.12/dist-packages/keras/src/saving/saving_lib.py:802: UserWarning: Skipping variable loading for optimizer 'adam', because it has 2 variables whereas the saved optimizer has 14 variables. \n",
            "  saveable.load_own_variables(weights_store.get(inner_path))\n"
          ]
        },
        {
          "output_type": "stream",
          "name": "stdout",
          "text": [
            "AutoKeras best test accuracy: 0.9206\n"
          ]
        }
      ]
    },
    {
      "cell_type": "code",
      "source": [
        "model_q1a.save(\"q1a_handdesigned.keras\")\n",
        "best.save(\"q1b_autokeras_best.keras\")\n",
        "\n",
        "keras.utils.plot_model(model_q1a, to_file=\"q1a_model.png\", show_shapes=True, dpi=120)\n",
        "keras.utils.plot_model(best,       to_file=\"q1b_autokeras_model.png\", show_shapes=True, dpi=120)\n",
        "\n",
        "print(\"Saved: q1a_handdesigned.keras, q1b_autokeras_best.keras, q1a_model.png, q1b_autokeras_model.png\")"
      ],
      "metadata": {
        "colab": {
          "base_uri": "https://localhost:8080/"
        },
        "id": "iipMhUjGeHch",
        "outputId": "14f84b8c-e8ef-4f2c-a0e9-5516b3e8bd0f"
      },
      "execution_count": 8,
      "outputs": [
        {
          "output_type": "stream",
          "name": "stdout",
          "text": [
            "Saved: q1a_handdesigned.keras, q1b_autokeras_best.keras, q1a_model.png, q1b_autokeras_model.png\n"
          ]
        }
      ]
    },
    {
      "cell_type": "code",
      "source": [
        "import pandas as pd\n",
        "pd.DataFrame({\n",
        "    \"Model\": [\"Hand-designed (Q1a)\", \"AutoKeras (best)\"],\n",
        "    \"Test Accuracy\": [acc_a, acc_b]\n",
        "})"
      ],
      "metadata": {
        "colab": {
          "base_uri": "https://localhost:8080/",
          "height": 112
        },
        "id": "EQXaQ-cteJQj",
        "outputId": "a7c791d1-1f83-49a6-bfc4-384275a1a3af"
      },
      "execution_count": 9,
      "outputs": [
        {
          "output_type": "execute_result",
          "data": {
            "text/plain": [
              "                 Model  Test Accuracy\n",
              "0  Hand-designed (Q1a)         0.9237\n",
              "1     AutoKeras (best)         0.9206"
            ],
            "text/html": [
              "\n",
              "  <div id=\"df-6fbc81cc-0f26-4b43-967a-ac9352c7ac3a\" class=\"colab-df-container\">\n",
              "    <div>\n",
              "<style scoped>\n",
              "    .dataframe tbody tr th:only-of-type {\n",
              "        vertical-align: middle;\n",
              "    }\n",
              "\n",
              "    .dataframe tbody tr th {\n",
              "        vertical-align: top;\n",
              "    }\n",
              "\n",
              "    .dataframe thead th {\n",
              "        text-align: right;\n",
              "    }\n",
              "</style>\n",
              "<table border=\"1\" class=\"dataframe\">\n",
              "  <thead>\n",
              "    <tr style=\"text-align: right;\">\n",
              "      <th></th>\n",
              "      <th>Model</th>\n",
              "      <th>Test Accuracy</th>\n",
              "    </tr>\n",
              "  </thead>\n",
              "  <tbody>\n",
              "    <tr>\n",
              "      <th>0</th>\n",
              "      <td>Hand-designed (Q1a)</td>\n",
              "      <td>0.9237</td>\n",
              "    </tr>\n",
              "    <tr>\n",
              "      <th>1</th>\n",
              "      <td>AutoKeras (best)</td>\n",
              "      <td>0.9206</td>\n",
              "    </tr>\n",
              "  </tbody>\n",
              "</table>\n",
              "</div>\n",
              "    <div class=\"colab-df-buttons\">\n",
              "\n",
              "  <div class=\"colab-df-container\">\n",
              "    <button class=\"colab-df-convert\" onclick=\"convertToInteractive('df-6fbc81cc-0f26-4b43-967a-ac9352c7ac3a')\"\n",
              "            title=\"Convert this dataframe to an interactive table.\"\n",
              "            style=\"display:none;\">\n",
              "\n",
              "  <svg xmlns=\"http://www.w3.org/2000/svg\" height=\"24px\" viewBox=\"0 -960 960 960\">\n",
              "    <path d=\"M120-120v-720h720v720H120Zm60-500h600v-160H180v160Zm220 220h160v-160H400v160Zm0 220h160v-160H400v160ZM180-400h160v-160H180v160Zm440 0h160v-160H620v160ZM180-180h160v-160H180v160Zm440 0h160v-160H620v160Z\"/>\n",
              "  </svg>\n",
              "    </button>\n",
              "\n",
              "  <style>\n",
              "    .colab-df-container {\n",
              "      display:flex;\n",
              "      gap: 12px;\n",
              "    }\n",
              "\n",
              "    .colab-df-convert {\n",
              "      background-color: #E8F0FE;\n",
              "      border: none;\n",
              "      border-radius: 50%;\n",
              "      cursor: pointer;\n",
              "      display: none;\n",
              "      fill: #1967D2;\n",
              "      height: 32px;\n",
              "      padding: 0 0 0 0;\n",
              "      width: 32px;\n",
              "    }\n",
              "\n",
              "    .colab-df-convert:hover {\n",
              "      background-color: #E2EBFA;\n",
              "      box-shadow: 0px 1px 2px rgba(60, 64, 67, 0.3), 0px 1px 3px 1px rgba(60, 64, 67, 0.15);\n",
              "      fill: #174EA6;\n",
              "    }\n",
              "\n",
              "    .colab-df-buttons div {\n",
              "      margin-bottom: 4px;\n",
              "    }\n",
              "\n",
              "    [theme=dark] .colab-df-convert {\n",
              "      background-color: #3B4455;\n",
              "      fill: #D2E3FC;\n",
              "    }\n",
              "\n",
              "    [theme=dark] .colab-df-convert:hover {\n",
              "      background-color: #434B5C;\n",
              "      box-shadow: 0px 1px 3px 1px rgba(0, 0, 0, 0.15);\n",
              "      filter: drop-shadow(0px 1px 2px rgba(0, 0, 0, 0.3));\n",
              "      fill: #FFFFFF;\n",
              "    }\n",
              "  </style>\n",
              "\n",
              "    <script>\n",
              "      const buttonEl =\n",
              "        document.querySelector('#df-6fbc81cc-0f26-4b43-967a-ac9352c7ac3a button.colab-df-convert');\n",
              "      buttonEl.style.display =\n",
              "        google.colab.kernel.accessAllowed ? 'block' : 'none';\n",
              "\n",
              "      async function convertToInteractive(key) {\n",
              "        const element = document.querySelector('#df-6fbc81cc-0f26-4b43-967a-ac9352c7ac3a');\n",
              "        const dataTable =\n",
              "          await google.colab.kernel.invokeFunction('convertToInteractive',\n",
              "                                                    [key], {});\n",
              "        if (!dataTable) return;\n",
              "\n",
              "        const docLinkHtml = 'Like what you see? Visit the ' +\n",
              "          '<a target=\"_blank\" href=https://colab.research.google.com/notebooks/data_table.ipynb>data table notebook</a>'\n",
              "          + ' to learn more about interactive tables.';\n",
              "        element.innerHTML = '';\n",
              "        dataTable['output_type'] = 'display_data';\n",
              "        await google.colab.output.renderOutput(dataTable, element);\n",
              "        const docLink = document.createElement('div');\n",
              "        docLink.innerHTML = docLinkHtml;\n",
              "        element.appendChild(docLink);\n",
              "      }\n",
              "    </script>\n",
              "  </div>\n",
              "\n",
              "\n",
              "    <div id=\"df-c0b57d15-2c5d-4d63-9727-510b9ed099d6\">\n",
              "      <button class=\"colab-df-quickchart\" onclick=\"quickchart('df-c0b57d15-2c5d-4d63-9727-510b9ed099d6')\"\n",
              "                title=\"Suggest charts\"\n",
              "                style=\"display:none;\">\n",
              "\n",
              "<svg xmlns=\"http://www.w3.org/2000/svg\" height=\"24px\"viewBox=\"0 0 24 24\"\n",
              "     width=\"24px\">\n",
              "    <g>\n",
              "        <path d=\"M19 3H5c-1.1 0-2 .9-2 2v14c0 1.1.9 2 2 2h14c1.1 0 2-.9 2-2V5c0-1.1-.9-2-2-2zM9 17H7v-7h2v7zm4 0h-2V7h2v10zm4 0h-2v-4h2v4z\"/>\n",
              "    </g>\n",
              "</svg>\n",
              "      </button>\n",
              "\n",
              "<style>\n",
              "  .colab-df-quickchart {\n",
              "      --bg-color: #E8F0FE;\n",
              "      --fill-color: #1967D2;\n",
              "      --hover-bg-color: #E2EBFA;\n",
              "      --hover-fill-color: #174EA6;\n",
              "      --disabled-fill-color: #AAA;\n",
              "      --disabled-bg-color: #DDD;\n",
              "  }\n",
              "\n",
              "  [theme=dark] .colab-df-quickchart {\n",
              "      --bg-color: #3B4455;\n",
              "      --fill-color: #D2E3FC;\n",
              "      --hover-bg-color: #434B5C;\n",
              "      --hover-fill-color: #FFFFFF;\n",
              "      --disabled-bg-color: #3B4455;\n",
              "      --disabled-fill-color: #666;\n",
              "  }\n",
              "\n",
              "  .colab-df-quickchart {\n",
              "    background-color: var(--bg-color);\n",
              "    border: none;\n",
              "    border-radius: 50%;\n",
              "    cursor: pointer;\n",
              "    display: none;\n",
              "    fill: var(--fill-color);\n",
              "    height: 32px;\n",
              "    padding: 0;\n",
              "    width: 32px;\n",
              "  }\n",
              "\n",
              "  .colab-df-quickchart:hover {\n",
              "    background-color: var(--hover-bg-color);\n",
              "    box-shadow: 0 1px 2px rgba(60, 64, 67, 0.3), 0 1px 3px 1px rgba(60, 64, 67, 0.15);\n",
              "    fill: var(--button-hover-fill-color);\n",
              "  }\n",
              "\n",
              "  .colab-df-quickchart-complete:disabled,\n",
              "  .colab-df-quickchart-complete:disabled:hover {\n",
              "    background-color: var(--disabled-bg-color);\n",
              "    fill: var(--disabled-fill-color);\n",
              "    box-shadow: none;\n",
              "  }\n",
              "\n",
              "  .colab-df-spinner {\n",
              "    border: 2px solid var(--fill-color);\n",
              "    border-color: transparent;\n",
              "    border-bottom-color: var(--fill-color);\n",
              "    animation:\n",
              "      spin 1s steps(1) infinite;\n",
              "  }\n",
              "\n",
              "  @keyframes spin {\n",
              "    0% {\n",
              "      border-color: transparent;\n",
              "      border-bottom-color: var(--fill-color);\n",
              "      border-left-color: var(--fill-color);\n",
              "    }\n",
              "    20% {\n",
              "      border-color: transparent;\n",
              "      border-left-color: var(--fill-color);\n",
              "      border-top-color: var(--fill-color);\n",
              "    }\n",
              "    30% {\n",
              "      border-color: transparent;\n",
              "      border-left-color: var(--fill-color);\n",
              "      border-top-color: var(--fill-color);\n",
              "      border-right-color: var(--fill-color);\n",
              "    }\n",
              "    40% {\n",
              "      border-color: transparent;\n",
              "      border-right-color: var(--fill-color);\n",
              "      border-top-color: var(--fill-color);\n",
              "    }\n",
              "    60% {\n",
              "      border-color: transparent;\n",
              "      border-right-color: var(--fill-color);\n",
              "    }\n",
              "    80% {\n",
              "      border-color: transparent;\n",
              "      border-right-color: var(--fill-color);\n",
              "      border-bottom-color: var(--fill-color);\n",
              "    }\n",
              "    90% {\n",
              "      border-color: transparent;\n",
              "      border-bottom-color: var(--fill-color);\n",
              "    }\n",
              "  }\n",
              "</style>\n",
              "\n",
              "      <script>\n",
              "        async function quickchart(key) {\n",
              "          const quickchartButtonEl =\n",
              "            document.querySelector('#' + key + ' button');\n",
              "          quickchartButtonEl.disabled = true;  // To prevent multiple clicks.\n",
              "          quickchartButtonEl.classList.add('colab-df-spinner');\n",
              "          try {\n",
              "            const charts = await google.colab.kernel.invokeFunction(\n",
              "                'suggestCharts', [key], {});\n",
              "          } catch (error) {\n",
              "            console.error('Error during call to suggestCharts:', error);\n",
              "          }\n",
              "          quickchartButtonEl.classList.remove('colab-df-spinner');\n",
              "          quickchartButtonEl.classList.add('colab-df-quickchart-complete');\n",
              "        }\n",
              "        (() => {\n",
              "          let quickchartButtonEl =\n",
              "            document.querySelector('#df-c0b57d15-2c5d-4d63-9727-510b9ed099d6 button');\n",
              "          quickchartButtonEl.style.display =\n",
              "            google.colab.kernel.accessAllowed ? 'block' : 'none';\n",
              "        })();\n",
              "      </script>\n",
              "    </div>\n",
              "\n",
              "    </div>\n",
              "  </div>\n"
            ],
            "application/vnd.google.colaboratory.intrinsic+json": {
              "type": "dataframe",
              "summary": "{\n  \"name\": \"})\",\n  \"rows\": 2,\n  \"fields\": [\n    {\n      \"column\": \"Model\",\n      \"properties\": {\n        \"dtype\": \"string\",\n        \"num_unique_values\": 2,\n        \"samples\": [\n          \"AutoKeras (best)\",\n          \"Hand-designed (Q1a)\"\n        ],\n        \"semantic_type\": \"\",\n        \"description\": \"\"\n      }\n    },\n    {\n      \"column\": \"Test Accuracy\",\n      \"properties\": {\n        \"dtype\": \"number\",\n        \"std\": 0.002192015444203088,\n        \"min\": 0.9205999970436096,\n        \"max\": 0.9236999750137329,\n        \"num_unique_values\": 2,\n        \"samples\": [\n          0.9205999970436096,\n          0.9236999750137329\n        ],\n        \"semantic_type\": \"\",\n        \"description\": \"\"\n      }\n    }\n  ]\n}"
            }
          },
          "metadata": {},
          "execution_count": 9
        }
      ]
    }
  ]
}