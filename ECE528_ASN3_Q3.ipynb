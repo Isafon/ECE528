{
  "nbformat": 4,
  "nbformat_minor": 0,
  "metadata": {
    "colab": {
      "provenance": [],
      "machine_shape": "hm",
      "gpuType": "L4",
      "authorship_tag": "ABX9TyN6JvIbE5ayNog5BSovdXfk",
      "include_colab_link": true
    },
    "kernelspec": {
      "name": "python3",
      "display_name": "Python 3"
    },
    "language_info": {
      "name": "python"
    },
    "accelerator": "GPU"
  },
  "cells": [
    {
      "cell_type": "markdown",
      "metadata": {
        "id": "view-in-github",
        "colab_type": "text"
      },
      "source": [
        "<a href=\"https://colab.research.google.com/github/Isafon/ECE528/blob/main/ECE528_ASN3_Q3.ipynb\" target=\"_parent\"><img src=\"https://colab.research.google.com/assets/colab-badge.svg\" alt=\"Open In Colab\"/></a>"
      ]
    },
    {
      "cell_type": "markdown",
      "source": [
        "# ECE528 Lab 3 Q3 - Isa Fontana"
      ],
      "metadata": {
        "id": "9nyvyLPpVE_X"
      }
    },
    {
      "cell_type": "markdown",
      "source": [
        "#### Q3: Building off Q1 Model"
      ],
      "metadata": {
        "id": "rrQNXHMsc7of"
      }
    },
    {
      "cell_type": "markdown",
      "source": [
        "## Imports!"
      ],
      "metadata": {
        "id": "FSqD9j7mVM2Z"
      }
    },
    {
      "cell_type": "code",
      "source": [
        "import os, io, zipfile, numpy as np, pandas as pd, tensorflow as tf\n",
        "from tensorflow.keras import layers, models, callbacks\n",
        "import matplotlib.pyplot as plt\n",
        "\n",
        "np.random.seed(42)\n",
        "tf.random.set_seed(42)\n",
        "print(\"TF version:\", tf.__version__)"
      ],
      "metadata": {
        "colab": {
          "base_uri": "https://localhost:8080/"
        },
        "id": "cUPKbX_KXR76",
        "outputId": "d280f7c9-89f0-46f3-c773-2a825ff36f5a"
      },
      "execution_count": 1,
      "outputs": [
        {
          "output_type": "stream",
          "name": "stdout",
          "text": [
            "TF version: 2.19.0\n"
          ]
        }
      ]
    },
    {
      "cell_type": "markdown",
      "source": [
        "## Choose File"
      ],
      "metadata": {
        "id": "545cOUOPbBN1"
      }
    },
    {
      "cell_type": "code",
      "source": [
        "from google.colab import files\n",
        "uploaded = files.upload()"
      ],
      "metadata": {
        "colab": {
          "base_uri": "https://localhost:8080/",
          "height": 74
        },
        "id": "JxlCInAZbDa-",
        "outputId": "62b3886e-5d6b-43e1-e672-7fe588a1f0b0"
      },
      "execution_count": 4,
      "outputs": [
        {
          "output_type": "display_data",
          "data": {
            "text/plain": [
              "<IPython.core.display.HTML object>"
            ],
            "text/html": [
              "\n",
              "     <input type=\"file\" id=\"files-21d4dd37-d6bc-4351-ade5-c3856f8f0887\" name=\"files[]\" multiple disabled\n",
              "        style=\"border:none\" />\n",
              "     <output id=\"result-21d4dd37-d6bc-4351-ade5-c3856f8f0887\">\n",
              "      Upload widget is only available when the cell has been executed in the\n",
              "      current browser session. Please rerun this cell to enable.\n",
              "      </output>\n",
              "      <script>// Copyright 2017 Google LLC\n",
              "//\n",
              "// Licensed under the Apache License, Version 2.0 (the \"License\");\n",
              "// you may not use this file except in compliance with the License.\n",
              "// You may obtain a copy of the License at\n",
              "//\n",
              "//      http://www.apache.org/licenses/LICENSE-2.0\n",
              "//\n",
              "// Unless required by applicable law or agreed to in writing, software\n",
              "// distributed under the License is distributed on an \"AS IS\" BASIS,\n",
              "// WITHOUT WARRANTIES OR CONDITIONS OF ANY KIND, either express or implied.\n",
              "// See the License for the specific language governing permissions and\n",
              "// limitations under the License.\n",
              "\n",
              "/**\n",
              " * @fileoverview Helpers for google.colab Python module.\n",
              " */\n",
              "(function(scope) {\n",
              "function span(text, styleAttributes = {}) {\n",
              "  const element = document.createElement('span');\n",
              "  element.textContent = text;\n",
              "  for (const key of Object.keys(styleAttributes)) {\n",
              "    element.style[key] = styleAttributes[key];\n",
              "  }\n",
              "  return element;\n",
              "}\n",
              "\n",
              "// Max number of bytes which will be uploaded at a time.\n",
              "const MAX_PAYLOAD_SIZE = 100 * 1024;\n",
              "\n",
              "function _uploadFiles(inputId, outputId) {\n",
              "  const steps = uploadFilesStep(inputId, outputId);\n",
              "  const outputElement = document.getElementById(outputId);\n",
              "  // Cache steps on the outputElement to make it available for the next call\n",
              "  // to uploadFilesContinue from Python.\n",
              "  outputElement.steps = steps;\n",
              "\n",
              "  return _uploadFilesContinue(outputId);\n",
              "}\n",
              "\n",
              "// This is roughly an async generator (not supported in the browser yet),\n",
              "// where there are multiple asynchronous steps and the Python side is going\n",
              "// to poll for completion of each step.\n",
              "// This uses a Promise to block the python side on completion of each step,\n",
              "// then passes the result of the previous step as the input to the next step.\n",
              "function _uploadFilesContinue(outputId) {\n",
              "  const outputElement = document.getElementById(outputId);\n",
              "  const steps = outputElement.steps;\n",
              "\n",
              "  const next = steps.next(outputElement.lastPromiseValue);\n",
              "  return Promise.resolve(next.value.promise).then((value) => {\n",
              "    // Cache the last promise value to make it available to the next\n",
              "    // step of the generator.\n",
              "    outputElement.lastPromiseValue = value;\n",
              "    return next.value.response;\n",
              "  });\n",
              "}\n",
              "\n",
              "/**\n",
              " * Generator function which is called between each async step of the upload\n",
              " * process.\n",
              " * @param {string} inputId Element ID of the input file picker element.\n",
              " * @param {string} outputId Element ID of the output display.\n",
              " * @return {!Iterable<!Object>} Iterable of next steps.\n",
              " */\n",
              "function* uploadFilesStep(inputId, outputId) {\n",
              "  const inputElement = document.getElementById(inputId);\n",
              "  inputElement.disabled = false;\n",
              "\n",
              "  const outputElement = document.getElementById(outputId);\n",
              "  outputElement.innerHTML = '';\n",
              "\n",
              "  const pickedPromise = new Promise((resolve) => {\n",
              "    inputElement.addEventListener('change', (e) => {\n",
              "      resolve(e.target.files);\n",
              "    });\n",
              "  });\n",
              "\n",
              "  const cancel = document.createElement('button');\n",
              "  inputElement.parentElement.appendChild(cancel);\n",
              "  cancel.textContent = 'Cancel upload';\n",
              "  const cancelPromise = new Promise((resolve) => {\n",
              "    cancel.onclick = () => {\n",
              "      resolve(null);\n",
              "    };\n",
              "  });\n",
              "\n",
              "  // Wait for the user to pick the files.\n",
              "  const files = yield {\n",
              "    promise: Promise.race([pickedPromise, cancelPromise]),\n",
              "    response: {\n",
              "      action: 'starting',\n",
              "    }\n",
              "  };\n",
              "\n",
              "  cancel.remove();\n",
              "\n",
              "  // Disable the input element since further picks are not allowed.\n",
              "  inputElement.disabled = true;\n",
              "\n",
              "  if (!files) {\n",
              "    return {\n",
              "      response: {\n",
              "        action: 'complete',\n",
              "      }\n",
              "    };\n",
              "  }\n",
              "\n",
              "  for (const file of files) {\n",
              "    const li = document.createElement('li');\n",
              "    li.append(span(file.name, {fontWeight: 'bold'}));\n",
              "    li.append(span(\n",
              "        `(${file.type || 'n/a'}) - ${file.size} bytes, ` +\n",
              "        `last modified: ${\n",
              "            file.lastModifiedDate ? file.lastModifiedDate.toLocaleDateString() :\n",
              "                                    'n/a'} - `));\n",
              "    const percent = span('0% done');\n",
              "    li.appendChild(percent);\n",
              "\n",
              "    outputElement.appendChild(li);\n",
              "\n",
              "    const fileDataPromise = new Promise((resolve) => {\n",
              "      const reader = new FileReader();\n",
              "      reader.onload = (e) => {\n",
              "        resolve(e.target.result);\n",
              "      };\n",
              "      reader.readAsArrayBuffer(file);\n",
              "    });\n",
              "    // Wait for the data to be ready.\n",
              "    let fileData = yield {\n",
              "      promise: fileDataPromise,\n",
              "      response: {\n",
              "        action: 'continue',\n",
              "      }\n",
              "    };\n",
              "\n",
              "    // Use a chunked sending to avoid message size limits. See b/62115660.\n",
              "    let position = 0;\n",
              "    do {\n",
              "      const length = Math.min(fileData.byteLength - position, MAX_PAYLOAD_SIZE);\n",
              "      const chunk = new Uint8Array(fileData, position, length);\n",
              "      position += length;\n",
              "\n",
              "      const base64 = btoa(String.fromCharCode.apply(null, chunk));\n",
              "      yield {\n",
              "        response: {\n",
              "          action: 'append',\n",
              "          file: file.name,\n",
              "          data: base64,\n",
              "        },\n",
              "      };\n",
              "\n",
              "      let percentDone = fileData.byteLength === 0 ?\n",
              "          100 :\n",
              "          Math.round((position / fileData.byteLength) * 100);\n",
              "      percent.textContent = `${percentDone}% done`;\n",
              "\n",
              "    } while (position < fileData.byteLength);\n",
              "  }\n",
              "\n",
              "  // All done.\n",
              "  yield {\n",
              "    response: {\n",
              "      action: 'complete',\n",
              "    }\n",
              "  };\n",
              "}\n",
              "\n",
              "scope.google = scope.google || {};\n",
              "scope.google.colab = scope.google.colab || {};\n",
              "scope.google.colab._files = {\n",
              "  _uploadFiles,\n",
              "  _uploadFilesContinue,\n",
              "};\n",
              "})(self);\n",
              "</script> "
            ]
          },
          "metadata": {}
        },
        {
          "output_type": "stream",
          "name": "stdout",
          "text": [
            "Saving archive.zip to archive.zip\n"
          ]
        }
      ]
    },
    {
      "cell_type": "markdown",
      "source": [
        "## Unzip the File"
      ],
      "metadata": {
        "id": "w9XQc2SYdEzi"
      }
    },
    {
      "cell_type": "code",
      "source": [
        "# Create a working folder\n",
        "DATA_DIR = \"./data_asl\"\n",
        "os.makedirs(DATA_DIR, exist_ok=True)\n",
        "\n",
        "# If a zip was uploaded, extract it\n",
        "for fname in uploaded.keys():\n",
        "    if fname.lower().endswith(\".zip\"):\n",
        "        with zipfile.ZipFile(io.BytesIO(uploaded[fname]), 'r') as zf:\n",
        "            zf.extractall(DATA_DIR)\n",
        "        print(f\"Extracted: {fname} -> {DATA_DIR}\")\n",
        "\n",
        "# Figure out where the CSVs ended up (root or inside DATA_DIR)\n",
        "candidates = [\n",
        "    \"sign_mnist_train.csv\",\n",
        "    \"sign_mnist_test.csv\",\n",
        "    os.path.join(DATA_DIR, \"sign_mnist_train.csv\"),\n",
        "    os.path.join(DATA_DIR, \"sign_mnist_test.csv\"),\n",
        "]\n",
        "\n",
        "# Build resolved paths\n",
        "train_csv, test_csv = None, None\n",
        "for c in candidates:\n",
        "    if c.endswith(\"sign_mnist_train.csv\") and os.path.exists(c):\n",
        "        train_csv = c\n",
        "    if c.endswith(\"sign_mnist_test.csv\") and os.path.exists(c):\n",
        "        test_csv = c\n",
        "\n",
        "assert train_csv and test_csv, \"Could not find the CSVs. Re-upload the zip or both CSV files.\"\n",
        "\n",
        "print(\"Train CSV:\", train_csv)\n",
        "print(\"Test  CSV:\", test_csv)"
      ],
      "metadata": {
        "colab": {
          "base_uri": "https://localhost:8080/"
        },
        "id": "PuPXDqNldILW",
        "outputId": "c078d77a-cc98-47ee-eecf-2a276015768c"
      },
      "execution_count": 5,
      "outputs": [
        {
          "output_type": "stream",
          "name": "stdout",
          "text": [
            "Extracted: archive.zip -> ./data_asl\n",
            "Train CSV: ./data_asl/sign_mnist_train.csv\n",
            "Test  CSV: ./data_asl/sign_mnist_test.csv\n"
          ]
        }
      ]
    },
    {
      "cell_type": "markdown",
      "source": [
        "## Load Data"
      ],
      "metadata": {
        "id": "dgdRvaytXN7J"
      }
    },
    {
      "cell_type": "code",
      "execution_count": 6,
      "metadata": {
        "colab": {
          "base_uri": "https://localhost:8080/"
        },
        "id": "DP1fYXbnU-2g",
        "outputId": "1f7072b1-35e8-450e-d6e5-261efdee476f"
      },
      "outputs": [
        {
          "output_type": "stream",
          "name": "stdout",
          "text": [
            "Shapes: (27455, 28, 28, 1) (7172, 28, 28, 1)\n",
            "Classes detected: 24 Original label ids: [ 0  1  2  3  4  5  6  7  8 10 11 12 13 14 15 16 17 18 19 20 21 22 23 24]\n"
          ]
        }
      ],
      "source": [
        "# Load CSVs\n",
        "train_df = pd.read_csv(train_csv)\n",
        "test_df  = pd.read_csv(test_csv)\n",
        "\n",
        "# Separate labels and pixels\n",
        "y_train_raw = train_df.pop('label').values\n",
        "y_test_raw  = test_df.pop('label').values\n",
        "\n",
        "x_train = train_df.values.reshape(-1, 28, 28, 1).astype(\"float32\") / 255.0\n",
        "x_test  = test_df.values.reshape(-1, 28, 28, 1).astype(\"float32\") / 255.0\n",
        "\n",
        "# Make labels contiguous (handles “missing J and Z”)\n",
        "uniq = np.unique(np.concatenate([y_train_raw, y_test_raw]))\n",
        "remap = {old:i for i, old in enumerate(sorted(uniq))}\n",
        "y_train = np.array([remap[v] for v in y_train_raw])\n",
        "y_test  = np.array([remap[v] for v in y_test_raw])\n",
        "\n",
        "num_classes = len(uniq)  # should be 24\n",
        "print(\"Shapes:\", x_train.shape, x_test.shape)\n",
        "print(\"Classes detected:\", num_classes, \"Original label ids:\", uniq)"
      ]
    },
    {
      "cell_type": "markdown",
      "source": [
        "## Model It"
      ],
      "metadata": {
        "id": "_jUc9BC5VQ14"
      }
    },
    {
      "cell_type": "code",
      "source": [
        "def CBR(filters):\n",
        "    # Conv -> BatchNorm -> ReLU (BN immediately before activation per instructions)\n",
        "    return tf.keras.Sequential([\n",
        "        layers.Conv2D(filters, 3, padding=\"same\", use_bias=False),\n",
        "        layers.BatchNormalization(),\n",
        "        layers.ReLU(),\n",
        "    ])\n",
        "\n",
        "inputs = layers.Input((28, 28, 1))\n",
        "x = CBR(32)(inputs);  x = CBR(32)(x);  x = layers.MaxPool2D()(x);  x = layers.Dropout(0.25)(x)\n",
        "x = CBR(64)(x);       x = CBR(64)(x);  x = layers.MaxPool2D()(x);  x = layers.Dropout(0.25)(x)\n",
        "x = CBR(128)(x);      x = layers.Conv2D(128, 3, padding=\"same\", use_bias=False)(x)\n",
        "x = layers.BatchNormalization()(x); x = layers.ReLU()(x)\n",
        "x = layers.GlobalAveragePooling2D()(x); x = layers.Dropout(0.40)(x)\n",
        "outputs = layers.Dense(num_classes, activation=\"softmax\")(x)\n",
        "\n",
        "model = models.Model(inputs, outputs, name=\"asl_mnist_cnn\")\n",
        "model.summary()"
      ],
      "metadata": {
        "colab": {
          "base_uri": "https://localhost:8080/",
          "height": 694
        },
        "id": "eEtii7-1VSZn",
        "outputId": "7f661cd5-1de8-4b72-e89b-160e8000a98f"
      },
      "execution_count": 7,
      "outputs": [
        {
          "output_type": "display_data",
          "data": {
            "text/plain": [
              "\u001b[1mModel: \"asl_mnist_cnn\"\u001b[0m\n"
            ],
            "text/html": [
              "<pre style=\"white-space:pre;overflow-x:auto;line-height:normal;font-family:Menlo,'DejaVu Sans Mono',consolas,'Courier New',monospace\"><span style=\"font-weight: bold\">Model: \"asl_mnist_cnn\"</span>\n",
              "</pre>\n"
            ]
          },
          "metadata": {}
        },
        {
          "output_type": "display_data",
          "data": {
            "text/plain": [
              "┏━━━━━━━━━━━━━━━━━━━━━━━━━━━━━━━━━┳━━━━━━━━━━━━━━━━━━━━━━━━┳━━━━━━━━━━━━━━━┓\n",
              "┃\u001b[1m \u001b[0m\u001b[1mLayer (type)                   \u001b[0m\u001b[1m \u001b[0m┃\u001b[1m \u001b[0m\u001b[1mOutput Shape          \u001b[0m\u001b[1m \u001b[0m┃\u001b[1m \u001b[0m\u001b[1m      Param #\u001b[0m\u001b[1m \u001b[0m┃\n",
              "┡━━━━━━━━━━━━━━━━━━━━━━━━━━━━━━━━━╇━━━━━━━━━━━━━━━━━━━━━━━━╇━━━━━━━━━━━━━━━┩\n",
              "│ input_layer (\u001b[38;5;33mInputLayer\u001b[0m)        │ (\u001b[38;5;45mNone\u001b[0m, \u001b[38;5;34m28\u001b[0m, \u001b[38;5;34m28\u001b[0m, \u001b[38;5;34m1\u001b[0m)      │             \u001b[38;5;34m0\u001b[0m │\n",
              "├─────────────────────────────────┼────────────────────────┼───────────────┤\n",
              "│ sequential (\u001b[38;5;33mSequential\u001b[0m)         │ (\u001b[38;5;45mNone\u001b[0m, \u001b[38;5;34m28\u001b[0m, \u001b[38;5;34m28\u001b[0m, \u001b[38;5;34m32\u001b[0m)     │           \u001b[38;5;34m416\u001b[0m │\n",
              "├─────────────────────────────────┼────────────────────────┼───────────────┤\n",
              "│ sequential_1 (\u001b[38;5;33mSequential\u001b[0m)       │ (\u001b[38;5;45mNone\u001b[0m, \u001b[38;5;34m28\u001b[0m, \u001b[38;5;34m28\u001b[0m, \u001b[38;5;34m32\u001b[0m)     │         \u001b[38;5;34m9,344\u001b[0m │\n",
              "├─────────────────────────────────┼────────────────────────┼───────────────┤\n",
              "│ max_pooling2d (\u001b[38;5;33mMaxPooling2D\u001b[0m)    │ (\u001b[38;5;45mNone\u001b[0m, \u001b[38;5;34m14\u001b[0m, \u001b[38;5;34m14\u001b[0m, \u001b[38;5;34m32\u001b[0m)     │             \u001b[38;5;34m0\u001b[0m │\n",
              "├─────────────────────────────────┼────────────────────────┼───────────────┤\n",
              "│ dropout (\u001b[38;5;33mDropout\u001b[0m)               │ (\u001b[38;5;45mNone\u001b[0m, \u001b[38;5;34m14\u001b[0m, \u001b[38;5;34m14\u001b[0m, \u001b[38;5;34m32\u001b[0m)     │             \u001b[38;5;34m0\u001b[0m │\n",
              "├─────────────────────────────────┼────────────────────────┼───────────────┤\n",
              "│ sequential_2 (\u001b[38;5;33mSequential\u001b[0m)       │ (\u001b[38;5;45mNone\u001b[0m, \u001b[38;5;34m14\u001b[0m, \u001b[38;5;34m14\u001b[0m, \u001b[38;5;34m64\u001b[0m)     │        \u001b[38;5;34m18,688\u001b[0m │\n",
              "├─────────────────────────────────┼────────────────────────┼───────────────┤\n",
              "│ sequential_3 (\u001b[38;5;33mSequential\u001b[0m)       │ (\u001b[38;5;45mNone\u001b[0m, \u001b[38;5;34m14\u001b[0m, \u001b[38;5;34m14\u001b[0m, \u001b[38;5;34m64\u001b[0m)     │        \u001b[38;5;34m37,120\u001b[0m │\n",
              "├─────────────────────────────────┼────────────────────────┼───────────────┤\n",
              "│ max_pooling2d_1 (\u001b[38;5;33mMaxPooling2D\u001b[0m)  │ (\u001b[38;5;45mNone\u001b[0m, \u001b[38;5;34m7\u001b[0m, \u001b[38;5;34m7\u001b[0m, \u001b[38;5;34m64\u001b[0m)       │             \u001b[38;5;34m0\u001b[0m │\n",
              "├─────────────────────────────────┼────────────────────────┼───────────────┤\n",
              "│ dropout_1 (\u001b[38;5;33mDropout\u001b[0m)             │ (\u001b[38;5;45mNone\u001b[0m, \u001b[38;5;34m7\u001b[0m, \u001b[38;5;34m7\u001b[0m, \u001b[38;5;34m64\u001b[0m)       │             \u001b[38;5;34m0\u001b[0m │\n",
              "├─────────────────────────────────┼────────────────────────┼───────────────┤\n",
              "│ sequential_4 (\u001b[38;5;33mSequential\u001b[0m)       │ (\u001b[38;5;45mNone\u001b[0m, \u001b[38;5;34m7\u001b[0m, \u001b[38;5;34m7\u001b[0m, \u001b[38;5;34m128\u001b[0m)      │        \u001b[38;5;34m74,240\u001b[0m │\n",
              "├─────────────────────────────────┼────────────────────────┼───────────────┤\n",
              "│ conv2d_5 (\u001b[38;5;33mConv2D\u001b[0m)               │ (\u001b[38;5;45mNone\u001b[0m, \u001b[38;5;34m7\u001b[0m, \u001b[38;5;34m7\u001b[0m, \u001b[38;5;34m128\u001b[0m)      │       \u001b[38;5;34m147,456\u001b[0m │\n",
              "├─────────────────────────────────┼────────────────────────┼───────────────┤\n",
              "│ batch_normalization_5           │ (\u001b[38;5;45mNone\u001b[0m, \u001b[38;5;34m7\u001b[0m, \u001b[38;5;34m7\u001b[0m, \u001b[38;5;34m128\u001b[0m)      │           \u001b[38;5;34m512\u001b[0m │\n",
              "│ (\u001b[38;5;33mBatchNormalization\u001b[0m)            │                        │               │\n",
              "├─────────────────────────────────┼────────────────────────┼───────────────┤\n",
              "│ re_lu_5 (\u001b[38;5;33mReLU\u001b[0m)                  │ (\u001b[38;5;45mNone\u001b[0m, \u001b[38;5;34m7\u001b[0m, \u001b[38;5;34m7\u001b[0m, \u001b[38;5;34m128\u001b[0m)      │             \u001b[38;5;34m0\u001b[0m │\n",
              "├─────────────────────────────────┼────────────────────────┼───────────────┤\n",
              "│ global_average_pooling2d        │ (\u001b[38;5;45mNone\u001b[0m, \u001b[38;5;34m128\u001b[0m)            │             \u001b[38;5;34m0\u001b[0m │\n",
              "│ (\u001b[38;5;33mGlobalAveragePooling2D\u001b[0m)        │                        │               │\n",
              "├─────────────────────────────────┼────────────────────────┼───────────────┤\n",
              "│ dropout_2 (\u001b[38;5;33mDropout\u001b[0m)             │ (\u001b[38;5;45mNone\u001b[0m, \u001b[38;5;34m128\u001b[0m)            │             \u001b[38;5;34m0\u001b[0m │\n",
              "├─────────────────────────────────┼────────────────────────┼───────────────┤\n",
              "│ dense (\u001b[38;5;33mDense\u001b[0m)                   │ (\u001b[38;5;45mNone\u001b[0m, \u001b[38;5;34m24\u001b[0m)             │         \u001b[38;5;34m3,096\u001b[0m │\n",
              "└─────────────────────────────────┴────────────────────────┴───────────────┘\n"
            ],
            "text/html": [
              "<pre style=\"white-space:pre;overflow-x:auto;line-height:normal;font-family:Menlo,'DejaVu Sans Mono',consolas,'Courier New',monospace\">┏━━━━━━━━━━━━━━━━━━━━━━━━━━━━━━━━━┳━━━━━━━━━━━━━━━━━━━━━━━━┳━━━━━━━━━━━━━━━┓\n",
              "┃<span style=\"font-weight: bold\"> Layer (type)                    </span>┃<span style=\"font-weight: bold\"> Output Shape           </span>┃<span style=\"font-weight: bold\">       Param # </span>┃\n",
              "┡━━━━━━━━━━━━━━━━━━━━━━━━━━━━━━━━━╇━━━━━━━━━━━━━━━━━━━━━━━━╇━━━━━━━━━━━━━━━┩\n",
              "│ input_layer (<span style=\"color: #0087ff; text-decoration-color: #0087ff\">InputLayer</span>)        │ (<span style=\"color: #00d7ff; text-decoration-color: #00d7ff\">None</span>, <span style=\"color: #00af00; text-decoration-color: #00af00\">28</span>, <span style=\"color: #00af00; text-decoration-color: #00af00\">28</span>, <span style=\"color: #00af00; text-decoration-color: #00af00\">1</span>)      │             <span style=\"color: #00af00; text-decoration-color: #00af00\">0</span> │\n",
              "├─────────────────────────────────┼────────────────────────┼───────────────┤\n",
              "│ sequential (<span style=\"color: #0087ff; text-decoration-color: #0087ff\">Sequential</span>)         │ (<span style=\"color: #00d7ff; text-decoration-color: #00d7ff\">None</span>, <span style=\"color: #00af00; text-decoration-color: #00af00\">28</span>, <span style=\"color: #00af00; text-decoration-color: #00af00\">28</span>, <span style=\"color: #00af00; text-decoration-color: #00af00\">32</span>)     │           <span style=\"color: #00af00; text-decoration-color: #00af00\">416</span> │\n",
              "├─────────────────────────────────┼────────────────────────┼───────────────┤\n",
              "│ sequential_1 (<span style=\"color: #0087ff; text-decoration-color: #0087ff\">Sequential</span>)       │ (<span style=\"color: #00d7ff; text-decoration-color: #00d7ff\">None</span>, <span style=\"color: #00af00; text-decoration-color: #00af00\">28</span>, <span style=\"color: #00af00; text-decoration-color: #00af00\">28</span>, <span style=\"color: #00af00; text-decoration-color: #00af00\">32</span>)     │         <span style=\"color: #00af00; text-decoration-color: #00af00\">9,344</span> │\n",
              "├─────────────────────────────────┼────────────────────────┼───────────────┤\n",
              "│ max_pooling2d (<span style=\"color: #0087ff; text-decoration-color: #0087ff\">MaxPooling2D</span>)    │ (<span style=\"color: #00d7ff; text-decoration-color: #00d7ff\">None</span>, <span style=\"color: #00af00; text-decoration-color: #00af00\">14</span>, <span style=\"color: #00af00; text-decoration-color: #00af00\">14</span>, <span style=\"color: #00af00; text-decoration-color: #00af00\">32</span>)     │             <span style=\"color: #00af00; text-decoration-color: #00af00\">0</span> │\n",
              "├─────────────────────────────────┼────────────────────────┼───────────────┤\n",
              "│ dropout (<span style=\"color: #0087ff; text-decoration-color: #0087ff\">Dropout</span>)               │ (<span style=\"color: #00d7ff; text-decoration-color: #00d7ff\">None</span>, <span style=\"color: #00af00; text-decoration-color: #00af00\">14</span>, <span style=\"color: #00af00; text-decoration-color: #00af00\">14</span>, <span style=\"color: #00af00; text-decoration-color: #00af00\">32</span>)     │             <span style=\"color: #00af00; text-decoration-color: #00af00\">0</span> │\n",
              "├─────────────────────────────────┼────────────────────────┼───────────────┤\n",
              "│ sequential_2 (<span style=\"color: #0087ff; text-decoration-color: #0087ff\">Sequential</span>)       │ (<span style=\"color: #00d7ff; text-decoration-color: #00d7ff\">None</span>, <span style=\"color: #00af00; text-decoration-color: #00af00\">14</span>, <span style=\"color: #00af00; text-decoration-color: #00af00\">14</span>, <span style=\"color: #00af00; text-decoration-color: #00af00\">64</span>)     │        <span style=\"color: #00af00; text-decoration-color: #00af00\">18,688</span> │\n",
              "├─────────────────────────────────┼────────────────────────┼───────────────┤\n",
              "│ sequential_3 (<span style=\"color: #0087ff; text-decoration-color: #0087ff\">Sequential</span>)       │ (<span style=\"color: #00d7ff; text-decoration-color: #00d7ff\">None</span>, <span style=\"color: #00af00; text-decoration-color: #00af00\">14</span>, <span style=\"color: #00af00; text-decoration-color: #00af00\">14</span>, <span style=\"color: #00af00; text-decoration-color: #00af00\">64</span>)     │        <span style=\"color: #00af00; text-decoration-color: #00af00\">37,120</span> │\n",
              "├─────────────────────────────────┼────────────────────────┼───────────────┤\n",
              "│ max_pooling2d_1 (<span style=\"color: #0087ff; text-decoration-color: #0087ff\">MaxPooling2D</span>)  │ (<span style=\"color: #00d7ff; text-decoration-color: #00d7ff\">None</span>, <span style=\"color: #00af00; text-decoration-color: #00af00\">7</span>, <span style=\"color: #00af00; text-decoration-color: #00af00\">7</span>, <span style=\"color: #00af00; text-decoration-color: #00af00\">64</span>)       │             <span style=\"color: #00af00; text-decoration-color: #00af00\">0</span> │\n",
              "├─────────────────────────────────┼────────────────────────┼───────────────┤\n",
              "│ dropout_1 (<span style=\"color: #0087ff; text-decoration-color: #0087ff\">Dropout</span>)             │ (<span style=\"color: #00d7ff; text-decoration-color: #00d7ff\">None</span>, <span style=\"color: #00af00; text-decoration-color: #00af00\">7</span>, <span style=\"color: #00af00; text-decoration-color: #00af00\">7</span>, <span style=\"color: #00af00; text-decoration-color: #00af00\">64</span>)       │             <span style=\"color: #00af00; text-decoration-color: #00af00\">0</span> │\n",
              "├─────────────────────────────────┼────────────────────────┼───────────────┤\n",
              "│ sequential_4 (<span style=\"color: #0087ff; text-decoration-color: #0087ff\">Sequential</span>)       │ (<span style=\"color: #00d7ff; text-decoration-color: #00d7ff\">None</span>, <span style=\"color: #00af00; text-decoration-color: #00af00\">7</span>, <span style=\"color: #00af00; text-decoration-color: #00af00\">7</span>, <span style=\"color: #00af00; text-decoration-color: #00af00\">128</span>)      │        <span style=\"color: #00af00; text-decoration-color: #00af00\">74,240</span> │\n",
              "├─────────────────────────────────┼────────────────────────┼───────────────┤\n",
              "│ conv2d_5 (<span style=\"color: #0087ff; text-decoration-color: #0087ff\">Conv2D</span>)               │ (<span style=\"color: #00d7ff; text-decoration-color: #00d7ff\">None</span>, <span style=\"color: #00af00; text-decoration-color: #00af00\">7</span>, <span style=\"color: #00af00; text-decoration-color: #00af00\">7</span>, <span style=\"color: #00af00; text-decoration-color: #00af00\">128</span>)      │       <span style=\"color: #00af00; text-decoration-color: #00af00\">147,456</span> │\n",
              "├─────────────────────────────────┼────────────────────────┼───────────────┤\n",
              "│ batch_normalization_5           │ (<span style=\"color: #00d7ff; text-decoration-color: #00d7ff\">None</span>, <span style=\"color: #00af00; text-decoration-color: #00af00\">7</span>, <span style=\"color: #00af00; text-decoration-color: #00af00\">7</span>, <span style=\"color: #00af00; text-decoration-color: #00af00\">128</span>)      │           <span style=\"color: #00af00; text-decoration-color: #00af00\">512</span> │\n",
              "│ (<span style=\"color: #0087ff; text-decoration-color: #0087ff\">BatchNormalization</span>)            │                        │               │\n",
              "├─────────────────────────────────┼────────────────────────┼───────────────┤\n",
              "│ re_lu_5 (<span style=\"color: #0087ff; text-decoration-color: #0087ff\">ReLU</span>)                  │ (<span style=\"color: #00d7ff; text-decoration-color: #00d7ff\">None</span>, <span style=\"color: #00af00; text-decoration-color: #00af00\">7</span>, <span style=\"color: #00af00; text-decoration-color: #00af00\">7</span>, <span style=\"color: #00af00; text-decoration-color: #00af00\">128</span>)      │             <span style=\"color: #00af00; text-decoration-color: #00af00\">0</span> │\n",
              "├─────────────────────────────────┼────────────────────────┼───────────────┤\n",
              "│ global_average_pooling2d        │ (<span style=\"color: #00d7ff; text-decoration-color: #00d7ff\">None</span>, <span style=\"color: #00af00; text-decoration-color: #00af00\">128</span>)            │             <span style=\"color: #00af00; text-decoration-color: #00af00\">0</span> │\n",
              "│ (<span style=\"color: #0087ff; text-decoration-color: #0087ff\">GlobalAveragePooling2D</span>)        │                        │               │\n",
              "├─────────────────────────────────┼────────────────────────┼───────────────┤\n",
              "│ dropout_2 (<span style=\"color: #0087ff; text-decoration-color: #0087ff\">Dropout</span>)             │ (<span style=\"color: #00d7ff; text-decoration-color: #00d7ff\">None</span>, <span style=\"color: #00af00; text-decoration-color: #00af00\">128</span>)            │             <span style=\"color: #00af00; text-decoration-color: #00af00\">0</span> │\n",
              "├─────────────────────────────────┼────────────────────────┼───────────────┤\n",
              "│ dense (<span style=\"color: #0087ff; text-decoration-color: #0087ff\">Dense</span>)                   │ (<span style=\"color: #00d7ff; text-decoration-color: #00d7ff\">None</span>, <span style=\"color: #00af00; text-decoration-color: #00af00\">24</span>)             │         <span style=\"color: #00af00; text-decoration-color: #00af00\">3,096</span> │\n",
              "└─────────────────────────────────┴────────────────────────┴───────────────┘\n",
              "</pre>\n"
            ]
          },
          "metadata": {}
        },
        {
          "output_type": "display_data",
          "data": {
            "text/plain": [
              "\u001b[1m Total params: \u001b[0m\u001b[38;5;34m290,872\u001b[0m (1.11 MB)\n"
            ],
            "text/html": [
              "<pre style=\"white-space:pre;overflow-x:auto;line-height:normal;font-family:Menlo,'DejaVu Sans Mono',consolas,'Courier New',monospace\"><span style=\"font-weight: bold\"> Total params: </span><span style=\"color: #00af00; text-decoration-color: #00af00\">290,872</span> (1.11 MB)\n",
              "</pre>\n"
            ]
          },
          "metadata": {}
        },
        {
          "output_type": "display_data",
          "data": {
            "text/plain": [
              "\u001b[1m Trainable params: \u001b[0m\u001b[38;5;34m289,976\u001b[0m (1.11 MB)\n"
            ],
            "text/html": [
              "<pre style=\"white-space:pre;overflow-x:auto;line-height:normal;font-family:Menlo,'DejaVu Sans Mono',consolas,'Courier New',monospace\"><span style=\"font-weight: bold\"> Trainable params: </span><span style=\"color: #00af00; text-decoration-color: #00af00\">289,976</span> (1.11 MB)\n",
              "</pre>\n"
            ]
          },
          "metadata": {}
        },
        {
          "output_type": "display_data",
          "data": {
            "text/plain": [
              "\u001b[1m Non-trainable params: \u001b[0m\u001b[38;5;34m896\u001b[0m (3.50 KB)\n"
            ],
            "text/html": [
              "<pre style=\"white-space:pre;overflow-x:auto;line-height:normal;font-family:Menlo,'DejaVu Sans Mono',consolas,'Courier New',monospace\"><span style=\"font-weight: bold\"> Non-trainable params: </span><span style=\"color: #00af00; text-decoration-color: #00af00\">896</span> (3.50 KB)\n",
              "</pre>\n"
            ]
          },
          "metadata": {}
        }
      ]
    },
    {
      "cell_type": "markdown",
      "source": [
        "## Train It"
      ],
      "metadata": {
        "id": "7VMM84y2dW4n"
      }
    },
    {
      "cell_type": "code",
      "source": [
        "from tensorflow.keras import callbacks\n",
        "\n",
        "model.compile(optimizer=tf.keras.optimizers.Adam(1e-3),\n",
        "              loss=\"sparse_categorical_crossentropy\",\n",
        "              metrics=[\"accuracy\"])\n",
        "\n",
        "rlrop = callbacks.ReduceLROnPlateau(\n",
        "    monitor=\"val_accuracy\", factor=0.5, patience=2, min_lr=1e-5, verbose=1\n",
        ")\n",
        "es = callbacks.EarlyStopping(\n",
        "    monitor=\"val_accuracy\", patience=6, restore_best_weights=True, verbose=1\n",
        ")\n",
        "\n",
        "history = model.fit(\n",
        "    x_train, y_train,\n",
        "    epochs=60,           # longer run; ES will stop early\n",
        "    batch_size=128,\n",
        "    validation_split=0.10,     # from TRAIN only\n",
        "    callbacks=[rlrop, es],\n",
        "    verbose=2\n",
        ")"
      ],
      "metadata": {
        "colab": {
          "base_uri": "https://localhost:8080/"
        },
        "id": "CuAun77ldYie",
        "outputId": "0301acce-55a4-41a1-8f62-629f7f12db54"
      },
      "execution_count": 8,
      "outputs": [
        {
          "output_type": "stream",
          "name": "stdout",
          "text": [
            "Epoch 1/60\n",
            "194/194 - 21s - 109ms/step - accuracy: 0.6012 - loss: 1.4087 - val_accuracy: 0.0477 - val_loss: 5.7412 - learning_rate: 1.0000e-03\n",
            "Epoch 2/60\n",
            "194/194 - 1s - 5ms/step - accuracy: 0.9613 - loss: 0.2227 - val_accuracy: 0.2582 - val_loss: 2.6624 - learning_rate: 1.0000e-03\n",
            "Epoch 3/60\n",
            "194/194 - 1s - 5ms/step - accuracy: 0.9910 - loss: 0.0719 - val_accuracy: 0.9967 - val_loss: 0.0642 - learning_rate: 1.0000e-03\n",
            "Epoch 4/60\n",
            "194/194 - 1s - 5ms/step - accuracy: 0.9944 - loss: 0.0436 - val_accuracy: 0.9989 - val_loss: 0.0178 - learning_rate: 1.0000e-03\n",
            "Epoch 5/60\n",
            "194/194 - 1s - 5ms/step - accuracy: 0.9992 - loss: 0.0169 - val_accuracy: 1.0000 - val_loss: 0.0011 - learning_rate: 1.0000e-03\n",
            "Epoch 6/60\n",
            "194/194 - 1s - 5ms/step - accuracy: 0.9990 - loss: 0.0122 - val_accuracy: 1.0000 - val_loss: 0.0018 - learning_rate: 1.0000e-03\n",
            "Epoch 7/60\n",
            "\n",
            "Epoch 7: ReduceLROnPlateau reducing learning rate to 0.0005000000237487257.\n",
            "194/194 - 1s - 5ms/step - accuracy: 0.9986 - loss: 0.0126 - val_accuracy: 1.0000 - val_loss: 3.9303e-04 - learning_rate: 1.0000e-03\n",
            "Epoch 8/60\n",
            "194/194 - 1s - 5ms/step - accuracy: 0.9996 - loss: 0.0058 - val_accuracy: 1.0000 - val_loss: 1.3240e-04 - learning_rate: 5.0000e-04\n",
            "Epoch 9/60\n",
            "\n",
            "Epoch 9: ReduceLROnPlateau reducing learning rate to 0.0002500000118743628.\n",
            "194/194 - 1s - 5ms/step - accuracy: 0.9993 - loss: 0.0054 - val_accuracy: 1.0000 - val_loss: 2.4180e-04 - learning_rate: 5.0000e-04\n",
            "Epoch 10/60\n",
            "194/194 - 1s - 5ms/step - accuracy: 0.9998 - loss: 0.0040 - val_accuracy: 1.0000 - val_loss: 5.2108e-05 - learning_rate: 2.5000e-04\n",
            "Epoch 11/60\n",
            "\n",
            "Epoch 11: ReduceLROnPlateau reducing learning rate to 0.0001250000059371814.\n",
            "194/194 - 1s - 5ms/step - accuracy: 1.0000 - loss: 0.0033 - val_accuracy: 1.0000 - val_loss: 4.5265e-05 - learning_rate: 2.5000e-04\n",
            "Epoch 11: early stopping\n",
            "Restoring model weights from the end of the best epoch: 5.\n"
          ]
        }
      ]
    },
    {
      "cell_type": "code",
      "source": [
        "test_loss, test_acc = model.evaluate(x_test, y_test, verbose=0)\n",
        "print(\"Q1 Test accuracy:\", round(float(test_acc), 4))"
      ],
      "metadata": {
        "colab": {
          "base_uri": "https://localhost:8080/"
        },
        "id": "JhmKA85Hpusz",
        "outputId": "39c7e07c-9459-44ee-b560-7d6ad99f25f8"
      },
      "execution_count": 9,
      "outputs": [
        {
          "output_type": "stream",
          "name": "stdout",
          "text": [
            "Q1 Test accuracy: 0.9962\n"
          ]
        }
      ]
    },
    {
      "cell_type": "markdown",
      "source": [
        "## Accuracy Overall (Proof)"
      ],
      "metadata": {
        "id": "kDgJ_Ti_oQVa"
      }
    },
    {
      "cell_type": "code",
      "source": [
        "# === Q1: summarize training/validation accuracy over all completed epochs ===\n",
        "import numpy as np\n",
        "\n",
        "hist = history.history\n",
        "# Works with both old/new key names\n",
        "train_key = 'accuracy' if 'accuracy' in hist else 'acc'\n",
        "val_key   = 'val_accuracy' if 'val_accuracy' in hist else 'val_acc'\n",
        "\n",
        "train_acc = np.array(hist[train_key], dtype=float)\n",
        "val_acc   = np.array(hist[val_key],   dtype=float)\n",
        "\n",
        "epochs_run = len(val_acc)\n",
        "best_idx   = int(np.argmax(val_acc))           # 0-based\n",
        "best_epoch = best_idx + 1                      # 1-based\n",
        "best_val   = float(val_acc[best_idx])\n",
        "mean_val   = float(val_acc.mean())\n",
        "mean_train = float(train_acc.mean())\n",
        "\n",
        "print(f\"Epochs completed: {epochs_run}\")\n",
        "print(f\"Mean TRAIN accuracy over epochs: {mean_train:.4f}\")\n",
        "print(f\"Mean VAL   accuracy over epochs: {mean_val:.4f}\")\n",
        "print(f\"Best VAL accuracy: {best_val:.4f} (epoch {best_epoch})\")\n",
        "print(f\"Last VAL accuracy: {val_acc[-1]:.4f}\")\n",
        "\n",
        "try:\n",
        "    print(f\"TEST accuracy: {float(test_acc):.4f}\")\n",
        "except NameError:\n",
        "    print(\"TEST accuracy: (run your evaluate cell to show this)\")\n",
        "\n",
        "# Quick pass/fail for the assignment target\n",
        "meets_target = (mean_val >= 0.92) or ('test_acc' in globals() and float(test_acc) >= 0.92)\n",
        "print(\"Meets ≥92% target (mean VAL or TEST):\", \"Yes\" if meets_target else \"Not yet\")"
      ],
      "metadata": {
        "colab": {
          "base_uri": "https://localhost:8080/"
        },
        "id": "XZZryytNo00C",
        "outputId": "d6a2cff1-0175-43e9-c1a8-89e6eebb4aef"
      },
      "execution_count": 10,
      "outputs": [
        {
          "output_type": "stream",
          "name": "stdout",
          "text": [
            "Epochs completed: 11\n",
            "Mean TRAIN accuracy over epochs: 0.9585\n",
            "Mean VAL   accuracy over epochs: 0.8456\n",
            "Best VAL accuracy: 1.0000 (epoch 5)\n",
            "Last VAL accuracy: 1.0000\n",
            "TEST accuracy: 0.9962\n",
            "Meets ≥92% target (mean VAL or TEST): Yes\n"
          ]
        }
      ]
    },
    {
      "cell_type": "markdown",
      "source": [
        "## Save the Model"
      ],
      "metadata": {
        "id": "ldd5UImHda0H"
      }
    },
    {
      "cell_type": "code",
      "source": [
        "model.save(\"asl_mnist_baseline.keras\")\n",
        "print(\"Saved: asl_mnist_baseline.keras\")"
      ],
      "metadata": {
        "colab": {
          "base_uri": "https://localhost:8080/"
        },
        "id": "voce3hnIdc6F",
        "outputId": "720ca9de-0fd1-45e8-d1f5-7d2047edd35f"
      },
      "execution_count": 11,
      "outputs": [
        {
          "output_type": "stream",
          "name": "stdout",
          "text": [
            "Saved: asl_mnist_baseline.keras\n"
          ]
        }
      ]
    },
    {
      "cell_type": "markdown",
      "source": [
        "# Q3 New Code Starts Here"
      ],
      "metadata": {
        "id": "9O-s3R8FH3wk"
      }
    },
    {
      "cell_type": "markdown",
      "source": [
        "### Q3 (manual weight sharing) : K-means clustering of Conv/Dense kernels + DR TFLite + gzip"
      ],
      "metadata": {
        "id": "e3-uQfRgJvoI"
      }
    },
    {
      "cell_type": "code",
      "source": [
        "import os, gzip, shutil\n",
        "from pathlib import Path\n",
        "import numpy as np\n",
        "import tensorflow as tf\n",
        "\n",
        "#  utilities\n",
        "def mb(p): return os.path.getsize(p)/1024/1024\n",
        "\n",
        "def gzip_file(src_path):\n",
        "    gz = Path(str(src_path) + \".gz\")\n",
        "    with open(src_path, \"rb\") as fi, gzip.open(gz, \"wb\") as fo:\n",
        "        shutil.copyfileobj(fi, fo)\n",
        "    return str(gz)\n",
        "\n",
        "def tflite_accuracy_b1(tflite_path, x, y):\n",
        "    inter = tf.lite.Interpreter(model_path=tflite_path)\n",
        "    inter.allocate_tensors()\n",
        "    inp = inter.get_input_details()[0]\n",
        "    out = inter.get_output_details()[0]\n",
        "    qp  = inp.get(\"quantization_parameters\", {})\n",
        "    s = float(qp.get(\"scales\", [1.0])[0]) if qp.get(\"scales\", []) else 1.0\n",
        "    z = float(qp.get(\"zero_points\", [0])[0]) if qp.get(\"zero_points\", []) else 0.0\n",
        "\n",
        "    ok = 0\n",
        "    for i in range(len(x)):\n",
        "        xb = x[i:i+1]\n",
        "        if inp[\"dtype\"] == np.float32: feed = xb.astype(np.float32)\n",
        "        elif inp[\"dtype\"] == np.int8:  feed = np.round(xb/s + z).astype(np.int8)\n",
        "        elif inp[\"dtype\"] == np.int16: feed = np.round(xb/s + z).astype(np.int16)\n",
        "        else: raise TypeError(f\"Unsupported dtype: {inp['dtype']}\")\n",
        "        inter.set_tensor(inp[\"index\"], feed)\n",
        "        inter.invoke()\n",
        "        pred = inter.get_tensor(out[\"index\"]).argmax(axis=1)[0]\n",
        "        ok += int(pred == y[i])\n",
        "    return ok/len(x)\n",
        "\n",
        "#  lightweight k-means (1D)\n",
        "def kmeans_1d(values, K=16, iters=25):\n",
        "    \"\"\"\n",
        "    values: np.ndarray shape [N], float32\n",
        "    returns: centroids [K], assignments [N] (int)\n",
        "    \"\"\"\n",
        "    v = values.astype(np.float32)\n",
        "    v_min, v_max = v.min(), v.max()\n",
        "    if v_min == v_max:\n",
        "        # all weights equal -> single centroid\n",
        "        c = np.array([v_min] + [v_min+1e-6]*(K-1), dtype=np.float32)\n",
        "        return c, np.zeros_like(v, dtype=np.int32)\n",
        "    # init centers evenly spaced\n",
        "    centroids = np.linspace(v_min, v_max, K, dtype=np.float32)\n",
        "    assignments = np.zeros_like(v, dtype=np.int32)\n",
        "\n",
        "    for _ in range(iters):\n",
        "        # assign\n",
        "        # (broadcast: [K] vs [N] -> [K,N])\n",
        "        d2 = (centroids[:, None] - v[None, :])**2\n",
        "        new_assign = np.argmin(d2, axis=0)\n",
        "        # recompute\n",
        "        new_centroids = centroids.copy()\n",
        "        for k in range(K):\n",
        "            mask = (new_assign == k)\n",
        "            if np.any(mask):\n",
        "                new_centroids[k] = v[mask].mean()\n",
        "        if np.array_equal(new_assign, assignments):\n",
        "            centroids = new_centroids\n",
        "            break\n",
        "        assignments = new_assign\n",
        "        centroids = new_centroids\n",
        "    return centroids, assignments\n",
        "\n",
        "def cluster_tensor_numpy(W, K=16):\n",
        "    \"\"\"\n",
        "    W: weight tensor (kernel) of Conv2D or Dense\n",
        "    Returns: W_clustered with exactly K unique values (or fewer if degenerate)\n",
        "    \"\"\"\n",
        "    flat = W.reshape(-1)\n",
        "    centroids, assign = kmeans_1d(flat, K=K, iters=25)\n",
        "    clustered_flat = centroids[assign]\n",
        "    return clustered_flat.reshape(W.shape).astype(W.dtype)\n",
        "\n",
        "# build a flat Sequential that mirrors your Q1 architecture\n",
        "KL = tf.keras.layers\n",
        "\n",
        "def build_q1_sequential(input_shape=(28,28,1), n_classes=24):\n",
        "    # Mirror your Q1 stack: Conv-BN-ReLU x2, Pool, Dropout ... x3, GAP, Dropout, Dense\n",
        "    return tf.keras.Sequential([\n",
        "        KL.Input(shape=input_shape),\n",
        "        KL.Conv2D(32, 3, padding=\"same\", use_bias=False), KL.BatchNormalization(), KL.ReLU(),\n",
        "        KL.Conv2D(32, 3, padding=\"same\", use_bias=False), KL.BatchNormalization(), KL.ReLU(),\n",
        "        KL.MaxPool2D(), KL.Dropout(0.25),\n",
        "\n",
        "        KL.Conv2D(64, 3, padding=\"same\", use_bias=False), KL.BatchNormalization(), KL.ReLU(),\n",
        "        KL.Conv2D(64, 3, padding=\"same\", use_bias=False), KL.BatchNormalization(), KL.ReLU(),\n",
        "        KL.MaxPool2D(), KL.Dropout(0.30),\n",
        "\n",
        "        KL.Conv2D(128, 3, padding=\"same\", use_bias=False), KL.BatchNormalization(), KL.ReLU(),\n",
        "        KL.Conv2D(128, 3, padding=\"same\", use_bias=False), KL.BatchNormalization(), KL.ReLU(),\n",
        "        KL.GlobalAveragePooling2D(), KL.Dropout(0.30),\n",
        "\n",
        "        KL.Dense(n_classes, activation=\"softmax\"),\n",
        "    ], name=\"asl_mnist_seq_flat\")\n",
        "\n",
        "assert \"model\" in globals(), \"Need your trained Q1 `model` in memory.\"\n",
        "\n",
        "# Create a flat copy and load weights (1:1 or by shape order fallback)\n",
        "seq_base = build_q1_sequential(input_shape=model.input_shape[1:], n_classes=model.output_shape[-1])\n",
        "\n",
        "copied = False\n",
        "try:\n",
        "    seq_base.set_weights(model.get_weights())\n",
        "    copied = True\n",
        "    print(\"Copied weights 1:1 into flat Sequential.\")\n",
        "except Exception as e:\n",
        "    print(\"Could not copy 1:1:\", e)\n",
        "\n",
        "if not copied:\n",
        "    w_src = [l.get_weights() for l in model.layers if l.get_weights()]\n",
        "    dst_layers = [l for l in seq_base.layers if l.get_weights() is not None]\n",
        "    i = 0\n",
        "    for l in dst_layers:\n",
        "        if i < len(w_src):\n",
        "            try: l.set_weights(w_src[i]); i += 1\n",
        "            except Exception: break\n",
        "    print(f\"Loaded {i} tensors by shape order. You may see a tiny acc shift; that’s OK.\")\n",
        "\n",
        "seq_base.summary()\n",
        "\n",
        "# run clustering for K in {8, 16, 32}\n",
        "def run_one(K=16):\n",
        "    # fresh copy per K\n",
        "    m = tf.keras.models.clone_model(seq_base)\n",
        "    m.build(seq_base.input_shape)\n",
        "    m.set_weights(seq_base.get_weights())\n",
        "\n",
        "    # cluster Conv2D/Dense kernels (leave BN/bias as-is to preserve stability)\n",
        "    for layer in m.layers:\n",
        "        if isinstance(layer, (KL.Conv2D, KL.Dense)):\n",
        "            weights = layer.get_weights()\n",
        "            if not weights:\n",
        "                continue\n",
        "            W = weights[0]\n",
        "            Wc = cluster_tensor_numpy(W, K=K)\n",
        "            if len(weights) == 2:\n",
        "                layer.set_weights([Wc, weights[1]])\n",
        "            else:\n",
        "                layer.set_weights([Wc])\n",
        "\n",
        "    # (optional) one quick fine-tune epoch to settle BN stats; keep LR tiny\n",
        "    m.compile(optimizer=tf.keras.optimizers.Adam(1e-4),\n",
        "              loss=\"sparse_categorical_crossentropy\", metrics=[\"accuracy\"])\n",
        "    m.fit(x_train, y_train, epochs=1, batch_size=256, verbose=0)\n",
        "    _, keras_acc = m.evaluate(x_test, y_test, verbose=0)\n",
        "\n",
        "    # TFLite dynamic-range\n",
        "    tfl = f\"asl_clusterK{K}_dyn.tflite\"\n",
        "    conv = tf.lite.TFLiteConverter.from_keras_model(m)\n",
        "    conv.optimizations = [tf.lite.Optimize.DEFAULT]\n",
        "    open(tfl, \"wb\").write(conv.convert())\n",
        "\n",
        "    # eval + gzip\n",
        "    tfl_acc = tflite_accuracy_b1(tfl, x_test, y_test)\n",
        "    gz = gzip_file(tfl)\n",
        "\n",
        "    print(f\"[K={K:>2}] Keras={keras_acc:.4f} | TFLite={tfl_acc:.4f} | size={mb(tfl):.2f} MB | gz={mb(gz):.2f} MB\")\n",
        "    return dict(K=K, keras_acc=float(keras_acc), tflite_acc=float(tfl_acc),\n",
        "                tflite=tfl, tflite_gz=gz, size_mb=mb(tfl), size_gz_mb=mb(gz))\n",
        "\n",
        "results = [run_one(K) for K in (8, 16, 32)]\n",
        "\n",
        "print(\"\\n=== Q3 Summary (Manual Clustering + DR Quantization) ===\")\n",
        "print(f\"{'K':>3}  {'Keras Acc':>9}  {'TFLite Acc':>10}  {'Size (MB)':>9}  {'gz (MB)':>8}  {'File'}\")\n",
        "for r in results:\n",
        "    print(\n",
        "        f\"{r['K']:>3}  \"\n",
        "        f\"{r['keras_acc']:>9.4f}  \"\n",
        "        f\"{r['tflite_acc']:>10.4f}  \"\n",
        "        f\"{r['size_mb']:>9.2f}  \"\n",
        "        f\"{r['size_gz_mb']:>8.2f}  \"\n",
        "        f\"{Path(r['tflite']).name}\"\n",
        "    )\n",
        "\n",
        "valid = [r for r in results if r[\"tflite_acc\"] >= 0.90]\n",
        "best = min(valid, key=lambda r: r[\"size_gz_mb\"]) if valid else None\n",
        "print(\"\\nBest (≥90% acc) by smallest .tflite.gz:\")\n",
        "print(best if best else \"None — run a 2–3-epoch fine-tune or try a different K\")"
      ],
      "metadata": {
        "id": "aiHM6aA9Jwx8",
        "colab": {
          "base_uri": "https://localhost:8080/",
          "height": 1000
        },
        "outputId": "853823b6-3f77-4689-bfd6-1da6256e3d4f"
      },
      "execution_count": 30,
      "outputs": [
        {
          "output_type": "stream",
          "name": "stdout",
          "text": [
            "Copied weights 1:1 into flat Sequential.\n"
          ]
        },
        {
          "output_type": "display_data",
          "data": {
            "text/plain": [
              "\u001b[1mModel: \"asl_mnist_seq_flat\"\u001b[0m\n"
            ],
            "text/html": [
              "<pre style=\"white-space:pre;overflow-x:auto;line-height:normal;font-family:Menlo,'DejaVu Sans Mono',consolas,'Courier New',monospace\"><span style=\"font-weight: bold\">Model: \"asl_mnist_seq_flat\"</span>\n",
              "</pre>\n"
            ]
          },
          "metadata": {}
        },
        {
          "output_type": "display_data",
          "data": {
            "text/plain": [
              "┏━━━━━━━━━━━━━━━━━━━━━━━━━━━━━━━━━┳━━━━━━━━━━━━━━━━━━━━━━━━┳━━━━━━━━━━━━━━━┓\n",
              "┃\u001b[1m \u001b[0m\u001b[1mLayer (type)                   \u001b[0m\u001b[1m \u001b[0m┃\u001b[1m \u001b[0m\u001b[1mOutput Shape          \u001b[0m\u001b[1m \u001b[0m┃\u001b[1m \u001b[0m\u001b[1m      Param #\u001b[0m\u001b[1m \u001b[0m┃\n",
              "┡━━━━━━━━━━━━━━━━━━━━━━━━━━━━━━━━━╇━━━━━━━━━━━━━━━━━━━━━━━━╇━━━━━━━━━━━━━━━┩\n",
              "│ conv2d_18 (\u001b[38;5;33mConv2D\u001b[0m)              │ (\u001b[38;5;45mNone\u001b[0m, \u001b[38;5;34m28\u001b[0m, \u001b[38;5;34m28\u001b[0m, \u001b[38;5;34m32\u001b[0m)     │           \u001b[38;5;34m288\u001b[0m │\n",
              "├─────────────────────────────────┼────────────────────────┼───────────────┤\n",
              "│ batch_normalization_18          │ (\u001b[38;5;45mNone\u001b[0m, \u001b[38;5;34m28\u001b[0m, \u001b[38;5;34m28\u001b[0m, \u001b[38;5;34m32\u001b[0m)     │           \u001b[38;5;34m128\u001b[0m │\n",
              "│ (\u001b[38;5;33mBatchNormalization\u001b[0m)            │                        │               │\n",
              "├─────────────────────────────────┼────────────────────────┼───────────────┤\n",
              "│ re_lu_18 (\u001b[38;5;33mReLU\u001b[0m)                 │ (\u001b[38;5;45mNone\u001b[0m, \u001b[38;5;34m28\u001b[0m, \u001b[38;5;34m28\u001b[0m, \u001b[38;5;34m32\u001b[0m)     │             \u001b[38;5;34m0\u001b[0m │\n",
              "├─────────────────────────────────┼────────────────────────┼───────────────┤\n",
              "│ conv2d_19 (\u001b[38;5;33mConv2D\u001b[0m)              │ (\u001b[38;5;45mNone\u001b[0m, \u001b[38;5;34m28\u001b[0m, \u001b[38;5;34m28\u001b[0m, \u001b[38;5;34m32\u001b[0m)     │         \u001b[38;5;34m9,216\u001b[0m │\n",
              "├─────────────────────────────────┼────────────────────────┼───────────────┤\n",
              "│ batch_normalization_19          │ (\u001b[38;5;45mNone\u001b[0m, \u001b[38;5;34m28\u001b[0m, \u001b[38;5;34m28\u001b[0m, \u001b[38;5;34m32\u001b[0m)     │           \u001b[38;5;34m128\u001b[0m │\n",
              "│ (\u001b[38;5;33mBatchNormalization\u001b[0m)            │                        │               │\n",
              "├─────────────────────────────────┼────────────────────────┼───────────────┤\n",
              "│ re_lu_19 (\u001b[38;5;33mReLU\u001b[0m)                 │ (\u001b[38;5;45mNone\u001b[0m, \u001b[38;5;34m28\u001b[0m, \u001b[38;5;34m28\u001b[0m, \u001b[38;5;34m32\u001b[0m)     │             \u001b[38;5;34m0\u001b[0m │\n",
              "├─────────────────────────────────┼────────────────────────┼───────────────┤\n",
              "│ max_pooling2d_6 (\u001b[38;5;33mMaxPooling2D\u001b[0m)  │ (\u001b[38;5;45mNone\u001b[0m, \u001b[38;5;34m14\u001b[0m, \u001b[38;5;34m14\u001b[0m, \u001b[38;5;34m32\u001b[0m)     │             \u001b[38;5;34m0\u001b[0m │\n",
              "├─────────────────────────────────┼────────────────────────┼───────────────┤\n",
              "│ dropout_9 (\u001b[38;5;33mDropout\u001b[0m)             │ (\u001b[38;5;45mNone\u001b[0m, \u001b[38;5;34m14\u001b[0m, \u001b[38;5;34m14\u001b[0m, \u001b[38;5;34m32\u001b[0m)     │             \u001b[38;5;34m0\u001b[0m │\n",
              "├─────────────────────────────────┼────────────────────────┼───────────────┤\n",
              "│ conv2d_20 (\u001b[38;5;33mConv2D\u001b[0m)              │ (\u001b[38;5;45mNone\u001b[0m, \u001b[38;5;34m14\u001b[0m, \u001b[38;5;34m14\u001b[0m, \u001b[38;5;34m64\u001b[0m)     │        \u001b[38;5;34m18,432\u001b[0m │\n",
              "├─────────────────────────────────┼────────────────────────┼───────────────┤\n",
              "│ batch_normalization_20          │ (\u001b[38;5;45mNone\u001b[0m, \u001b[38;5;34m14\u001b[0m, \u001b[38;5;34m14\u001b[0m, \u001b[38;5;34m64\u001b[0m)     │           \u001b[38;5;34m256\u001b[0m │\n",
              "│ (\u001b[38;5;33mBatchNormalization\u001b[0m)            │                        │               │\n",
              "├─────────────────────────────────┼────────────────────────┼───────────────┤\n",
              "│ re_lu_20 (\u001b[38;5;33mReLU\u001b[0m)                 │ (\u001b[38;5;45mNone\u001b[0m, \u001b[38;5;34m14\u001b[0m, \u001b[38;5;34m14\u001b[0m, \u001b[38;5;34m64\u001b[0m)     │             \u001b[38;5;34m0\u001b[0m │\n",
              "├─────────────────────────────────┼────────────────────────┼───────────────┤\n",
              "│ conv2d_21 (\u001b[38;5;33mConv2D\u001b[0m)              │ (\u001b[38;5;45mNone\u001b[0m, \u001b[38;5;34m14\u001b[0m, \u001b[38;5;34m14\u001b[0m, \u001b[38;5;34m64\u001b[0m)     │        \u001b[38;5;34m36,864\u001b[0m │\n",
              "├─────────────────────────────────┼────────────────────────┼───────────────┤\n",
              "│ batch_normalization_21          │ (\u001b[38;5;45mNone\u001b[0m, \u001b[38;5;34m14\u001b[0m, \u001b[38;5;34m14\u001b[0m, \u001b[38;5;34m64\u001b[0m)     │           \u001b[38;5;34m256\u001b[0m │\n",
              "│ (\u001b[38;5;33mBatchNormalization\u001b[0m)            │                        │               │\n",
              "├─────────────────────────────────┼────────────────────────┼───────────────┤\n",
              "│ re_lu_21 (\u001b[38;5;33mReLU\u001b[0m)                 │ (\u001b[38;5;45mNone\u001b[0m, \u001b[38;5;34m14\u001b[0m, \u001b[38;5;34m14\u001b[0m, \u001b[38;5;34m64\u001b[0m)     │             \u001b[38;5;34m0\u001b[0m │\n",
              "├─────────────────────────────────┼────────────────────────┼───────────────┤\n",
              "│ max_pooling2d_7 (\u001b[38;5;33mMaxPooling2D\u001b[0m)  │ (\u001b[38;5;45mNone\u001b[0m, \u001b[38;5;34m7\u001b[0m, \u001b[38;5;34m7\u001b[0m, \u001b[38;5;34m64\u001b[0m)       │             \u001b[38;5;34m0\u001b[0m │\n",
              "├─────────────────────────────────┼────────────────────────┼───────────────┤\n",
              "│ dropout_10 (\u001b[38;5;33mDropout\u001b[0m)            │ (\u001b[38;5;45mNone\u001b[0m, \u001b[38;5;34m7\u001b[0m, \u001b[38;5;34m7\u001b[0m, \u001b[38;5;34m64\u001b[0m)       │             \u001b[38;5;34m0\u001b[0m │\n",
              "├─────────────────────────────────┼────────────────────────┼───────────────┤\n",
              "│ conv2d_22 (\u001b[38;5;33mConv2D\u001b[0m)              │ (\u001b[38;5;45mNone\u001b[0m, \u001b[38;5;34m7\u001b[0m, \u001b[38;5;34m7\u001b[0m, \u001b[38;5;34m128\u001b[0m)      │        \u001b[38;5;34m73,728\u001b[0m │\n",
              "├─────────────────────────────────┼────────────────────────┼───────────────┤\n",
              "│ batch_normalization_22          │ (\u001b[38;5;45mNone\u001b[0m, \u001b[38;5;34m7\u001b[0m, \u001b[38;5;34m7\u001b[0m, \u001b[38;5;34m128\u001b[0m)      │           \u001b[38;5;34m512\u001b[0m │\n",
              "│ (\u001b[38;5;33mBatchNormalization\u001b[0m)            │                        │               │\n",
              "├─────────────────────────────────┼────────────────────────┼───────────────┤\n",
              "│ re_lu_22 (\u001b[38;5;33mReLU\u001b[0m)                 │ (\u001b[38;5;45mNone\u001b[0m, \u001b[38;5;34m7\u001b[0m, \u001b[38;5;34m7\u001b[0m, \u001b[38;5;34m128\u001b[0m)      │             \u001b[38;5;34m0\u001b[0m │\n",
              "├─────────────────────────────────┼────────────────────────┼───────────────┤\n",
              "│ conv2d_23 (\u001b[38;5;33mConv2D\u001b[0m)              │ (\u001b[38;5;45mNone\u001b[0m, \u001b[38;5;34m7\u001b[0m, \u001b[38;5;34m7\u001b[0m, \u001b[38;5;34m128\u001b[0m)      │       \u001b[38;5;34m147,456\u001b[0m │\n",
              "├─────────────────────────────────┼────────────────────────┼───────────────┤\n",
              "│ batch_normalization_23          │ (\u001b[38;5;45mNone\u001b[0m, \u001b[38;5;34m7\u001b[0m, \u001b[38;5;34m7\u001b[0m, \u001b[38;5;34m128\u001b[0m)      │           \u001b[38;5;34m512\u001b[0m │\n",
              "│ (\u001b[38;5;33mBatchNormalization\u001b[0m)            │                        │               │\n",
              "├─────────────────────────────────┼────────────────────────┼───────────────┤\n",
              "│ re_lu_23 (\u001b[38;5;33mReLU\u001b[0m)                 │ (\u001b[38;5;45mNone\u001b[0m, \u001b[38;5;34m7\u001b[0m, \u001b[38;5;34m7\u001b[0m, \u001b[38;5;34m128\u001b[0m)      │             \u001b[38;5;34m0\u001b[0m │\n",
              "├─────────────────────────────────┼────────────────────────┼───────────────┤\n",
              "│ global_average_pooling2d_3      │ (\u001b[38;5;45mNone\u001b[0m, \u001b[38;5;34m128\u001b[0m)            │             \u001b[38;5;34m0\u001b[0m │\n",
              "│ (\u001b[38;5;33mGlobalAveragePooling2D\u001b[0m)        │                        │               │\n",
              "├─────────────────────────────────┼────────────────────────┼───────────────┤\n",
              "│ dropout_11 (\u001b[38;5;33mDropout\u001b[0m)            │ (\u001b[38;5;45mNone\u001b[0m, \u001b[38;5;34m128\u001b[0m)            │             \u001b[38;5;34m0\u001b[0m │\n",
              "├─────────────────────────────────┼────────────────────────┼───────────────┤\n",
              "│ dense_3 (\u001b[38;5;33mDense\u001b[0m)                 │ (\u001b[38;5;45mNone\u001b[0m, \u001b[38;5;34m24\u001b[0m)             │         \u001b[38;5;34m3,096\u001b[0m │\n",
              "└─────────────────────────────────┴────────────────────────┴───────────────┘\n"
            ],
            "text/html": [
              "<pre style=\"white-space:pre;overflow-x:auto;line-height:normal;font-family:Menlo,'DejaVu Sans Mono',consolas,'Courier New',monospace\">┏━━━━━━━━━━━━━━━━━━━━━━━━━━━━━━━━━┳━━━━━━━━━━━━━━━━━━━━━━━━┳━━━━━━━━━━━━━━━┓\n",
              "┃<span style=\"font-weight: bold\"> Layer (type)                    </span>┃<span style=\"font-weight: bold\"> Output Shape           </span>┃<span style=\"font-weight: bold\">       Param # </span>┃\n",
              "┡━━━━━━━━━━━━━━━━━━━━━━━━━━━━━━━━━╇━━━━━━━━━━━━━━━━━━━━━━━━╇━━━━━━━━━━━━━━━┩\n",
              "│ conv2d_18 (<span style=\"color: #0087ff; text-decoration-color: #0087ff\">Conv2D</span>)              │ (<span style=\"color: #00d7ff; text-decoration-color: #00d7ff\">None</span>, <span style=\"color: #00af00; text-decoration-color: #00af00\">28</span>, <span style=\"color: #00af00; text-decoration-color: #00af00\">28</span>, <span style=\"color: #00af00; text-decoration-color: #00af00\">32</span>)     │           <span style=\"color: #00af00; text-decoration-color: #00af00\">288</span> │\n",
              "├─────────────────────────────────┼────────────────────────┼───────────────┤\n",
              "│ batch_normalization_18          │ (<span style=\"color: #00d7ff; text-decoration-color: #00d7ff\">None</span>, <span style=\"color: #00af00; text-decoration-color: #00af00\">28</span>, <span style=\"color: #00af00; text-decoration-color: #00af00\">28</span>, <span style=\"color: #00af00; text-decoration-color: #00af00\">32</span>)     │           <span style=\"color: #00af00; text-decoration-color: #00af00\">128</span> │\n",
              "│ (<span style=\"color: #0087ff; text-decoration-color: #0087ff\">BatchNormalization</span>)            │                        │               │\n",
              "├─────────────────────────────────┼────────────────────────┼───────────────┤\n",
              "│ re_lu_18 (<span style=\"color: #0087ff; text-decoration-color: #0087ff\">ReLU</span>)                 │ (<span style=\"color: #00d7ff; text-decoration-color: #00d7ff\">None</span>, <span style=\"color: #00af00; text-decoration-color: #00af00\">28</span>, <span style=\"color: #00af00; text-decoration-color: #00af00\">28</span>, <span style=\"color: #00af00; text-decoration-color: #00af00\">32</span>)     │             <span style=\"color: #00af00; text-decoration-color: #00af00\">0</span> │\n",
              "├─────────────────────────────────┼────────────────────────┼───────────────┤\n",
              "│ conv2d_19 (<span style=\"color: #0087ff; text-decoration-color: #0087ff\">Conv2D</span>)              │ (<span style=\"color: #00d7ff; text-decoration-color: #00d7ff\">None</span>, <span style=\"color: #00af00; text-decoration-color: #00af00\">28</span>, <span style=\"color: #00af00; text-decoration-color: #00af00\">28</span>, <span style=\"color: #00af00; text-decoration-color: #00af00\">32</span>)     │         <span style=\"color: #00af00; text-decoration-color: #00af00\">9,216</span> │\n",
              "├─────────────────────────────────┼────────────────────────┼───────────────┤\n",
              "│ batch_normalization_19          │ (<span style=\"color: #00d7ff; text-decoration-color: #00d7ff\">None</span>, <span style=\"color: #00af00; text-decoration-color: #00af00\">28</span>, <span style=\"color: #00af00; text-decoration-color: #00af00\">28</span>, <span style=\"color: #00af00; text-decoration-color: #00af00\">32</span>)     │           <span style=\"color: #00af00; text-decoration-color: #00af00\">128</span> │\n",
              "│ (<span style=\"color: #0087ff; text-decoration-color: #0087ff\">BatchNormalization</span>)            │                        │               │\n",
              "├─────────────────────────────────┼────────────────────────┼───────────────┤\n",
              "│ re_lu_19 (<span style=\"color: #0087ff; text-decoration-color: #0087ff\">ReLU</span>)                 │ (<span style=\"color: #00d7ff; text-decoration-color: #00d7ff\">None</span>, <span style=\"color: #00af00; text-decoration-color: #00af00\">28</span>, <span style=\"color: #00af00; text-decoration-color: #00af00\">28</span>, <span style=\"color: #00af00; text-decoration-color: #00af00\">32</span>)     │             <span style=\"color: #00af00; text-decoration-color: #00af00\">0</span> │\n",
              "├─────────────────────────────────┼────────────────────────┼───────────────┤\n",
              "│ max_pooling2d_6 (<span style=\"color: #0087ff; text-decoration-color: #0087ff\">MaxPooling2D</span>)  │ (<span style=\"color: #00d7ff; text-decoration-color: #00d7ff\">None</span>, <span style=\"color: #00af00; text-decoration-color: #00af00\">14</span>, <span style=\"color: #00af00; text-decoration-color: #00af00\">14</span>, <span style=\"color: #00af00; text-decoration-color: #00af00\">32</span>)     │             <span style=\"color: #00af00; text-decoration-color: #00af00\">0</span> │\n",
              "├─────────────────────────────────┼────────────────────────┼───────────────┤\n",
              "│ dropout_9 (<span style=\"color: #0087ff; text-decoration-color: #0087ff\">Dropout</span>)             │ (<span style=\"color: #00d7ff; text-decoration-color: #00d7ff\">None</span>, <span style=\"color: #00af00; text-decoration-color: #00af00\">14</span>, <span style=\"color: #00af00; text-decoration-color: #00af00\">14</span>, <span style=\"color: #00af00; text-decoration-color: #00af00\">32</span>)     │             <span style=\"color: #00af00; text-decoration-color: #00af00\">0</span> │\n",
              "├─────────────────────────────────┼────────────────────────┼───────────────┤\n",
              "│ conv2d_20 (<span style=\"color: #0087ff; text-decoration-color: #0087ff\">Conv2D</span>)              │ (<span style=\"color: #00d7ff; text-decoration-color: #00d7ff\">None</span>, <span style=\"color: #00af00; text-decoration-color: #00af00\">14</span>, <span style=\"color: #00af00; text-decoration-color: #00af00\">14</span>, <span style=\"color: #00af00; text-decoration-color: #00af00\">64</span>)     │        <span style=\"color: #00af00; text-decoration-color: #00af00\">18,432</span> │\n",
              "├─────────────────────────────────┼────────────────────────┼───────────────┤\n",
              "│ batch_normalization_20          │ (<span style=\"color: #00d7ff; text-decoration-color: #00d7ff\">None</span>, <span style=\"color: #00af00; text-decoration-color: #00af00\">14</span>, <span style=\"color: #00af00; text-decoration-color: #00af00\">14</span>, <span style=\"color: #00af00; text-decoration-color: #00af00\">64</span>)     │           <span style=\"color: #00af00; text-decoration-color: #00af00\">256</span> │\n",
              "│ (<span style=\"color: #0087ff; text-decoration-color: #0087ff\">BatchNormalization</span>)            │                        │               │\n",
              "├─────────────────────────────────┼────────────────────────┼───────────────┤\n",
              "│ re_lu_20 (<span style=\"color: #0087ff; text-decoration-color: #0087ff\">ReLU</span>)                 │ (<span style=\"color: #00d7ff; text-decoration-color: #00d7ff\">None</span>, <span style=\"color: #00af00; text-decoration-color: #00af00\">14</span>, <span style=\"color: #00af00; text-decoration-color: #00af00\">14</span>, <span style=\"color: #00af00; text-decoration-color: #00af00\">64</span>)     │             <span style=\"color: #00af00; text-decoration-color: #00af00\">0</span> │\n",
              "├─────────────────────────────────┼────────────────────────┼───────────────┤\n",
              "│ conv2d_21 (<span style=\"color: #0087ff; text-decoration-color: #0087ff\">Conv2D</span>)              │ (<span style=\"color: #00d7ff; text-decoration-color: #00d7ff\">None</span>, <span style=\"color: #00af00; text-decoration-color: #00af00\">14</span>, <span style=\"color: #00af00; text-decoration-color: #00af00\">14</span>, <span style=\"color: #00af00; text-decoration-color: #00af00\">64</span>)     │        <span style=\"color: #00af00; text-decoration-color: #00af00\">36,864</span> │\n",
              "├─────────────────────────────────┼────────────────────────┼───────────────┤\n",
              "│ batch_normalization_21          │ (<span style=\"color: #00d7ff; text-decoration-color: #00d7ff\">None</span>, <span style=\"color: #00af00; text-decoration-color: #00af00\">14</span>, <span style=\"color: #00af00; text-decoration-color: #00af00\">14</span>, <span style=\"color: #00af00; text-decoration-color: #00af00\">64</span>)     │           <span style=\"color: #00af00; text-decoration-color: #00af00\">256</span> │\n",
              "│ (<span style=\"color: #0087ff; text-decoration-color: #0087ff\">BatchNormalization</span>)            │                        │               │\n",
              "├─────────────────────────────────┼────────────────────────┼───────────────┤\n",
              "│ re_lu_21 (<span style=\"color: #0087ff; text-decoration-color: #0087ff\">ReLU</span>)                 │ (<span style=\"color: #00d7ff; text-decoration-color: #00d7ff\">None</span>, <span style=\"color: #00af00; text-decoration-color: #00af00\">14</span>, <span style=\"color: #00af00; text-decoration-color: #00af00\">14</span>, <span style=\"color: #00af00; text-decoration-color: #00af00\">64</span>)     │             <span style=\"color: #00af00; text-decoration-color: #00af00\">0</span> │\n",
              "├─────────────────────────────────┼────────────────────────┼───────────────┤\n",
              "│ max_pooling2d_7 (<span style=\"color: #0087ff; text-decoration-color: #0087ff\">MaxPooling2D</span>)  │ (<span style=\"color: #00d7ff; text-decoration-color: #00d7ff\">None</span>, <span style=\"color: #00af00; text-decoration-color: #00af00\">7</span>, <span style=\"color: #00af00; text-decoration-color: #00af00\">7</span>, <span style=\"color: #00af00; text-decoration-color: #00af00\">64</span>)       │             <span style=\"color: #00af00; text-decoration-color: #00af00\">0</span> │\n",
              "├─────────────────────────────────┼────────────────────────┼───────────────┤\n",
              "│ dropout_10 (<span style=\"color: #0087ff; text-decoration-color: #0087ff\">Dropout</span>)            │ (<span style=\"color: #00d7ff; text-decoration-color: #00d7ff\">None</span>, <span style=\"color: #00af00; text-decoration-color: #00af00\">7</span>, <span style=\"color: #00af00; text-decoration-color: #00af00\">7</span>, <span style=\"color: #00af00; text-decoration-color: #00af00\">64</span>)       │             <span style=\"color: #00af00; text-decoration-color: #00af00\">0</span> │\n",
              "├─────────────────────────────────┼────────────────────────┼───────────────┤\n",
              "│ conv2d_22 (<span style=\"color: #0087ff; text-decoration-color: #0087ff\">Conv2D</span>)              │ (<span style=\"color: #00d7ff; text-decoration-color: #00d7ff\">None</span>, <span style=\"color: #00af00; text-decoration-color: #00af00\">7</span>, <span style=\"color: #00af00; text-decoration-color: #00af00\">7</span>, <span style=\"color: #00af00; text-decoration-color: #00af00\">128</span>)      │        <span style=\"color: #00af00; text-decoration-color: #00af00\">73,728</span> │\n",
              "├─────────────────────────────────┼────────────────────────┼───────────────┤\n",
              "│ batch_normalization_22          │ (<span style=\"color: #00d7ff; text-decoration-color: #00d7ff\">None</span>, <span style=\"color: #00af00; text-decoration-color: #00af00\">7</span>, <span style=\"color: #00af00; text-decoration-color: #00af00\">7</span>, <span style=\"color: #00af00; text-decoration-color: #00af00\">128</span>)      │           <span style=\"color: #00af00; text-decoration-color: #00af00\">512</span> │\n",
              "│ (<span style=\"color: #0087ff; text-decoration-color: #0087ff\">BatchNormalization</span>)            │                        │               │\n",
              "├─────────────────────────────────┼────────────────────────┼───────────────┤\n",
              "│ re_lu_22 (<span style=\"color: #0087ff; text-decoration-color: #0087ff\">ReLU</span>)                 │ (<span style=\"color: #00d7ff; text-decoration-color: #00d7ff\">None</span>, <span style=\"color: #00af00; text-decoration-color: #00af00\">7</span>, <span style=\"color: #00af00; text-decoration-color: #00af00\">7</span>, <span style=\"color: #00af00; text-decoration-color: #00af00\">128</span>)      │             <span style=\"color: #00af00; text-decoration-color: #00af00\">0</span> │\n",
              "├─────────────────────────────────┼────────────────────────┼───────────────┤\n",
              "│ conv2d_23 (<span style=\"color: #0087ff; text-decoration-color: #0087ff\">Conv2D</span>)              │ (<span style=\"color: #00d7ff; text-decoration-color: #00d7ff\">None</span>, <span style=\"color: #00af00; text-decoration-color: #00af00\">7</span>, <span style=\"color: #00af00; text-decoration-color: #00af00\">7</span>, <span style=\"color: #00af00; text-decoration-color: #00af00\">128</span>)      │       <span style=\"color: #00af00; text-decoration-color: #00af00\">147,456</span> │\n",
              "├─────────────────────────────────┼────────────────────────┼───────────────┤\n",
              "│ batch_normalization_23          │ (<span style=\"color: #00d7ff; text-decoration-color: #00d7ff\">None</span>, <span style=\"color: #00af00; text-decoration-color: #00af00\">7</span>, <span style=\"color: #00af00; text-decoration-color: #00af00\">7</span>, <span style=\"color: #00af00; text-decoration-color: #00af00\">128</span>)      │           <span style=\"color: #00af00; text-decoration-color: #00af00\">512</span> │\n",
              "│ (<span style=\"color: #0087ff; text-decoration-color: #0087ff\">BatchNormalization</span>)            │                        │               │\n",
              "├─────────────────────────────────┼────────────────────────┼───────────────┤\n",
              "│ re_lu_23 (<span style=\"color: #0087ff; text-decoration-color: #0087ff\">ReLU</span>)                 │ (<span style=\"color: #00d7ff; text-decoration-color: #00d7ff\">None</span>, <span style=\"color: #00af00; text-decoration-color: #00af00\">7</span>, <span style=\"color: #00af00; text-decoration-color: #00af00\">7</span>, <span style=\"color: #00af00; text-decoration-color: #00af00\">128</span>)      │             <span style=\"color: #00af00; text-decoration-color: #00af00\">0</span> │\n",
              "├─────────────────────────────────┼────────────────────────┼───────────────┤\n",
              "│ global_average_pooling2d_3      │ (<span style=\"color: #00d7ff; text-decoration-color: #00d7ff\">None</span>, <span style=\"color: #00af00; text-decoration-color: #00af00\">128</span>)            │             <span style=\"color: #00af00; text-decoration-color: #00af00\">0</span> │\n",
              "│ (<span style=\"color: #0087ff; text-decoration-color: #0087ff\">GlobalAveragePooling2D</span>)        │                        │               │\n",
              "├─────────────────────────────────┼────────────────────────┼───────────────┤\n",
              "│ dropout_11 (<span style=\"color: #0087ff; text-decoration-color: #0087ff\">Dropout</span>)            │ (<span style=\"color: #00d7ff; text-decoration-color: #00d7ff\">None</span>, <span style=\"color: #00af00; text-decoration-color: #00af00\">128</span>)            │             <span style=\"color: #00af00; text-decoration-color: #00af00\">0</span> │\n",
              "├─────────────────────────────────┼────────────────────────┼───────────────┤\n",
              "│ dense_3 (<span style=\"color: #0087ff; text-decoration-color: #0087ff\">Dense</span>)                 │ (<span style=\"color: #00d7ff; text-decoration-color: #00d7ff\">None</span>, <span style=\"color: #00af00; text-decoration-color: #00af00\">24</span>)             │         <span style=\"color: #00af00; text-decoration-color: #00af00\">3,096</span> │\n",
              "└─────────────────────────────────┴────────────────────────┴───────────────┘\n",
              "</pre>\n"
            ]
          },
          "metadata": {}
        },
        {
          "output_type": "display_data",
          "data": {
            "text/plain": [
              "\u001b[1m Total params: \u001b[0m\u001b[38;5;34m290,872\u001b[0m (1.11 MB)\n"
            ],
            "text/html": [
              "<pre style=\"white-space:pre;overflow-x:auto;line-height:normal;font-family:Menlo,'DejaVu Sans Mono',consolas,'Courier New',monospace\"><span style=\"font-weight: bold\"> Total params: </span><span style=\"color: #00af00; text-decoration-color: #00af00\">290,872</span> (1.11 MB)\n",
              "</pre>\n"
            ]
          },
          "metadata": {}
        },
        {
          "output_type": "display_data",
          "data": {
            "text/plain": [
              "\u001b[1m Trainable params: \u001b[0m\u001b[38;5;34m289,976\u001b[0m (1.11 MB)\n"
            ],
            "text/html": [
              "<pre style=\"white-space:pre;overflow-x:auto;line-height:normal;font-family:Menlo,'DejaVu Sans Mono',consolas,'Courier New',monospace\"><span style=\"font-weight: bold\"> Trainable params: </span><span style=\"color: #00af00; text-decoration-color: #00af00\">289,976</span> (1.11 MB)\n",
              "</pre>\n"
            ]
          },
          "metadata": {}
        },
        {
          "output_type": "display_data",
          "data": {
            "text/plain": [
              "\u001b[1m Non-trainable params: \u001b[0m\u001b[38;5;34m896\u001b[0m (3.50 KB)\n"
            ],
            "text/html": [
              "<pre style=\"white-space:pre;overflow-x:auto;line-height:normal;font-family:Menlo,'DejaVu Sans Mono',consolas,'Courier New',monospace\"><span style=\"font-weight: bold\"> Non-trainable params: </span><span style=\"color: #00af00; text-decoration-color: #00af00\">896</span> (3.50 KB)\n",
              "</pre>\n"
            ]
          },
          "metadata": {}
        },
        {
          "output_type": "stream",
          "name": "stdout",
          "text": [
            "Saved artifact at '/tmp/tmpoue3njl1'. The following endpoints are available:\n",
            "\n",
            "* Endpoint 'serve'\n",
            "  args_0 (POSITIONAL_ONLY): TensorSpec(shape=(None, 28, 28, 1), dtype=tf.float32, name='input_layer_9')\n",
            "Output Type:\n",
            "  TensorSpec(shape=(None, 24), dtype=tf.float32, name=None)\n",
            "Captures:\n",
            "  138849755372944: TensorSpec(shape=(), dtype=tf.resource, name=None)\n",
            "  138849755366224: TensorSpec(shape=(), dtype=tf.resource, name=None)\n",
            "  138849755370448: TensorSpec(shape=(), dtype=tf.resource, name=None)\n",
            "  138849755373328: TensorSpec(shape=(), dtype=tf.resource, name=None)\n",
            "  138849755367952: TensorSpec(shape=(), dtype=tf.resource, name=None)\n",
            "  138849755373712: TensorSpec(shape=(), dtype=tf.resource, name=None)\n",
            "  138849755366032: TensorSpec(shape=(), dtype=tf.resource, name=None)\n",
            "  138849755367568: TensorSpec(shape=(), dtype=tf.resource, name=None)\n",
            "  138849755367760: TensorSpec(shape=(), dtype=tf.resource, name=None)\n",
            "  138849755369488: TensorSpec(shape=(), dtype=tf.resource, name=None)\n",
            "  138849755365456: TensorSpec(shape=(), dtype=tf.resource, name=None)\n",
            "  138849755365840: TensorSpec(shape=(), dtype=tf.resource, name=None)\n",
            "  138849755369104: TensorSpec(shape=(), dtype=tf.resource, name=None)\n",
            "  138849755370640: TensorSpec(shape=(), dtype=tf.resource, name=None)\n",
            "  138849755371600: TensorSpec(shape=(), dtype=tf.resource, name=None)\n",
            "  138849755368528: TensorSpec(shape=(), dtype=tf.resource, name=None)\n",
            "  138849755371024: TensorSpec(shape=(), dtype=tf.resource, name=None)\n",
            "  138849755371408: TensorSpec(shape=(), dtype=tf.resource, name=None)\n",
            "  138849755368912: TensorSpec(shape=(), dtype=tf.resource, name=None)\n",
            "  138849755369296: TensorSpec(shape=(), dtype=tf.resource, name=None)\n",
            "  138849755370064: TensorSpec(shape=(), dtype=tf.resource, name=None)\n",
            "  138849755368144: TensorSpec(shape=(), dtype=tf.resource, name=None)\n",
            "  138849755371216: TensorSpec(shape=(), dtype=tf.resource, name=None)\n",
            "  138849755367184: TensorSpec(shape=(), dtype=tf.resource, name=None)\n",
            "  138849755366992: TensorSpec(shape=(), dtype=tf.resource, name=None)\n",
            "  138849755369872: TensorSpec(shape=(), dtype=tf.resource, name=None)\n",
            "  138849755367376: TensorSpec(shape=(), dtype=tf.resource, name=None)\n",
            "  138849755368720: TensorSpec(shape=(), dtype=tf.resource, name=None)\n",
            "  138849755369680: TensorSpec(shape=(), dtype=tf.resource, name=None)\n",
            "  138849755366608: TensorSpec(shape=(), dtype=tf.resource, name=None)\n",
            "  138849756085328: TensorSpec(shape=(), dtype=tf.resource, name=None)\n",
            "  138849756085712: TensorSpec(shape=(), dtype=tf.resource, name=None)\n"
          ]
        },
        {
          "output_type": "stream",
          "name": "stderr",
          "text": [
            "/usr/local/lib/python3.12/dist-packages/tensorflow/lite/python/interpreter.py:457: UserWarning:     Warning: tf.lite.Interpreter is deprecated and is scheduled for deletion in\n",
            "    TF 2.20. Please use the LiteRT interpreter from the ai_edge_litert package.\n",
            "    See the [migration guide](https://ai.google.dev/edge/litert/migration)\n",
            "    for details.\n",
            "    \n",
            "  warnings.warn(_INTERPRETER_DELETION_WARNING)\n",
            "/tmp/ipython-input-3182851896.py:21: DeprecationWarning: The truth value of an empty array is ambiguous. Returning False, but in future this will result in an error. Use `array.size > 0` to check that an array is not empty.\n",
            "  s = float(qp.get(\"scales\", [1.0])[0]) if qp.get(\"scales\", []) else 1.0\n",
            "/tmp/ipython-input-3182851896.py:22: DeprecationWarning: The truth value of an empty array is ambiguous. Returning False, but in future this will result in an error. Use `array.size > 0` to check that an array is not empty.\n",
            "  z = float(qp.get(\"zero_points\", [0])[0]) if qp.get(\"zero_points\", []) else 0.0\n"
          ]
        },
        {
          "output_type": "stream",
          "name": "stdout",
          "text": [
            "[K= 8] Keras=0.9999 | TFLite=0.9999 | size=0.29 MB | gz=0.21 MB\n",
            "Saved artifact at '/tmp/tmpl5700xfs'. The following endpoints are available:\n",
            "\n",
            "* Endpoint 'serve'\n",
            "  args_0 (POSITIONAL_ONLY): TensorSpec(shape=(None, 28, 28, 1), dtype=tf.float32, name='input_layer_9')\n",
            "Output Type:\n",
            "  TensorSpec(shape=(None, 24), dtype=tf.float32, name=None)\n",
            "Captures:\n",
            "  138849753076496: TensorSpec(shape=(), dtype=tf.resource, name=None)\n",
            "  138849753080912: TensorSpec(shape=(), dtype=tf.resource, name=None)\n",
            "  138849753084368: TensorSpec(shape=(), dtype=tf.resource, name=None)\n",
            "  138849753078992: TensorSpec(shape=(), dtype=tf.resource, name=None)\n",
            "  138849753082256: TensorSpec(shape=(), dtype=tf.resource, name=None)\n",
            "  138849753074192: TensorSpec(shape=(), dtype=tf.resource, name=None)\n",
            "  138849753072272: TensorSpec(shape=(), dtype=tf.resource, name=None)\n",
            "  138849753077456: TensorSpec(shape=(), dtype=tf.resource, name=None)\n",
            "  138849753086672: TensorSpec(shape=(), dtype=tf.resource, name=None)\n",
            "  138849753072848: TensorSpec(shape=(), dtype=tf.resource, name=None)\n",
            "  138849753077648: TensorSpec(shape=(), dtype=tf.resource, name=None)\n",
            "  138849753073424: TensorSpec(shape=(), dtype=tf.resource, name=None)\n",
            "  138849753083984: TensorSpec(shape=(), dtype=tf.resource, name=None)\n",
            "  138849753078224: TensorSpec(shape=(), dtype=tf.resource, name=None)\n",
            "  138849753076304: TensorSpec(shape=(), dtype=tf.resource, name=None)\n",
            "  138849753081680: TensorSpec(shape=(), dtype=tf.resource, name=None)\n",
            "  138849753076688: TensorSpec(shape=(), dtype=tf.resource, name=None)\n",
            "  138849753087440: TensorSpec(shape=(), dtype=tf.resource, name=None)\n",
            "  138853159728336: TensorSpec(shape=(), dtype=tf.resource, name=None)\n",
            "  138853159730064: TensorSpec(shape=(), dtype=tf.resource, name=None)\n",
            "  138849753073808: TensorSpec(shape=(), dtype=tf.resource, name=None)\n",
            "  138849756079952: TensorSpec(shape=(), dtype=tf.resource, name=None)\n",
            "  138849756080528: TensorSpec(shape=(), dtype=tf.resource, name=None)\n",
            "  138849753075536: TensorSpec(shape=(), dtype=tf.resource, name=None)\n",
            "  138849756084176: TensorSpec(shape=(), dtype=tf.resource, name=None)\n",
            "  138849756081680: TensorSpec(shape=(), dtype=tf.resource, name=None)\n",
            "  138849756078416: TensorSpec(shape=(), dtype=tf.resource, name=None)\n",
            "  138849756077840: TensorSpec(shape=(), dtype=tf.resource, name=None)\n",
            "  138849756082832: TensorSpec(shape=(), dtype=tf.resource, name=None)\n",
            "  138849756085520: TensorSpec(shape=(), dtype=tf.resource, name=None)\n",
            "  138849756085136: TensorSpec(shape=(), dtype=tf.resource, name=None)\n",
            "  138849756080720: TensorSpec(shape=(), dtype=tf.resource, name=None)\n"
          ]
        },
        {
          "output_type": "stream",
          "name": "stderr",
          "text": [
            "/usr/local/lib/python3.12/dist-packages/tensorflow/lite/python/interpreter.py:457: UserWarning:     Warning: tf.lite.Interpreter is deprecated and is scheduled for deletion in\n",
            "    TF 2.20. Please use the LiteRT interpreter from the ai_edge_litert package.\n",
            "    See the [migration guide](https://ai.google.dev/edge/litert/migration)\n",
            "    for details.\n",
            "    \n",
            "  warnings.warn(_INTERPRETER_DELETION_WARNING)\n",
            "/tmp/ipython-input-3182851896.py:21: DeprecationWarning: The truth value of an empty array is ambiguous. Returning False, but in future this will result in an error. Use `array.size > 0` to check that an array is not empty.\n",
            "  s = float(qp.get(\"scales\", [1.0])[0]) if qp.get(\"scales\", []) else 1.0\n",
            "/tmp/ipython-input-3182851896.py:22: DeprecationWarning: The truth value of an empty array is ambiguous. Returning False, but in future this will result in an error. Use `array.size > 0` to check that an array is not empty.\n",
            "  z = float(qp.get(\"zero_points\", [0])[0]) if qp.get(\"zero_points\", []) else 0.0\n"
          ]
        },
        {
          "output_type": "stream",
          "name": "stdout",
          "text": [
            "[K=16] Keras=0.9996 | TFLite=0.9996 | size=0.29 MB | gz=0.23 MB\n",
            "Saved artifact at '/tmp/tmpb9i_lbgp'. The following endpoints are available:\n",
            "\n",
            "* Endpoint 'serve'\n",
            "  args_0 (POSITIONAL_ONLY): TensorSpec(shape=(None, 28, 28, 1), dtype=tf.float32, name='input_layer_9')\n",
            "Output Type:\n",
            "  TensorSpec(shape=(None, 24), dtype=tf.float32, name=None)\n",
            "Captures:\n",
            "  138849198855120: TensorSpec(shape=(), dtype=tf.resource, name=None)\n",
            "  138849198850128: TensorSpec(shape=(), dtype=tf.resource, name=None)\n",
            "  138849198856272: TensorSpec(shape=(), dtype=tf.resource, name=None)\n",
            "  138849198860304: TensorSpec(shape=(), dtype=tf.resource, name=None)\n",
            "  138849198854928: TensorSpec(shape=(), dtype=tf.resource, name=None)\n",
            "  138849198851856: TensorSpec(shape=(), dtype=tf.resource, name=None)\n",
            "  138849756081872: TensorSpec(shape=(), dtype=tf.resource, name=None)\n",
            "  138849756084944: TensorSpec(shape=(), dtype=tf.resource, name=None)\n",
            "  138849756082448: TensorSpec(shape=(), dtype=tf.resource, name=None)\n",
            "  138849756081488: TensorSpec(shape=(), dtype=tf.resource, name=None)\n",
            "  138849756085904: TensorSpec(shape=(), dtype=tf.resource, name=None)\n",
            "  138849756083984: TensorSpec(shape=(), dtype=tf.resource, name=None)\n",
            "  138849756076304: TensorSpec(shape=(), dtype=tf.resource, name=None)\n",
            "  138849756080144: TensorSpec(shape=(), dtype=tf.resource, name=None)\n",
            "  138849756075920: TensorSpec(shape=(), dtype=tf.resource, name=None)\n",
            "  138849196786128: TensorSpec(shape=(), dtype=tf.resource, name=None)\n",
            "  138849756919760: TensorSpec(shape=(), dtype=tf.resource, name=None)\n",
            "  138849756917456: TensorSpec(shape=(), dtype=tf.resource, name=None)\n",
            "  138849196794960: TensorSpec(shape=(), dtype=tf.resource, name=None)\n",
            "  138849753087824: TensorSpec(shape=(), dtype=tf.resource, name=None)\n",
            "  138849756911696: TensorSpec(shape=(), dtype=tf.resource, name=None)\n",
            "  138849756911888: TensorSpec(shape=(), dtype=tf.resource, name=None)\n",
            "  138849756921296: TensorSpec(shape=(), dtype=tf.resource, name=None)\n",
            "  138849756912848: TensorSpec(shape=(), dtype=tf.resource, name=None)\n",
            "  138849756920912: TensorSpec(shape=(), dtype=tf.resource, name=None)\n",
            "  138849756912272: TensorSpec(shape=(), dtype=tf.resource, name=None)\n",
            "  138849192522384: TensorSpec(shape=(), dtype=tf.resource, name=None)\n",
            "  138849192522576: TensorSpec(shape=(), dtype=tf.resource, name=None)\n",
            "  138849192510288: TensorSpec(shape=(), dtype=tf.resource, name=None)\n",
            "  138849192510672: TensorSpec(shape=(), dtype=tf.resource, name=None)\n",
            "  138849192524112: TensorSpec(shape=(), dtype=tf.resource, name=None)\n",
            "  138849192522000: TensorSpec(shape=(), dtype=tf.resource, name=None)\n"
          ]
        },
        {
          "output_type": "stream",
          "name": "stderr",
          "text": [
            "/usr/local/lib/python3.12/dist-packages/tensorflow/lite/python/interpreter.py:457: UserWarning:     Warning: tf.lite.Interpreter is deprecated and is scheduled for deletion in\n",
            "    TF 2.20. Please use the LiteRT interpreter from the ai_edge_litert package.\n",
            "    See the [migration guide](https://ai.google.dev/edge/litert/migration)\n",
            "    for details.\n",
            "    \n",
            "  warnings.warn(_INTERPRETER_DELETION_WARNING)\n",
            "/tmp/ipython-input-3182851896.py:21: DeprecationWarning: The truth value of an empty array is ambiguous. Returning False, but in future this will result in an error. Use `array.size > 0` to check that an array is not empty.\n",
            "  s = float(qp.get(\"scales\", [1.0])[0]) if qp.get(\"scales\", []) else 1.0\n",
            "/tmp/ipython-input-3182851896.py:22: DeprecationWarning: The truth value of an empty array is ambiguous. Returning False, but in future this will result in an error. Use `array.size > 0` to check that an array is not empty.\n",
            "  z = float(qp.get(\"zero_points\", [0])[0]) if qp.get(\"zero_points\", []) else 0.0\n"
          ]
        },
        {
          "output_type": "stream",
          "name": "stdout",
          "text": [
            "[K=32] Keras=1.0000 | TFLite=1.0000 | size=0.29 MB | gz=0.25 MB\n",
            "\n",
            "=== Q3 Summary (Manual Clustering + DR Quantization) ===\n",
            "  K  Keras Acc  TFLite Acc  Size (MB)   gz (MB)  File\n",
            "  8     0.9999      0.9999       0.29      0.21  asl_clusterK8_dyn.tflite\n",
            " 16     0.9996      0.9996       0.29      0.23  asl_clusterK16_dyn.tflite\n",
            " 32     1.0000      1.0000       0.29      0.25  asl_clusterK32_dyn.tflite\n",
            "\n",
            "Best (≥90% acc) by smallest .tflite.gz:\n",
            "{'K': 8, 'keras_acc': 0.9998605847358704, 'tflite_acc': 0.9998605688789738, 'tflite': 'asl_clusterK8_dyn.tflite', 'tflite_gz': 'asl_clusterK8_dyn.tflite.gz', 'size_mb': 0.28850555419921875, 'size_gz_mb': 0.20857524871826172}\n"
          ]
        }
      ]
    },
    {
      "cell_type": "markdown",
      "source": [
        "## Isa's Write Up"
      ],
      "metadata": {
        "id": "89YM3h9XX5Qq"
      }
    },
    {
      "cell_type": "markdown",
      "source": [
        "#### Briefly comment on how clustering granularity impacts accuracy and model size"
      ],
      "metadata": {
        "id": "MsqRTF_uX7Ty"
      }
    },
    {
      "cell_type": "markdown",
      "source": [
        "#### Clustering granularity primarily trades compressibility for potential accuracy. With **fewer clusters (e.g., K=8)**, many weights share the same centroid, which lowers the entropy of the weight tensors; when applying dynamic-range quantization and gzip, the file compresses best. That's exactly what I saw: K=8 produced the smallest compressed model (around 0.21 MB) while still preserving accuracy (around 99.9%) on this relatively easy bold textASL CNN. As I increase clusters (K=16 -> K=32), you allow more unique weight values, which improves flexibility if the model is sensitive, but also raises the entropy of the tensors, so the compressed size grows (my runs were around 0.25 MB) with no meaningful accuracy gain because the baseline already saturates on this dataset. Note that the raw '.tflite' sizes stayed close (around 0.29 MB) across K because dynamic-range quantization dominates the uncompressed footprint; clustering's benefit shows up mostly after compression. In practice, K=8 is the best, smallest gzip size while easily reaching the 90% accuracy requirement; if accuracy ever dipped on a harder model, I would bump to K=16 or K=32 to recover it."
      ],
      "metadata": {
        "id": "VGNkYDzUX95a"
      }
    }
  ]
}